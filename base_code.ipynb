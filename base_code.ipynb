{
 "cells": [
  {
   "cell_type": "markdown",
   "id": "017e9265",
   "metadata": {},
   "source": [
    "# 영업 성공 여부 분류 경진대회"
   ]
  },
  {
   "cell_type": "markdown",
   "id": "acdab431",
   "metadata": {},
   "source": [
    "## 1. 데이터 확인"
   ]
  },
  {
   "cell_type": "markdown",
   "id": "2b8341e8",
   "metadata": {},
   "source": [
    "### 필수 라이브러리"
   ]
  },
  {
   "cell_type": "code",
   "execution_count": 450,
   "id": "a315cc58",
   "metadata": {},
   "outputs": [],
   "source": [
    "import pandas as pd\n",
    "import numpy as np\n",
    "from sklearn.metrics import (\n",
    "    accuracy_score,\n",
    "    confusion_matrix,\n",
    "    f1_score,\n",
    "    precision_score,\n",
    "    recall_score,\n",
    ")\n",
    "from sklearn.model_selection import train_test_split\n",
    "from sklearn.tree import DecisionTreeClassifier\n",
    "from sklearn.model_selection import StratifiedKFold"
   ]
  },
  {
   "cell_type": "markdown",
   "id": "412f98cc",
   "metadata": {},
   "source": [
    "### 데이터 셋 읽어오기"
   ]
  },
  {
   "cell_type": "code",
   "execution_count": 451,
   "id": "7ada941e",
   "metadata": {},
   "outputs": [],
   "source": [
    "df = pd.read_csv(\"train.csv\",  encoding='ISO-8859-1') # 학습용 데이터"
   ]
  },
  {
   "cell_type": "code",
   "execution_count": 452,
   "id": "be9af12a",
   "metadata": {},
   "outputs": [
    {
     "data": {
      "text/html": [
       "<div>\n",
       "<style scoped>\n",
       "    .dataframe tbody tr th:only-of-type {\n",
       "        vertical-align: middle;\n",
       "    }\n",
       "\n",
       "    .dataframe tbody tr th {\n",
       "        vertical-align: top;\n",
       "    }\n",
       "\n",
       "    .dataframe thead th {\n",
       "        text-align: right;\n",
       "    }\n",
       "</style>\n",
       "<table border=\"1\" class=\"dataframe\">\n",
       "  <thead>\n",
       "    <tr style=\"text-align: right;\">\n",
       "      <th></th>\n",
       "      <th>bant_submit</th>\n",
       "      <th>customer_country</th>\n",
       "      <th>business_unit</th>\n",
       "      <th>com_reg_ver_win_rate</th>\n",
       "      <th>customer_idx</th>\n",
       "      <th>customer_type</th>\n",
       "      <th>enterprise</th>\n",
       "      <th>historical_existing_cnt</th>\n",
       "      <th>id_strategic_ver</th>\n",
       "      <th>it_strategic_ver</th>\n",
       "      <th>...</th>\n",
       "      <th>response_corporate</th>\n",
       "      <th>expected_timeline</th>\n",
       "      <th>ver_cus</th>\n",
       "      <th>ver_pro</th>\n",
       "      <th>ver_win_rate_x</th>\n",
       "      <th>ver_win_ratio_per_bu</th>\n",
       "      <th>business_area</th>\n",
       "      <th>business_subarea</th>\n",
       "      <th>lead_owner</th>\n",
       "      <th>is_converted</th>\n",
       "    </tr>\n",
       "  </thead>\n",
       "  <tbody>\n",
       "    <tr>\n",
       "      <th>0</th>\n",
       "      <td>1.0</td>\n",
       "      <td>/Quezon City/Philippines</td>\n",
       "      <td>AS</td>\n",
       "      <td>0.066667</td>\n",
       "      <td>32160</td>\n",
       "      <td>End-Customer</td>\n",
       "      <td>Enterprise</td>\n",
       "      <td>NaN</td>\n",
       "      <td>NaN</td>\n",
       "      <td>NaN</td>\n",
       "      <td>...</td>\n",
       "      <td>LGEPH</td>\n",
       "      <td>less than 3 months</td>\n",
       "      <td>1</td>\n",
       "      <td>0</td>\n",
       "      <td>0.003079</td>\n",
       "      <td>0.026846</td>\n",
       "      <td>corporate / office</td>\n",
       "      <td>Engineering</td>\n",
       "      <td>0</td>\n",
       "      <td>True</td>\n",
       "    </tr>\n",
       "    <tr>\n",
       "      <th>1</th>\n",
       "      <td>1.0</td>\n",
       "      <td>/PH-00/Philippines</td>\n",
       "      <td>AS</td>\n",
       "      <td>0.066667</td>\n",
       "      <td>23122</td>\n",
       "      <td>End-Customer</td>\n",
       "      <td>Enterprise</td>\n",
       "      <td>12.0</td>\n",
       "      <td>NaN</td>\n",
       "      <td>NaN</td>\n",
       "      <td>...</td>\n",
       "      <td>LGEPH</td>\n",
       "      <td>less than 3 months</td>\n",
       "      <td>1</td>\n",
       "      <td>0</td>\n",
       "      <td>0.003079</td>\n",
       "      <td>0.026846</td>\n",
       "      <td>corporate / office</td>\n",
       "      <td>Advertising</td>\n",
       "      <td>1</td>\n",
       "      <td>True</td>\n",
       "    </tr>\n",
       "    <tr>\n",
       "      <th>2</th>\n",
       "      <td>1.0</td>\n",
       "      <td>/Kolkata /India</td>\n",
       "      <td>AS</td>\n",
       "      <td>0.088889</td>\n",
       "      <td>1755</td>\n",
       "      <td>End-Customer</td>\n",
       "      <td>Enterprise</td>\n",
       "      <td>144.0</td>\n",
       "      <td>NaN</td>\n",
       "      <td>NaN</td>\n",
       "      <td>...</td>\n",
       "      <td>LGEIL</td>\n",
       "      <td>less than 3 months</td>\n",
       "      <td>1</td>\n",
       "      <td>0</td>\n",
       "      <td>0.003079</td>\n",
       "      <td>0.026846</td>\n",
       "      <td>corporate / office</td>\n",
       "      <td>Construction</td>\n",
       "      <td>2</td>\n",
       "      <td>True</td>\n",
       "    </tr>\n",
       "    <tr>\n",
       "      <th>3</th>\n",
       "      <td>1.0</td>\n",
       "      <td>/Bhubaneswar/India</td>\n",
       "      <td>AS</td>\n",
       "      <td>0.088889</td>\n",
       "      <td>4919</td>\n",
       "      <td>End-Customer</td>\n",
       "      <td>Enterprise</td>\n",
       "      <td>NaN</td>\n",
       "      <td>NaN</td>\n",
       "      <td>NaN</td>\n",
       "      <td>...</td>\n",
       "      <td>LGEIL</td>\n",
       "      <td>less than 3 months</td>\n",
       "      <td>1</td>\n",
       "      <td>0</td>\n",
       "      <td>0.003079</td>\n",
       "      <td>0.026846</td>\n",
       "      <td>corporate / office</td>\n",
       "      <td>IT/Software</td>\n",
       "      <td>3</td>\n",
       "      <td>True</td>\n",
       "    </tr>\n",
       "    <tr>\n",
       "      <th>4</th>\n",
       "      <td>1.0</td>\n",
       "      <td>/Hyderabad/India</td>\n",
       "      <td>AS</td>\n",
       "      <td>0.088889</td>\n",
       "      <td>17126</td>\n",
       "      <td>Specifier/ Influencer</td>\n",
       "      <td>Enterprise</td>\n",
       "      <td>NaN</td>\n",
       "      <td>NaN</td>\n",
       "      <td>NaN</td>\n",
       "      <td>...</td>\n",
       "      <td>LGEIL</td>\n",
       "      <td>less than 3 months</td>\n",
       "      <td>0</td>\n",
       "      <td>0</td>\n",
       "      <td>0.003079</td>\n",
       "      <td>0.026846</td>\n",
       "      <td>corporate / office</td>\n",
       "      <td>NaN</td>\n",
       "      <td>4</td>\n",
       "      <td>True</td>\n",
       "    </tr>\n",
       "  </tbody>\n",
       "</table>\n",
       "<p>5 rows × 29 columns</p>\n",
       "</div>"
      ],
      "text/plain": [
       "   bant_submit          customer_country business_unit  com_reg_ver_win_rate  \\\n",
       "0          1.0  /Quezon City/Philippines            AS              0.066667   \n",
       "1          1.0        /PH-00/Philippines            AS              0.066667   \n",
       "2          1.0           /Kolkata /India            AS              0.088889   \n",
       "3          1.0        /Bhubaneswar/India            AS              0.088889   \n",
       "4          1.0          /Hyderabad/India            AS              0.088889   \n",
       "\n",
       "   customer_idx          customer_type  enterprise  historical_existing_cnt  \\\n",
       "0         32160           End-Customer  Enterprise                      NaN   \n",
       "1         23122           End-Customer  Enterprise                     12.0   \n",
       "2          1755           End-Customer  Enterprise                    144.0   \n",
       "3          4919           End-Customer  Enterprise                      NaN   \n",
       "4         17126  Specifier/ Influencer  Enterprise                      NaN   \n",
       "\n",
       "   id_strategic_ver  it_strategic_ver  ...  response_corporate  \\\n",
       "0               NaN               NaN  ...               LGEPH   \n",
       "1               NaN               NaN  ...               LGEPH   \n",
       "2               NaN               NaN  ...               LGEIL   \n",
       "3               NaN               NaN  ...               LGEIL   \n",
       "4               NaN               NaN  ...               LGEIL   \n",
       "\n",
       "    expected_timeline  ver_cus ver_pro ver_win_rate_x ver_win_ratio_per_bu  \\\n",
       "0  less than 3 months        1       0       0.003079             0.026846   \n",
       "1  less than 3 months        1       0       0.003079             0.026846   \n",
       "2  less than 3 months        1       0       0.003079             0.026846   \n",
       "3  less than 3 months        1       0       0.003079             0.026846   \n",
       "4  less than 3 months        0       0       0.003079             0.026846   \n",
       "\n",
       "        business_area business_subarea lead_owner is_converted  \n",
       "0  corporate / office      Engineering          0         True  \n",
       "1  corporate / office      Advertising          1         True  \n",
       "2  corporate / office     Construction          2         True  \n",
       "3  corporate / office      IT/Software          3         True  \n",
       "4  corporate / office              NaN          4         True  \n",
       "\n",
       "[5 rows x 29 columns]"
      ]
     },
     "execution_count": 452,
     "metadata": {},
     "output_type": "execute_result"
    }
   ],
   "source": [
    "df.head() # 학습용 데이터 살펴보기"
   ]
  },
  {
   "cell_type": "markdown",
   "id": "af526c13",
   "metadata": {},
   "source": [
    "## 2. 데이터 전처리"
   ]
  },
  {
   "cell_type": "markdown",
   "id": "b8f34abb",
   "metadata": {},
   "source": [
    "### NA 데이터 처리"
   ]
  },
  {
   "cell_type": "code",
   "execution_count": 453,
   "id": "0b44164d",
   "metadata": {},
   "outputs": [
    {
     "name": "stdout",
     "output_type": "stream",
     "text": [
      "지워진 행: 0\n",
      "is_converted unique values:\n"
     ]
    },
    {
     "data": {
      "text/plain": [
       "array([ True, False])"
      ]
     },
     "execution_count": 453,
     "metadata": {},
     "output_type": "execute_result"
    }
   ],
   "source": [
    "#1. is_converted가 NA인 데이터 drop\n",
    "original_rows = len(df)\n",
    "df = df.dropna(subset=['is_converted'])\n",
    "erased_rows = original_rows - len(df)\n",
    "print('지워진 행: '+str(erased_rows))\n",
    "print('is_converted unique values:')\n",
    "df.is_converted.unique()"
   ]
  },
  {
   "cell_type": "code",
   "execution_count": 454,
   "id": "3b779feb",
   "metadata": {},
   "outputs": [
    {
     "name": "stdout",
     "output_type": "stream",
     "text": [
      "지워진 행: 0\n"
     ]
    }
   ],
   "source": [
    "# is_converted 의 값들 정리\n",
    "# 모두 TRUE or FALSE로 통일, 이외값을 가진 행은 제거\n",
    "df['is_converted'] = df['is_converted'].astype(str).str.upper()\n",
    "df = df[df['is_converted'].isin(['TRUE', 'FALSE'])]\n",
    "print('지워진 행: '+ str(original_rows-erased_rows-len(df)))"
   ]
  },
  {
   "cell_type": "code",
   "execution_count": 455,
   "id": "1716ad9e",
   "metadata": {},
   "outputs": [
    {
     "data": {
      "text/plain": [
       "55780"
      ]
     },
     "execution_count": 455,
     "metadata": {},
     "output_type": "execute_result"
    }
   ],
   "source": [
    "# 중복 행 처리\n",
    "df.drop_duplicates(keep='first', inplace=True)\n",
    "len(df)"
   ]
  },
  {
   "cell_type": "code",
   "execution_count": 456,
   "id": "8c22fc00",
   "metadata": {},
   "outputs": [
    {
     "name": "stdout",
     "output_type": "stream",
     "text": [
      "[0. 1.]\n",
      "[0. 1.]\n",
      "[0. 1.]\n"
     ]
    }
   ],
   "source": [
    "# 아래 3개 칼럼들은 가중치 값이라는 도메인지식이 있음. \n",
    "# 원본 파일을 확인하면 가중치값이 1밖에 없다는것을 확인 가능한데, \n",
    "# 1이라는 가중치의 의미는 숫자로서의 의미보다는, \n",
    "# 존재여부, 유무여부정도로 해석되어야 할것으로 보임. \n",
    "# 하여 NA들은 모두 0으로 채워주기로 함.\n",
    "\n",
    "# 추가적으로, 해당 가중치들은 고객들이 채우는것이 아니라, LG영업팀이 \n",
    "# 주는것으로 보아, NA는 \n",
    "\n",
    "df.id_strategic_ver.fillna(0, inplace=True)\n",
    "df.it_strategic_ver.fillna(0, inplace=True)\n",
    "df.idit_strategic_ver.fillna(0, inplace=True)\n",
    "\n",
    "print(df.id_strategic_ver.unique())\n",
    "print(df.it_strategic_ver.unique())\n",
    "print(df.idit_strategic_ver.unique())"
   ]
  },
  {
   "cell_type": "code",
   "execution_count": 457,
   "id": "dd2be26b",
   "metadata": {},
   "outputs": [
    {
     "name": "stdout",
     "output_type": "stream",
     "text": [
      "87\n"
     ]
    }
   ],
   "source": [
    "#business_subarea 칼럼값은 고객이 주지 않은 정보이므로 NA로 처리\n",
    "\n",
    "df.business_subarea.fillna('NA', inplace=True)\n",
    "print(len(df.business_subarea.unique()))"
   ]
  },
  {
   "cell_type": "code",
   "execution_count": 458,
   "id": "dab2d669",
   "metadata": {},
   "outputs": [
    {
     "name": "stdout",
     "output_type": "stream",
     "text": [
      "com_reg_ver_win_rate 74.69702402294729\n",
      "customer_type 74.14485478666188\n",
      "historical_existing_cnt 77.82359268555038\n",
      "product_subcategory 83.85442811043384\n",
      "product_modelname 83.80960917891717\n",
      "expected_timeline 50.72068841878809\n",
      "ver_win_rate_x 68.11222660451774\n",
      "ver_win_ratio_per_bu 73.31660093223378\n",
      "business_area 68.11222660451774\n"
     ]
    }
   ],
   "source": [
    "#칼럼별 NA율이 50% 이상인 칼럼 나열\n",
    "for col in df.columns:\n",
    "    if df[col].isnull().sum()/len(df)*100 > 50:\n",
    "        print(col, df[col].isnull().sum()/len(df)*100)"
   ]
  },
  {
   "cell_type": "code",
   "execution_count": 459,
   "id": "795511ca",
   "metadata": {},
   "outputs": [
    {
     "data": {
      "text/plain": [
       "0    0.066667\n",
       "1    0.066667\n",
       "2    0.088889\n",
       "3    0.088889\n",
       "4    0.088889\n",
       "Name: com_reg_ver_win_rate, dtype: float64"
      ]
     },
     "execution_count": 459,
     "metadata": {},
     "output_type": "execute_result"
    }
   ],
   "source": [
    "# com_reg_ver_win_rate \n",
    "# 해당 칼럼 역시 LG 가 고객 정보를 토대로 직접 만드는 정보임.\n",
    "# business_unit 과 region에 따라서 주는 oppty rate 계산인데, \n",
    "# numerical data 이므로, NA값들은 knn imputation을 통해 채워주기로 함.\n",
    "\n",
    "from sklearn.impute import KNNImputer\n",
    "imputer = KNNImputer(n_neighbors=5)\n",
    "df['com_reg_ver_win_rate'] = pd.to_numeric(df['com_reg_ver_win_rate'], errors='coerce')\n",
    "\n",
    "df['com_reg_ver_win_rate'] = imputer.fit_transform(df[['com_reg_ver_win_rate']])\n",
    "df['com_reg_ver_win_rate'].head()"
   ]
  },
  {
   "cell_type": "code",
   "execution_count": 460,
   "id": "9b1010fe",
   "metadata": {},
   "outputs": [],
   "source": [
    "# customer_type\n",
    "# 고객이 넣어줘야하는 정보이므로, NA값들은 Unknown으로 처리\n",
    "\n",
    "df['customer_type'] = df['customer_type'].fillna('NA')"
   ]
  },
  {
   "cell_type": "code",
   "execution_count": 461,
   "id": "8a405b20",
   "metadata": {},
   "outputs": [
    {
     "data": {
      "text/plain": [
       "array([0.000e+00, 1.200e+01, 1.440e+02, 3.000e+00, 2.300e+01, 4.700e+01,\n",
       "       1.000e+00, 1.900e+01, 4.200e+01, 7.500e+01, 1.700e+01, 2.000e+01,\n",
       "       5.000e+00, 2.000e+00, 1.150e+02, 4.000e+00, 1.600e+01, 6.000e+00,\n",
       "       3.100e+01, 4.900e+01, 1.000e+01, 1.100e+01, 4.000e+01, 7.000e+00,\n",
       "       6.100e+01, 4.500e+01, 5.700e+01, 1.750e+02, 1.300e+01, 9.900e+01,\n",
       "       1.500e+01, 8.000e+00, 2.100e+01, 5.600e+01, 6.660e+02, 1.220e+02,\n",
       "       3.240e+02, 2.200e+01, 8.000e+01, 3.600e+01, 2.800e+01, 1.720e+02,\n",
       "       6.600e+01, 3.200e+01, 5.300e+01, 3.800e+01, 1.890e+02, 5.800e+01,\n",
       "       2.700e+01, 1.060e+02, 1.680e+02, 9.000e+00, 4.600e+01, 4.800e+01,\n",
       "       5.200e+01, 7.300e+01, 9.200e+01, 6.000e+01, 3.900e+01, 1.800e+01,\n",
       "       1.400e+01, 2.120e+02, 4.720e+02, 3.900e+02, 6.900e+01, 2.330e+02,\n",
       "       2.900e+01, 3.000e+01, 2.400e+01, 7.800e+01, 1.070e+02, 4.100e+01,\n",
       "       1.660e+02, 5.900e+01, 4.400e+01, 1.140e+02, 3.700e+01, 3.500e+01,\n",
       "       1.580e+02, 8.500e+01, 7.700e+01, 2.600e+01, 5.500e+01, 7.400e+01,\n",
       "       1.620e+02, 2.500e+01, 1.290e+02, 1.090e+02, 8.900e+01, 1.050e+02,\n",
       "       1.030e+02, 1.040e+02, 9.500e+01, 1.530e+02, 1.100e+02, 1.130e+02,\n",
       "       1.020e+02, 8.700e+01, 2.710e+02, 4.060e+02, 7.600e+01, 5.000e+01,\n",
       "       5.100e+01, 6.200e+01, 8.380e+02, 1.990e+02, 1.394e+03, 1.450e+02,\n",
       "       6.300e+01, 4.040e+02, 3.400e+01, 8.400e+01, 6.700e+01, 1.230e+02,\n",
       "       4.300e+01, 3.300e+01, 9.700e+01, 9.000e+02, 1.920e+02, 1.310e+02,\n",
       "       8.800e+01, 1.740e+02, 1.104e+03, 6.400e+01, 5.400e+01, 8.100e+01,\n",
       "       7.100e+01, 1.300e+02, 7.200e+01, 1.540e+02, 1.170e+02, 1.360e+02,\n",
       "       3.040e+02, 1.670e+02, 1.380e+02, 1.080e+02])"
      ]
     },
     "execution_count": 461,
     "metadata": {},
     "output_type": "execute_result"
    }
   ],
   "source": [
    "# historical_existing_cnt\n",
    "#도메인 지식으로는, 이 데이터가 회사에서 온것이므로, 회사가 단 한번이라도 고객을 상대했더라면 그 기록이 남았을것이다. \n",
    "# 따라서 이 칼럼의 NA는 전적이 없다, 즉 0으로 채울 수 있다. Domain Knowledge에 의한 imputation\n",
    "\n",
    "# df = df.drop(columns=['historical_existing_cnt'])\n",
    "\n",
    "df.historical_existing_cnt.fillna(0, inplace=True)\n",
    "df.historical_existing_cnt.unique()"
   ]
  },
  {
   "cell_type": "code",
   "execution_count": 462,
   "id": "ffc9123a",
   "metadata": {},
   "outputs": [],
   "source": [
    "# product_subcategory\n",
    "# 위와 같은 이유, 고객이 넣어줘야하는 정보이므로, NA값들은 Not Answered 의미로 처리\n",
    "df['product_subcategory'] = df['product_subcategory'].fillna('NA')"
   ]
  },
  {
   "cell_type": "code",
   "execution_count": 463,
   "id": "0c0e823e",
   "metadata": {},
   "outputs": [],
   "source": [
    "# product_modelname\n",
    "# 위와 동일한 이유\n",
    "df['product_modelname'] = df['product_modelname'].fillna('NA')"
   ]
  },
  {
   "cell_type": "code",
   "execution_count": 464,
   "id": "37d79fd4",
   "metadata": {},
   "outputs": [
    {
     "name": "stdout",
     "output_type": "stream",
     "text": [
      "expected_timeline\n",
      "Others                 28940\n",
      "less than 3 months     16843\n",
      "3 months ~ 6 months     4915\n",
      "more than a year        2874\n",
      "9 months ~ 1 year       1070\n",
      "6 months ~ 9 months     1043\n",
      "etc.                      95\n",
      "Name: count, dtype: int64\n"
     ]
    }
   ],
   "source": [
    "# expected_timeline\n",
    "# 많이 raw한 데이터 정제\n",
    "\n",
    "# Replace the specified 'expected_timeline' values\n",
    "df['expected_timeline'] = df['expected_timeline'].replace({\n",
    "    'less_than_3_months': 'less than 3 months',  # merge into 'less than 3 months'\n",
    "    'being followed up': 'being followed up.',  # merge into 'being followed up.'\n",
    "    'less than 6 months': '3 months ~ 6 months',  # merge into '3 months ~ 6 months'\n",
    "    '3_months_~_6_months' : '3 months ~ 6 months'\n",
    "})\n",
    "\n",
    "top_expected_timelines = df['expected_timeline'].value_counts().nlargest(6).index\n",
    "\n",
    "# Replace all other 'expected_timeline' values with 'Others'\n",
    "df['expected_timeline'] = df['expected_timeline'].apply(lambda x: x if x in top_expected_timelines else 'Others')\n",
    "\n",
    "# Optional: Check the updated value counts to confirm the merges\n",
    "updated_counts = df['expected_timeline'].value_counts()\n",
    "print(updated_counts)\n"
   ]
  },
  {
   "cell_type": "code",
   "execution_count": 465,
   "id": "be96e695",
   "metadata": {},
   "outputs": [],
   "source": [
    "df['expected_timeline'] = df['expected_timeline'].fillna('etc')"
   ]
  },
  {
   "cell_type": "code",
   "execution_count": 466,
   "id": "19327f60",
   "metadata": {},
   "outputs": [
    {
     "data": {
      "text/plain": [
       "0    0.003079\n",
       "1    0.003079\n",
       "2    0.003079\n",
       "3    0.003079\n",
       "4    0.003079\n",
       "Name: ver_win_rate_x, dtype: float64"
      ]
     },
     "execution_count": 466,
     "metadata": {},
     "output_type": "execute_result"
    }
   ],
   "source": [
    "# ver_win_rate_x\n",
    "# numerical data로 knn imputation을 통해 NA값들을 채워줌\n",
    "\n",
    "from sklearn.impute import KNNImputer\n",
    "\n",
    "imputer = KNNImputer(n_neighbors=5)\n",
    "\n",
    "df['ver_win_rate_x'] = pd.to_numeric(df['ver_win_rate_x'], errors='coerce')\n",
    "\n",
    "df['ver_win_rate_x'] = imputer.fit_transform(df[['ver_win_rate_x']])\n",
    "\n",
    "df['ver_win_rate_x'].head()"
   ]
  },
  {
   "cell_type": "code",
   "execution_count": 467,
   "id": "50c632c5",
   "metadata": {},
   "outputs": [
    {
     "data": {
      "text/plain": [
       "0    0.026846\n",
       "1    0.026846\n",
       "2    0.026846\n",
       "3    0.026846\n",
       "4    0.026846\n",
       "Name: ver_win_ratio_per_bu, dtype: float64"
      ]
     },
     "execution_count": 467,
     "metadata": {},
     "output_type": "execute_result"
    }
   ],
   "source": [
    "# ver_win_ratio_per_bu\n",
    "# 위와 같이 numerical data로 knn imputation을 통해 NA값들을 채워줌\n",
    "\n",
    "from sklearn.impute import KNNImputer\n",
    "\n",
    "imputer = KNNImputer(n_neighbors=5)\n",
    "\n",
    "df['ver_win_ratio_per_bu'] = pd.to_numeric(df['ver_win_ratio_per_bu'], errors='coerce')\n",
    "df['ver_win_ratio_per_bu'] = imputer.fit_transform(df[['ver_win_ratio_per_bu']])\n",
    "df['ver_win_ratio_per_bu'].head()"
   ]
  },
  {
   "cell_type": "code",
   "execution_count": 468,
   "id": "351fad24",
   "metadata": {},
   "outputs": [],
   "source": [
    "# business_area\n",
    "# 사업부는 고객이 넣어줘야하는 정보이므로, NA값들은 Not Answered 의미로 처리\n",
    "df['business_area'] = df['business_area'].fillna('NA')"
   ]
  },
  {
   "cell_type": "code",
   "execution_count": 469,
   "id": "06c34f9d",
   "metadata": {},
   "outputs": [],
   "source": [
    "# customer_job\n",
    "# 고객 직업은 고객이 넣어줘야하는 정보이므로, NA값들은 Not Answered 의미로 처리\n",
    "# 의사결정자이냐 아니냐는 부분이 중요함\n",
    "df['customer_job'] = df['customer_job'].fillna('NA')"
   ]
  },
  {
   "cell_type": "code",
   "execution_count": 470,
   "id": "2d3278ea",
   "metadata": {},
   "outputs": [],
   "source": [
    "# product_category\n",
    "# 위 product_subcategory와 같은 이유\n",
    "df['product_category'] = df['product_category'].fillna('NA')"
   ]
  },
  {
   "cell_type": "code",
   "execution_count": 471,
   "id": "44fa7bd9",
   "metadata": {},
   "outputs": [
    {
     "name": "stdout",
     "output_type": "stream",
     "text": [
      "         customer_country.1 response_corporate customer_country.1_normalized\n",
      "0  /Quezon City/Philippines              LGEPH                   Philippines\n",
      "1        /PH-00/Philippines              LGEPH                   Philippines\n",
      "2           /Kolkata /India              LGEIL                         India\n",
      "3        /Bhubaneswar/India              LGEIL                         India\n",
      "4          /Hyderabad/India              LGEIL                         India\n"
     ]
    }
   ],
   "source": [
    "# customer_country.1\n",
    "\n",
    "def extract_country(value, response_corporate):\n",
    "    # Mapping for response_corporate to country names\n",
    "    corporate_to_country = {\n",
    "        'LGEUS': 'United States',\n",
    "        'LGECB': 'Colombia',\n",
    "        'LGEDG': 'Germany',\n",
    "        'LGEIL': 'India',\n",
    "        'LGESP': 'Brazil',\n",
    "        'LGEPH': 'Philippines',\n",
    "        'LGEIN': 'Indonesia',\n",
    "        'LGEEG': 'Egypt',\n",
    "        'LGEUK': 'United Kingdom',\n",
    "        'LGETK': 'Turkey',\n",
    "        'LGEMS': 'Mexico',\n",
    "        'LGEFS': 'France',\n",
    "        'LGEES': 'Spain'\n",
    "    }\n",
    "    \n",
    "    # Function to determine if replacement is needed based on the content of the value\n",
    "    def needs_replacement(val):\n",
    "        if '@' in val or any(char.isdigit() for char in val):\n",
    "            return True\n",
    "        words = val.split()\n",
    "        return len(words) > 2\n",
    "    \n",
    "    # Initial check for NaN or non-string types\n",
    "    if pd.isna(value) or not isinstance(value, str):\n",
    "        return 'NA'\n",
    "    \n",
    "    # Check for email formats or if replacement is needed based on the content\n",
    "    if '@' in value or needs_replacement(value):\n",
    "        return 'Egypt' if '@' in value else corporate_to_country.get(response_corporate, 'NA')\n",
    "    \n",
    "    # Modified process to handle '//'\n",
    "    country = 'NA'\n",
    "    if '//' in value:\n",
    "        # Split the value on '//' and take the last part\n",
    "        parts = value.split('//')\n",
    "        country = parts[-1].strip().title() if parts[-1].strip() else parts[-2].strip().title()\n",
    "    elif '/' in value:\n",
    "        parts = value.strip('/').split('/')\n",
    "        country = parts[-1].strip().title()\n",
    "    \n",
    "    # Final check for replacement based on processed country\n",
    "    if needs_replacement(country):\n",
    "        return corporate_to_country.get(response_corporate, 'NA')\n",
    "    \n",
    "    if country == ' ':\n",
    "        return corporate_to_country.get(response_corporate, 'NA')\n",
    "    \n",
    "    return country if country != 'NA' else value.strip().title()\n",
    "\n",
    "\n",
    "# Re-apply the function with the enhanced logic\n",
    "df['customer_country.1_normalized'] = df.apply(lambda x: extract_country(x['customer_country.1'], x['response_corporate']), axis=1)\n",
    "\n",
    "# Verify the transformation\n",
    "print(df[['customer_country.1', 'response_corporate', 'customer_country.1_normalized']].head())\n"
   ]
  },
  {
   "cell_type": "code",
   "execution_count": 472,
   "id": "1eb11c89",
   "metadata": {},
   "outputs": [
    {
     "data": {
      "text/plain": [
       "29"
      ]
     },
     "execution_count": 472,
     "metadata": {},
     "output_type": "execute_result"
    }
   ],
   "source": [
    "df['customer_country.1'] = df['customer_country.1_normalized']\n",
    "df.drop(columns=['customer_country.1_normalized'], inplace=True)\n",
    "len(df.columns)"
   ]
  },
  {
   "cell_type": "code",
   "execution_count": 473,
   "id": "fe984b41",
   "metadata": {},
   "outputs": [
    {
     "data": {
      "text/plain": [
       "0"
      ]
     },
     "execution_count": 473,
     "metadata": {},
     "output_type": "execute_result"
    }
   ],
   "source": [
    "df['customer_country.1'].fillna('NA', inplace=True)\n",
    "\n",
    "#count NA values in customer_country.1\n",
    "df['customer_country.1'].isnull().sum()"
   ]
  },
  {
   "cell_type": "code",
   "execution_count": 474,
   "id": "3e1e4626",
   "metadata": {},
   "outputs": [
    {
     "name": "stdout",
     "output_type": "stream",
     "text": [
      "           customer_country response_corporate customer_country_normalized_a\n",
      "0  /Quezon City/Philippines              LGEPH                   Philippines\n",
      "1        /PH-00/Philippines              LGEPH                   Philippines\n",
      "2           /Kolkata /India              LGEIL                         India\n",
      "3        /Bhubaneswar/India              LGEIL                         India\n",
      "4          /Hyderabad/India              LGEIL                         India\n"
     ]
    },
    {
     "data": {
      "text/plain": [
       "29"
      ]
     },
     "execution_count": 474,
     "metadata": {},
     "output_type": "execute_result"
    }
   ],
   "source": [
    "#customer_country\n",
    "\n",
    "# Apply the function to your DataFrame\n",
    "df['customer_country_normalized_a'] = df.apply(lambda x: extract_country(x['customer_country'], x['response_corporate']), axis=1)\n",
    "\n",
    "# Verify the transformation and cleanup\n",
    "print(df[['customer_country', 'response_corporate', 'customer_country_normalized_a']].head())\n",
    "\n",
    "\n",
    "df['customer_country'] = df['customer_country_normalized_a']\n",
    "df.drop(columns=['customer_country_normalized_a'], inplace=True)\n",
    "len(df.columns)"
   ]
  },
  {
   "cell_type": "code",
   "execution_count": 475,
   "id": "b88089de",
   "metadata": {},
   "outputs": [
    {
     "data": {
      "text/plain": [
       "0"
      ]
     },
     "execution_count": 475,
     "metadata": {},
     "output_type": "execute_result"
    }
   ],
   "source": [
    "df['customer_country'].fillna('NA', inplace=True)\n",
    "\n",
    "#count NA values in customer_country.1\n",
    "df['customer_country'].isnull().sum()"
   ]
  },
  {
   "cell_type": "code",
   "execution_count": 476,
   "id": "287b6656",
   "metadata": {},
   "outputs": [
    {
     "name": "stdout",
     "output_type": "stream",
     "text": [
      "72\n"
     ]
    }
   ],
   "source": [
    "# inquiry_type\n",
    "# df['inquiry_type'] = df['inquiry_type'].fillna('NA')\n",
    "\n",
    "print(len(df['inquiry_type'].unique()))\n",
    "df['inquiry_type'].value_counts()\n",
    "\n",
    "# Replace the specified 'inquiry_type' values\n",
    "df['inquiry_type'] = df['inquiry_type'].replace({\n",
    "    'Quotation or Purchase Consultation': 'Quotation or purchase consultation'\n",
    "})"
   ]
  },
  {
   "cell_type": "code",
   "execution_count": 477,
   "id": "378210bf",
   "metadata": {},
   "outputs": [
    {
     "name": "stdout",
     "output_type": "stream",
     "text": [
      "5\n"
     ]
    },
    {
     "data": {
      "text/plain": [
       "inquiry_type\n",
       "Quotation or purchase consultation    40136\n",
       "Sales Inquiry                          8844\n",
       "Other                                  4809\n",
       "Product Information                    1100\n",
       "NA                                      891\n",
       "Name: count, dtype: int64"
      ]
     },
     "execution_count": 477,
     "metadata": {},
     "output_type": "execute_result"
    }
   ],
   "source": [
    "# First, calculate the value counts for each unique value in 'inquiry_type'\n",
    "value_counts = df['inquiry_type'].value_counts()\n",
    "\n",
    "# Identify those unique values where the count is less than 900\n",
    "values_to_replace = value_counts[value_counts < 900].index.tolist()\n",
    "\n",
    "# Replace those values with 'Other'\n",
    "df['inquiry_type'] = df['inquiry_type'].replace(values_to_replace, 'Other')\n",
    "\n",
    "# Your specified manual replacement can also be included before or after this operation\n",
    "df['inquiry_type'] = df['inquiry_type'].replace({\n",
    "    'Quotation or Purchase Consultation': 'Quotation or purchase consultation',\n",
    "    # Add any other specific replacements here\n",
    "})\n",
    "\n",
    "df['inquiry_type'] = df['inquiry_type'].fillna('NA')\n",
    "\n",
    "print(len(df['inquiry_type'].unique()))\n",
    "df['inquiry_type'].value_counts()"
   ]
  },
  {
   "cell_type": "markdown",
   "id": "c89423e5",
   "metadata": {},
   "source": [
    "### 2-2. 카테고리 데이터 인코딩"
   ]
  },
  {
   "cell_type": "code",
   "execution_count": 478,
   "id": "6ada92c7",
   "metadata": {},
   "outputs": [
    {
     "name": "stdout",
     "output_type": "stream",
     "text": [
      "customer_country\n",
      "business_unit\n",
      "customer_type\n",
      "enterprise\n",
      "customer_job\n",
      "inquiry_type\n",
      "product_category\n",
      "product_subcategory\n",
      "product_modelname\n",
      "customer_country.1\n",
      "customer_position\n",
      "response_corporate\n",
      "expected_timeline\n",
      "business_area\n",
      "business_subarea\n",
      "is_converted\n"
     ]
    }
   ],
   "source": [
    "# categorical columns\n",
    "\n",
    "for col in df.columns:\n",
    "    if df[col].dtype != 'int64' and df[col].dtype != 'float64':\n",
    "        print(col)"
   ]
  },
  {
   "cell_type": "code",
   "execution_count": 479,
   "id": "e6c886e1",
   "metadata": {},
   "outputs": [
    {
     "data": {
      "text/plain": [
       "array(['TRUE', 'FALSE'], dtype=object)"
      ]
     },
     "execution_count": 479,
     "metadata": {},
     "output_type": "execute_result"
    }
   ],
   "source": [
    "df['is_converted'].unique()"
   ]
  },
  {
   "cell_type": "markdown",
   "id": "2449085c",
   "metadata": {},
   "source": [
    "### business_unit"
   ]
  },
  {
   "cell_type": "code",
   "execution_count": 482,
   "id": "8d4c1fd4",
   "metadata": {},
   "outputs": [
    {
     "data": {
      "text/plain": [
       "array(['AS', 'ID', 'IT', 'Solution', 'CM'], dtype=object)"
      ]
     },
     "execution_count": 482,
     "metadata": {},
     "output_type": "execute_result"
    }
   ],
   "source": [
    "df.business_unit.unique()"
   ]
  },
  {
   "cell_type": "code",
   "execution_count": 484,
   "id": "bacd0e82",
   "metadata": {},
   "outputs": [
    {
     "ename": "KeyError",
     "evalue": "'[322, 344, 1253, 1314, 1477, 1487, 1489, 1497, 1503, 1684, 2829, 3279, 3418, 3422, 3615, 3986, 5701, 5990, 6247, 6423, 6561, 7284, 7567, 8344, 10331, 10688, 10791, 11076, 11077, 11081, 11092, 11097, 11107, 11113, 11150, 11165, 11168, 11178, 11186, 11200, 11203, 11208, 11212, 11235, 11245, 11247, 11250, 11461, 12428, 12472, 12496, 12506, 12520, 12551, 12639, 12701, 12792, 12796, 12909, 13013, 13035, 13039, 13059, 13124, 13131, 13167, 13249, 13253, 13270, 13297, 13298, 13301, 13413, 14233, 14238, 14608, 14636, 15130, 15292, 15602, 15603, 15625, 15632, 15639, 15643, 15650, 15712, 15738, 15742, 16174, 16599, 16718, 16814, 16886, 16927, 17418, 17811, 18176, 18180, 18210, 18219, 18222, 18224, 18352, 18397, 18618, 18629, 18641, 18848, 18874, 18960, 18968, 19035, 19166, 19176, 19209, 19231, 19315, 19319, 19327, 19460, 19740, 19860, 19967, 20071, 20073, 20155, 20164, 20170, 20184, 20196, 20330, 20339, 20367, 20443, 20839, 20847, 20853, 20861, 20865, 20891, 20892, 20904, 20909, 20937, 20940, 21035, 21063, 21110, 21176, 21186, 21208, 21254, 21356, 21453, 21463, 21478, 21489, 21492, 21496, 21528, 21531, 21544, 21547, 21558, 21594, 21597, 21603, 21609, 21724, 22193, 22239, 22261, 22265, 22269, 22273, 22303, 22311, 22323, 22600, 22672, 23491, 23517, 23597, 23607, 23829, 23841, 23934, 23942, 24015, 24075, 24116, 24132, 24153, 24499, 24841, 25203, 26281, 26318, 26344, 26403, 26419, 26429, 26466, 26476, 26837, 26848, 27348, 27368, 28751, 28969, 28976, 28993, 29054, 29219, 29869, 29913, 29965, 29983, 29987, 30000, 30021, 30142, 31109, 31162, 31164, 31341, 31391, 32364, 32700, 32914, 32929, 34089, 34628, 34630, 35254, 35390, 35392, 35423, 35460, 35484, 35508, 35541, 35562, 35564, 35570, 36070, 36092, 36119, 36249, 36276, 36357, 36921, 36922, 37070, 37659, 37716, 37868, 38050, 38126, 38217, 38351, 38707, 38721, 38802, 38815, 38823, 38895, 38905, 39167, 39168, 39171, 39175, 39176, 39183, 39184, 39189, 39191, 39193, 39285, 39313, 39316, 39331, 39467, 39480, 39548, 39549, 39564, 39566, 39571, 39602, 39611, 39655, 39659, 39669, 39687, 39703, 39728, 39729, 39733, 39761, 39799, 39836, 39863, 39868, 39955, 40057, 40072, 40132, 40152, 40156, 40168, 40169, 40234, 40259, 40265, 40443, 40444, 40445, 40449, 40530, 40606, 40659, 40881, 40924, 41165, 41275, 41411, 41463, 41541, 41655, 41671, 41682, 41683, 41686, 41690, 41695, 41698, 41704, 41715, 41718, 41720, 41733, 41745, 41753, 41759, 41770, 41771, 41775, 41780, 41791, 41794, 41795, 42102, 42115, 42121, 42155, 42196, 42260, 42366, 42643, 42660, 42694, 42703, 42731, 42737, 42741, 42756, 42776, 42789, 42792, 42798, 42799, 42801, 42810, 42811, 42820, 42822, 42840, 42841, 42869, 42926, 43004, 43010, 43012, 43020, 43023, 43025, 43037, 43044, 43049, 43124, 43130, 43134, 43135, 43140, 43143, 43144, 43150, 43160, 43166, 43170, 43175, 43176, 43182, 43189, 43190, 43193, 43196, 43197, 43200, 43206, 43207, 43208, 43211, 43304, 43486, 43490, 43494, 43495, 43501, 43630, 43636, 43641, 43648, 43652, 43653, 43665, 43666, 43667, 43670, 43672, 43673, 43674, 43680, 43681, 43684, 43686, 43701, 43702, 43706, 43715, 43718, 43729, 43737, 43740, 43745, 43748, 43758, 43761, 43762, 43772, 43773, 43774, 43781, 43783, 43787, 43789, 43801, 43809, 43816, 43821, 43834, 43836, 43843, 43853, 43863, 43869, 43870, 43882, 43892, 43893, 43901, 43903, 43907, 43944, 44240, 44309, 44423, 44685, 44810, 44818, 44839, 44841, 44842, 44849, 44873, 44913, 44915, 44925, 44941, 44952, 45019, 45122, 45155, 45164, 45165, 45171, 45175, 45194, 45196, 45202, 45211, 45217, 45223, 45298, 45314, 45341, 45370, 45388, 45390, 45425, 45434, 45470, 45502, 45566, 45588, 45594, 45625, 45924, 46027, 46061, 46062, 46075, 46090, 46194, 46340, 46353, 46439, 46523, 46566, 46585, 46593, 46597, 46756, 46801, 46814, 46856, 47168, 47173, 47181, 47184, 47188, 47197, 47222, 47229, 47236, 47282, 47287, 47290, 47296, 47298, 47301, 47307, 47311, 47383, 47385, 47387, 47407, 47410, 47413, 47415, 47416, 47419, 47420, 47421, 47424, 47426, 47435, 47439, 47568, 47569, 47570, 47575, 47582, 47585, 47592, 47598, 47612, 47616, 47617, 47619, 47621, 47623, 47624, 47626, 47627, 47632, 47637, 47648, 47651, 47652, 47654, 47655, 47661, 47694, 47718, 47783, 47787, 47809, 47814, 47816, 47820, 47841, 47918, 47931, 47933, 47936, 48559, 49173, 49267, 49346, 49405, 49725, 49800, 50089, 50570, 50828, 50857, 51043, 51280, 51424, 51439, 51442, 51449, 51454, 51457, 51459, 51461, 51481, 51634, 52011, 52013, 52077, 52117, 52164, 52168, 52180, 52181, 52185, 52187, 52193, 52237, 52376, 52377, 52395, 52399, 52401, 52409, 52414, 52451, 52457, 52462, 52465, 53008, 53015, 54167, 54171, 54250, 54311, 54450, 54516, 54522, 54630, 54634, 54662, 54712, 54722, 54737, 54739, 54740, 54795, 54801, 54805, 54806, 54870, 54907, 54915, 54919, 55138, 55372, 55756] not in index'",
     "output_type": "error",
     "traceback": [
      "\u001b[1;31m---------------------------------------------------------------------------\u001b[0m",
      "\u001b[1;31mKeyError\u001b[0m                                  Traceback (most recent call last)",
      "Cell \u001b[1;32mIn[484], line 17\u001b[0m\n\u001b[0;32m     14\u001b[0m     means \u001b[38;5;241m=\u001b[39m X_train\u001b[38;5;241m.\u001b[39mgroupby(\u001b[38;5;124m'\u001b[39m\u001b[38;5;124mbusiness_unit\u001b[39m\u001b[38;5;124m'\u001b[39m)[\u001b[38;5;124m'\u001b[39m\u001b[38;5;124mis_converted\u001b[39m\u001b[38;5;124m'\u001b[39m]\u001b[38;5;241m.\u001b[39mmean()\n\u001b[0;32m     16\u001b[0m     \u001b[38;5;66;03m# Map the computed means to the validation set\u001b[39;00m\n\u001b[1;32m---> 17\u001b[0m     \u001b[43mdf\u001b[49m\u001b[38;5;241;43m.\u001b[39;49m\u001b[43mloc\u001b[49m\u001b[43m[\u001b[49m\u001b[43mval_idx\u001b[49m\u001b[43m,\u001b[49m\u001b[43m \u001b[49m\u001b[38;5;124;43m'\u001b[39;49m\u001b[38;5;124;43mbusiness_unit_te\u001b[39;49m\u001b[38;5;124;43m'\u001b[39;49m\u001b[43m]\u001b[49m \u001b[38;5;241m=\u001b[39m X_val[\u001b[38;5;124m'\u001b[39m\u001b[38;5;124mbusiness_unit\u001b[39m\u001b[38;5;124m'\u001b[39m]\u001b[38;5;241m.\u001b[39mmap(means)\n\u001b[0;32m     19\u001b[0m \u001b[38;5;66;03m# Fill missing values for any 'business_area' not seen in the training folds with the global mean\u001b[39;00m\n\u001b[0;32m     20\u001b[0m global_mean \u001b[38;5;241m=\u001b[39m df[\u001b[38;5;124m'\u001b[39m\u001b[38;5;124mis_converted\u001b[39m\u001b[38;5;124m'\u001b[39m]\u001b[38;5;241m.\u001b[39mmean()\n",
      "File \u001b[1;32mc:\\Users\\Jungha Cho\\AppData\\Local\\Programs\\Python\\Python311\\Lib\\site-packages\\pandas\\core\\indexing.py:845\u001b[0m, in \u001b[0;36m_LocationIndexer.__setitem__\u001b[1;34m(self, key, value)\u001b[0m\n\u001b[0;32m    843\u001b[0m \u001b[38;5;28;01melse\u001b[39;00m:\n\u001b[0;32m    844\u001b[0m     key \u001b[38;5;241m=\u001b[39m com\u001b[38;5;241m.\u001b[39mapply_if_callable(key, \u001b[38;5;28mself\u001b[39m\u001b[38;5;241m.\u001b[39mobj)\n\u001b[1;32m--> 845\u001b[0m indexer \u001b[38;5;241m=\u001b[39m \u001b[38;5;28;43mself\u001b[39;49m\u001b[38;5;241;43m.\u001b[39;49m\u001b[43m_get_setitem_indexer\u001b[49m\u001b[43m(\u001b[49m\u001b[43mkey\u001b[49m\u001b[43m)\u001b[49m\n\u001b[0;32m    846\u001b[0m \u001b[38;5;28mself\u001b[39m\u001b[38;5;241m.\u001b[39m_has_valid_setitem_indexer(key)\n\u001b[0;32m    848\u001b[0m iloc \u001b[38;5;241m=\u001b[39m \u001b[38;5;28mself\u001b[39m \u001b[38;5;28;01mif\u001b[39;00m \u001b[38;5;28mself\u001b[39m\u001b[38;5;241m.\u001b[39mname \u001b[38;5;241m==\u001b[39m \u001b[38;5;124m\"\u001b[39m\u001b[38;5;124miloc\u001b[39m\u001b[38;5;124m\"\u001b[39m \u001b[38;5;28;01melse\u001b[39;00m \u001b[38;5;28mself\u001b[39m\u001b[38;5;241m.\u001b[39mobj\u001b[38;5;241m.\u001b[39miloc\n",
      "File \u001b[1;32mc:\\Users\\Jungha Cho\\AppData\\Local\\Programs\\Python\\Python311\\Lib\\site-packages\\pandas\\core\\indexing.py:710\u001b[0m, in \u001b[0;36m_LocationIndexer._get_setitem_indexer\u001b[1;34m(self, key)\u001b[0m\n\u001b[0;32m    707\u001b[0m \u001b[38;5;28;01mif\u001b[39;00m \u001b[38;5;28misinstance\u001b[39m(key, \u001b[38;5;28mtuple\u001b[39m):\n\u001b[0;32m    708\u001b[0m     \u001b[38;5;28;01mwith\u001b[39;00m suppress(IndexingError):\n\u001b[0;32m    709\u001b[0m         \u001b[38;5;66;03m# suppress \"Too many indexers\"\u001b[39;00m\n\u001b[1;32m--> 710\u001b[0m         \u001b[38;5;28;01mreturn\u001b[39;00m \u001b[38;5;28;43mself\u001b[39;49m\u001b[38;5;241;43m.\u001b[39;49m\u001b[43m_convert_tuple\u001b[49m\u001b[43m(\u001b[49m\u001b[43mkey\u001b[49m\u001b[43m)\u001b[49m\n\u001b[0;32m    712\u001b[0m \u001b[38;5;28;01mif\u001b[39;00m \u001b[38;5;28misinstance\u001b[39m(key, \u001b[38;5;28mrange\u001b[39m):\n\u001b[0;32m    713\u001b[0m     \u001b[38;5;66;03m# GH#45479 test_loc_setitem_range_key\u001b[39;00m\n\u001b[0;32m    714\u001b[0m     key \u001b[38;5;241m=\u001b[39m \u001b[38;5;28mlist\u001b[39m(key)\n",
      "File \u001b[1;32mc:\\Users\\Jungha Cho\\AppData\\Local\\Programs\\Python\\Python311\\Lib\\site-packages\\pandas\\core\\indexing.py:927\u001b[0m, in \u001b[0;36m_LocationIndexer._convert_tuple\u001b[1;34m(self, key)\u001b[0m\n\u001b[0;32m    923\u001b[0m \u001b[38;5;129m@final\u001b[39m\n\u001b[0;32m    924\u001b[0m \u001b[38;5;28;01mdef\u001b[39;00m \u001b[38;5;21m_convert_tuple\u001b[39m(\u001b[38;5;28mself\u001b[39m, key: \u001b[38;5;28mtuple\u001b[39m) \u001b[38;5;241m-\u001b[39m\u001b[38;5;241m>\u001b[39m \u001b[38;5;28mtuple\u001b[39m:\n\u001b[0;32m    925\u001b[0m     \u001b[38;5;66;03m# Note: we assume _tupleize_axis_indexer has been called, if necessary.\u001b[39;00m\n\u001b[0;32m    926\u001b[0m     \u001b[38;5;28mself\u001b[39m\u001b[38;5;241m.\u001b[39m_validate_key_length(key)\n\u001b[1;32m--> 927\u001b[0m     keyidx \u001b[38;5;241m=\u001b[39m \u001b[43m[\u001b[49m\u001b[38;5;28;43mself\u001b[39;49m\u001b[38;5;241;43m.\u001b[39;49m\u001b[43m_convert_to_indexer\u001b[49m\u001b[43m(\u001b[49m\u001b[43mk\u001b[49m\u001b[43m,\u001b[49m\u001b[43m \u001b[49m\u001b[43maxis\u001b[49m\u001b[38;5;241;43m=\u001b[39;49m\u001b[43mi\u001b[49m\u001b[43m)\u001b[49m\u001b[43m \u001b[49m\u001b[38;5;28;43;01mfor\u001b[39;49;00m\u001b[43m \u001b[49m\u001b[43mi\u001b[49m\u001b[43m,\u001b[49m\u001b[43m \u001b[49m\u001b[43mk\u001b[49m\u001b[43m \u001b[49m\u001b[38;5;129;43;01min\u001b[39;49;00m\u001b[43m \u001b[49m\u001b[38;5;28;43menumerate\u001b[39;49m\u001b[43m(\u001b[49m\u001b[43mkey\u001b[49m\u001b[43m)\u001b[49m\u001b[43m]\u001b[49m\n\u001b[0;32m    928\u001b[0m     \u001b[38;5;28;01mreturn\u001b[39;00m \u001b[38;5;28mtuple\u001b[39m(keyidx)\n",
      "File \u001b[1;32mc:\\Users\\Jungha Cho\\AppData\\Local\\Programs\\Python\\Python311\\Lib\\site-packages\\pandas\\core\\indexing.py:927\u001b[0m, in \u001b[0;36m<listcomp>\u001b[1;34m(.0)\u001b[0m\n\u001b[0;32m    923\u001b[0m \u001b[38;5;129m@final\u001b[39m\n\u001b[0;32m    924\u001b[0m \u001b[38;5;28;01mdef\u001b[39;00m \u001b[38;5;21m_convert_tuple\u001b[39m(\u001b[38;5;28mself\u001b[39m, key: \u001b[38;5;28mtuple\u001b[39m) \u001b[38;5;241m-\u001b[39m\u001b[38;5;241m>\u001b[39m \u001b[38;5;28mtuple\u001b[39m:\n\u001b[0;32m    925\u001b[0m     \u001b[38;5;66;03m# Note: we assume _tupleize_axis_indexer has been called, if necessary.\u001b[39;00m\n\u001b[0;32m    926\u001b[0m     \u001b[38;5;28mself\u001b[39m\u001b[38;5;241m.\u001b[39m_validate_key_length(key)\n\u001b[1;32m--> 927\u001b[0m     keyidx \u001b[38;5;241m=\u001b[39m [\u001b[38;5;28;43mself\u001b[39;49m\u001b[38;5;241;43m.\u001b[39;49m\u001b[43m_convert_to_indexer\u001b[49m\u001b[43m(\u001b[49m\u001b[43mk\u001b[49m\u001b[43m,\u001b[49m\u001b[43m \u001b[49m\u001b[43maxis\u001b[49m\u001b[38;5;241;43m=\u001b[39;49m\u001b[43mi\u001b[49m\u001b[43m)\u001b[49m \u001b[38;5;28;01mfor\u001b[39;00m i, k \u001b[38;5;129;01min\u001b[39;00m \u001b[38;5;28menumerate\u001b[39m(key)]\n\u001b[0;32m    928\u001b[0m     \u001b[38;5;28;01mreturn\u001b[39;00m \u001b[38;5;28mtuple\u001b[39m(keyidx)\n",
      "File \u001b[1;32mc:\\Users\\Jungha Cho\\AppData\\Local\\Programs\\Python\\Python311\\Lib\\site-packages\\pandas\\core\\indexing.py:1426\u001b[0m, in \u001b[0;36m_LocIndexer._convert_to_indexer\u001b[1;34m(self, key, axis)\u001b[0m\n\u001b[0;32m   1424\u001b[0m         \u001b[38;5;28;01mreturn\u001b[39;00m key\n\u001b[0;32m   1425\u001b[0m     \u001b[38;5;28;01melse\u001b[39;00m:\n\u001b[1;32m-> 1426\u001b[0m         \u001b[38;5;28;01mreturn\u001b[39;00m \u001b[38;5;28;43mself\u001b[39;49m\u001b[38;5;241;43m.\u001b[39;49m\u001b[43m_get_listlike_indexer\u001b[49m\u001b[43m(\u001b[49m\u001b[43mkey\u001b[49m\u001b[43m,\u001b[49m\u001b[43m \u001b[49m\u001b[43maxis\u001b[49m\u001b[43m)\u001b[49m[\u001b[38;5;241m1\u001b[39m]\n\u001b[0;32m   1427\u001b[0m \u001b[38;5;28;01melse\u001b[39;00m:\n\u001b[0;32m   1428\u001b[0m     \u001b[38;5;28;01mtry\u001b[39;00m:\n",
      "File \u001b[1;32mc:\\Users\\Jungha Cho\\AppData\\Local\\Programs\\Python\\Python311\\Lib\\site-packages\\pandas\\core\\indexing.py:1462\u001b[0m, in \u001b[0;36m_LocIndexer._get_listlike_indexer\u001b[1;34m(self, key, axis)\u001b[0m\n\u001b[0;32m   1459\u001b[0m ax \u001b[38;5;241m=\u001b[39m \u001b[38;5;28mself\u001b[39m\u001b[38;5;241m.\u001b[39mobj\u001b[38;5;241m.\u001b[39m_get_axis(axis)\n\u001b[0;32m   1460\u001b[0m axis_name \u001b[38;5;241m=\u001b[39m \u001b[38;5;28mself\u001b[39m\u001b[38;5;241m.\u001b[39mobj\u001b[38;5;241m.\u001b[39m_get_axis_name(axis)\n\u001b[1;32m-> 1462\u001b[0m keyarr, indexer \u001b[38;5;241m=\u001b[39m \u001b[43max\u001b[49m\u001b[38;5;241;43m.\u001b[39;49m\u001b[43m_get_indexer_strict\u001b[49m\u001b[43m(\u001b[49m\u001b[43mkey\u001b[49m\u001b[43m,\u001b[49m\u001b[43m \u001b[49m\u001b[43maxis_name\u001b[49m\u001b[43m)\u001b[49m\n\u001b[0;32m   1464\u001b[0m \u001b[38;5;28;01mreturn\u001b[39;00m keyarr, indexer\n",
      "File \u001b[1;32mc:\\Users\\Jungha Cho\\AppData\\Local\\Programs\\Python\\Python311\\Lib\\site-packages\\pandas\\core\\indexes\\base.py:5877\u001b[0m, in \u001b[0;36mIndex._get_indexer_strict\u001b[1;34m(self, key, axis_name)\u001b[0m\n\u001b[0;32m   5874\u001b[0m \u001b[38;5;28;01melse\u001b[39;00m:\n\u001b[0;32m   5875\u001b[0m     keyarr, indexer, new_indexer \u001b[38;5;241m=\u001b[39m \u001b[38;5;28mself\u001b[39m\u001b[38;5;241m.\u001b[39m_reindex_non_unique(keyarr)\n\u001b[1;32m-> 5877\u001b[0m \u001b[38;5;28;43mself\u001b[39;49m\u001b[38;5;241;43m.\u001b[39;49m\u001b[43m_raise_if_missing\u001b[49m\u001b[43m(\u001b[49m\u001b[43mkeyarr\u001b[49m\u001b[43m,\u001b[49m\u001b[43m \u001b[49m\u001b[43mindexer\u001b[49m\u001b[43m,\u001b[49m\u001b[43m \u001b[49m\u001b[43maxis_name\u001b[49m\u001b[43m)\u001b[49m\n\u001b[0;32m   5879\u001b[0m keyarr \u001b[38;5;241m=\u001b[39m \u001b[38;5;28mself\u001b[39m\u001b[38;5;241m.\u001b[39mtake(indexer)\n\u001b[0;32m   5880\u001b[0m \u001b[38;5;28;01mif\u001b[39;00m \u001b[38;5;28misinstance\u001b[39m(key, Index):\n\u001b[0;32m   5881\u001b[0m     \u001b[38;5;66;03m# GH 42790 - Preserve name from an Index\u001b[39;00m\n",
      "File \u001b[1;32mc:\\Users\\Jungha Cho\\AppData\\Local\\Programs\\Python\\Python311\\Lib\\site-packages\\pandas\\core\\indexes\\base.py:5941\u001b[0m, in \u001b[0;36mIndex._raise_if_missing\u001b[1;34m(self, key, indexer, axis_name)\u001b[0m\n\u001b[0;32m   5938\u001b[0m     \u001b[38;5;28;01mraise\u001b[39;00m \u001b[38;5;167;01mKeyError\u001b[39;00m(\u001b[38;5;124mf\u001b[39m\u001b[38;5;124m\"\u001b[39m\u001b[38;5;124mNone of [\u001b[39m\u001b[38;5;132;01m{\u001b[39;00mkey\u001b[38;5;132;01m}\u001b[39;00m\u001b[38;5;124m] are in the [\u001b[39m\u001b[38;5;132;01m{\u001b[39;00maxis_name\u001b[38;5;132;01m}\u001b[39;00m\u001b[38;5;124m]\u001b[39m\u001b[38;5;124m\"\u001b[39m)\n\u001b[0;32m   5940\u001b[0m not_found \u001b[38;5;241m=\u001b[39m \u001b[38;5;28mlist\u001b[39m(ensure_index(key)[missing_mask\u001b[38;5;241m.\u001b[39mnonzero()[\u001b[38;5;241m0\u001b[39m]]\u001b[38;5;241m.\u001b[39munique())\n\u001b[1;32m-> 5941\u001b[0m \u001b[38;5;28;01mraise\u001b[39;00m \u001b[38;5;167;01mKeyError\u001b[39;00m(\u001b[38;5;124mf\u001b[39m\u001b[38;5;124m\"\u001b[39m\u001b[38;5;132;01m{\u001b[39;00mnot_found\u001b[38;5;132;01m}\u001b[39;00m\u001b[38;5;124m not in index\u001b[39m\u001b[38;5;124m\"\u001b[39m)\n",
      "\u001b[1;31mKeyError\u001b[0m: '[322, 344, 1253, 1314, 1477, 1487, 1489, 1497, 1503, 1684, 2829, 3279, 3418, 3422, 3615, 3986, 5701, 5990, 6247, 6423, 6561, 7284, 7567, 8344, 10331, 10688, 10791, 11076, 11077, 11081, 11092, 11097, 11107, 11113, 11150, 11165, 11168, 11178, 11186, 11200, 11203, 11208, 11212, 11235, 11245, 11247, 11250, 11461, 12428, 12472, 12496, 12506, 12520, 12551, 12639, 12701, 12792, 12796, 12909, 13013, 13035, 13039, 13059, 13124, 13131, 13167, 13249, 13253, 13270, 13297, 13298, 13301, 13413, 14233, 14238, 14608, 14636, 15130, 15292, 15602, 15603, 15625, 15632, 15639, 15643, 15650, 15712, 15738, 15742, 16174, 16599, 16718, 16814, 16886, 16927, 17418, 17811, 18176, 18180, 18210, 18219, 18222, 18224, 18352, 18397, 18618, 18629, 18641, 18848, 18874, 18960, 18968, 19035, 19166, 19176, 19209, 19231, 19315, 19319, 19327, 19460, 19740, 19860, 19967, 20071, 20073, 20155, 20164, 20170, 20184, 20196, 20330, 20339, 20367, 20443, 20839, 20847, 20853, 20861, 20865, 20891, 20892, 20904, 20909, 20937, 20940, 21035, 21063, 21110, 21176, 21186, 21208, 21254, 21356, 21453, 21463, 21478, 21489, 21492, 21496, 21528, 21531, 21544, 21547, 21558, 21594, 21597, 21603, 21609, 21724, 22193, 22239, 22261, 22265, 22269, 22273, 22303, 22311, 22323, 22600, 22672, 23491, 23517, 23597, 23607, 23829, 23841, 23934, 23942, 24015, 24075, 24116, 24132, 24153, 24499, 24841, 25203, 26281, 26318, 26344, 26403, 26419, 26429, 26466, 26476, 26837, 26848, 27348, 27368, 28751, 28969, 28976, 28993, 29054, 29219, 29869, 29913, 29965, 29983, 29987, 30000, 30021, 30142, 31109, 31162, 31164, 31341, 31391, 32364, 32700, 32914, 32929, 34089, 34628, 34630, 35254, 35390, 35392, 35423, 35460, 35484, 35508, 35541, 35562, 35564, 35570, 36070, 36092, 36119, 36249, 36276, 36357, 36921, 36922, 37070, 37659, 37716, 37868, 38050, 38126, 38217, 38351, 38707, 38721, 38802, 38815, 38823, 38895, 38905, 39167, 39168, 39171, 39175, 39176, 39183, 39184, 39189, 39191, 39193, 39285, 39313, 39316, 39331, 39467, 39480, 39548, 39549, 39564, 39566, 39571, 39602, 39611, 39655, 39659, 39669, 39687, 39703, 39728, 39729, 39733, 39761, 39799, 39836, 39863, 39868, 39955, 40057, 40072, 40132, 40152, 40156, 40168, 40169, 40234, 40259, 40265, 40443, 40444, 40445, 40449, 40530, 40606, 40659, 40881, 40924, 41165, 41275, 41411, 41463, 41541, 41655, 41671, 41682, 41683, 41686, 41690, 41695, 41698, 41704, 41715, 41718, 41720, 41733, 41745, 41753, 41759, 41770, 41771, 41775, 41780, 41791, 41794, 41795, 42102, 42115, 42121, 42155, 42196, 42260, 42366, 42643, 42660, 42694, 42703, 42731, 42737, 42741, 42756, 42776, 42789, 42792, 42798, 42799, 42801, 42810, 42811, 42820, 42822, 42840, 42841, 42869, 42926, 43004, 43010, 43012, 43020, 43023, 43025, 43037, 43044, 43049, 43124, 43130, 43134, 43135, 43140, 43143, 43144, 43150, 43160, 43166, 43170, 43175, 43176, 43182, 43189, 43190, 43193, 43196, 43197, 43200, 43206, 43207, 43208, 43211, 43304, 43486, 43490, 43494, 43495, 43501, 43630, 43636, 43641, 43648, 43652, 43653, 43665, 43666, 43667, 43670, 43672, 43673, 43674, 43680, 43681, 43684, 43686, 43701, 43702, 43706, 43715, 43718, 43729, 43737, 43740, 43745, 43748, 43758, 43761, 43762, 43772, 43773, 43774, 43781, 43783, 43787, 43789, 43801, 43809, 43816, 43821, 43834, 43836, 43843, 43853, 43863, 43869, 43870, 43882, 43892, 43893, 43901, 43903, 43907, 43944, 44240, 44309, 44423, 44685, 44810, 44818, 44839, 44841, 44842, 44849, 44873, 44913, 44915, 44925, 44941, 44952, 45019, 45122, 45155, 45164, 45165, 45171, 45175, 45194, 45196, 45202, 45211, 45217, 45223, 45298, 45314, 45341, 45370, 45388, 45390, 45425, 45434, 45470, 45502, 45566, 45588, 45594, 45625, 45924, 46027, 46061, 46062, 46075, 46090, 46194, 46340, 46353, 46439, 46523, 46566, 46585, 46593, 46597, 46756, 46801, 46814, 46856, 47168, 47173, 47181, 47184, 47188, 47197, 47222, 47229, 47236, 47282, 47287, 47290, 47296, 47298, 47301, 47307, 47311, 47383, 47385, 47387, 47407, 47410, 47413, 47415, 47416, 47419, 47420, 47421, 47424, 47426, 47435, 47439, 47568, 47569, 47570, 47575, 47582, 47585, 47592, 47598, 47612, 47616, 47617, 47619, 47621, 47623, 47624, 47626, 47627, 47632, 47637, 47648, 47651, 47652, 47654, 47655, 47661, 47694, 47718, 47783, 47787, 47809, 47814, 47816, 47820, 47841, 47918, 47931, 47933, 47936, 48559, 49173, 49267, 49346, 49405, 49725, 49800, 50089, 50570, 50828, 50857, 51043, 51280, 51424, 51439, 51442, 51449, 51454, 51457, 51459, 51461, 51481, 51634, 52011, 52013, 52077, 52117, 52164, 52168, 52180, 52181, 52185, 52187, 52193, 52237, 52376, 52377, 52395, 52399, 52401, 52409, 52414, 52451, 52457, 52462, 52465, 53008, 53015, 54167, 54171, 54250, 54311, 54450, 54516, 54522, 54630, 54634, 54662, 54712, 54722, 54737, 54739, 54740, 54795, 54801, 54805, 54806, 54870, 54907, 54915, 54919, 55138, 55372, 55756] not in index'"
     ]
    }
   ],
   "source": [
    "# Apply one-hot encoding to 'business_unit'\n",
    "from sklearn.model_selection import KFold\n",
    "# Initialize KFold\n",
    "kf = KFold(n_splits=5, shuffle=True, random_state=42)\n",
    "\n",
    "# Create a new column for the target-encoded 'business_area'\n",
    "df['business_unit_te'] = np.nan\n",
    "\n",
    "for train_idx, val_idx in kf.split(df):\n",
    "    # Split the data into training and validation sets\n",
    "    X_train, X_val = df.iloc[train_idx], df.iloc[val_idx]\n",
    "    \n",
    "    # Compute the target mean for each category in 'business_area' on the training data\n",
    "    means = X_train.groupby('business_unit')['is_converted'].mean()\n",
    "    \n",
    "    # Map the computed means to the validation set\n",
    "    df.loc[val_idx, 'business_unit_te'] = X_val['business_unit'].map(means)\n",
    "\n",
    "# Fill missing values for any 'business_area' not seen in the training folds with the global mean\n",
    "global_mean = df['is_converted'].mean()\n",
    "df['business_unit_te'].fillna(global_mean, inplace=True)\n",
    "\n",
    "# Verify the changes\n",
    "print(df[['business_unit', 'business_unit_te']].head())"
   ]
  },
  {
   "cell_type": "code",
   "execution_count": 485,
   "id": "aec5d82d",
   "metadata": {},
   "outputs": [
    {
     "name": "stdout",
     "output_type": "stream",
     "text": [
      "Index 322 is not present in the DataFrame.\n",
      "Index 344 is not present in the DataFrame.\n",
      "Index 1253 is not present in the DataFrame.\n",
      "Index 55756 is not present in the DataFrame.\n"
     ]
    }
   ],
   "source": [
    "# Example indices from your error message\n",
    "indices_to_check = [322, 344, 1253, 55756]  # Add more as needed\n",
    "\n",
    "# Check each index and access value if present\n",
    "for idx in indices_to_check:\n",
    "    if idx in df.index:\n",
    "        # Accessing a specific column for these indices, assuming 'business_unit' as an example\n",
    "        value = df.loc[idx, 'business_unit'] if 'business_unit' in df.columns else 'Column Not Found'\n",
    "        print(f\"Index {idx}: value = {value}\")\n",
    "    else:\n",
    "        print(f\"Index {idx} is not present in the DataFrame.\")\n"
   ]
  },
  {
   "cell_type": "code",
   "execution_count": 486,
   "id": "9e24b0c7",
   "metadata": {},
   "outputs": [
    {
     "data": {
      "text/html": [
       "<div>\n",
       "<style scoped>\n",
       "    .dataframe tbody tr th:only-of-type {\n",
       "        vertical-align: middle;\n",
       "    }\n",
       "\n",
       "    .dataframe tbody tr th {\n",
       "        vertical-align: top;\n",
       "    }\n",
       "\n",
       "    .dataframe thead th {\n",
       "        text-align: right;\n",
       "    }\n",
       "</style>\n",
       "<table border=\"1\" class=\"dataframe\">\n",
       "  <thead>\n",
       "    <tr style=\"text-align: right;\">\n",
       "      <th></th>\n",
       "      <th>bant_submit</th>\n",
       "      <th>customer_country</th>\n",
       "      <th>business_unit</th>\n",
       "      <th>com_reg_ver_win_rate</th>\n",
       "      <th>customer_idx</th>\n",
       "      <th>customer_type</th>\n",
       "      <th>enterprise</th>\n",
       "      <th>historical_existing_cnt</th>\n",
       "      <th>id_strategic_ver</th>\n",
       "      <th>it_strategic_ver</th>\n",
       "      <th>...</th>\n",
       "      <th>ver_cus</th>\n",
       "      <th>ver_pro</th>\n",
       "      <th>ver_win_rate_x</th>\n",
       "      <th>ver_win_ratio_per_bu</th>\n",
       "      <th>business_area</th>\n",
       "      <th>business_subarea</th>\n",
       "      <th>lead_owner</th>\n",
       "      <th>is_converted</th>\n",
       "      <th>customer_country_te</th>\n",
       "      <th>business_unit_te</th>\n",
       "    </tr>\n",
       "  </thead>\n",
       "  <tbody>\n",
       "    <tr>\n",
       "      <th>0</th>\n",
       "      <td>1.0</td>\n",
       "      <td>Philippines</td>\n",
       "      <td>AS</td>\n",
       "      <td>0.066667</td>\n",
       "      <td>32160</td>\n",
       "      <td>End-Customer</td>\n",
       "      <td>Enterprise</td>\n",
       "      <td>0.0</td>\n",
       "      <td>0.0</td>\n",
       "      <td>0.0</td>\n",
       "      <td>...</td>\n",
       "      <td>1</td>\n",
       "      <td>0</td>\n",
       "      <td>0.003079</td>\n",
       "      <td>0.026846</td>\n",
       "      <td>corporate / office</td>\n",
       "      <td>Engineering</td>\n",
       "      <td>0</td>\n",
       "      <td>1</td>\n",
       "      <td>NaN</td>\n",
       "      <td>NaN</td>\n",
       "    </tr>\n",
       "    <tr>\n",
       "      <th>1</th>\n",
       "      <td>1.0</td>\n",
       "      <td>Philippines</td>\n",
       "      <td>AS</td>\n",
       "      <td>0.066667</td>\n",
       "      <td>23122</td>\n",
       "      <td>End-Customer</td>\n",
       "      <td>Enterprise</td>\n",
       "      <td>12.0</td>\n",
       "      <td>0.0</td>\n",
       "      <td>0.0</td>\n",
       "      <td>...</td>\n",
       "      <td>1</td>\n",
       "      <td>0</td>\n",
       "      <td>0.003079</td>\n",
       "      <td>0.026846</td>\n",
       "      <td>corporate / office</td>\n",
       "      <td>Advertising</td>\n",
       "      <td>1</td>\n",
       "      <td>1</td>\n",
       "      <td>NaN</td>\n",
       "      <td>NaN</td>\n",
       "    </tr>\n",
       "    <tr>\n",
       "      <th>2</th>\n",
       "      <td>1.0</td>\n",
       "      <td>India</td>\n",
       "      <td>AS</td>\n",
       "      <td>0.088889</td>\n",
       "      <td>1755</td>\n",
       "      <td>End-Customer</td>\n",
       "      <td>Enterprise</td>\n",
       "      <td>144.0</td>\n",
       "      <td>0.0</td>\n",
       "      <td>0.0</td>\n",
       "      <td>...</td>\n",
       "      <td>1</td>\n",
       "      <td>0</td>\n",
       "      <td>0.003079</td>\n",
       "      <td>0.026846</td>\n",
       "      <td>corporate / office</td>\n",
       "      <td>Construction</td>\n",
       "      <td>2</td>\n",
       "      <td>1</td>\n",
       "      <td>NaN</td>\n",
       "      <td>NaN</td>\n",
       "    </tr>\n",
       "    <tr>\n",
       "      <th>3</th>\n",
       "      <td>1.0</td>\n",
       "      <td>India</td>\n",
       "      <td>AS</td>\n",
       "      <td>0.088889</td>\n",
       "      <td>4919</td>\n",
       "      <td>End-Customer</td>\n",
       "      <td>Enterprise</td>\n",
       "      <td>0.0</td>\n",
       "      <td>0.0</td>\n",
       "      <td>0.0</td>\n",
       "      <td>...</td>\n",
       "      <td>1</td>\n",
       "      <td>0</td>\n",
       "      <td>0.003079</td>\n",
       "      <td>0.026846</td>\n",
       "      <td>corporate / office</td>\n",
       "      <td>IT/Software</td>\n",
       "      <td>3</td>\n",
       "      <td>1</td>\n",
       "      <td>NaN</td>\n",
       "      <td>NaN</td>\n",
       "    </tr>\n",
       "    <tr>\n",
       "      <th>4</th>\n",
       "      <td>1.0</td>\n",
       "      <td>India</td>\n",
       "      <td>AS</td>\n",
       "      <td>0.088889</td>\n",
       "      <td>17126</td>\n",
       "      <td>Specifier/ Influencer</td>\n",
       "      <td>Enterprise</td>\n",
       "      <td>0.0</td>\n",
       "      <td>0.0</td>\n",
       "      <td>0.0</td>\n",
       "      <td>...</td>\n",
       "      <td>0</td>\n",
       "      <td>0</td>\n",
       "      <td>0.003079</td>\n",
       "      <td>0.026846</td>\n",
       "      <td>corporate / office</td>\n",
       "      <td>NA</td>\n",
       "      <td>4</td>\n",
       "      <td>1</td>\n",
       "      <td>NaN</td>\n",
       "      <td>NaN</td>\n",
       "    </tr>\n",
       "  </tbody>\n",
       "</table>\n",
       "<p>5 rows × 31 columns</p>\n",
       "</div>"
      ],
      "text/plain": [
       "   bant_submit customer_country business_unit  com_reg_ver_win_rate  \\\n",
       "0          1.0      Philippines            AS              0.066667   \n",
       "1          1.0      Philippines            AS              0.066667   \n",
       "2          1.0            India            AS              0.088889   \n",
       "3          1.0            India            AS              0.088889   \n",
       "4          1.0            India            AS              0.088889   \n",
       "\n",
       "   customer_idx          customer_type  enterprise  historical_existing_cnt  \\\n",
       "0         32160           End-Customer  Enterprise                      0.0   \n",
       "1         23122           End-Customer  Enterprise                     12.0   \n",
       "2          1755           End-Customer  Enterprise                    144.0   \n",
       "3          4919           End-Customer  Enterprise                      0.0   \n",
       "4         17126  Specifier/ Influencer  Enterprise                      0.0   \n",
       "\n",
       "   id_strategic_ver  it_strategic_ver  ...  ver_cus ver_pro  ver_win_rate_x  \\\n",
       "0               0.0               0.0  ...        1       0        0.003079   \n",
       "1               0.0               0.0  ...        1       0        0.003079   \n",
       "2               0.0               0.0  ...        1       0        0.003079   \n",
       "3               0.0               0.0  ...        1       0        0.003079   \n",
       "4               0.0               0.0  ...        0       0        0.003079   \n",
       "\n",
       "  ver_win_ratio_per_bu       business_area business_subarea lead_owner  \\\n",
       "0             0.026846  corporate / office      Engineering          0   \n",
       "1             0.026846  corporate / office      Advertising          1   \n",
       "2             0.026846  corporate / office     Construction          2   \n",
       "3             0.026846  corporate / office      IT/Software          3   \n",
       "4             0.026846  corporate / office               NA          4   \n",
       "\n",
       "  is_converted customer_country_te business_unit_te  \n",
       "0            1                 NaN              NaN  \n",
       "1            1                 NaN              NaN  \n",
       "2            1                 NaN              NaN  \n",
       "3            1                 NaN              NaN  \n",
       "4            1                 NaN              NaN  \n",
       "\n",
       "[5 rows x 31 columns]"
      ]
     },
     "execution_count": 486,
     "metadata": {},
     "output_type": "execute_result"
    }
   ],
   "source": [
    "df.head()"
   ]
  },
  {
   "cell_type": "code",
   "execution_count": 487,
   "id": "7e82e288",
   "metadata": {},
   "outputs": [],
   "source": [
    "df.to_csv('current_train.csv', index=False)"
   ]
  },
  {
   "cell_type": "markdown",
   "id": "ba8a2b70",
   "metadata": {},
   "source": [
    "### customer_country"
   ]
  },
  {
   "cell_type": "code",
   "execution_count": 480,
   "id": "3432d19f",
   "metadata": {},
   "outputs": [
    {
     "name": "stdout",
     "output_type": "stream",
     "text": [
      "287\n"
     ]
    }
   ],
   "source": [
    "print(len(df['customer_country'].unique()))"
   ]
  },
  {
   "cell_type": "code",
   "execution_count": 481,
   "id": "efb465e6",
   "metadata": {},
   "outputs": [
    {
     "ename": "KeyError",
     "evalue": "'[1341, 1401, 1437, 2589, 3012, 5690, 6382, 7567, 8347, 9260, 10568, 11083, 11089, 11094, 11115, 11136, 11139, 11150, 11151, 11168, 11180, 11183, 11193, 11228, 11231, 11242, 11951, 12057, 12379, 12496, 12553, 12641, 12721, 13013, 13043, 13124, 13147, 13179, 13234, 13270, 13297, 13733, 14483, 14566, 14607, 14758, 15241, 15623, 15638, 15714, 16886, 17038, 18229, 18643, 18649, 18807, 18890, 18892, 19095, 19217, 19275, 19313, 19319, 19764, 19860, 20083, 20367, 20443, 20445, 20453, 20793, 20918, 20923, 21053, 21172, 21186, 21204, 21254, 21326, 21490, 21491, 21502, 21515, 21526, 21536, 21547, 21556, 21560, 21568, 21581, 21595, 21615, 22221, 22267, 22365, 23476, 23489, 23519, 23531, 23576, 23603, 23855, 24016, 24036, 24122, 24133, 24135, 24646, 25648, 26334, 26353, 26460, 26649, 26854, 27354, 27382, 29299, 30125, 31109, 31143, 31399, 31433, 31434, 32578, 32765, 33711, 34073, 34853, 35137, 35390, 35415, 35460, 35467, 36070, 36717, 36921, 37720, 37921, 37957, 38846, 38905, 38966, 39028, 39111, 39116, 39167, 39174, 39180, 39193, 39194, 39195, 39279, 39283, 39321, 39397, 39413, 39443, 39477, 39514, 39527, 39658, 39720, 39799, 40057, 40063, 40072, 40169, 40270, 40274, 41655, 41682, 41694, 41696, 41715, 41738, 41753, 41757, 41762, 41764, 41770, 41771, 42105, 42721, 42737, 42793, 42797, 42845, 43007, 43017, 43025, 43027, 43029, 43033, 43036, 43045, 43049, 43051, 43131, 43135, 43140, 43143, 43153, 43160, 43167, 43184, 43193, 43210, 43213, 43499, 43645, 43660, 43676, 43689, 43715, 43728, 43730, 43739, 43740, 43757, 43779, 43781, 43823, 43837, 43846, 43855, 43869, 43884, 43892, 43893, 43934, 44251, 44252, 44651, 44659, 44685, 44687, 44817, 44842, 44962, 44990, 45149, 45223, 45269, 45307, 45355, 45434, 45545, 45572, 45656, 45754, 45808, 45824, 45925, 45946, 45965, 46014, 46061, 46094, 46301, 46306, 46352, 46355, 46517, 46585, 46593, 46756, 46758, 46801, 46802, 46812, 46825, 47195, 47241, 47286, 47289, 47309, 47312, 47392, 47399, 47405, 47408, 47549, 47559, 47583, 47590, 47591, 47600, 47603, 47617, 47620, 47625, 47633, 47634, 47637, 47644, 47789, 47809, 47820, 47912, 47933, 47987, 47988, 48434, 48572, 49801, 49871, 50681, 51188, 51487, 52016, 52117, 52270, 52320, 52335, 52373, 52380, 53015, 54015, 54473, 54580, 54630, 54682, 54712, 54907, 54929, 54932, 54933] not in index'",
     "output_type": "error",
     "traceback": [
      "\u001b[1;31m---------------------------------------------------------------------------\u001b[0m",
      "\u001b[1;31mKeyError\u001b[0m                                  Traceback (most recent call last)",
      "Cell \u001b[1;32mIn[481], line 21\u001b[0m\n\u001b[0;32m     18\u001b[0m     means \u001b[38;5;241m=\u001b[39m X_train\u001b[38;5;241m.\u001b[39mgroupby(\u001b[38;5;124m'\u001b[39m\u001b[38;5;124mcustomer_country\u001b[39m\u001b[38;5;124m'\u001b[39m)[\u001b[38;5;124m'\u001b[39m\u001b[38;5;124mis_converted\u001b[39m\u001b[38;5;124m'\u001b[39m]\u001b[38;5;241m.\u001b[39mmean()\n\u001b[0;32m     20\u001b[0m     \u001b[38;5;66;03m# Use a safer mapping approach to avoid KeyError\u001b[39;00m\n\u001b[1;32m---> 21\u001b[0m     \u001b[43mdf\u001b[49m\u001b[38;5;241;43m.\u001b[39;49m\u001b[43mloc\u001b[49m\u001b[43m[\u001b[49m\u001b[43mtest_index\u001b[49m\u001b[43m,\u001b[49m\u001b[43m \u001b[49m\u001b[38;5;124;43m'\u001b[39;49m\u001b[38;5;124;43mcustomer_country_te\u001b[39;49m\u001b[38;5;124;43m'\u001b[39;49m\u001b[43m]\u001b[49m \u001b[38;5;241m=\u001b[39m X_test[\u001b[38;5;124m'\u001b[39m\u001b[38;5;124mcustomer_country\u001b[39m\u001b[38;5;124m'\u001b[39m]\u001b[38;5;241m.\u001b[39mapply(\u001b[38;5;28;01mlambda\u001b[39;00m x: means\u001b[38;5;241m.\u001b[39mget(x, np\u001b[38;5;241m.\u001b[39mnan))\n\u001b[0;32m     23\u001b[0m \u001b[38;5;66;03m# Then, handle any remaining NaN values in 'customer_country_te'\u001b[39;00m\n\u001b[0;32m     24\u001b[0m global_mean \u001b[38;5;241m=\u001b[39m df[\u001b[38;5;124m'\u001b[39m\u001b[38;5;124mis_converted\u001b[39m\u001b[38;5;124m'\u001b[39m]\u001b[38;5;241m.\u001b[39mmean()\n",
      "File \u001b[1;32mc:\\Users\\Jungha Cho\\AppData\\Local\\Programs\\Python\\Python311\\Lib\\site-packages\\pandas\\core\\indexing.py:845\u001b[0m, in \u001b[0;36m_LocationIndexer.__setitem__\u001b[1;34m(self, key, value)\u001b[0m\n\u001b[0;32m    843\u001b[0m \u001b[38;5;28;01melse\u001b[39;00m:\n\u001b[0;32m    844\u001b[0m     key \u001b[38;5;241m=\u001b[39m com\u001b[38;5;241m.\u001b[39mapply_if_callable(key, \u001b[38;5;28mself\u001b[39m\u001b[38;5;241m.\u001b[39mobj)\n\u001b[1;32m--> 845\u001b[0m indexer \u001b[38;5;241m=\u001b[39m \u001b[38;5;28;43mself\u001b[39;49m\u001b[38;5;241;43m.\u001b[39;49m\u001b[43m_get_setitem_indexer\u001b[49m\u001b[43m(\u001b[49m\u001b[43mkey\u001b[49m\u001b[43m)\u001b[49m\n\u001b[0;32m    846\u001b[0m \u001b[38;5;28mself\u001b[39m\u001b[38;5;241m.\u001b[39m_has_valid_setitem_indexer(key)\n\u001b[0;32m    848\u001b[0m iloc \u001b[38;5;241m=\u001b[39m \u001b[38;5;28mself\u001b[39m \u001b[38;5;28;01mif\u001b[39;00m \u001b[38;5;28mself\u001b[39m\u001b[38;5;241m.\u001b[39mname \u001b[38;5;241m==\u001b[39m \u001b[38;5;124m\"\u001b[39m\u001b[38;5;124miloc\u001b[39m\u001b[38;5;124m\"\u001b[39m \u001b[38;5;28;01melse\u001b[39;00m \u001b[38;5;28mself\u001b[39m\u001b[38;5;241m.\u001b[39mobj\u001b[38;5;241m.\u001b[39miloc\n",
      "File \u001b[1;32mc:\\Users\\Jungha Cho\\AppData\\Local\\Programs\\Python\\Python311\\Lib\\site-packages\\pandas\\core\\indexing.py:710\u001b[0m, in \u001b[0;36m_LocationIndexer._get_setitem_indexer\u001b[1;34m(self, key)\u001b[0m\n\u001b[0;32m    707\u001b[0m \u001b[38;5;28;01mif\u001b[39;00m \u001b[38;5;28misinstance\u001b[39m(key, \u001b[38;5;28mtuple\u001b[39m):\n\u001b[0;32m    708\u001b[0m     \u001b[38;5;28;01mwith\u001b[39;00m suppress(IndexingError):\n\u001b[0;32m    709\u001b[0m         \u001b[38;5;66;03m# suppress \"Too many indexers\"\u001b[39;00m\n\u001b[1;32m--> 710\u001b[0m         \u001b[38;5;28;01mreturn\u001b[39;00m \u001b[38;5;28;43mself\u001b[39;49m\u001b[38;5;241;43m.\u001b[39;49m\u001b[43m_convert_tuple\u001b[49m\u001b[43m(\u001b[49m\u001b[43mkey\u001b[49m\u001b[43m)\u001b[49m\n\u001b[0;32m    712\u001b[0m \u001b[38;5;28;01mif\u001b[39;00m \u001b[38;5;28misinstance\u001b[39m(key, \u001b[38;5;28mrange\u001b[39m):\n\u001b[0;32m    713\u001b[0m     \u001b[38;5;66;03m# GH#45479 test_loc_setitem_range_key\u001b[39;00m\n\u001b[0;32m    714\u001b[0m     key \u001b[38;5;241m=\u001b[39m \u001b[38;5;28mlist\u001b[39m(key)\n",
      "File \u001b[1;32mc:\\Users\\Jungha Cho\\AppData\\Local\\Programs\\Python\\Python311\\Lib\\site-packages\\pandas\\core\\indexing.py:927\u001b[0m, in \u001b[0;36m_LocationIndexer._convert_tuple\u001b[1;34m(self, key)\u001b[0m\n\u001b[0;32m    923\u001b[0m \u001b[38;5;129m@final\u001b[39m\n\u001b[0;32m    924\u001b[0m \u001b[38;5;28;01mdef\u001b[39;00m \u001b[38;5;21m_convert_tuple\u001b[39m(\u001b[38;5;28mself\u001b[39m, key: \u001b[38;5;28mtuple\u001b[39m) \u001b[38;5;241m-\u001b[39m\u001b[38;5;241m>\u001b[39m \u001b[38;5;28mtuple\u001b[39m:\n\u001b[0;32m    925\u001b[0m     \u001b[38;5;66;03m# Note: we assume _tupleize_axis_indexer has been called, if necessary.\u001b[39;00m\n\u001b[0;32m    926\u001b[0m     \u001b[38;5;28mself\u001b[39m\u001b[38;5;241m.\u001b[39m_validate_key_length(key)\n\u001b[1;32m--> 927\u001b[0m     keyidx \u001b[38;5;241m=\u001b[39m \u001b[43m[\u001b[49m\u001b[38;5;28;43mself\u001b[39;49m\u001b[38;5;241;43m.\u001b[39;49m\u001b[43m_convert_to_indexer\u001b[49m\u001b[43m(\u001b[49m\u001b[43mk\u001b[49m\u001b[43m,\u001b[49m\u001b[43m \u001b[49m\u001b[43maxis\u001b[49m\u001b[38;5;241;43m=\u001b[39;49m\u001b[43mi\u001b[49m\u001b[43m)\u001b[49m\u001b[43m \u001b[49m\u001b[38;5;28;43;01mfor\u001b[39;49;00m\u001b[43m \u001b[49m\u001b[43mi\u001b[49m\u001b[43m,\u001b[49m\u001b[43m \u001b[49m\u001b[43mk\u001b[49m\u001b[43m \u001b[49m\u001b[38;5;129;43;01min\u001b[39;49;00m\u001b[43m \u001b[49m\u001b[38;5;28;43menumerate\u001b[39;49m\u001b[43m(\u001b[49m\u001b[43mkey\u001b[49m\u001b[43m)\u001b[49m\u001b[43m]\u001b[49m\n\u001b[0;32m    928\u001b[0m     \u001b[38;5;28;01mreturn\u001b[39;00m \u001b[38;5;28mtuple\u001b[39m(keyidx)\n",
      "File \u001b[1;32mc:\\Users\\Jungha Cho\\AppData\\Local\\Programs\\Python\\Python311\\Lib\\site-packages\\pandas\\core\\indexing.py:927\u001b[0m, in \u001b[0;36m<listcomp>\u001b[1;34m(.0)\u001b[0m\n\u001b[0;32m    923\u001b[0m \u001b[38;5;129m@final\u001b[39m\n\u001b[0;32m    924\u001b[0m \u001b[38;5;28;01mdef\u001b[39;00m \u001b[38;5;21m_convert_tuple\u001b[39m(\u001b[38;5;28mself\u001b[39m, key: \u001b[38;5;28mtuple\u001b[39m) \u001b[38;5;241m-\u001b[39m\u001b[38;5;241m>\u001b[39m \u001b[38;5;28mtuple\u001b[39m:\n\u001b[0;32m    925\u001b[0m     \u001b[38;5;66;03m# Note: we assume _tupleize_axis_indexer has been called, if necessary.\u001b[39;00m\n\u001b[0;32m    926\u001b[0m     \u001b[38;5;28mself\u001b[39m\u001b[38;5;241m.\u001b[39m_validate_key_length(key)\n\u001b[1;32m--> 927\u001b[0m     keyidx \u001b[38;5;241m=\u001b[39m [\u001b[38;5;28;43mself\u001b[39;49m\u001b[38;5;241;43m.\u001b[39;49m\u001b[43m_convert_to_indexer\u001b[49m\u001b[43m(\u001b[49m\u001b[43mk\u001b[49m\u001b[43m,\u001b[49m\u001b[43m \u001b[49m\u001b[43maxis\u001b[49m\u001b[38;5;241;43m=\u001b[39;49m\u001b[43mi\u001b[49m\u001b[43m)\u001b[49m \u001b[38;5;28;01mfor\u001b[39;00m i, k \u001b[38;5;129;01min\u001b[39;00m \u001b[38;5;28menumerate\u001b[39m(key)]\n\u001b[0;32m    928\u001b[0m     \u001b[38;5;28;01mreturn\u001b[39;00m \u001b[38;5;28mtuple\u001b[39m(keyidx)\n",
      "File \u001b[1;32mc:\\Users\\Jungha Cho\\AppData\\Local\\Programs\\Python\\Python311\\Lib\\site-packages\\pandas\\core\\indexing.py:1426\u001b[0m, in \u001b[0;36m_LocIndexer._convert_to_indexer\u001b[1;34m(self, key, axis)\u001b[0m\n\u001b[0;32m   1424\u001b[0m         \u001b[38;5;28;01mreturn\u001b[39;00m key\n\u001b[0;32m   1425\u001b[0m     \u001b[38;5;28;01melse\u001b[39;00m:\n\u001b[1;32m-> 1426\u001b[0m         \u001b[38;5;28;01mreturn\u001b[39;00m \u001b[38;5;28;43mself\u001b[39;49m\u001b[38;5;241;43m.\u001b[39;49m\u001b[43m_get_listlike_indexer\u001b[49m\u001b[43m(\u001b[49m\u001b[43mkey\u001b[49m\u001b[43m,\u001b[49m\u001b[43m \u001b[49m\u001b[43maxis\u001b[49m\u001b[43m)\u001b[49m[\u001b[38;5;241m1\u001b[39m]\n\u001b[0;32m   1427\u001b[0m \u001b[38;5;28;01melse\u001b[39;00m:\n\u001b[0;32m   1428\u001b[0m     \u001b[38;5;28;01mtry\u001b[39;00m:\n",
      "File \u001b[1;32mc:\\Users\\Jungha Cho\\AppData\\Local\\Programs\\Python\\Python311\\Lib\\site-packages\\pandas\\core\\indexing.py:1462\u001b[0m, in \u001b[0;36m_LocIndexer._get_listlike_indexer\u001b[1;34m(self, key, axis)\u001b[0m\n\u001b[0;32m   1459\u001b[0m ax \u001b[38;5;241m=\u001b[39m \u001b[38;5;28mself\u001b[39m\u001b[38;5;241m.\u001b[39mobj\u001b[38;5;241m.\u001b[39m_get_axis(axis)\n\u001b[0;32m   1460\u001b[0m axis_name \u001b[38;5;241m=\u001b[39m \u001b[38;5;28mself\u001b[39m\u001b[38;5;241m.\u001b[39mobj\u001b[38;5;241m.\u001b[39m_get_axis_name(axis)\n\u001b[1;32m-> 1462\u001b[0m keyarr, indexer \u001b[38;5;241m=\u001b[39m \u001b[43max\u001b[49m\u001b[38;5;241;43m.\u001b[39;49m\u001b[43m_get_indexer_strict\u001b[49m\u001b[43m(\u001b[49m\u001b[43mkey\u001b[49m\u001b[43m,\u001b[49m\u001b[43m \u001b[49m\u001b[43maxis_name\u001b[49m\u001b[43m)\u001b[49m\n\u001b[0;32m   1464\u001b[0m \u001b[38;5;28;01mreturn\u001b[39;00m keyarr, indexer\n",
      "File \u001b[1;32mc:\\Users\\Jungha Cho\\AppData\\Local\\Programs\\Python\\Python311\\Lib\\site-packages\\pandas\\core\\indexes\\base.py:5877\u001b[0m, in \u001b[0;36mIndex._get_indexer_strict\u001b[1;34m(self, key, axis_name)\u001b[0m\n\u001b[0;32m   5874\u001b[0m \u001b[38;5;28;01melse\u001b[39;00m:\n\u001b[0;32m   5875\u001b[0m     keyarr, indexer, new_indexer \u001b[38;5;241m=\u001b[39m \u001b[38;5;28mself\u001b[39m\u001b[38;5;241m.\u001b[39m_reindex_non_unique(keyarr)\n\u001b[1;32m-> 5877\u001b[0m \u001b[38;5;28;43mself\u001b[39;49m\u001b[38;5;241;43m.\u001b[39;49m\u001b[43m_raise_if_missing\u001b[49m\u001b[43m(\u001b[49m\u001b[43mkeyarr\u001b[49m\u001b[43m,\u001b[49m\u001b[43m \u001b[49m\u001b[43mindexer\u001b[49m\u001b[43m,\u001b[49m\u001b[43m \u001b[49m\u001b[43maxis_name\u001b[49m\u001b[43m)\u001b[49m\n\u001b[0;32m   5879\u001b[0m keyarr \u001b[38;5;241m=\u001b[39m \u001b[38;5;28mself\u001b[39m\u001b[38;5;241m.\u001b[39mtake(indexer)\n\u001b[0;32m   5880\u001b[0m \u001b[38;5;28;01mif\u001b[39;00m \u001b[38;5;28misinstance\u001b[39m(key, Index):\n\u001b[0;32m   5881\u001b[0m     \u001b[38;5;66;03m# GH 42790 - Preserve name from an Index\u001b[39;00m\n",
      "File \u001b[1;32mc:\\Users\\Jungha Cho\\AppData\\Local\\Programs\\Python\\Python311\\Lib\\site-packages\\pandas\\core\\indexes\\base.py:5941\u001b[0m, in \u001b[0;36mIndex._raise_if_missing\u001b[1;34m(self, key, indexer, axis_name)\u001b[0m\n\u001b[0;32m   5938\u001b[0m     \u001b[38;5;28;01mraise\u001b[39;00m \u001b[38;5;167;01mKeyError\u001b[39;00m(\u001b[38;5;124mf\u001b[39m\u001b[38;5;124m\"\u001b[39m\u001b[38;5;124mNone of [\u001b[39m\u001b[38;5;132;01m{\u001b[39;00mkey\u001b[38;5;132;01m}\u001b[39;00m\u001b[38;5;124m] are in the [\u001b[39m\u001b[38;5;132;01m{\u001b[39;00maxis_name\u001b[38;5;132;01m}\u001b[39;00m\u001b[38;5;124m]\u001b[39m\u001b[38;5;124m\"\u001b[39m)\n\u001b[0;32m   5940\u001b[0m not_found \u001b[38;5;241m=\u001b[39m \u001b[38;5;28mlist\u001b[39m(ensure_index(key)[missing_mask\u001b[38;5;241m.\u001b[39mnonzero()[\u001b[38;5;241m0\u001b[39m]]\u001b[38;5;241m.\u001b[39munique())\n\u001b[1;32m-> 5941\u001b[0m \u001b[38;5;28;01mraise\u001b[39;00m \u001b[38;5;167;01mKeyError\u001b[39;00m(\u001b[38;5;124mf\u001b[39m\u001b[38;5;124m\"\u001b[39m\u001b[38;5;132;01m{\u001b[39;00mnot_found\u001b[38;5;132;01m}\u001b[39;00m\u001b[38;5;124m not in index\u001b[39m\u001b[38;5;124m\"\u001b[39m)\n",
      "\u001b[1;31mKeyError\u001b[0m: '[1341, 1401, 1437, 2589, 3012, 5690, 6382, 7567, 8347, 9260, 10568, 11083, 11089, 11094, 11115, 11136, 11139, 11150, 11151, 11168, 11180, 11183, 11193, 11228, 11231, 11242, 11951, 12057, 12379, 12496, 12553, 12641, 12721, 13013, 13043, 13124, 13147, 13179, 13234, 13270, 13297, 13733, 14483, 14566, 14607, 14758, 15241, 15623, 15638, 15714, 16886, 17038, 18229, 18643, 18649, 18807, 18890, 18892, 19095, 19217, 19275, 19313, 19319, 19764, 19860, 20083, 20367, 20443, 20445, 20453, 20793, 20918, 20923, 21053, 21172, 21186, 21204, 21254, 21326, 21490, 21491, 21502, 21515, 21526, 21536, 21547, 21556, 21560, 21568, 21581, 21595, 21615, 22221, 22267, 22365, 23476, 23489, 23519, 23531, 23576, 23603, 23855, 24016, 24036, 24122, 24133, 24135, 24646, 25648, 26334, 26353, 26460, 26649, 26854, 27354, 27382, 29299, 30125, 31109, 31143, 31399, 31433, 31434, 32578, 32765, 33711, 34073, 34853, 35137, 35390, 35415, 35460, 35467, 36070, 36717, 36921, 37720, 37921, 37957, 38846, 38905, 38966, 39028, 39111, 39116, 39167, 39174, 39180, 39193, 39194, 39195, 39279, 39283, 39321, 39397, 39413, 39443, 39477, 39514, 39527, 39658, 39720, 39799, 40057, 40063, 40072, 40169, 40270, 40274, 41655, 41682, 41694, 41696, 41715, 41738, 41753, 41757, 41762, 41764, 41770, 41771, 42105, 42721, 42737, 42793, 42797, 42845, 43007, 43017, 43025, 43027, 43029, 43033, 43036, 43045, 43049, 43051, 43131, 43135, 43140, 43143, 43153, 43160, 43167, 43184, 43193, 43210, 43213, 43499, 43645, 43660, 43676, 43689, 43715, 43728, 43730, 43739, 43740, 43757, 43779, 43781, 43823, 43837, 43846, 43855, 43869, 43884, 43892, 43893, 43934, 44251, 44252, 44651, 44659, 44685, 44687, 44817, 44842, 44962, 44990, 45149, 45223, 45269, 45307, 45355, 45434, 45545, 45572, 45656, 45754, 45808, 45824, 45925, 45946, 45965, 46014, 46061, 46094, 46301, 46306, 46352, 46355, 46517, 46585, 46593, 46756, 46758, 46801, 46802, 46812, 46825, 47195, 47241, 47286, 47289, 47309, 47312, 47392, 47399, 47405, 47408, 47549, 47559, 47583, 47590, 47591, 47600, 47603, 47617, 47620, 47625, 47633, 47634, 47637, 47644, 47789, 47809, 47820, 47912, 47933, 47987, 47988, 48434, 48572, 49801, 49871, 50681, 51188, 51487, 52016, 52117, 52270, 52320, 52335, 52373, 52380, 53015, 54015, 54473, 54580, 54630, 54682, 54712, 54907, 54929, 54932, 54933] not in index'"
     ]
    }
   ],
   "source": [
    "# Convert 'is_converted' from 'TRUE'/'FALSE' to integers (1/0)\n",
    "df['is_converted'] = df['is_converted'].map({'TRUE': 1, 'FALSE': 0})\n",
    "\n",
    "# Prepare the StratifiedKFold object\n",
    "skf = StratifiedKFold(n_splits=10, shuffle=True, random_state=42)\n",
    "\n",
    "# Placeholder for the target encoded feature\n",
    "df['customer_country_te'] = np.nan\n",
    "\n",
    "\n",
    "\n",
    "# Assuming the rest of your setup is correct, modify the mapping part like this:\n",
    "for train_index, test_index in skf.split(df, df['is_converted']):\n",
    "    # Your existing setup...\n",
    "    X_train, X_test = df.iloc[train_index], df.iloc[test_index]\n",
    "\n",
    "    # Compute target mean for each category in 'customer_country'\n",
    "    means = X_train.groupby('customer_country')['is_converted'].mean()\n",
    "    \n",
    "    # Use a safer mapping approach to avoid KeyError\n",
    "    df.loc[test_index, 'customer_country_te'] = X_test['customer_country'].apply(lambda x: means.get(x, np.nan))\n",
    "\n",
    "# Then, handle any remaining NaN values in 'customer_country_te'\n",
    "global_mean = df['is_converted'].mean()\n",
    "df['customer_country_te'].fillna(global_mean, inplace=True)\n",
    "\n",
    "# for train_index, test_index in skf.split(df, df['is_converted']):\n",
    "#     # Split the data\n",
    "#     X_train, X_test = df.iloc[train_index], df.iloc[test_index]\n",
    "\n",
    "#     assert 'customer_country' in X_test.columns, \"'customer_country' column is missing in X_test.\"\n",
    "#     assert test_index.max() < len(df), \"Some indices in test_index are out of bounds for df.\"\n",
    "\n",
    "#     # Compute target mean for each category in 'customer_country' excluding the current fold\n",
    "#     means = X_train.groupby('customer_country')['is_converted'].mean()\n",
    "    \n",
    "#     # Map the computed means to the test portion of the fold\n",
    "#     df.loc[test_index, 'customer_country_te'] = X_test['customer_country'].map(means)\n",
    "\n",
    "# # For any missing values in the target encoded feature (e.g., categories present only in test folds),\n",
    "# # fill with the global mean of 'is_converted'\n",
    "# global_mean = df['is_converted'].mean()\n",
    "# df['customer_country_te'].fillna(global_mean, inplace=True)\n",
    "\n",
    "# Show the first few rows to verify\n",
    "print(df[['customer_country', 'customer_country_te']].head())"
   ]
  },
  {
   "cell_type": "markdown",
   "id": "5d41e158",
   "metadata": {},
   "source": [
    "### customer_country.1"
   ]
  },
  {
   "cell_type": "code",
   "execution_count": null,
   "id": "8ea21dbc",
   "metadata": {},
   "outputs": [
    {
     "data": {
      "text/plain": [
       "425"
      ]
     },
     "execution_count": 135,
     "metadata": {},
     "output_type": "execute_result"
    }
   ],
   "source": [
    "len(df['customer_country.1'].unique())"
   ]
  },
  {
   "cell_type": "code",
   "execution_count": null,
   "id": "896932b1",
   "metadata": {},
   "outputs": [
    {
     "ename": "KeyError",
     "evalue": "'[1341, 1401, 1437, 2589, 3012, 5690, 6382, 7567, 8347, 9260, 10568, 11083, 11089, 11094, 11115, 11136, 11139, 11150, 11151, 11168, 11180, 11183, 11193, 11228, 11231, 11242, 11951, 12057, 12379, 12496, 12553, 12641, 12721, 13013, 13043, 13124, 13147, 13179, 13234, 13270, 13297, 13733, 14483, 14566, 14607, 14758, 15241, 15623, 15638, 15714, 16886, 17038, 18229, 18643, 18649, 18807, 18890, 18892, 19095, 19217, 19275, 19313, 19319, 19764, 19860, 20083, 20367, 20443, 20445, 20453, 20793, 20918, 20923, 21053, 21172, 21186, 21204, 21254, 21326, 21490, 21491, 21502, 21515, 21526, 21536, 21547, 21556, 21560, 21568, 21581, 21595, 21615, 22221, 22267, 22365, 23476, 23489, 23519, 23531, 23576, 23603, 23855, 24016, 24036, 24122, 24133, 24135, 24646, 25648, 26334, 26353, 26460, 26649, 26854, 27354, 27382, 29299, 30125, 31109, 31143, 31399, 31433, 31434, 32578, 32765, 33711, 34073, 34853, 35137, 35390, 35415, 35460, 35467, 36070, 36717, 36921, 37720, 37921, 37957, 38846, 38905, 38966, 39028, 39111, 39116, 39167, 39174, 39180, 39193, 39194, 39195, 39279, 39283, 39321, 39397, 39413, 39443, 39477, 39514, 39527, 39658, 39720, 39799, 40057, 40063, 40072, 40169, 40270, 40274, 41655, 41682, 41694, 41696, 41715, 41738, 41753, 41757, 41762, 41764, 41770, 41771, 42105, 42721, 42737, 42793, 42797, 42845, 43007, 43017, 43025, 43027, 43029, 43033, 43036, 43045, 43049, 43051, 43131, 43135, 43140, 43143, 43153, 43160, 43167, 43184, 43193, 43210, 43213, 43499, 43645, 43660, 43676, 43689, 43715, 43728, 43730, 43739, 43740, 43757, 43779, 43781, 43823, 43837, 43846, 43855, 43869, 43884, 43892, 43893, 43934, 44251, 44252, 44651, 44659, 44685, 44687, 44817, 44842, 44962, 44990, 45149, 45223, 45269, 45307, 45355, 45434, 45545, 45572, 45656, 45754, 45808, 45824, 45925, 45946, 45965, 46014, 46061, 46094, 46301, 46306, 46352, 46355, 46517, 46585, 46593, 46756, 46758, 46801, 46802, 46812, 46825, 47195, 47241, 47286, 47289, 47309, 47312, 47392, 47399, 47405, 47408, 47549, 47559, 47583, 47590, 47591, 47600, 47603, 47617, 47620, 47625, 47633, 47634, 47637, 47644, 47789, 47809, 47820, 47912, 47933, 47987, 47988, 48434, 48572, 49801, 49871, 50681, 51188, 51487, 52016, 52117, 52270, 52320, 52335, 52373, 52380, 53015, 54015, 54473, 54580, 54630, 54682, 54712, 54907, 54929, 54932, 54933] not in index'",
     "output_type": "error",
     "traceback": [
      "\u001b[1;31m---------------------------------------------------------------------------\u001b[0m",
      "\u001b[1;31mKeyError\u001b[0m                                  Traceback (most recent call last)",
      "Cell \u001b[1;32mIn[137], line 18\u001b[0m\n\u001b[0;32m     15\u001b[0m     means \u001b[38;5;241m=\u001b[39m X_train\u001b[38;5;241m.\u001b[39mgroupby(\u001b[38;5;124m'\u001b[39m\u001b[38;5;124mcustomer_country.1\u001b[39m\u001b[38;5;124m'\u001b[39m)[\u001b[38;5;124m'\u001b[39m\u001b[38;5;124mis_converted\u001b[39m\u001b[38;5;124m'\u001b[39m]\u001b[38;5;241m.\u001b[39mmean()\n\u001b[0;32m     17\u001b[0m     \u001b[38;5;66;03m# Map the computed means to the test portion of the fold\u001b[39;00m\n\u001b[1;32m---> 18\u001b[0m     \u001b[43mdf\u001b[49m\u001b[38;5;241;43m.\u001b[39;49m\u001b[43mloc\u001b[49m\u001b[43m[\u001b[49m\u001b[43mtest_index\u001b[49m\u001b[43m,\u001b[49m\u001b[43m \u001b[49m\u001b[38;5;124;43m'\u001b[39;49m\u001b[38;5;124;43mcustomer_country.1_te\u001b[39;49m\u001b[38;5;124;43m'\u001b[39;49m\u001b[43m]\u001b[49m \u001b[38;5;241m=\u001b[39m X_test[\u001b[38;5;124m'\u001b[39m\u001b[38;5;124mcustomer_country.1\u001b[39m\u001b[38;5;124m'\u001b[39m]\u001b[38;5;241m.\u001b[39mmap(means)\n\u001b[0;32m     20\u001b[0m \u001b[38;5;66;03m# For any missing values in the target encoded feature (e.g., categories present only in test folds),\u001b[39;00m\n\u001b[0;32m     21\u001b[0m \u001b[38;5;66;03m# fill with the global mean of 'is_converted'\u001b[39;00m\n\u001b[0;32m     22\u001b[0m global_mean \u001b[38;5;241m=\u001b[39m df[\u001b[38;5;124m'\u001b[39m\u001b[38;5;124mis_converted\u001b[39m\u001b[38;5;124m'\u001b[39m]\u001b[38;5;241m.\u001b[39mmean()\n",
      "File \u001b[1;32mc:\\Users\\Jungha Cho\\AppData\\Local\\Programs\\Python\\Python311\\Lib\\site-packages\\pandas\\core\\indexing.py:845\u001b[0m, in \u001b[0;36m_LocationIndexer.__setitem__\u001b[1;34m(self, key, value)\u001b[0m\n\u001b[0;32m    843\u001b[0m \u001b[38;5;28;01melse\u001b[39;00m:\n\u001b[0;32m    844\u001b[0m     key \u001b[38;5;241m=\u001b[39m com\u001b[38;5;241m.\u001b[39mapply_if_callable(key, \u001b[38;5;28mself\u001b[39m\u001b[38;5;241m.\u001b[39mobj)\n\u001b[1;32m--> 845\u001b[0m indexer \u001b[38;5;241m=\u001b[39m \u001b[38;5;28;43mself\u001b[39;49m\u001b[38;5;241;43m.\u001b[39;49m\u001b[43m_get_setitem_indexer\u001b[49m\u001b[43m(\u001b[49m\u001b[43mkey\u001b[49m\u001b[43m)\u001b[49m\n\u001b[0;32m    846\u001b[0m \u001b[38;5;28mself\u001b[39m\u001b[38;5;241m.\u001b[39m_has_valid_setitem_indexer(key)\n\u001b[0;32m    848\u001b[0m iloc \u001b[38;5;241m=\u001b[39m \u001b[38;5;28mself\u001b[39m \u001b[38;5;28;01mif\u001b[39;00m \u001b[38;5;28mself\u001b[39m\u001b[38;5;241m.\u001b[39mname \u001b[38;5;241m==\u001b[39m \u001b[38;5;124m\"\u001b[39m\u001b[38;5;124miloc\u001b[39m\u001b[38;5;124m\"\u001b[39m \u001b[38;5;28;01melse\u001b[39;00m \u001b[38;5;28mself\u001b[39m\u001b[38;5;241m.\u001b[39mobj\u001b[38;5;241m.\u001b[39miloc\n",
      "File \u001b[1;32mc:\\Users\\Jungha Cho\\AppData\\Local\\Programs\\Python\\Python311\\Lib\\site-packages\\pandas\\core\\indexing.py:710\u001b[0m, in \u001b[0;36m_LocationIndexer._get_setitem_indexer\u001b[1;34m(self, key)\u001b[0m\n\u001b[0;32m    707\u001b[0m \u001b[38;5;28;01mif\u001b[39;00m \u001b[38;5;28misinstance\u001b[39m(key, \u001b[38;5;28mtuple\u001b[39m):\n\u001b[0;32m    708\u001b[0m     \u001b[38;5;28;01mwith\u001b[39;00m suppress(IndexingError):\n\u001b[0;32m    709\u001b[0m         \u001b[38;5;66;03m# suppress \"Too many indexers\"\u001b[39;00m\n\u001b[1;32m--> 710\u001b[0m         \u001b[38;5;28;01mreturn\u001b[39;00m \u001b[38;5;28;43mself\u001b[39;49m\u001b[38;5;241;43m.\u001b[39;49m\u001b[43m_convert_tuple\u001b[49m\u001b[43m(\u001b[49m\u001b[43mkey\u001b[49m\u001b[43m)\u001b[49m\n\u001b[0;32m    712\u001b[0m \u001b[38;5;28;01mif\u001b[39;00m \u001b[38;5;28misinstance\u001b[39m(key, \u001b[38;5;28mrange\u001b[39m):\n\u001b[0;32m    713\u001b[0m     \u001b[38;5;66;03m# GH#45479 test_loc_setitem_range_key\u001b[39;00m\n\u001b[0;32m    714\u001b[0m     key \u001b[38;5;241m=\u001b[39m \u001b[38;5;28mlist\u001b[39m(key)\n",
      "File \u001b[1;32mc:\\Users\\Jungha Cho\\AppData\\Local\\Programs\\Python\\Python311\\Lib\\site-packages\\pandas\\core\\indexing.py:927\u001b[0m, in \u001b[0;36m_LocationIndexer._convert_tuple\u001b[1;34m(self, key)\u001b[0m\n\u001b[0;32m    923\u001b[0m \u001b[38;5;129m@final\u001b[39m\n\u001b[0;32m    924\u001b[0m \u001b[38;5;28;01mdef\u001b[39;00m \u001b[38;5;21m_convert_tuple\u001b[39m(\u001b[38;5;28mself\u001b[39m, key: \u001b[38;5;28mtuple\u001b[39m) \u001b[38;5;241m-\u001b[39m\u001b[38;5;241m>\u001b[39m \u001b[38;5;28mtuple\u001b[39m:\n\u001b[0;32m    925\u001b[0m     \u001b[38;5;66;03m# Note: we assume _tupleize_axis_indexer has been called, if necessary.\u001b[39;00m\n\u001b[0;32m    926\u001b[0m     \u001b[38;5;28mself\u001b[39m\u001b[38;5;241m.\u001b[39m_validate_key_length(key)\n\u001b[1;32m--> 927\u001b[0m     keyidx \u001b[38;5;241m=\u001b[39m \u001b[43m[\u001b[49m\u001b[38;5;28;43mself\u001b[39;49m\u001b[38;5;241;43m.\u001b[39;49m\u001b[43m_convert_to_indexer\u001b[49m\u001b[43m(\u001b[49m\u001b[43mk\u001b[49m\u001b[43m,\u001b[49m\u001b[43m \u001b[49m\u001b[43maxis\u001b[49m\u001b[38;5;241;43m=\u001b[39;49m\u001b[43mi\u001b[49m\u001b[43m)\u001b[49m\u001b[43m \u001b[49m\u001b[38;5;28;43;01mfor\u001b[39;49;00m\u001b[43m \u001b[49m\u001b[43mi\u001b[49m\u001b[43m,\u001b[49m\u001b[43m \u001b[49m\u001b[43mk\u001b[49m\u001b[43m \u001b[49m\u001b[38;5;129;43;01min\u001b[39;49;00m\u001b[43m \u001b[49m\u001b[38;5;28;43menumerate\u001b[39;49m\u001b[43m(\u001b[49m\u001b[43mkey\u001b[49m\u001b[43m)\u001b[49m\u001b[43m]\u001b[49m\n\u001b[0;32m    928\u001b[0m     \u001b[38;5;28;01mreturn\u001b[39;00m \u001b[38;5;28mtuple\u001b[39m(keyidx)\n",
      "File \u001b[1;32mc:\\Users\\Jungha Cho\\AppData\\Local\\Programs\\Python\\Python311\\Lib\\site-packages\\pandas\\core\\indexing.py:927\u001b[0m, in \u001b[0;36m<listcomp>\u001b[1;34m(.0)\u001b[0m\n\u001b[0;32m    923\u001b[0m \u001b[38;5;129m@final\u001b[39m\n\u001b[0;32m    924\u001b[0m \u001b[38;5;28;01mdef\u001b[39;00m \u001b[38;5;21m_convert_tuple\u001b[39m(\u001b[38;5;28mself\u001b[39m, key: \u001b[38;5;28mtuple\u001b[39m) \u001b[38;5;241m-\u001b[39m\u001b[38;5;241m>\u001b[39m \u001b[38;5;28mtuple\u001b[39m:\n\u001b[0;32m    925\u001b[0m     \u001b[38;5;66;03m# Note: we assume _tupleize_axis_indexer has been called, if necessary.\u001b[39;00m\n\u001b[0;32m    926\u001b[0m     \u001b[38;5;28mself\u001b[39m\u001b[38;5;241m.\u001b[39m_validate_key_length(key)\n\u001b[1;32m--> 927\u001b[0m     keyidx \u001b[38;5;241m=\u001b[39m [\u001b[38;5;28;43mself\u001b[39;49m\u001b[38;5;241;43m.\u001b[39;49m\u001b[43m_convert_to_indexer\u001b[49m\u001b[43m(\u001b[49m\u001b[43mk\u001b[49m\u001b[43m,\u001b[49m\u001b[43m \u001b[49m\u001b[43maxis\u001b[49m\u001b[38;5;241;43m=\u001b[39;49m\u001b[43mi\u001b[49m\u001b[43m)\u001b[49m \u001b[38;5;28;01mfor\u001b[39;00m i, k \u001b[38;5;129;01min\u001b[39;00m \u001b[38;5;28menumerate\u001b[39m(key)]\n\u001b[0;32m    928\u001b[0m     \u001b[38;5;28;01mreturn\u001b[39;00m \u001b[38;5;28mtuple\u001b[39m(keyidx)\n",
      "File \u001b[1;32mc:\\Users\\Jungha Cho\\AppData\\Local\\Programs\\Python\\Python311\\Lib\\site-packages\\pandas\\core\\indexing.py:1426\u001b[0m, in \u001b[0;36m_LocIndexer._convert_to_indexer\u001b[1;34m(self, key, axis)\u001b[0m\n\u001b[0;32m   1424\u001b[0m         \u001b[38;5;28;01mreturn\u001b[39;00m key\n\u001b[0;32m   1425\u001b[0m     \u001b[38;5;28;01melse\u001b[39;00m:\n\u001b[1;32m-> 1426\u001b[0m         \u001b[38;5;28;01mreturn\u001b[39;00m \u001b[38;5;28;43mself\u001b[39;49m\u001b[38;5;241;43m.\u001b[39;49m\u001b[43m_get_listlike_indexer\u001b[49m\u001b[43m(\u001b[49m\u001b[43mkey\u001b[49m\u001b[43m,\u001b[49m\u001b[43m \u001b[49m\u001b[43maxis\u001b[49m\u001b[43m)\u001b[49m[\u001b[38;5;241m1\u001b[39m]\n\u001b[0;32m   1427\u001b[0m \u001b[38;5;28;01melse\u001b[39;00m:\n\u001b[0;32m   1428\u001b[0m     \u001b[38;5;28;01mtry\u001b[39;00m:\n",
      "File \u001b[1;32mc:\\Users\\Jungha Cho\\AppData\\Local\\Programs\\Python\\Python311\\Lib\\site-packages\\pandas\\core\\indexing.py:1462\u001b[0m, in \u001b[0;36m_LocIndexer._get_listlike_indexer\u001b[1;34m(self, key, axis)\u001b[0m\n\u001b[0;32m   1459\u001b[0m ax \u001b[38;5;241m=\u001b[39m \u001b[38;5;28mself\u001b[39m\u001b[38;5;241m.\u001b[39mobj\u001b[38;5;241m.\u001b[39m_get_axis(axis)\n\u001b[0;32m   1460\u001b[0m axis_name \u001b[38;5;241m=\u001b[39m \u001b[38;5;28mself\u001b[39m\u001b[38;5;241m.\u001b[39mobj\u001b[38;5;241m.\u001b[39m_get_axis_name(axis)\n\u001b[1;32m-> 1462\u001b[0m keyarr, indexer \u001b[38;5;241m=\u001b[39m \u001b[43max\u001b[49m\u001b[38;5;241;43m.\u001b[39;49m\u001b[43m_get_indexer_strict\u001b[49m\u001b[43m(\u001b[49m\u001b[43mkey\u001b[49m\u001b[43m,\u001b[49m\u001b[43m \u001b[49m\u001b[43maxis_name\u001b[49m\u001b[43m)\u001b[49m\n\u001b[0;32m   1464\u001b[0m \u001b[38;5;28;01mreturn\u001b[39;00m keyarr, indexer\n",
      "File \u001b[1;32mc:\\Users\\Jungha Cho\\AppData\\Local\\Programs\\Python\\Python311\\Lib\\site-packages\\pandas\\core\\indexes\\base.py:5877\u001b[0m, in \u001b[0;36mIndex._get_indexer_strict\u001b[1;34m(self, key, axis_name)\u001b[0m\n\u001b[0;32m   5874\u001b[0m \u001b[38;5;28;01melse\u001b[39;00m:\n\u001b[0;32m   5875\u001b[0m     keyarr, indexer, new_indexer \u001b[38;5;241m=\u001b[39m \u001b[38;5;28mself\u001b[39m\u001b[38;5;241m.\u001b[39m_reindex_non_unique(keyarr)\n\u001b[1;32m-> 5877\u001b[0m \u001b[38;5;28;43mself\u001b[39;49m\u001b[38;5;241;43m.\u001b[39;49m\u001b[43m_raise_if_missing\u001b[49m\u001b[43m(\u001b[49m\u001b[43mkeyarr\u001b[49m\u001b[43m,\u001b[49m\u001b[43m \u001b[49m\u001b[43mindexer\u001b[49m\u001b[43m,\u001b[49m\u001b[43m \u001b[49m\u001b[43maxis_name\u001b[49m\u001b[43m)\u001b[49m\n\u001b[0;32m   5879\u001b[0m keyarr \u001b[38;5;241m=\u001b[39m \u001b[38;5;28mself\u001b[39m\u001b[38;5;241m.\u001b[39mtake(indexer)\n\u001b[0;32m   5880\u001b[0m \u001b[38;5;28;01mif\u001b[39;00m \u001b[38;5;28misinstance\u001b[39m(key, Index):\n\u001b[0;32m   5881\u001b[0m     \u001b[38;5;66;03m# GH 42790 - Preserve name from an Index\u001b[39;00m\n",
      "File \u001b[1;32mc:\\Users\\Jungha Cho\\AppData\\Local\\Programs\\Python\\Python311\\Lib\\site-packages\\pandas\\core\\indexes\\base.py:5941\u001b[0m, in \u001b[0;36mIndex._raise_if_missing\u001b[1;34m(self, key, indexer, axis_name)\u001b[0m\n\u001b[0;32m   5938\u001b[0m     \u001b[38;5;28;01mraise\u001b[39;00m \u001b[38;5;167;01mKeyError\u001b[39;00m(\u001b[38;5;124mf\u001b[39m\u001b[38;5;124m\"\u001b[39m\u001b[38;5;124mNone of [\u001b[39m\u001b[38;5;132;01m{\u001b[39;00mkey\u001b[38;5;132;01m}\u001b[39;00m\u001b[38;5;124m] are in the [\u001b[39m\u001b[38;5;132;01m{\u001b[39;00maxis_name\u001b[38;5;132;01m}\u001b[39;00m\u001b[38;5;124m]\u001b[39m\u001b[38;5;124m\"\u001b[39m)\n\u001b[0;32m   5940\u001b[0m not_found \u001b[38;5;241m=\u001b[39m \u001b[38;5;28mlist\u001b[39m(ensure_index(key)[missing_mask\u001b[38;5;241m.\u001b[39mnonzero()[\u001b[38;5;241m0\u001b[39m]]\u001b[38;5;241m.\u001b[39munique())\n\u001b[1;32m-> 5941\u001b[0m \u001b[38;5;28;01mraise\u001b[39;00m \u001b[38;5;167;01mKeyError\u001b[39;00m(\u001b[38;5;124mf\u001b[39m\u001b[38;5;124m\"\u001b[39m\u001b[38;5;132;01m{\u001b[39;00mnot_found\u001b[38;5;132;01m}\u001b[39;00m\u001b[38;5;124m not in index\u001b[39m\u001b[38;5;124m\"\u001b[39m)\n",
      "\u001b[1;31mKeyError\u001b[0m: '[1341, 1401, 1437, 2589, 3012, 5690, 6382, 7567, 8347, 9260, 10568, 11083, 11089, 11094, 11115, 11136, 11139, 11150, 11151, 11168, 11180, 11183, 11193, 11228, 11231, 11242, 11951, 12057, 12379, 12496, 12553, 12641, 12721, 13013, 13043, 13124, 13147, 13179, 13234, 13270, 13297, 13733, 14483, 14566, 14607, 14758, 15241, 15623, 15638, 15714, 16886, 17038, 18229, 18643, 18649, 18807, 18890, 18892, 19095, 19217, 19275, 19313, 19319, 19764, 19860, 20083, 20367, 20443, 20445, 20453, 20793, 20918, 20923, 21053, 21172, 21186, 21204, 21254, 21326, 21490, 21491, 21502, 21515, 21526, 21536, 21547, 21556, 21560, 21568, 21581, 21595, 21615, 22221, 22267, 22365, 23476, 23489, 23519, 23531, 23576, 23603, 23855, 24016, 24036, 24122, 24133, 24135, 24646, 25648, 26334, 26353, 26460, 26649, 26854, 27354, 27382, 29299, 30125, 31109, 31143, 31399, 31433, 31434, 32578, 32765, 33711, 34073, 34853, 35137, 35390, 35415, 35460, 35467, 36070, 36717, 36921, 37720, 37921, 37957, 38846, 38905, 38966, 39028, 39111, 39116, 39167, 39174, 39180, 39193, 39194, 39195, 39279, 39283, 39321, 39397, 39413, 39443, 39477, 39514, 39527, 39658, 39720, 39799, 40057, 40063, 40072, 40169, 40270, 40274, 41655, 41682, 41694, 41696, 41715, 41738, 41753, 41757, 41762, 41764, 41770, 41771, 42105, 42721, 42737, 42793, 42797, 42845, 43007, 43017, 43025, 43027, 43029, 43033, 43036, 43045, 43049, 43051, 43131, 43135, 43140, 43143, 43153, 43160, 43167, 43184, 43193, 43210, 43213, 43499, 43645, 43660, 43676, 43689, 43715, 43728, 43730, 43739, 43740, 43757, 43779, 43781, 43823, 43837, 43846, 43855, 43869, 43884, 43892, 43893, 43934, 44251, 44252, 44651, 44659, 44685, 44687, 44817, 44842, 44962, 44990, 45149, 45223, 45269, 45307, 45355, 45434, 45545, 45572, 45656, 45754, 45808, 45824, 45925, 45946, 45965, 46014, 46061, 46094, 46301, 46306, 46352, 46355, 46517, 46585, 46593, 46756, 46758, 46801, 46802, 46812, 46825, 47195, 47241, 47286, 47289, 47309, 47312, 47392, 47399, 47405, 47408, 47549, 47559, 47583, 47590, 47591, 47600, 47603, 47617, 47620, 47625, 47633, 47634, 47637, 47644, 47789, 47809, 47820, 47912, 47933, 47987, 47988, 48434, 48572, 49801, 49871, 50681, 51188, 51487, 52016, 52117, 52270, 52320, 52335, 52373, 52380, 53015, 54015, 54473, 54580, 54630, 54682, 54712, 54907, 54929, 54932, 54933] not in index'"
     ]
    }
   ],
   "source": [
    "# Convert 'is_converted' from 'TRUE'/'FALSE' to integers (1/0)\n",
    "df['is_converted'] = df['is_converted'].map({'TRUE': 1, 'FALSE': 0})\n",
    "\n",
    "# Prepare the StratifiedKFold object\n",
    "skf = StratifiedKFold(n_splits=10, shuffle=True, random_state=42)\n",
    "\n",
    "# Placeholder for the target encoded feature\n",
    "df['customer_country.1_te'] = np.nan\n",
    "\n",
    "for train_index, test_index in skf.split(df, df['is_converted']):\n",
    "    # Split the data\n",
    "    X_train, X_test = df.iloc[train_index], df.iloc[test_index]\n",
    "    \n",
    "    # Compute target mean for each category in 'customer_country.1' excluding the current fold\n",
    "    means = X_train.groupby('customer_country.1')['is_converted'].mean()\n",
    "    \n",
    "    # Map the computed means to the test portion of the fold\n",
    "    df.loc[test_index, 'customer_country.1_te'] = X_test['customer_country.1'].map(means)\n",
    "\n",
    "# For any missing values in the target encoded feature (e.g., categories present only in test folds),\n",
    "# fill with the global mean of 'is_converted'\n",
    "global_mean = df['is_converted'].mean()\n",
    "df['customer_country.1_te'].fillna(global_mean, inplace=True)\n",
    "\n",
    "# Show the first few rows to verify\n",
    "print(df[['customer_country.1', 'customer_country.1_te']].head())"
   ]
  },
  {
   "cell_type": "code",
   "execution_count": null,
   "id": "105579da",
   "metadata": {},
   "outputs": [],
   "source": [
    "# replace the original column with the target encoded column, but the order matters\n",
    "\n",
    "df['customer_country.1'] = df['customer_country.1_te']\n",
    "df.drop('customer_country.1_te', axis=1, inplace=True)\n",
    "print(len(df.columns))\n",
    "df.columns"
   ]
  },
  {
   "cell_type": "markdown",
   "id": "0a758202",
   "metadata": {},
   "source": [
    "### business_unit"
   ]
  },
  {
   "cell_type": "code",
   "execution_count": null,
   "id": "933eadfc",
   "metadata": {},
   "outputs": [],
   "source": [
    "df.business_unit.unique()"
   ]
  },
  {
   "cell_type": "code",
   "execution_count": null,
   "id": "75a37a5b",
   "metadata": {},
   "outputs": [],
   "source": [
    "# Apply one-hot encoding to 'business_unit'\n",
    "skf = StratifiedKFold(n_splits=5, shuffle=True, random_state=42)\n",
    "\n",
    "# Create a new column for the target-encoded 'business_area'\n",
    "df['business_unit_te'] = np.nan\n",
    "\n",
    "for train_idx, val_idx in skf.split(df):\n",
    "    # Split the data into training and validation sets\n",
    "    X_train, X_val = df.iloc[train_idx], df.iloc[val_idx]\n",
    "    \n",
    "    # Compute the target mean for each category in 'business_area' on the training data\n",
    "    means = X_train.groupby('business_unit')['is_converted'].mean()\n",
    "    \n",
    "    # Map the computed means to the validation set\n",
    "    df.loc[val_idx, 'business_unit_te'] = X_val['business_unit'].map(means)\n",
    "\n",
    "# Fill missing values for any 'business_area' not seen in the training folds with the global mean\n",
    "global_mean = df['is_converted'].mean()\n",
    "df['business_unit_te'].fillna(global_mean, inplace=True)\n",
    "\n",
    "# Verify the changes\n",
    "print(df[['business_unit', 'business_unit_te']].head())"
   ]
  },
  {
   "cell_type": "code",
   "execution_count": null,
   "id": "926b705f",
   "metadata": {},
   "outputs": [],
   "source": [
    "df['business_unit'] = df['business_unit_te']\n",
    "df.drop('business_unit_te', axis=1, inplace=True)\n",
    "print(len(df.columns))\n",
    "df.columns"
   ]
  },
  {
   "cell_type": "markdown",
   "id": "b27bdaa4",
   "metadata": {},
   "source": [
    "### customer_type"
   ]
  },
  {
   "cell_type": "code",
   "execution_count": null,
   "id": "7ec8ecc4",
   "metadata": {},
   "outputs": [],
   "source": [
    "print(df.customer_type.unique())\n",
    "len(df.customer_type.unique())"
   ]
  },
  {
   "cell_type": "code",
   "execution_count": null,
   "id": "02f18793",
   "metadata": {},
   "outputs": [],
   "source": [
    "# Initialize KFold\n",
    "skf = StratifiedKFold(n_splits=5, shuffle=True, random_state=42)\n",
    "\n",
    "# Create a new column for the target-encoded 'customer_type'\n",
    "df['customer_type_te'] = np.nan\n",
    "\n",
    "# Apply K-fold target encoding\n",
    "for train_idx, val_idx in skf.split(df):\n",
    "    # Split the data\n",
    "    df_train, df_val = df.iloc[train_idx], df.iloc[val_idx]\n",
    "    # Compute the target mean for each category in 'customer_type' on the training data\n",
    "    means = df_train.groupby('customer_type')['is_converted'].mean()\n",
    "    # Map the computed means to the validation set\n",
    "    df.loc[val_idx, 'customer_type_te'] = df_val['customer_type'].map(means)\n",
    "\n",
    "# Fill missing values for any 'customer_type' not seen in the training folds\n",
    "global_mean = df['is_converted'].mean()\n",
    "df['customer_type_te'].fillna(global_mean, inplace=True)"
   ]
  },
  {
   "cell_type": "markdown",
   "id": "d332358a",
   "metadata": {},
   "source": [
    "### 2-3. 학습, 검증 데이터 분리"
   ]
  },
  {
   "cell_type": "code",
   "execution_count": null,
   "id": "27c9e205",
   "metadata": {},
   "outputs": [],
   "source": [
    "x_train, x_val, y_train, y_val = train_test_split(\n",
    "    df.drop(\"is_converted\", axis=1),\n",
    "    df[\"is_converted\"],\n",
    "    test_size=0.2,\n",
    "    shuffle=True,\n",
    "    random_state=400,\n",
    ")"
   ]
  },
  {
   "cell_type": "markdown",
   "id": "79ecfa9b",
   "metadata": {},
   "source": [
    "## 3. 모델 학습"
   ]
  },
  {
   "cell_type": "markdown",
   "id": "3caf257b",
   "metadata": {},
   "source": [
    "### 모델 정의 "
   ]
  },
  {
   "cell_type": "code",
   "execution_count": null,
   "id": "e4509af0",
   "metadata": {},
   "outputs": [],
   "source": [
    "model = DecisionTreeClassifier()"
   ]
  },
  {
   "cell_type": "markdown",
   "id": "cacd5ed8",
   "metadata": {},
   "source": [
    "### 모델 학습"
   ]
  },
  {
   "cell_type": "code",
   "execution_count": null,
   "id": "766d1980",
   "metadata": {},
   "outputs": [
    {
     "ename": "ValueError",
     "evalue": "could not convert string to float: 'India'",
     "output_type": "error",
     "traceback": [
      "\u001b[1;31m---------------------------------------------------------------------------\u001b[0m",
      "\u001b[1;31mValueError\u001b[0m                                Traceback (most recent call last)",
      "Cell \u001b[1;32mIn[48], line 1\u001b[0m\n\u001b[1;32m----> 1\u001b[0m \u001b[43mmodel\u001b[49m\u001b[38;5;241;43m.\u001b[39;49m\u001b[43mfit\u001b[49m\u001b[43m(\u001b[49m\u001b[43mx_train\u001b[49m\u001b[43m,\u001b[49m\u001b[43m \u001b[49m\u001b[43my_train\u001b[49m\u001b[43m)\u001b[49m\n",
      "File \u001b[1;32mc:\\Users\\Jungha Cho\\AppData\\Local\\Programs\\Python\\Python311\\Lib\\site-packages\\sklearn\\base.py:1151\u001b[0m, in \u001b[0;36m_fit_context.<locals>.decorator.<locals>.wrapper\u001b[1;34m(estimator, *args, **kwargs)\u001b[0m\n\u001b[0;32m   1144\u001b[0m     estimator\u001b[38;5;241m.\u001b[39m_validate_params()\n\u001b[0;32m   1146\u001b[0m \u001b[38;5;28;01mwith\u001b[39;00m config_context(\n\u001b[0;32m   1147\u001b[0m     skip_parameter_validation\u001b[38;5;241m=\u001b[39m(\n\u001b[0;32m   1148\u001b[0m         prefer_skip_nested_validation \u001b[38;5;129;01mor\u001b[39;00m global_skip_validation\n\u001b[0;32m   1149\u001b[0m     )\n\u001b[0;32m   1150\u001b[0m ):\n\u001b[1;32m-> 1151\u001b[0m     \u001b[38;5;28;01mreturn\u001b[39;00m \u001b[43mfit_method\u001b[49m\u001b[43m(\u001b[49m\u001b[43mestimator\u001b[49m\u001b[43m,\u001b[49m\u001b[43m \u001b[49m\u001b[38;5;241;43m*\u001b[39;49m\u001b[43margs\u001b[49m\u001b[43m,\u001b[49m\u001b[43m \u001b[49m\u001b[38;5;241;43m*\u001b[39;49m\u001b[38;5;241;43m*\u001b[39;49m\u001b[43mkwargs\u001b[49m\u001b[43m)\u001b[49m\n",
      "File \u001b[1;32mc:\\Users\\Jungha Cho\\AppData\\Local\\Programs\\Python\\Python311\\Lib\\site-packages\\sklearn\\tree\\_classes.py:959\u001b[0m, in \u001b[0;36mDecisionTreeClassifier.fit\u001b[1;34m(self, X, y, sample_weight, check_input)\u001b[0m\n\u001b[0;32m    928\u001b[0m \u001b[38;5;129m@_fit_context\u001b[39m(prefer_skip_nested_validation\u001b[38;5;241m=\u001b[39m\u001b[38;5;28;01mTrue\u001b[39;00m)\n\u001b[0;32m    929\u001b[0m \u001b[38;5;28;01mdef\u001b[39;00m \u001b[38;5;21mfit\u001b[39m(\u001b[38;5;28mself\u001b[39m, X, y, sample_weight\u001b[38;5;241m=\u001b[39m\u001b[38;5;28;01mNone\u001b[39;00m, check_input\u001b[38;5;241m=\u001b[39m\u001b[38;5;28;01mTrue\u001b[39;00m):\n\u001b[0;32m    930\u001b[0m \u001b[38;5;250m    \u001b[39m\u001b[38;5;124;03m\"\"\"Build a decision tree classifier from the training set (X, y).\u001b[39;00m\n\u001b[0;32m    931\u001b[0m \n\u001b[0;32m    932\u001b[0m \u001b[38;5;124;03m    Parameters\u001b[39;00m\n\u001b[1;32m   (...)\u001b[0m\n\u001b[0;32m    956\u001b[0m \u001b[38;5;124;03m        Fitted estimator.\u001b[39;00m\n\u001b[0;32m    957\u001b[0m \u001b[38;5;124;03m    \"\"\"\u001b[39;00m\n\u001b[1;32m--> 959\u001b[0m     \u001b[38;5;28;43msuper\u001b[39;49m\u001b[43m(\u001b[49m\u001b[43m)\u001b[49m\u001b[38;5;241;43m.\u001b[39;49m\u001b[43m_fit\u001b[49m\u001b[43m(\u001b[49m\n\u001b[0;32m    960\u001b[0m \u001b[43m        \u001b[49m\u001b[43mX\u001b[49m\u001b[43m,\u001b[49m\n\u001b[0;32m    961\u001b[0m \u001b[43m        \u001b[49m\u001b[43my\u001b[49m\u001b[43m,\u001b[49m\n\u001b[0;32m    962\u001b[0m \u001b[43m        \u001b[49m\u001b[43msample_weight\u001b[49m\u001b[38;5;241;43m=\u001b[39;49m\u001b[43msample_weight\u001b[49m\u001b[43m,\u001b[49m\n\u001b[0;32m    963\u001b[0m \u001b[43m        \u001b[49m\u001b[43mcheck_input\u001b[49m\u001b[38;5;241;43m=\u001b[39;49m\u001b[43mcheck_input\u001b[49m\u001b[43m,\u001b[49m\n\u001b[0;32m    964\u001b[0m \u001b[43m    \u001b[49m\u001b[43m)\u001b[49m\n\u001b[0;32m    965\u001b[0m     \u001b[38;5;28;01mreturn\u001b[39;00m \u001b[38;5;28mself\u001b[39m\n",
      "File \u001b[1;32mc:\\Users\\Jungha Cho\\AppData\\Local\\Programs\\Python\\Python311\\Lib\\site-packages\\sklearn\\tree\\_classes.py:242\u001b[0m, in \u001b[0;36mBaseDecisionTree._fit\u001b[1;34m(self, X, y, sample_weight, check_input, missing_values_in_feature_mask)\u001b[0m\n\u001b[0;32m    238\u001b[0m check_X_params \u001b[38;5;241m=\u001b[39m \u001b[38;5;28mdict\u001b[39m(\n\u001b[0;32m    239\u001b[0m     dtype\u001b[38;5;241m=\u001b[39mDTYPE, accept_sparse\u001b[38;5;241m=\u001b[39m\u001b[38;5;124m\"\u001b[39m\u001b[38;5;124mcsc\u001b[39m\u001b[38;5;124m\"\u001b[39m, force_all_finite\u001b[38;5;241m=\u001b[39m\u001b[38;5;28;01mFalse\u001b[39;00m\n\u001b[0;32m    240\u001b[0m )\n\u001b[0;32m    241\u001b[0m check_y_params \u001b[38;5;241m=\u001b[39m \u001b[38;5;28mdict\u001b[39m(ensure_2d\u001b[38;5;241m=\u001b[39m\u001b[38;5;28;01mFalse\u001b[39;00m, dtype\u001b[38;5;241m=\u001b[39m\u001b[38;5;28;01mNone\u001b[39;00m)\n\u001b[1;32m--> 242\u001b[0m X, y \u001b[38;5;241m=\u001b[39m \u001b[38;5;28;43mself\u001b[39;49m\u001b[38;5;241;43m.\u001b[39;49m\u001b[43m_validate_data\u001b[49m\u001b[43m(\u001b[49m\n\u001b[0;32m    243\u001b[0m \u001b[43m    \u001b[49m\u001b[43mX\u001b[49m\u001b[43m,\u001b[49m\u001b[43m \u001b[49m\u001b[43my\u001b[49m\u001b[43m,\u001b[49m\u001b[43m \u001b[49m\u001b[43mvalidate_separately\u001b[49m\u001b[38;5;241;43m=\u001b[39;49m\u001b[43m(\u001b[49m\u001b[43mcheck_X_params\u001b[49m\u001b[43m,\u001b[49m\u001b[43m \u001b[49m\u001b[43mcheck_y_params\u001b[49m\u001b[43m)\u001b[49m\n\u001b[0;32m    244\u001b[0m \u001b[43m\u001b[49m\u001b[43m)\u001b[49m\n\u001b[0;32m    246\u001b[0m missing_values_in_feature_mask \u001b[38;5;241m=\u001b[39m (\n\u001b[0;32m    247\u001b[0m     \u001b[38;5;28mself\u001b[39m\u001b[38;5;241m.\u001b[39m_compute_missing_values_in_feature_mask(X)\n\u001b[0;32m    248\u001b[0m )\n\u001b[0;32m    249\u001b[0m \u001b[38;5;28;01mif\u001b[39;00m issparse(X):\n",
      "File \u001b[1;32mc:\\Users\\Jungha Cho\\AppData\\Local\\Programs\\Python\\Python311\\Lib\\site-packages\\sklearn\\base.py:616\u001b[0m, in \u001b[0;36mBaseEstimator._validate_data\u001b[1;34m(self, X, y, reset, validate_separately, cast_to_ndarray, **check_params)\u001b[0m\n\u001b[0;32m    614\u001b[0m \u001b[38;5;28;01mif\u001b[39;00m \u001b[38;5;124m\"\u001b[39m\u001b[38;5;124mestimator\u001b[39m\u001b[38;5;124m\"\u001b[39m \u001b[38;5;129;01mnot\u001b[39;00m \u001b[38;5;129;01min\u001b[39;00m check_X_params:\n\u001b[0;32m    615\u001b[0m     check_X_params \u001b[38;5;241m=\u001b[39m {\u001b[38;5;241m*\u001b[39m\u001b[38;5;241m*\u001b[39mdefault_check_params, \u001b[38;5;241m*\u001b[39m\u001b[38;5;241m*\u001b[39mcheck_X_params}\n\u001b[1;32m--> 616\u001b[0m X \u001b[38;5;241m=\u001b[39m \u001b[43mcheck_array\u001b[49m\u001b[43m(\u001b[49m\u001b[43mX\u001b[49m\u001b[43m,\u001b[49m\u001b[43m \u001b[49m\u001b[43minput_name\u001b[49m\u001b[38;5;241;43m=\u001b[39;49m\u001b[38;5;124;43m\"\u001b[39;49m\u001b[38;5;124;43mX\u001b[39;49m\u001b[38;5;124;43m\"\u001b[39;49m\u001b[43m,\u001b[49m\u001b[43m \u001b[49m\u001b[38;5;241;43m*\u001b[39;49m\u001b[38;5;241;43m*\u001b[39;49m\u001b[43mcheck_X_params\u001b[49m\u001b[43m)\u001b[49m\n\u001b[0;32m    617\u001b[0m \u001b[38;5;28;01mif\u001b[39;00m \u001b[38;5;124m\"\u001b[39m\u001b[38;5;124mestimator\u001b[39m\u001b[38;5;124m\"\u001b[39m \u001b[38;5;129;01mnot\u001b[39;00m \u001b[38;5;129;01min\u001b[39;00m check_y_params:\n\u001b[0;32m    618\u001b[0m     check_y_params \u001b[38;5;241m=\u001b[39m {\u001b[38;5;241m*\u001b[39m\u001b[38;5;241m*\u001b[39mdefault_check_params, \u001b[38;5;241m*\u001b[39m\u001b[38;5;241m*\u001b[39mcheck_y_params}\n",
      "File \u001b[1;32mc:\\Users\\Jungha Cho\\AppData\\Local\\Programs\\Python\\Python311\\Lib\\site-packages\\sklearn\\utils\\validation.py:917\u001b[0m, in \u001b[0;36mcheck_array\u001b[1;34m(array, accept_sparse, accept_large_sparse, dtype, order, copy, force_all_finite, ensure_2d, allow_nd, ensure_min_samples, ensure_min_features, estimator, input_name)\u001b[0m\n\u001b[0;32m    915\u001b[0m         array \u001b[38;5;241m=\u001b[39m xp\u001b[38;5;241m.\u001b[39mastype(array, dtype, copy\u001b[38;5;241m=\u001b[39m\u001b[38;5;28;01mFalse\u001b[39;00m)\n\u001b[0;32m    916\u001b[0m     \u001b[38;5;28;01melse\u001b[39;00m:\n\u001b[1;32m--> 917\u001b[0m         array \u001b[38;5;241m=\u001b[39m \u001b[43m_asarray_with_order\u001b[49m\u001b[43m(\u001b[49m\u001b[43marray\u001b[49m\u001b[43m,\u001b[49m\u001b[43m \u001b[49m\u001b[43morder\u001b[49m\u001b[38;5;241;43m=\u001b[39;49m\u001b[43morder\u001b[49m\u001b[43m,\u001b[49m\u001b[43m \u001b[49m\u001b[43mdtype\u001b[49m\u001b[38;5;241;43m=\u001b[39;49m\u001b[43mdtype\u001b[49m\u001b[43m,\u001b[49m\u001b[43m \u001b[49m\u001b[43mxp\u001b[49m\u001b[38;5;241;43m=\u001b[39;49m\u001b[43mxp\u001b[49m\u001b[43m)\u001b[49m\n\u001b[0;32m    918\u001b[0m \u001b[38;5;28;01mexcept\u001b[39;00m ComplexWarning \u001b[38;5;28;01mas\u001b[39;00m complex_warning:\n\u001b[0;32m    919\u001b[0m     \u001b[38;5;28;01mraise\u001b[39;00m \u001b[38;5;167;01mValueError\u001b[39;00m(\n\u001b[0;32m    920\u001b[0m         \u001b[38;5;124m\"\u001b[39m\u001b[38;5;124mComplex data not supported\u001b[39m\u001b[38;5;130;01m\\n\u001b[39;00m\u001b[38;5;132;01m{}\u001b[39;00m\u001b[38;5;130;01m\\n\u001b[39;00m\u001b[38;5;124m\"\u001b[39m\u001b[38;5;241m.\u001b[39mformat(array)\n\u001b[0;32m    921\u001b[0m     ) \u001b[38;5;28;01mfrom\u001b[39;00m \u001b[38;5;21;01mcomplex_warning\u001b[39;00m\n",
      "File \u001b[1;32mc:\\Users\\Jungha Cho\\AppData\\Local\\Programs\\Python\\Python311\\Lib\\site-packages\\sklearn\\utils\\_array_api.py:380\u001b[0m, in \u001b[0;36m_asarray_with_order\u001b[1;34m(array, dtype, order, copy, xp)\u001b[0m\n\u001b[0;32m    378\u001b[0m     array \u001b[38;5;241m=\u001b[39m numpy\u001b[38;5;241m.\u001b[39marray(array, order\u001b[38;5;241m=\u001b[39morder, dtype\u001b[38;5;241m=\u001b[39mdtype)\n\u001b[0;32m    379\u001b[0m \u001b[38;5;28;01melse\u001b[39;00m:\n\u001b[1;32m--> 380\u001b[0m     array \u001b[38;5;241m=\u001b[39m numpy\u001b[38;5;241m.\u001b[39masarray(array, order\u001b[38;5;241m=\u001b[39morder, dtype\u001b[38;5;241m=\u001b[39mdtype)\n\u001b[0;32m    382\u001b[0m \u001b[38;5;66;03m# At this point array is a NumPy ndarray. We convert it to an array\u001b[39;00m\n\u001b[0;32m    383\u001b[0m \u001b[38;5;66;03m# container that is consistent with the input's namespace.\u001b[39;00m\n\u001b[0;32m    384\u001b[0m \u001b[38;5;28;01mreturn\u001b[39;00m xp\u001b[38;5;241m.\u001b[39masarray(array)\n",
      "File \u001b[1;32mc:\\Users\\Jungha Cho\\AppData\\Local\\Programs\\Python\\Python311\\Lib\\site-packages\\pandas\\core\\generic.py:1998\u001b[0m, in \u001b[0;36mNDFrame.__array__\u001b[1;34m(self, dtype)\u001b[0m\n\u001b[0;32m   1996\u001b[0m \u001b[38;5;28;01mdef\u001b[39;00m \u001b[38;5;21m__array__\u001b[39m(\u001b[38;5;28mself\u001b[39m, dtype: npt\u001b[38;5;241m.\u001b[39mDTypeLike \u001b[38;5;241m|\u001b[39m \u001b[38;5;28;01mNone\u001b[39;00m \u001b[38;5;241m=\u001b[39m \u001b[38;5;28;01mNone\u001b[39;00m) \u001b[38;5;241m-\u001b[39m\u001b[38;5;241m>\u001b[39m np\u001b[38;5;241m.\u001b[39mndarray:\n\u001b[0;32m   1997\u001b[0m     values \u001b[38;5;241m=\u001b[39m \u001b[38;5;28mself\u001b[39m\u001b[38;5;241m.\u001b[39m_values\n\u001b[1;32m-> 1998\u001b[0m     arr \u001b[38;5;241m=\u001b[39m np\u001b[38;5;241m.\u001b[39masarray(values, dtype\u001b[38;5;241m=\u001b[39mdtype)\n\u001b[0;32m   1999\u001b[0m     \u001b[38;5;28;01mif\u001b[39;00m (\n\u001b[0;32m   2000\u001b[0m         astype_is_view(values\u001b[38;5;241m.\u001b[39mdtype, arr\u001b[38;5;241m.\u001b[39mdtype)\n\u001b[0;32m   2001\u001b[0m         \u001b[38;5;129;01mand\u001b[39;00m using_copy_on_write()\n\u001b[0;32m   2002\u001b[0m         \u001b[38;5;129;01mand\u001b[39;00m \u001b[38;5;28mself\u001b[39m\u001b[38;5;241m.\u001b[39m_mgr\u001b[38;5;241m.\u001b[39mis_single_block\n\u001b[0;32m   2003\u001b[0m     ):\n\u001b[0;32m   2004\u001b[0m         \u001b[38;5;66;03m# Check if both conversions can be done without a copy\u001b[39;00m\n\u001b[0;32m   2005\u001b[0m         \u001b[38;5;28;01mif\u001b[39;00m astype_is_view(\u001b[38;5;28mself\u001b[39m\u001b[38;5;241m.\u001b[39mdtypes\u001b[38;5;241m.\u001b[39miloc[\u001b[38;5;241m0\u001b[39m], values\u001b[38;5;241m.\u001b[39mdtype) \u001b[38;5;129;01mand\u001b[39;00m astype_is_view(\n\u001b[0;32m   2006\u001b[0m             values\u001b[38;5;241m.\u001b[39mdtype, arr\u001b[38;5;241m.\u001b[39mdtype\n\u001b[0;32m   2007\u001b[0m         ):\n",
      "\u001b[1;31mValueError\u001b[0m: could not convert string to float: 'India'"
     ]
    }
   ],
   "source": [
    "model.fit(x_train, y_train)"
   ]
  },
  {
   "cell_type": "markdown",
   "id": "6bf2de5f",
   "metadata": {},
   "source": [
    "### 모델 성능 보기"
   ]
  },
  {
   "cell_type": "code",
   "execution_count": null,
   "id": "c8871444",
   "metadata": {},
   "outputs": [],
   "source": [
    "def get_clf_eval(y_test, y_pred=None):\n",
    "    confusion = confusion_matrix(y_test, y_pred, labels=[True, False])\n",
    "    accuracy = accuracy_score(y_test, y_pred)\n",
    "    precision = precision_score(y_test, y_pred, labels=[True, False])\n",
    "    recall = recall_score(y_test, y_pred)\n",
    "    F1 = f1_score(y_test, y_pred, labels=[True, False])\n",
    "\n",
    "    print(\"오차행렬:\\n\", confusion)\n",
    "    print(\"\\n정확도: {:.4f}\".format(accuracy))\n",
    "    print(\"정밀도: {:.4f}\".format(precision))\n",
    "    print(\"재현율: {:.4f}\".format(recall))\n",
    "    print(\"F1: {:.4f}\".format(F1))"
   ]
  },
  {
   "cell_type": "code",
   "execution_count": null,
   "id": "56a86373",
   "metadata": {},
   "outputs": [
    {
     "name": "stdout",
     "output_type": "stream",
     "text": [
      "오차행렬:\n",
      " [[ 715  213]\n",
      " [ 248 9980]]\n",
      "\n",
      "정확도: 0.9587\n",
      "정밀도: 0.7425\n",
      "재현율: 0.7705\n",
      "F1: 0.7562\n"
     ]
    }
   ],
   "source": [
    "pred = model.predict(x_val.fillna(0))\n",
    "get_clf_eval(y_val, pred)"
   ]
  },
  {
   "cell_type": "markdown",
   "id": "7adf8300",
   "metadata": {},
   "source": [
    "## 4. 제출하기"
   ]
  },
  {
   "cell_type": "markdown",
   "id": "9d0b6e17",
   "metadata": {},
   "source": [
    "### 테스트 데이터 예측"
   ]
  },
  {
   "cell_type": "code",
   "execution_count": null,
   "id": "43daa73c",
   "metadata": {},
   "outputs": [],
   "source": [
    "# 예측에 필요한 데이터 분리\n",
    "x_test = df_test.drop([\"is_converted\", \"id\"], axis=1)"
   ]
  },
  {
   "cell_type": "code",
   "execution_count": null,
   "id": "d13f7a6e",
   "metadata": {},
   "outputs": [
    {
     "ename": "ValueError",
     "evalue": "The feature names should match those that were passed during fit.\nFeature names unseen at fit time:\n- subcat_55\" 500 nits FHD 0.44mm Even Bezel Video Wall\n- subcat_55\" 700 nits FHD 0.44mm Even Bezel Video Wall\n- subcat_55EF5F-L\n- subcat_55EW5TK-A\n- subcat_55VH7J-H\n- ...\nFeature names seen at fit time, yet now missing:\n- business_unit_CM\n- business_unit_Solution\n- subcat_28MQ780\n- subcat_43HT3WJ\n- subcat_49\" 500 nits FHD Slim Bezel Video Wall\n- ...\n",
     "output_type": "error",
     "traceback": [
      "\u001b[1;31m---------------------------------------------------------------------------\u001b[0m",
      "\u001b[1;31mValueError\u001b[0m                                Traceback (most recent call last)",
      "Cell \u001b[1;32mIn[24], line 1\u001b[0m\n\u001b[1;32m----> 1\u001b[0m test_pred \u001b[38;5;241m=\u001b[39m \u001b[43mmodel\u001b[49m\u001b[38;5;241;43m.\u001b[39;49m\u001b[43mpredict\u001b[49m\u001b[43m(\u001b[49m\u001b[43mx_test\u001b[49m\u001b[38;5;241;43m.\u001b[39;49m\u001b[43mfillna\u001b[49m\u001b[43m(\u001b[49m\u001b[38;5;241;43m0\u001b[39;49m\u001b[43m)\u001b[49m\u001b[43m)\u001b[49m\n\u001b[0;32m      2\u001b[0m \u001b[38;5;28msum\u001b[39m(test_pred) \u001b[38;5;66;03m# True로 예측된 개수\u001b[39;00m\n",
      "File \u001b[1;32mc:\\Users\\Jungha Cho\\AppData\\Local\\Programs\\Python\\Python311\\Lib\\site-packages\\sklearn\\tree\\_classes.py:500\u001b[0m, in \u001b[0;36mBaseDecisionTree.predict\u001b[1;34m(self, X, check_input)\u001b[0m\n\u001b[0;32m    477\u001b[0m \u001b[38;5;250m\u001b[39m\u001b[38;5;124;03m\"\"\"Predict class or regression value for X.\u001b[39;00m\n\u001b[0;32m    478\u001b[0m \n\u001b[0;32m    479\u001b[0m \u001b[38;5;124;03mFor a classification model, the predicted class for each sample in X is\u001b[39;00m\n\u001b[1;32m   (...)\u001b[0m\n\u001b[0;32m    497\u001b[0m \u001b[38;5;124;03m    The predicted classes, or the predict values.\u001b[39;00m\n\u001b[0;32m    498\u001b[0m \u001b[38;5;124;03m\"\"\"\u001b[39;00m\n\u001b[0;32m    499\u001b[0m check_is_fitted(\u001b[38;5;28mself\u001b[39m)\n\u001b[1;32m--> 500\u001b[0m X \u001b[38;5;241m=\u001b[39m \u001b[38;5;28;43mself\u001b[39;49m\u001b[38;5;241;43m.\u001b[39;49m\u001b[43m_validate_X_predict\u001b[49m\u001b[43m(\u001b[49m\u001b[43mX\u001b[49m\u001b[43m,\u001b[49m\u001b[43m \u001b[49m\u001b[43mcheck_input\u001b[49m\u001b[43m)\u001b[49m\n\u001b[0;32m    501\u001b[0m proba \u001b[38;5;241m=\u001b[39m \u001b[38;5;28mself\u001b[39m\u001b[38;5;241m.\u001b[39mtree_\u001b[38;5;241m.\u001b[39mpredict(X)\n\u001b[0;32m    502\u001b[0m n_samples \u001b[38;5;241m=\u001b[39m X\u001b[38;5;241m.\u001b[39mshape[\u001b[38;5;241m0\u001b[39m]\n",
      "File \u001b[1;32mc:\\Users\\Jungha Cho\\AppData\\Local\\Programs\\Python\\Python311\\Lib\\site-packages\\sklearn\\tree\\_classes.py:460\u001b[0m, in \u001b[0;36mBaseDecisionTree._validate_X_predict\u001b[1;34m(self, X, check_input)\u001b[0m\n\u001b[0;32m    458\u001b[0m \u001b[38;5;28;01melse\u001b[39;00m:\n\u001b[0;32m    459\u001b[0m     force_all_finite \u001b[38;5;241m=\u001b[39m \u001b[38;5;28;01mTrue\u001b[39;00m\n\u001b[1;32m--> 460\u001b[0m X \u001b[38;5;241m=\u001b[39m \u001b[38;5;28;43mself\u001b[39;49m\u001b[38;5;241;43m.\u001b[39;49m\u001b[43m_validate_data\u001b[49m\u001b[43m(\u001b[49m\n\u001b[0;32m    461\u001b[0m \u001b[43m    \u001b[49m\u001b[43mX\u001b[49m\u001b[43m,\u001b[49m\n\u001b[0;32m    462\u001b[0m \u001b[43m    \u001b[49m\u001b[43mdtype\u001b[49m\u001b[38;5;241;43m=\u001b[39;49m\u001b[43mDTYPE\u001b[49m\u001b[43m,\u001b[49m\n\u001b[0;32m    463\u001b[0m \u001b[43m    \u001b[49m\u001b[43maccept_sparse\u001b[49m\u001b[38;5;241;43m=\u001b[39;49m\u001b[38;5;124;43m\"\u001b[39;49m\u001b[38;5;124;43mcsr\u001b[39;49m\u001b[38;5;124;43m\"\u001b[39;49m\u001b[43m,\u001b[49m\n\u001b[0;32m    464\u001b[0m \u001b[43m    \u001b[49m\u001b[43mreset\u001b[49m\u001b[38;5;241;43m=\u001b[39;49m\u001b[38;5;28;43;01mFalse\u001b[39;49;00m\u001b[43m,\u001b[49m\n\u001b[0;32m    465\u001b[0m \u001b[43m    \u001b[49m\u001b[43mforce_all_finite\u001b[49m\u001b[38;5;241;43m=\u001b[39;49m\u001b[43mforce_all_finite\u001b[49m\u001b[43m,\u001b[49m\n\u001b[0;32m    466\u001b[0m \u001b[43m\u001b[49m\u001b[43m)\u001b[49m\n\u001b[0;32m    467\u001b[0m \u001b[38;5;28;01mif\u001b[39;00m issparse(X) \u001b[38;5;129;01mand\u001b[39;00m (\n\u001b[0;32m    468\u001b[0m     X\u001b[38;5;241m.\u001b[39mindices\u001b[38;5;241m.\u001b[39mdtype \u001b[38;5;241m!=\u001b[39m np\u001b[38;5;241m.\u001b[39mintc \u001b[38;5;129;01mor\u001b[39;00m X\u001b[38;5;241m.\u001b[39mindptr\u001b[38;5;241m.\u001b[39mdtype \u001b[38;5;241m!=\u001b[39m np\u001b[38;5;241m.\u001b[39mintc\n\u001b[0;32m    469\u001b[0m ):\n\u001b[0;32m    470\u001b[0m     \u001b[38;5;28;01mraise\u001b[39;00m \u001b[38;5;167;01mValueError\u001b[39;00m(\u001b[38;5;124m\"\u001b[39m\u001b[38;5;124mNo support for np.int64 index based sparse matrices\u001b[39m\u001b[38;5;124m\"\u001b[39m)\n",
      "File \u001b[1;32mc:\\Users\\Jungha Cho\\AppData\\Local\\Programs\\Python\\Python311\\Lib\\site-packages\\sklearn\\base.py:579\u001b[0m, in \u001b[0;36mBaseEstimator._validate_data\u001b[1;34m(self, X, y, reset, validate_separately, cast_to_ndarray, **check_params)\u001b[0m\n\u001b[0;32m    508\u001b[0m \u001b[38;5;28;01mdef\u001b[39;00m \u001b[38;5;21m_validate_data\u001b[39m(\n\u001b[0;32m    509\u001b[0m     \u001b[38;5;28mself\u001b[39m,\n\u001b[0;32m    510\u001b[0m     X\u001b[38;5;241m=\u001b[39m\u001b[38;5;124m\"\u001b[39m\u001b[38;5;124mno_validation\u001b[39m\u001b[38;5;124m\"\u001b[39m,\n\u001b[1;32m   (...)\u001b[0m\n\u001b[0;32m    515\u001b[0m     \u001b[38;5;241m*\u001b[39m\u001b[38;5;241m*\u001b[39mcheck_params,\n\u001b[0;32m    516\u001b[0m ):\n\u001b[0;32m    517\u001b[0m \u001b[38;5;250m    \u001b[39m\u001b[38;5;124;03m\"\"\"Validate input data and set or check the `n_features_in_` attribute.\u001b[39;00m\n\u001b[0;32m    518\u001b[0m \n\u001b[0;32m    519\u001b[0m \u001b[38;5;124;03m    Parameters\u001b[39;00m\n\u001b[1;32m   (...)\u001b[0m\n\u001b[0;32m    577\u001b[0m \u001b[38;5;124;03m        validated.\u001b[39;00m\n\u001b[0;32m    578\u001b[0m \u001b[38;5;124;03m    \"\"\"\u001b[39;00m\n\u001b[1;32m--> 579\u001b[0m     \u001b[38;5;28;43mself\u001b[39;49m\u001b[38;5;241;43m.\u001b[39;49m\u001b[43m_check_feature_names\u001b[49m\u001b[43m(\u001b[49m\u001b[43mX\u001b[49m\u001b[43m,\u001b[49m\u001b[43m \u001b[49m\u001b[43mreset\u001b[49m\u001b[38;5;241;43m=\u001b[39;49m\u001b[43mreset\u001b[49m\u001b[43m)\u001b[49m\n\u001b[0;32m    581\u001b[0m     \u001b[38;5;28;01mif\u001b[39;00m y \u001b[38;5;129;01mis\u001b[39;00m \u001b[38;5;28;01mNone\u001b[39;00m \u001b[38;5;129;01mand\u001b[39;00m \u001b[38;5;28mself\u001b[39m\u001b[38;5;241m.\u001b[39m_get_tags()[\u001b[38;5;124m\"\u001b[39m\u001b[38;5;124mrequires_y\u001b[39m\u001b[38;5;124m\"\u001b[39m]:\n\u001b[0;32m    582\u001b[0m         \u001b[38;5;28;01mraise\u001b[39;00m \u001b[38;5;167;01mValueError\u001b[39;00m(\n\u001b[0;32m    583\u001b[0m             \u001b[38;5;124mf\u001b[39m\u001b[38;5;124m\"\u001b[39m\u001b[38;5;124mThis \u001b[39m\u001b[38;5;132;01m{\u001b[39;00m\u001b[38;5;28mself\u001b[39m\u001b[38;5;241m.\u001b[39m\u001b[38;5;18m__class__\u001b[39m\u001b[38;5;241m.\u001b[39m\u001b[38;5;18m__name__\u001b[39m\u001b[38;5;132;01m}\u001b[39;00m\u001b[38;5;124m estimator \u001b[39m\u001b[38;5;124m\"\u001b[39m\n\u001b[0;32m    584\u001b[0m             \u001b[38;5;124m\"\u001b[39m\u001b[38;5;124mrequires y to be passed, but the target y is None.\u001b[39m\u001b[38;5;124m\"\u001b[39m\n\u001b[0;32m    585\u001b[0m         )\n",
      "File \u001b[1;32mc:\\Users\\Jungha Cho\\AppData\\Local\\Programs\\Python\\Python311\\Lib\\site-packages\\sklearn\\base.py:506\u001b[0m, in \u001b[0;36mBaseEstimator._check_feature_names\u001b[1;34m(self, X, reset)\u001b[0m\n\u001b[0;32m    501\u001b[0m \u001b[38;5;28;01mif\u001b[39;00m \u001b[38;5;129;01mnot\u001b[39;00m missing_names \u001b[38;5;129;01mand\u001b[39;00m \u001b[38;5;129;01mnot\u001b[39;00m unexpected_names:\n\u001b[0;32m    502\u001b[0m     message \u001b[38;5;241m+\u001b[39m\u001b[38;5;241m=\u001b[39m (\n\u001b[0;32m    503\u001b[0m         \u001b[38;5;124m\"\u001b[39m\u001b[38;5;124mFeature names must be in the same order as they were in fit.\u001b[39m\u001b[38;5;130;01m\\n\u001b[39;00m\u001b[38;5;124m\"\u001b[39m\n\u001b[0;32m    504\u001b[0m     )\n\u001b[1;32m--> 506\u001b[0m \u001b[38;5;28;01mraise\u001b[39;00m \u001b[38;5;167;01mValueError\u001b[39;00m(message)\n",
      "\u001b[1;31mValueError\u001b[0m: The feature names should match those that were passed during fit.\nFeature names unseen at fit time:\n- subcat_55\" 500 nits FHD 0.44mm Even Bezel Video Wall\n- subcat_55\" 700 nits FHD 0.44mm Even Bezel Video Wall\n- subcat_55EF5F-L\n- subcat_55EW5TK-A\n- subcat_55VH7J-H\n- ...\nFeature names seen at fit time, yet now missing:\n- business_unit_CM\n- business_unit_Solution\n- subcat_28MQ780\n- subcat_43HT3WJ\n- subcat_49\" 500 nits FHD Slim Bezel Video Wall\n- ...\n"
     ]
    }
   ],
   "source": [
    "test_pred = model.predict(x_test)\n",
    "sum(test_pred) # True로 예측된 개수"
   ]
  },
  {
   "cell_type": "markdown",
   "id": "47f18e6a",
   "metadata": {},
   "source": [
    "### 제출 파일 작성"
   ]
  },
  {
   "cell_type": "code",
   "execution_count": null,
   "id": "3128a458",
   "metadata": {},
   "outputs": [],
   "source": [
    "# 제출 데이터 읽어오기 (df_test는 전처리된 데이터가 저장됨)\n",
    "df_sub = pd.read_csv(\"submission.csv\")\n",
    "df_sub[\"is_converted\"] = test_pred\n",
    "\n",
    "# 제출 파일 저장\n",
    "df_sub.to_csv(\"sub.csv\", index=False)"
   ]
  },
  {
   "cell_type": "markdown",
   "id": "ec7867ce",
   "metadata": {},
   "source": [
    "**우측 상단의 제출 버튼을 클릭해 결과를 확인하세요**"
   ]
  }
 ],
 "metadata": {
  "kernelspec": {
   "display_name": "Python 3 (ipykernel)",
   "language": "python",
   "name": "python3"
  },
  "language_info": {
   "codemirror_mode": {
    "name": "ipython",
    "version": 3
   },
   "file_extension": ".py",
   "mimetype": "text/x-python",
   "name": "python",
   "nbconvert_exporter": "python",
   "pygments_lexer": "ipython3",
   "version": "3.11.1"
  }
 },
 "nbformat": 4,
 "nbformat_minor": 5
}
