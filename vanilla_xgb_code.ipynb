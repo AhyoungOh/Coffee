{
 "cells": [
  {
   "cell_type": "markdown",
   "id": "017e9265",
   "metadata": {},
   "source": [
    "# 영업 성공 여부 분류 경진대회"
   ]
  },
  {
   "cell_type": "markdown",
   "id": "acdab431",
   "metadata": {},
   "source": [
    "## 1. 데이터 확인"
   ]
  },
  {
   "cell_type": "markdown",
   "id": "2b8341e8",
   "metadata": {},
   "source": [
    "### 필수 라이브러리"
   ]
  },
  {
   "cell_type": "code",
   "execution_count": 11,
   "id": "a315cc58",
   "metadata": {},
   "outputs": [],
   "source": [
    "import pandas as pd\n",
    "import numpy as np\n",
    "from sklearn.metrics import (\n",
    "    accuracy_score,\n",
    "    confusion_matrix,\n",
    "    f1_score,\n",
    "    precision_score,\n",
    "    recall_score,\n",
    ")\n",
    "from sklearn.model_selection import train_test_split\n",
    "from xgboost import XGBClassifier\n",
    "from sklearn.model_selection import GridSearchCV, KFold\n",
    "\n",
    "from imblearn.over_sampling import SMOTE\n",
    "from sklearn.model_selection import train_test_split\n",
    "from sklearn.preprocessing import LabelEncoder"
   ]
  },
  {
   "cell_type": "markdown",
   "id": "412f98cc",
   "metadata": {},
   "source": [
    "### 데이터 셋 읽어오기"
   ]
  },
  {
   "cell_type": "code",
   "execution_count": 3,
   "id": "7ada941e",
   "metadata": {},
   "outputs": [],
   "source": [
    "df_train = pd.read_csv(\"data/encoded_train_two.csv\",  encoding='ISO-8859-1') # 학습용 데이터\n",
    "df_test = pd.read_csv(\"data/encoded_submission_two.csv\",  encoding='ISO-8859-1') # 테스트 데이터(제출파일의 데이터)"
   ]
  },
  {
   "cell_type": "code",
   "execution_count": 4,
   "id": "be9af12a",
   "metadata": {},
   "outputs": [
    {
     "data": {
      "text/html": [
       "<div>\n",
       "<style scoped>\n",
       "    .dataframe tbody tr th:only-of-type {\n",
       "        vertical-align: middle;\n",
       "    }\n",
       "\n",
       "    .dataframe tbody tr th {\n",
       "        vertical-align: top;\n",
       "    }\n",
       "\n",
       "    .dataframe thead th {\n",
       "        text-align: right;\n",
       "    }\n",
       "</style>\n",
       "<table border=\"1\" class=\"dataframe\">\n",
       "  <thead>\n",
       "    <tr style=\"text-align: right;\">\n",
       "      <th></th>\n",
       "      <th>bant_submit</th>\n",
       "      <th>business_unit</th>\n",
       "      <th>com_reg_ver_win_rate</th>\n",
       "      <th>customer_idx</th>\n",
       "      <th>customer_type</th>\n",
       "      <th>historical_existing_cnt</th>\n",
       "      <th>id_strategic_ver</th>\n",
       "      <th>it_strategic_ver</th>\n",
       "      <th>idit_strategic_ver</th>\n",
       "      <th>customer_job</th>\n",
       "      <th>...</th>\n",
       "      <th>ver_cus</th>\n",
       "      <th>ver_pro</th>\n",
       "      <th>ver_win_rate_x</th>\n",
       "      <th>ver_win_ratio_per_bu</th>\n",
       "      <th>business_area</th>\n",
       "      <th>business_subarea</th>\n",
       "      <th>lead_owner</th>\n",
       "      <th>is_converted</th>\n",
       "      <th>enterprise_Enterprise</th>\n",
       "      <th>enterprise_SMB</th>\n",
       "    </tr>\n",
       "  </thead>\n",
       "  <tbody>\n",
       "    <tr>\n",
       "      <th>0</th>\n",
       "      <td>1.0</td>\n",
       "      <td>0.060187</td>\n",
       "      <td>0.066667</td>\n",
       "      <td>32160</td>\n",
       "      <td>0.116088</td>\n",
       "      <td>0.0</td>\n",
       "      <td>0.0</td>\n",
       "      <td>0.0</td>\n",
       "      <td>0.0</td>\n",
       "      <td>0.143617</td>\n",
       "      <td>...</td>\n",
       "      <td>1</td>\n",
       "      <td>0</td>\n",
       "      <td>0.003079</td>\n",
       "      <td>0.026846</td>\n",
       "      <td>0.064119</td>\n",
       "      <td>0.123188</td>\n",
       "      <td>0</td>\n",
       "      <td>1</td>\n",
       "      <td>True</td>\n",
       "      <td>False</td>\n",
       "    </tr>\n",
       "    <tr>\n",
       "      <th>1</th>\n",
       "      <td>1.0</td>\n",
       "      <td>0.060187</td>\n",
       "      <td>0.066667</td>\n",
       "      <td>23122</td>\n",
       "      <td>0.116088</td>\n",
       "      <td>12.0</td>\n",
       "      <td>0.0</td>\n",
       "      <td>0.0</td>\n",
       "      <td>0.0</td>\n",
       "      <td>0.076423</td>\n",
       "      <td>...</td>\n",
       "      <td>1</td>\n",
       "      <td>0</td>\n",
       "      <td>0.003079</td>\n",
       "      <td>0.026846</td>\n",
       "      <td>0.064119</td>\n",
       "      <td>0.084211</td>\n",
       "      <td>1</td>\n",
       "      <td>1</td>\n",
       "      <td>True</td>\n",
       "      <td>False</td>\n",
       "    </tr>\n",
       "    <tr>\n",
       "      <th>2</th>\n",
       "      <td>1.0</td>\n",
       "      <td>0.060283</td>\n",
       "      <td>0.088889</td>\n",
       "      <td>1755</td>\n",
       "      <td>0.112788</td>\n",
       "      <td>144.0</td>\n",
       "      <td>0.0</td>\n",
       "      <td>0.0</td>\n",
       "      <td>0.0</td>\n",
       "      <td>0.093429</td>\n",
       "      <td>...</td>\n",
       "      <td>1</td>\n",
       "      <td>0</td>\n",
       "      <td>0.003079</td>\n",
       "      <td>0.026846</td>\n",
       "      <td>0.067235</td>\n",
       "      <td>0.118421</td>\n",
       "      <td>2</td>\n",
       "      <td>1</td>\n",
       "      <td>True</td>\n",
       "      <td>False</td>\n",
       "    </tr>\n",
       "    <tr>\n",
       "      <th>3</th>\n",
       "      <td>1.0</td>\n",
       "      <td>0.059962</td>\n",
       "      <td>0.088889</td>\n",
       "      <td>4919</td>\n",
       "      <td>0.109474</td>\n",
       "      <td>0.0</td>\n",
       "      <td>0.0</td>\n",
       "      <td>0.0</td>\n",
       "      <td>0.0</td>\n",
       "      <td>0.088910</td>\n",
       "      <td>...</td>\n",
       "      <td>1</td>\n",
       "      <td>0</td>\n",
       "      <td>0.003079</td>\n",
       "      <td>0.026846</td>\n",
       "      <td>0.064915</td>\n",
       "      <td>0.132075</td>\n",
       "      <td>3</td>\n",
       "      <td>1</td>\n",
       "      <td>True</td>\n",
       "      <td>False</td>\n",
       "    </tr>\n",
       "    <tr>\n",
       "      <th>4</th>\n",
       "      <td>1.0</td>\n",
       "      <td>0.060107</td>\n",
       "      <td>0.088889</td>\n",
       "      <td>17126</td>\n",
       "      <td>0.078316</td>\n",
       "      <td>0.0</td>\n",
       "      <td>0.0</td>\n",
       "      <td>0.0</td>\n",
       "      <td>0.0</td>\n",
       "      <td>0.098375</td>\n",
       "      <td>...</td>\n",
       "      <td>0</td>\n",
       "      <td>0</td>\n",
       "      <td>0.003079</td>\n",
       "      <td>0.026846</td>\n",
       "      <td>0.064232</td>\n",
       "      <td>0.082825</td>\n",
       "      <td>4</td>\n",
       "      <td>1</td>\n",
       "      <td>True</td>\n",
       "      <td>False</td>\n",
       "    </tr>\n",
       "  </tbody>\n",
       "</table>\n",
       "<p>5 rows × 28 columns</p>\n",
       "</div>"
      ],
      "text/plain": [
       "   bant_submit  business_unit  com_reg_ver_win_rate  customer_idx  \\\n",
       "0          1.0       0.060187              0.066667         32160   \n",
       "1          1.0       0.060187              0.066667         23122   \n",
       "2          1.0       0.060283              0.088889          1755   \n",
       "3          1.0       0.059962              0.088889          4919   \n",
       "4          1.0       0.060107              0.088889         17126   \n",
       "\n",
       "   customer_type  historical_existing_cnt  id_strategic_ver  it_strategic_ver  \\\n",
       "0       0.116088                      0.0               0.0               0.0   \n",
       "1       0.116088                     12.0               0.0               0.0   \n",
       "2       0.112788                    144.0               0.0               0.0   \n",
       "3       0.109474                      0.0               0.0               0.0   \n",
       "4       0.078316                      0.0               0.0               0.0   \n",
       "\n",
       "   idit_strategic_ver  customer_job  ...  ver_cus  ver_pro  ver_win_rate_x  \\\n",
       "0                 0.0      0.143617  ...        1        0        0.003079   \n",
       "1                 0.0      0.076423  ...        1        0        0.003079   \n",
       "2                 0.0      0.093429  ...        1        0        0.003079   \n",
       "3                 0.0      0.088910  ...        1        0        0.003079   \n",
       "4                 0.0      0.098375  ...        0        0        0.003079   \n",
       "\n",
       "   ver_win_ratio_per_bu  business_area  business_subarea  lead_owner  \\\n",
       "0              0.026846       0.064119          0.123188           0   \n",
       "1              0.026846       0.064119          0.084211           1   \n",
       "2              0.026846       0.067235          0.118421           2   \n",
       "3              0.026846       0.064915          0.132075           3   \n",
       "4              0.026846       0.064232          0.082825           4   \n",
       "\n",
       "   is_converted  enterprise_Enterprise  enterprise_SMB  \n",
       "0             1                   True           False  \n",
       "1             1                   True           False  \n",
       "2             1                   True           False  \n",
       "3             1                   True           False  \n",
       "4             1                   True           False  \n",
       "\n",
       "[5 rows x 28 columns]"
      ]
     },
     "execution_count": 4,
     "metadata": {},
     "output_type": "execute_result"
    }
   ],
   "source": [
    "df_train.head() # 학습용 데이터 살펴보기"
   ]
  },
  {
   "cell_type": "code",
   "execution_count": 5,
   "id": "74c0a2bd",
   "metadata": {},
   "outputs": [
    {
     "name": "stdout",
     "output_type": "stream",
     "text": [
      "is_converted\n",
      "0    51160\n",
      "1     4620\n",
      "Name: count, dtype: int64\n",
      "Minority class proportion: 0.08\n"
     ]
    }
   ],
   "source": [
    "# Assuming 'df_train' is your DataFrame\n",
    "class_counts = df_train['is_converted'].value_counts()\n",
    "print(class_counts)\n",
    "\n",
    "# Calculate the proportion of the minority class\n",
    "minority_proportion = class_counts.min() / class_counts.sum()\n",
    "print(f\"Minority class proportion: {minority_proportion:.2f}\")\n"
   ]
  },
  {
   "cell_type": "code",
   "execution_count": 7,
   "id": "6fa250ba",
   "metadata": {},
   "outputs": [
    {
     "name": "stdout",
     "output_type": "stream",
     "text": [
      "bant_submit\n",
      "business_unit\n",
      "com_reg_ver_win_rate\n",
      "customer_idx\n",
      "customer_type\n",
      "historical_existing_cnt\n",
      "id_strategic_ver\n",
      "it_strategic_ver\n",
      "idit_strategic_ver\n",
      "customer_job\n",
      "lead_desc_length\n",
      "product_category\n",
      "product_subcategory\n",
      "product_modelname\n",
      "customer_country.1\n",
      "customer_position\n",
      "response_corporate\n",
      "expected_timeline\n",
      "ver_cus\n",
      "ver_pro\n",
      "ver_win_rate_x\n",
      "ver_win_ratio_per_bu\n",
      "business_area\n",
      "business_subarea\n",
      "lead_owner\n",
      "is_converted\n",
      "enterprise_Enterprise\n",
      "enterprise_SMB\n"
     ]
    }
   ],
   "source": [
    "for col in df_train.columns:\n",
    "    if df_train[col].dtype != 'int64' or df_train[col].dtype != 'float64':\n",
    "        print(col)"
   ]
  },
  {
   "cell_type": "code",
   "execution_count": 9,
   "id": "46a67edb",
   "metadata": {},
   "outputs": [],
   "source": [
    "for index, row in df_train.iterrows():\n",
    "    # Check if the value is not int64 and not float64\n",
    "    if not isinstance(row['bant_submit'], (int, float)):\n",
    "        # Print the row index and the data type of the value\n",
    "        print(f\"Row {index} has value '{row['bant_submit']}' with type {type(row['bant_submit']).__name__}\")"
   ]
  },
  {
   "cell_type": "code",
   "execution_count": 10,
   "id": "e95cfba6",
   "metadata": {},
   "outputs": [],
   "source": [
    "for index, row in df_train.iterrows():\n",
    "    # Check if the value is not int64 and not float64\n",
    "    if not isinstance(row['business_unit'], (int, float)):\n",
    "        # Print the row index and the data type of the value\n",
    "        print(f\"Row {index} has value '{row['bant_submit']}' with type {type(row['bant_submit']).__name__}\")"
   ]
  },
  {
   "cell_type": "markdown",
   "id": "af526c13",
   "metadata": {},
   "source": [
    "## 2. 데이터 전처리"
   ]
  },
  {
   "cell_type": "markdown",
   "id": "2c412d72",
   "metadata": {},
   "source": [
    "##### is_converted imbalance 때문에 scaling 작업 진행"
   ]
  },
  {
   "cell_type": "code",
   "execution_count": 111,
   "id": "33f1cd58",
   "metadata": {},
   "outputs": [],
   "source": [
    "# Calculate scale_pos_weight for class imbalance\n",
    "num_neg_instances = class_counts.max()\n",
    "num_pos_instances = class_counts.min()\n",
    "scale_pos_weight = num_neg_instances / num_pos_instances"
   ]
  },
  {
   "cell_type": "markdown",
   "id": "3a477f93",
   "metadata": {},
   "source": [
    "다시 학습 데이터와 제출 데이터를 분리합니다."
   ]
  },
  {
   "cell_type": "markdown",
   "id": "d332358a",
   "metadata": {},
   "source": [
    "### 2-2. 학습, 검증 데이터 분리"
   ]
  },
  {
   "cell_type": "code",
   "execution_count": 112,
   "id": "27c9e205",
   "metadata": {},
   "outputs": [],
   "source": [
    "x_train, x_val, y_train, y_val = train_test_split(\n",
    "    df_train.drop(\"is_converted\", axis=1),\n",
    "    df_train[\"is_converted\"],\n",
    "    test_size=0.2,\n",
    "    shuffle=True,\n",
    "    random_state=400\n",
    ")"
   ]
  },
  {
   "cell_type": "markdown",
   "id": "79ecfa9b",
   "metadata": {},
   "source": [
    "## 3. 모델 학습"
   ]
  },
  {
   "cell_type": "markdown",
   "id": "3caf257b",
   "metadata": {},
   "source": [
    "### 모델 정의 "
   ]
  },
  {
   "cell_type": "code",
   "execution_count": 113,
   "id": "3124ff3b",
   "metadata": {},
   "outputs": [],
   "source": [
    "param_grid = {\n",
    "    'max_depth': [3, 4, 5],\n",
    "    'min_child_weight': [1, 5, 10],\n",
    "    'subsample': [0.8, 1.0],\n",
    "    'colsample_bytree': [0.8, 1.0],\n",
    "    'learning_rate': [0.01, 0.1, 0.2]\n",
    "}"
   ]
  },
  {
   "cell_type": "code",
   "execution_count": 114,
   "id": "e4509af0",
   "metadata": {},
   "outputs": [],
   "source": [
    "model = XGBClassifier(use_label_encoder=False, eval_metric='logloss',\n",
    "                      random_state=42, scale_pos_weight=scale_pos_weight)"
   ]
  },
  {
   "cell_type": "code",
   "execution_count": 115,
   "id": "5b648316",
   "metadata": {},
   "outputs": [],
   "source": [
    "# Setup GridSearchCV\n",
    "kf = KFold(n_splits=5, shuffle=True, random_state=42)\n",
    "grid_search = GridSearchCV(model, param_grid, scoring='f1', n_jobs=-1, cv=kf, verbose=3)\n"
   ]
  },
  {
   "cell_type": "code",
   "execution_count": 116,
   "id": "7a465c4c",
   "metadata": {},
   "outputs": [
    {
     "name": "stdout",
     "output_type": "stream",
     "text": [
      "Fitting 5 folds for each of 108 candidates, totalling 540 fits\n"
     ]
    },
    {
     "name": "stdout",
     "output_type": "stream",
     "text": [
      "Best parameters: {'colsample_bytree': 0.8, 'learning_rate': 0.2, 'max_depth': 5, 'min_child_weight': 5, 'subsample': 0.8}\n"
     ]
    }
   ],
   "source": [
    "grid_search.fit(x_train, y_train)\n",
    "# Best model's parameters\n",
    "print(\"Best parameters:\", grid_search.best_params_)"
   ]
  },
  {
   "cell_type": "markdown",
   "id": "cacd5ed8",
   "metadata": {},
   "source": [
    "### 모델 학습"
   ]
  },
  {
   "cell_type": "markdown",
   "id": "6bf2de5f",
   "metadata": {},
   "source": [
    "### 모델 성능 보기"
   ]
  },
  {
   "cell_type": "code",
   "execution_count": 117,
   "id": "c8871444",
   "metadata": {},
   "outputs": [],
   "source": [
    "def get_clf_eval(y_test, y_pred=None):\n",
    "    confusion = confusion_matrix(y_test, y_pred, labels=[True, False])\n",
    "    accuracy = accuracy_score(y_test, y_pred)\n",
    "    precision = precision_score(y_test, y_pred, labels=[True, False])\n",
    "    recall = recall_score(y_test, y_pred)\n",
    "    F1 = f1_score(y_test, y_pred, labels=[True, False])\n",
    "\n",
    "    print(\"오차행렬:\\n\", confusion)\n",
    "    print(\"\\n정확도: {:.4f}\".format(accuracy))\n",
    "    print(\"정밀도: {:.4f}\".format(precision))\n",
    "    print(\"재현율: {:.4f}\".format(recall))\n",
    "    print(\"F1: {:.4f}\".format(F1))"
   ]
  },
  {
   "cell_type": "code",
   "execution_count": 118,
   "id": "56a86373",
   "metadata": {},
   "outputs": [
    {
     "name": "stdout",
     "output_type": "stream",
     "text": [
      "오차행렬:\n",
      " [[ 852   76]\n",
      " [ 645 9583]]\n",
      "\n",
      "정확도: 0.9354\n",
      "정밀도: 0.5691\n",
      "재현율: 0.9181\n",
      "F1: 0.7027\n"
     ]
    }
   ],
   "source": [
    "pred = grid_search.predict(x_val.fillna(0))\n",
    "get_clf_eval(y_val, pred)"
   ]
  },
  {
   "cell_type": "markdown",
   "id": "7adf8300",
   "metadata": {},
   "source": [
    "## 4. 제출하기"
   ]
  },
  {
   "cell_type": "markdown",
   "id": "9d0b6e17",
   "metadata": {},
   "source": [
    "### 테스트 데이터 예측"
   ]
  },
  {
   "cell_type": "code",
   "execution_count": 124,
   "id": "43daa73c",
   "metadata": {},
   "outputs": [],
   "source": [
    "# Assuming 'id' is preserved in df_test\n",
    "y_test = df_test[\"is_converted\"]\n",
    "x_test = df_test.drop([\"is_converted\"], axis=1)  # Keep 'id' for alignment\n",
    "test_pred = grid_search.predict(x_test.drop('id', axis=1).fillna(0))"
   ]
  },
  {
   "cell_type": "code",
   "execution_count": 125,
   "id": "6ac0ee30",
   "metadata": {},
   "outputs": [
    {
     "name": "stdout",
     "output_type": "stream",
     "text": [
      "오차행렬:\n",
      " [[ 289  881]\n",
      " [ 373 3728]]\n",
      "\n",
      "정확도: 0.7621\n",
      "정밀도: 0.4366\n",
      "재현율: 0.2470\n",
      "F1: 0.3155\n"
     ]
    }
   ],
   "source": [
    "get_clf_eval(y_test, test_pred)"
   ]
  },
  {
   "cell_type": "code",
   "execution_count": 123,
   "id": "d13f7a6e",
   "metadata": {},
   "outputs": [],
   "source": [
    "# Create a new dataframe for submission that includes 'id' and the predictions\n",
    "df_sub = pd.DataFrame({\n",
    "    \"id\": x_test[\"id\"],\n",
    "    \"is_converted\": test_pred\n",
    "})"
   ]
  },
  {
   "cell_type": "code",
   "execution_count": null,
   "id": "6eeb2de0",
   "metadata": {},
   "outputs": [],
   "source": [
    "df_sub.to_csv(\"submission.csv\", index=False)"
   ]
  },
  {
   "cell_type": "markdown",
   "id": "47f18e6a",
   "metadata": {},
   "source": [
    "### 제출 파일 작성"
   ]
  },
  {
   "cell_type": "code",
   "execution_count": null,
   "id": "3128a458",
   "metadata": {},
   "outputs": [],
   "source": [
    "# # 제출 데이터 읽어오기 (df_test는 전처리된 데이터가 저장됨)\n",
    "# df_sub = pd.read_csv(\"encoded_submission.csv\")\n",
    "# df_sub[\"is_converted\"] = test_pred\n",
    "\n",
    "# # 제출 파일 저장\n",
    "# df_sub.to_csv(\"submission.csv\", index=False)"
   ]
  },
  {
   "cell_type": "markdown",
   "id": "ec7867ce",
   "metadata": {},
   "source": [
    "**우측 상단의 제출 버튼을 클릭해 결과를 확인하세요**"
   ]
  }
 ],
 "metadata": {
  "kernelspec": {
   "display_name": "Python 3 (ipykernel)",
   "language": "python",
   "name": "python3"
  },
  "language_info": {
   "codemirror_mode": {
    "name": "ipython",
    "version": 3
   },
   "file_extension": ".py",
   "mimetype": "text/x-python",
   "name": "python",
   "nbconvert_exporter": "python",
   "pygments_lexer": "ipython3",
   "version": "3.11.1"
  }
 },
 "nbformat": 4,
 "nbformat_minor": 5
}
