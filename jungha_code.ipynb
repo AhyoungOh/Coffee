{
 "cells": [
  {
   "cell_type": "markdown",
   "id": "017e9265",
   "metadata": {},
   "source": [
    "# 영업 성공 여부 분류 경진대회"
   ]
  },
  {
   "cell_type": "markdown",
   "id": "acdab431",
   "metadata": {},
   "source": [
    "## 1. 데이터 확인"
   ]
  },
  {
   "cell_type": "markdown",
   "id": "2b8341e8",
   "metadata": {},
   "source": [
    "### 필수 라이브러리"
   ]
  },
  {
   "cell_type": "code",
   "execution_count": 133,
   "id": "a315cc58",
   "metadata": {},
   "outputs": [],
   "source": [
    "import pandas as pd\n",
    "import numpy as np\n",
    "from sklearn.model_selection import train_test_split\n",
    "from sklearn.tree import DecisionTreeClassifier\n",
    "from sklearn.metrics import accuracy_score, confusion_matrix, recall_score, precision_score, f1_score"
   ]
  },
  {
   "cell_type": "markdown",
   "id": "412f98cc",
   "metadata": {},
   "source": [
    "### 데이터 셋 읽어오기"
   ]
  },
  {
   "cell_type": "code",
   "execution_count": 134,
   "id": "7ada941e",
   "metadata": {},
   "outputs": [],
   "source": [
    "# Load the encoded datasets\n",
    "train_data = pd.read_csv('encoded_train.csv')\n",
    "submission_data = pd.read_csv('encoded_submission.csv')\n",
    "\n",
    "submission_data.drop(columns='id', axis=1, inplace=True)\n",
    "\n",
    "# Prepare the training data\n",
    "X_train = train_data.drop(['is_converted'], axis=1)  # Features for training\n",
    "y_train = train_data['is_converted']  # Target variable for training\n",
    "\n",
    "# Prepare the submission/validation data\n",
    "X_submission = submission_data.drop(['is_converted'], axis=1)  # Features for validation\n",
    "y_submission = submission_data['is_converted']  # Target variable for validation\n",
    "\n",
    "# Now, X_train and y_train are ready to be used for training your model\n",
    "# And X_submission and y_submission can be used to validate the model's performance"
   ]
  },
  {
   "cell_type": "code",
   "execution_count": 135,
   "id": "be9af12a",
   "metadata": {},
   "outputs": [
    {
     "data": {
      "text/plain": [
       "Index(['bant_submit', 'business_unit', 'com_reg_ver_win_rate', 'customer_idx',\n",
       "       'customer_type', 'historical_existing_cnt', 'id_strategic_ver',\n",
       "       'it_strategic_ver', 'idit_strategic_ver', 'customer_job',\n",
       "       'lead_desc_length', 'product_category', 'product_subcategory',\n",
       "       'product_modelname', 'customer_country.1', 'customer_position',\n",
       "       'response_corporate', 'expected_timeline', 'ver_cus', 'ver_pro',\n",
       "       'ver_win_rate_x', 'ver_win_ratio_per_bu', 'business_area',\n",
       "       'business_subarea', 'lead_owner', 'is_converted',\n",
       "       'enterprise_Enterprise', 'enterprise_SMB'],\n",
       "      dtype='object')"
      ]
     },
     "execution_count": 135,
     "metadata": {},
     "output_type": "execute_result"
    }
   ],
   "source": [
    "train_data.columns"
   ]
  },
  {
   "cell_type": "code",
   "execution_count": 136,
   "id": "b57d196a",
   "metadata": {},
   "outputs": [
    {
     "data": {
      "text/plain": [
       "Index(['bant_submit', 'business_unit', 'com_reg_ver_win_rate', 'customer_idx',\n",
       "       'customer_type', 'historical_existing_cnt', 'id_strategic_ver',\n",
       "       'it_strategic_ver', 'idit_strategic_ver', 'customer_job',\n",
       "       'lead_desc_length', 'product_category', 'product_subcategory',\n",
       "       'product_modelname', 'customer_country.1', 'customer_position',\n",
       "       'response_corporate', 'expected_timeline', 'ver_cus', 'ver_pro',\n",
       "       'ver_win_rate_x', 'ver_win_ratio_per_bu', 'business_area',\n",
       "       'business_subarea', 'lead_owner', 'is_converted',\n",
       "       'enterprise_Enterprise', 'enterprise_SMB'],\n",
       "      dtype='object')"
      ]
     },
     "execution_count": 136,
     "metadata": {},
     "output_type": "execute_result"
    }
   ],
   "source": [
    "\n",
    "submission_data.columns"
   ]
  },
  {
   "cell_type": "code",
   "execution_count": 137,
   "id": "258285eb",
   "metadata": {},
   "outputs": [
    {
     "name": "stdout",
     "output_type": "stream",
     "text": [
      "28\n",
      "28\n"
     ]
    },
    {
     "data": {
      "text/plain": [
       "set()"
      ]
     },
     "execution_count": 137,
     "metadata": {},
     "output_type": "execute_result"
    }
   ],
   "source": [
    "print(len(submission_data.columns))\n",
    "print(len(train_data.columns))\n",
    "\n",
    "columns_in_train_not_in_submission = set(train_data.columns) - set(submission_data.columns)\n",
    "\n",
    "columns_in_train_not_in_submission"
   ]
  },
  {
   "cell_type": "markdown",
   "id": "af526c13",
   "metadata": {},
   "source": [
    "## 2. 데이터 전처리"
   ]
  },
  {
   "cell_type": "markdown",
   "id": "d332358a",
   "metadata": {},
   "source": [
    "### 2-2. 학습, 검증 데이터 분리"
   ]
  },
  {
   "cell_type": "code",
   "execution_count": 138,
   "id": "0d6968d9",
   "metadata": {},
   "outputs": [
    {
     "name": "stdout",
     "output_type": "stream",
     "text": [
      "DataFrame does not contain any NaN or infinite values.\n"
     ]
    }
   ],
   "source": [
    "# Replace infinite values with NaN\n",
    "train_data.replace([np.inf, -np.inf], np.nan, inplace=True)\n",
    "\n",
    "# Check for any NaN values in the DataFrame (including those that were originally infinite values)\n",
    "if train_data.isna().any().any():\n",
    "    print(\"DataFrame contains NaN or infinite values.\")\n",
    "    # Optional: Handle NaN values, e.g., by filling with a default value or dropping them\n",
    "    # df.fillna(0, inplace=True) # Example of filling NaN values with 0\n",
    "else:\n",
    "    print(\"DataFrame does not contain any NaN or infinite values.\")"
   ]
  },
  {
   "cell_type": "code",
   "execution_count": 139,
   "id": "54bf0a57",
   "metadata": {},
   "outputs": [
    {
     "name": "stdout",
     "output_type": "stream",
     "text": [
      "DataFrame does not contain any NaN or infinite values.\n"
     ]
    }
   ],
   "source": [
    "# Replace infinite values with NaN\n",
    "submission_data.replace([np.inf, -np.inf], np.nan, inplace=True)\n",
    "\n",
    "# Check for any NaN values in the DataFrame (including those that were originally infinite values)\n",
    "if submission_data.isna().any().any():\n",
    "    print(\"DataFrame contains NaN or infinite values.\")\n",
    "    # Optional: Handle NaN values, e.g., by filling with a default value or dropping them\n",
    "    # df.fillna(0, inplace=True) # Example of filling NaN values with 0\n",
    "else:\n",
    "    print(\"DataFrame does not contain any NaN or infinite values.\")"
   ]
  },
  {
   "cell_type": "code",
   "execution_count": 140,
   "id": "27c9e205",
   "metadata": {},
   "outputs": [],
   "source": [
    "# x_train, x_val, y_train, y_val = train_test_split(\n",
    "#     df_train.drop(\"is_converted\", axis=1),\n",
    "#     df_train[\"is_converted\"],\n",
    "#     test_size=0.2,\n",
    "#     shuffle=True,\n",
    "#     random_state=400,\n",
    "# )\n",
    "\n",
    "# Split the training data into a smaller training set and a validation set\n",
    "X_train_split, X_val, y_train_split, y_val = train_test_split(X_train, y_train, test_size=0.2, random_state=42)\n",
    "\n"
   ]
  },
  {
   "cell_type": "markdown",
   "id": "79ecfa9b",
   "metadata": {},
   "source": [
    "## 3. 모델 학습"
   ]
  },
  {
   "cell_type": "markdown",
   "id": "3caf257b",
   "metadata": {},
   "source": [
    "### 모델 정의 "
   ]
  },
  {
   "cell_type": "code",
   "execution_count": 141,
   "id": "e4509af0",
   "metadata": {},
   "outputs": [
    {
     "data": {
      "text/html": [
       "<style>#sk-container-id-10 {color: black;}#sk-container-id-10 pre{padding: 0;}#sk-container-id-10 div.sk-toggleable {background-color: white;}#sk-container-id-10 label.sk-toggleable__label {cursor: pointer;display: block;width: 100%;margin-bottom: 0;padding: 0.3em;box-sizing: border-box;text-align: center;}#sk-container-id-10 label.sk-toggleable__label-arrow:before {content: \"▸\";float: left;margin-right: 0.25em;color: #696969;}#sk-container-id-10 label.sk-toggleable__label-arrow:hover:before {color: black;}#sk-container-id-10 div.sk-estimator:hover label.sk-toggleable__label-arrow:before {color: black;}#sk-container-id-10 div.sk-toggleable__content {max-height: 0;max-width: 0;overflow: hidden;text-align: left;background-color: #f0f8ff;}#sk-container-id-10 div.sk-toggleable__content pre {margin: 0.2em;color: black;border-radius: 0.25em;background-color: #f0f8ff;}#sk-container-id-10 input.sk-toggleable__control:checked~div.sk-toggleable__content {max-height: 200px;max-width: 100%;overflow: auto;}#sk-container-id-10 input.sk-toggleable__control:checked~label.sk-toggleable__label-arrow:before {content: \"▾\";}#sk-container-id-10 div.sk-estimator input.sk-toggleable__control:checked~label.sk-toggleable__label {background-color: #d4ebff;}#sk-container-id-10 div.sk-label input.sk-toggleable__control:checked~label.sk-toggleable__label {background-color: #d4ebff;}#sk-container-id-10 input.sk-hidden--visually {border: 0;clip: rect(1px 1px 1px 1px);clip: rect(1px, 1px, 1px, 1px);height: 1px;margin: -1px;overflow: hidden;padding: 0;position: absolute;width: 1px;}#sk-container-id-10 div.sk-estimator {font-family: monospace;background-color: #f0f8ff;border: 1px dotted black;border-radius: 0.25em;box-sizing: border-box;margin-bottom: 0.5em;}#sk-container-id-10 div.sk-estimator:hover {background-color: #d4ebff;}#sk-container-id-10 div.sk-parallel-item::after {content: \"\";width: 100%;border-bottom: 1px solid gray;flex-grow: 1;}#sk-container-id-10 div.sk-label:hover label.sk-toggleable__label {background-color: #d4ebff;}#sk-container-id-10 div.sk-serial::before {content: \"\";position: absolute;border-left: 1px solid gray;box-sizing: border-box;top: 0;bottom: 0;left: 50%;z-index: 0;}#sk-container-id-10 div.sk-serial {display: flex;flex-direction: column;align-items: center;background-color: white;padding-right: 0.2em;padding-left: 0.2em;position: relative;}#sk-container-id-10 div.sk-item {position: relative;z-index: 1;}#sk-container-id-10 div.sk-parallel {display: flex;align-items: stretch;justify-content: center;background-color: white;position: relative;}#sk-container-id-10 div.sk-item::before, #sk-container-id-10 div.sk-parallel-item::before {content: \"\";position: absolute;border-left: 1px solid gray;box-sizing: border-box;top: 0;bottom: 0;left: 50%;z-index: -1;}#sk-container-id-10 div.sk-parallel-item {display: flex;flex-direction: column;z-index: 1;position: relative;background-color: white;}#sk-container-id-10 div.sk-parallel-item:first-child::after {align-self: flex-end;width: 50%;}#sk-container-id-10 div.sk-parallel-item:last-child::after {align-self: flex-start;width: 50%;}#sk-container-id-10 div.sk-parallel-item:only-child::after {width: 0;}#sk-container-id-10 div.sk-dashed-wrapped {border: 1px dashed gray;margin: 0 0.4em 0.5em 0.4em;box-sizing: border-box;padding-bottom: 0.4em;background-color: white;}#sk-container-id-10 div.sk-label label {font-family: monospace;font-weight: bold;display: inline-block;line-height: 1.2em;}#sk-container-id-10 div.sk-label-container {text-align: center;}#sk-container-id-10 div.sk-container {/* jupyter's `normalize.less` sets `[hidden] { display: none; }` but bootstrap.min.css set `[hidden] { display: none !important; }` so we also need the `!important` here to be able to override the default hidden behavior on the sphinx rendered scikit-learn.org. See: https://github.com/scikit-learn/scikit-learn/issues/21755 */display: inline-block !important;position: relative;}#sk-container-id-10 div.sk-text-repr-fallback {display: none;}</style><div id=\"sk-container-id-10\" class=\"sk-top-container\"><div class=\"sk-text-repr-fallback\"><pre>DecisionTreeClassifier(random_state=42)</pre><b>In a Jupyter environment, please rerun this cell to show the HTML representation or trust the notebook. <br />On GitHub, the HTML representation is unable to render, please try loading this page with nbviewer.org.</b></div><div class=\"sk-container\" hidden><div class=\"sk-item\"><div class=\"sk-estimator sk-toggleable\"><input class=\"sk-toggleable__control sk-hidden--visually\" id=\"sk-estimator-id-10\" type=\"checkbox\" checked><label for=\"sk-estimator-id-10\" class=\"sk-toggleable__label sk-toggleable__label-arrow\">DecisionTreeClassifier</label><div class=\"sk-toggleable__content\"><pre>DecisionTreeClassifier(random_state=42)</pre></div></div></div></div></div>"
      ],
      "text/plain": [
       "DecisionTreeClassifier(random_state=42)"
      ]
     },
     "execution_count": 141,
     "metadata": {},
     "output_type": "execute_result"
    }
   ],
   "source": [
    "# Initialize the Decision Tree Classifier\n",
    "dt_classifier = DecisionTreeClassifier(random_state=42)\n",
    "\n",
    "# Train the model using the split training data\n",
    "dt_classifier.fit(X_train_split, y_train_split)\n",
    "\n"
   ]
  },
  {
   "cell_type": "markdown",
   "id": "cacd5ed8",
   "metadata": {},
   "source": [
    "### 모델 학습"
   ]
  },
  {
   "cell_type": "code",
   "execution_count": 142,
   "id": "766d1980",
   "metadata": {},
   "outputs": [
    {
     "name": "stdout",
     "output_type": "stream",
     "text": [
      "Accuracy on validation set: 0.957422015059161\n"
     ]
    }
   ],
   "source": [
    "# Predict on the validation set\n",
    "y_pred = dt_classifier.predict(X_val)\n",
    "\n",
    "# Evaluate the model\n",
    "print(\"Accuracy on validation set:\", accuracy_score(y_val, y_pred))\n"
   ]
  },
  {
   "cell_type": "markdown",
   "id": "6bf2de5f",
   "metadata": {},
   "source": [
    "### 모델 성능 보기"
   ]
  },
  {
   "cell_type": "code",
   "execution_count": 143,
   "id": "c8871444",
   "metadata": {},
   "outputs": [],
   "source": [
    "def get_clf_eval(y_test, y_pred=None):\n",
    "    confusion = confusion_matrix(y_test, y_pred, labels=[True, False])\n",
    "    accuracy = accuracy_score(y_test, y_pred)\n",
    "    precision = precision_score(y_test, y_pred, labels=[True, False])\n",
    "    recall = recall_score(y_test, y_pred)\n",
    "    F1 = f1_score(y_test, y_pred, labels=[True, False])\n",
    "\n",
    "    print(\"오차행렬:\\n\", confusion)\n",
    "    print(\"\\n정확도: {:.4f}\".format(accuracy))\n",
    "    print(\"정밀도: {:.4f}\".format(precision))\n",
    "    print(\"재현율: {:.4f}\".format(recall))\n",
    "    print(\"F1: {:.4f}\".format(F1))"
   ]
  },
  {
   "cell_type": "code",
   "execution_count": 144,
   "id": "56a86373",
   "metadata": {},
   "outputs": [
    {
     "name": "stdout",
     "output_type": "stream",
     "text": [
      "오차행렬:\n",
      " [[ 696  230]\n",
      " [ 245 9985]]\n",
      "\n",
      "정확도: 0.9574\n",
      "정밀도: 0.7396\n",
      "재현율: 0.7516\n",
      "F1: 0.7456\n"
     ]
    }
   ],
   "source": [
    "get_clf_eval(y_val, y_pred)"
   ]
  },
  {
   "cell_type": "markdown",
   "id": "7adf8300",
   "metadata": {},
   "source": [
    "## 4. 제출하기"
   ]
  },
  {
   "cell_type": "markdown",
   "id": "9d0b6e17",
   "metadata": {},
   "source": [
    "### 테스트 데이터 예측"
   ]
  },
  {
   "cell_type": "code",
   "execution_count": 145,
   "id": "d13f7a6e",
   "metadata": {},
   "outputs": [],
   "source": [
    "# Correct prediction on the submission/validation dataset\n",
    "submission_predictions = dt_classifier.predict(X_submission)  # Use X_submission instead of submission_data\n",
    "\n",
    "# Optionally, if you want to add predictions to the submission dataframe to check performance:\n",
    "# Note: This is useful if you're examining the model's performance and not for final submission where you wouldn't have 'is_converted'\n",
    "submission_data['predicted_is_converted'] = submission_predictions  # Use a new column for predictions"
   ]
  },
  {
   "cell_type": "markdown",
   "id": "47f18e6a",
   "metadata": {},
   "source": [
    "### 제출 파일 작성"
   ]
  },
  {
   "cell_type": "code",
   "execution_count": 146,
   "id": "3128a458",
   "metadata": {},
   "outputs": [],
   "source": [
    "submission_data.to_csv('predicted_submission.csv', index=False)"
   ]
  }
 ],
 "metadata": {
  "kernelspec": {
   "display_name": "Python 3 (ipykernel)",
   "language": "python",
   "name": "python3"
  },
  "language_info": {
   "codemirror_mode": {
    "name": "ipython",
    "version": 3
   },
   "file_extension": ".py",
   "mimetype": "text/x-python",
   "name": "python",
   "nbconvert_exporter": "python",
   "pygments_lexer": "ipython3",
   "version": "3.11.1"
  }
 },
 "nbformat": 4,
 "nbformat_minor": 5
}
