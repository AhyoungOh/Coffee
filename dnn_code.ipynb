{
 "cells": [
  {
   "cell_type": "code",
   "execution_count": 24,
   "metadata": {},
   "outputs": [],
   "source": [
    "import pandas as pd\n",
    "import tensorflow as tf\n",
    "from sklearn.model_selection import train_test_split\n",
    "from sklearn.preprocessing import StandardScaler\n",
    "from tensorflow.keras import layers, models, regularizers\n",
    "from tensorflow.keras.layers import BatchNormalization\n",
    "from imblearn.over_sampling import SMOTE\n",
    "from sklearn.utils.class_weight import compute_class_weight\n",
    "from sklearn.metrics import confusion_matrix, accuracy_score, precision_score, recall_score, f1_score\n",
    "import numpy as np"
   ]
  },
  {
   "cell_type": "code",
   "execution_count": 25,
   "metadata": {},
   "outputs": [],
   "source": [
    "# Load the dataset\n",
    "df_train = pd.read_csv('encoded_train_two.csv', encoding='ISO-8859-1')\n",
    "df_test = pd.read_csv('encoded_submission_two.csv', encoding='ISO-8859-1')"
   ]
  },
  {
   "cell_type": "code",
   "execution_count": 26,
   "metadata": {},
   "outputs": [],
   "source": [
    "# Split the data into features and target\n",
    "X = df_train.drop('is_converted', axis=1)\n",
    "y = df_train['is_converted']"
   ]
  },
  {
   "cell_type": "code",
   "execution_count": 27,
   "metadata": {},
   "outputs": [],
   "source": [
    "# Split data into training and validation sets\n",
    "X_train, X_val, y_train, y_val = train_test_split(X, y, test_size=0.2, random_state=42)"
   ]
  },
  {
   "cell_type": "code",
   "execution_count": 28,
   "metadata": {},
   "outputs": [],
   "source": [
    "df_test.drop(columns='id', axis=1, inplace=True)\n",
    "x_submission = df_test.drop(\"is_converted\", axis=1)\n",
    "y_submission = df_test[\"is_converted\"]"
   ]
  },
  {
   "cell_type": "code",
   "execution_count": 29,
   "metadata": {},
   "outputs": [],
   "source": [
    "# # Apply SMOTE\n",
    "# smote = SMOTE(random_state=42)\n",
    "# X_train_resampled, y_train_resampled = smote.fit_resample(X_train, y_train)"
   ]
  },
  {
   "cell_type": "code",
   "execution_count": 30,
   "metadata": {},
   "outputs": [],
   "source": [
    "# Scale the features\n",
    "scaler = StandardScaler()\n",
    "X_train_scaled = scaler.fit_transform(X_train)\n",
    "X_val_scaled = scaler.transform(X_val)  # Assuming X_val is your validation set features\n",
    "\n",
    "x_submission_scaled = scaler.transform(x_submission.astype(float))"
   ]
  },
  {
   "cell_type": "code",
   "execution_count": 31,
   "metadata": {},
   "outputs": [],
   "source": [
    "# # Calculate class weights\n",
    "# class_weights = compute_class_weight(\n",
    "#     class_weight='balanced',\n",
    "#     classes=np.unique(y_train),\n",
    "#     y=y_train)\n",
    "\n",
    "# class_weight_dict = dict(enumerate(class_weights))"
   ]
  },
  {
   "cell_type": "code",
   "execution_count": 32,
   "metadata": {},
   "outputs": [],
   "source": [
    "# Define the model with increased complexity, L1 regularization, and Batch Normalization\n",
    "model = models.Sequential([\n",
    "    # Input layer with Batch Normalization\n",
    "    layers.Dense(256, activation='relu', input_shape=(X_train_scaled.shape[1],), kernel_regularizer=regularizers.l1(0.0001)),\n",
    "    BatchNormalization(),\n",
    "    layers.Dropout(0.5),\n",
    "    \n",
    "    # Additional hidden layer with L1 regularization and Batch Normalization\n",
    "    layers.Dense(128, activation='relu', kernel_regularizer=regularizers.l1(0.0001)),\n",
    "    BatchNormalization(),\n",
    "    layers.Dropout(0.5),\n",
    "    \n",
    "    # Another hidden layer\n",
    "    layers.Dense(64, activation='relu', kernel_regularizer=regularizers.l1(0.0001)),\n",
    "    BatchNormalization(),\n",
    "    layers.Dropout(0.5),\n",
    "    \n",
    "    # Output layer\n",
    "    layers.Dense(1, activation='sigmoid')\n",
    "])\n"
   ]
  },
  {
   "cell_type": "code",
   "execution_count": 33,
   "metadata": {},
   "outputs": [],
   "source": [
    "model.compile(optimizer='adam', loss='binary_crossentropy', metrics=['accuracy'])"
   ]
  },
  {
   "cell_type": "code",
   "execution_count": 34,
   "metadata": {},
   "outputs": [
    {
     "name": "stdout",
     "output_type": "stream",
     "text": [
      "Epoch 1/100\n"
     ]
    },
    {
     "name": "stdout",
     "output_type": "stream",
     "text": [
      "1395/1395 [==============================] - 4s 2ms/step - loss: 0.6413 - accuracy: 0.8770 - val_loss: 0.4963 - val_accuracy: 0.9160\n",
      "Epoch 2/100\n",
      "1395/1395 [==============================] - 3s 2ms/step - loss: 0.4695 - accuracy: 0.9160 - val_loss: 0.3977 - val_accuracy: 0.9210\n",
      "Epoch 3/100\n",
      "1395/1395 [==============================] - 4s 3ms/step - loss: 0.3756 - accuracy: 0.9234 - val_loss: 0.3207 - val_accuracy: 0.9345\n",
      "Epoch 4/100\n",
      "1395/1395 [==============================] - 6s 4ms/step - loss: 0.3185 - accuracy: 0.9294 - val_loss: 0.2841 - val_accuracy: 0.9398\n",
      "Epoch 5/100\n",
      "1395/1395 [==============================] - 3s 2ms/step - loss: 0.2906 - accuracy: 0.9313 - val_loss: 0.2634 - val_accuracy: 0.9425\n",
      "Epoch 6/100\n",
      "1395/1395 [==============================] - 3s 2ms/step - loss: 0.2803 - accuracy: 0.9345 - val_loss: 0.2535 - val_accuracy: 0.9469\n",
      "Epoch 7/100\n",
      "1395/1395 [==============================] - 3s 2ms/step - loss: 0.2691 - accuracy: 0.9379 - val_loss: 0.2450 - val_accuracy: 0.9481\n",
      "Epoch 8/100\n",
      "1395/1395 [==============================] - 3s 2ms/step - loss: 0.2673 - accuracy: 0.9387 - val_loss: 0.2391 - val_accuracy: 0.9493\n",
      "Epoch 9/100\n",
      "1395/1395 [==============================] - 3s 2ms/step - loss: 0.2606 - accuracy: 0.9393 - val_loss: 0.2414 - val_accuracy: 0.9463\n",
      "Epoch 10/100\n",
      "1395/1395 [==============================] - 3s 2ms/step - loss: 0.2558 - accuracy: 0.9402 - val_loss: 0.2327 - val_accuracy: 0.9485\n",
      "Epoch 11/100\n",
      "1395/1395 [==============================] - 3s 2ms/step - loss: 0.2572 - accuracy: 0.9394 - val_loss: 0.2330 - val_accuracy: 0.9459\n",
      "Epoch 12/100\n",
      "1395/1395 [==============================] - 3s 2ms/step - loss: 0.2520 - accuracy: 0.9406 - val_loss: 0.2376 - val_accuracy: 0.9480\n",
      "Epoch 13/100\n",
      "1395/1395 [==============================] - 3s 2ms/step - loss: 0.2506 - accuracy: 0.9420 - val_loss: 0.2327 - val_accuracy: 0.9477\n",
      "Epoch 14/100\n",
      "1395/1395 [==============================] - 3s 2ms/step - loss: 0.2483 - accuracy: 0.9424 - val_loss: 0.2306 - val_accuracy: 0.9494\n",
      "Epoch 15/100\n",
      "1395/1395 [==============================] - 3s 2ms/step - loss: 0.2472 - accuracy: 0.9408 - val_loss: 0.2233 - val_accuracy: 0.9502\n",
      "Epoch 16/100\n",
      "1395/1395 [==============================] - 3s 2ms/step - loss: 0.2447 - accuracy: 0.9423 - val_loss: 0.2243 - val_accuracy: 0.9496\n",
      "Epoch 17/100\n",
      "1395/1395 [==============================] - 3s 2ms/step - loss: 0.2431 - accuracy: 0.9421 - val_loss: 0.2217 - val_accuracy: 0.9474\n",
      "Epoch 18/100\n",
      "1395/1395 [==============================] - 3s 2ms/step - loss: 0.2388 - accuracy: 0.9434 - val_loss: 0.2196 - val_accuracy: 0.9468\n",
      "Epoch 19/100\n",
      "1395/1395 [==============================] - 3s 2ms/step - loss: 0.2366 - accuracy: 0.9425 - val_loss: 0.2183 - val_accuracy: 0.9503\n",
      "Epoch 20/100\n",
      "1395/1395 [==============================] - 3s 2ms/step - loss: 0.2363 - accuracy: 0.9425 - val_loss: 0.2184 - val_accuracy: 0.9487\n",
      "Epoch 21/100\n",
      "1395/1395 [==============================] - 3s 2ms/step - loss: 0.2355 - accuracy: 0.9427 - val_loss: 0.2135 - val_accuracy: 0.9511\n",
      "Epoch 22/100\n",
      "1395/1395 [==============================] - 3s 2ms/step - loss: 0.2327 - accuracy: 0.9433 - val_loss: 0.2130 - val_accuracy: 0.9490\n",
      "Epoch 23/100\n",
      "1395/1395 [==============================] - 3s 2ms/step - loss: 0.2313 - accuracy: 0.9441 - val_loss: 0.2104 - val_accuracy: 0.9502\n",
      "Epoch 24/100\n",
      "1395/1395 [==============================] - 3s 2ms/step - loss: 0.2346 - accuracy: 0.9420 - val_loss: 0.2107 - val_accuracy: 0.9506\n",
      "Epoch 25/100\n",
      "1395/1395 [==============================] - 3s 2ms/step - loss: 0.2286 - accuracy: 0.9436 - val_loss: 0.2091 - val_accuracy: 0.9496\n",
      "Epoch 26/100\n",
      "1395/1395 [==============================] - 3s 2ms/step - loss: 0.2275 - accuracy: 0.9434 - val_loss: 0.2053 - val_accuracy: 0.9496\n",
      "Epoch 27/100\n",
      "1395/1395 [==============================] - 3s 2ms/step - loss: 0.2260 - accuracy: 0.9429 - val_loss: 0.2021 - val_accuracy: 0.9500\n",
      "Epoch 28/100\n",
      "1395/1395 [==============================] - 3s 2ms/step - loss: 0.2224 - accuracy: 0.9430 - val_loss: 0.2030 - val_accuracy: 0.9499\n",
      "Epoch 29/100\n",
      "1395/1395 [==============================] - 3s 2ms/step - loss: 0.2221 - accuracy: 0.9439 - val_loss: 0.1998 - val_accuracy: 0.9487\n",
      "Epoch 30/100\n",
      "1395/1395 [==============================] - 3s 2ms/step - loss: 0.2229 - accuracy: 0.9426 - val_loss: 0.1994 - val_accuracy: 0.9507\n",
      "Epoch 31/100\n",
      "1395/1395 [==============================] - 3s 2ms/step - loss: 0.2220 - accuracy: 0.9427 - val_loss: 0.1982 - val_accuracy: 0.9507\n",
      "Epoch 32/100\n",
      "1395/1395 [==============================] - 3s 2ms/step - loss: 0.2188 - accuracy: 0.9444 - val_loss: 0.1982 - val_accuracy: 0.9515\n",
      "Epoch 33/100\n",
      "1395/1395 [==============================] - 3s 2ms/step - loss: 0.2208 - accuracy: 0.9439 - val_loss: 0.2018 - val_accuracy: 0.9502\n",
      "Epoch 34/100\n",
      "1395/1395 [==============================] - 3s 2ms/step - loss: 0.2197 - accuracy: 0.9436 - val_loss: 0.1991 - val_accuracy: 0.9504\n",
      "Epoch 35/100\n",
      "1395/1395 [==============================] - 3s 2ms/step - loss: 0.2175 - accuracy: 0.9432 - val_loss: 0.1959 - val_accuracy: 0.9517\n",
      "Epoch 36/100\n",
      "1395/1395 [==============================] - 3s 2ms/step - loss: 0.2171 - accuracy: 0.9435 - val_loss: 0.1957 - val_accuracy: 0.9511\n",
      "Epoch 37/100\n",
      "1395/1395 [==============================] - 3s 2ms/step - loss: 0.2168 - accuracy: 0.9440 - val_loss: 0.1953 - val_accuracy: 0.9515\n",
      "Epoch 38/100\n",
      "1395/1395 [==============================] - 3s 2ms/step - loss: 0.2169 - accuracy: 0.9432 - val_loss: 0.1949 - val_accuracy: 0.9512\n",
      "Epoch 39/100\n",
      "1395/1395 [==============================] - 3s 2ms/step - loss: 0.2168 - accuracy: 0.9438 - val_loss: 0.1960 - val_accuracy: 0.9502\n",
      "Epoch 40/100\n",
      "1395/1395 [==============================] - 3s 2ms/step - loss: 0.2156 - accuracy: 0.9437 - val_loss: 0.1950 - val_accuracy: 0.9494\n",
      "Epoch 41/100\n",
      "1395/1395 [==============================] - 3s 2ms/step - loss: 0.2158 - accuracy: 0.9439 - val_loss: 0.1953 - val_accuracy: 0.9513\n",
      "Epoch 42/100\n",
      "1395/1395 [==============================] - 3s 2ms/step - loss: 0.2148 - accuracy: 0.9444 - val_loss: 0.1938 - val_accuracy: 0.9511\n",
      "Epoch 43/100\n",
      "1395/1395 [==============================] - 3s 2ms/step - loss: 0.2142 - accuracy: 0.9443 - val_loss: 0.1955 - val_accuracy: 0.9519\n",
      "Epoch 44/100\n",
      "1395/1395 [==============================] - 3s 2ms/step - loss: 0.2141 - accuracy: 0.9439 - val_loss: 0.1945 - val_accuracy: 0.9503\n",
      "Epoch 45/100\n",
      "1395/1395 [==============================] - 3s 2ms/step - loss: 0.2109 - accuracy: 0.9447 - val_loss: 0.1913 - val_accuracy: 0.9519\n",
      "Epoch 46/100\n",
      "1395/1395 [==============================] - 3s 2ms/step - loss: 0.2125 - accuracy: 0.9440 - val_loss: 0.1885 - val_accuracy: 0.9511\n",
      "Epoch 47/100\n",
      "1395/1395 [==============================] - 3s 2ms/step - loss: 0.2147 - accuracy: 0.9435 - val_loss: 0.1930 - val_accuracy: 0.9499\n",
      "Epoch 48/100\n",
      "1395/1395 [==============================] - 3s 2ms/step - loss: 0.2150 - accuracy: 0.9443 - val_loss: 0.1925 - val_accuracy: 0.9511\n",
      "Epoch 49/100\n",
      "1395/1395 [==============================] - 3s 2ms/step - loss: 0.2122 - accuracy: 0.9441 - val_loss: 0.1926 - val_accuracy: 0.9520\n",
      "Epoch 50/100\n",
      "1395/1395 [==============================] - 3s 2ms/step - loss: 0.2115 - accuracy: 0.9443 - val_loss: 0.1891 - val_accuracy: 0.9507\n",
      "Epoch 51/100\n",
      "1395/1395 [==============================] - 3s 2ms/step - loss: 0.2107 - accuracy: 0.9435 - val_loss: 0.1912 - val_accuracy: 0.9517\n",
      "Epoch 52/100\n",
      "1395/1395 [==============================] - 3s 2ms/step - loss: 0.2117 - accuracy: 0.9436 - val_loss: 0.1892 - val_accuracy: 0.9518\n",
      "Epoch 53/100\n",
      "1395/1395 [==============================] - 3s 2ms/step - loss: 0.2087 - accuracy: 0.9446 - val_loss: 0.1908 - val_accuracy: 0.9506\n",
      "Epoch 54/100\n",
      "1395/1395 [==============================] - 3s 2ms/step - loss: 0.2091 - accuracy: 0.9446 - val_loss: 0.1885 - val_accuracy: 0.9519\n",
      "Epoch 55/100\n",
      "1395/1395 [==============================] - 3s 2ms/step - loss: 0.2086 - accuracy: 0.9446 - val_loss: 0.1895 - val_accuracy: 0.9511\n",
      "Epoch 56/100\n",
      "1395/1395 [==============================] - 3s 2ms/step - loss: 0.2086 - accuracy: 0.9438 - val_loss: 0.1901 - val_accuracy: 0.9495\n",
      "Epoch 57/100\n",
      "1395/1395 [==============================] - 3s 2ms/step - loss: 0.2090 - accuracy: 0.9444 - val_loss: 0.1906 - val_accuracy: 0.9511\n",
      "Epoch 58/100\n",
      "1395/1395 [==============================] - 3s 2ms/step - loss: 0.2093 - accuracy: 0.9453 - val_loss: 0.1887 - val_accuracy: 0.9513\n",
      "Epoch 59/100\n",
      "1395/1395 [==============================] - 3s 2ms/step - loss: 0.2082 - accuracy: 0.9440 - val_loss: 0.1897 - val_accuracy: 0.9500\n",
      "Epoch 60/100\n",
      "1395/1395 [==============================] - 3s 2ms/step - loss: 0.2091 - accuracy: 0.9442 - val_loss: 0.1922 - val_accuracy: 0.9479\n",
      "Epoch 61/100\n",
      "1395/1395 [==============================] - 3s 2ms/step - loss: 0.2077 - accuracy: 0.9448 - val_loss: 0.1872 - val_accuracy: 0.9490\n",
      "Epoch 62/100\n",
      "1395/1395 [==============================] - 3s 2ms/step - loss: 0.2079 - accuracy: 0.9448 - val_loss: 0.1886 - val_accuracy: 0.9485\n",
      "Epoch 63/100\n",
      "1395/1395 [==============================] - 3s 2ms/step - loss: 0.2076 - accuracy: 0.9445 - val_loss: 0.1861 - val_accuracy: 0.9507\n",
      "Epoch 64/100\n",
      "1395/1395 [==============================] - 3s 2ms/step - loss: 0.2071 - accuracy: 0.9447 - val_loss: 0.1881 - val_accuracy: 0.9499\n",
      "Epoch 65/100\n",
      "1395/1395 [==============================] - 3s 2ms/step - loss: 0.2086 - accuracy: 0.9432 - val_loss: 0.1872 - val_accuracy: 0.9515\n",
      "Epoch 66/100\n",
      "1395/1395 [==============================] - 3s 2ms/step - loss: 0.2068 - accuracy: 0.9440 - val_loss: 0.1879 - val_accuracy: 0.9506\n",
      "Epoch 67/100\n",
      "1395/1395 [==============================] - 3s 2ms/step - loss: 0.2079 - accuracy: 0.9436 - val_loss: 0.1869 - val_accuracy: 0.9505\n",
      "Epoch 68/100\n",
      "1395/1395 [==============================] - 3s 2ms/step - loss: 0.2097 - accuracy: 0.9441 - val_loss: 0.1885 - val_accuracy: 0.9508\n",
      "Epoch 69/100\n",
      "1395/1395 [==============================] - 3s 2ms/step - loss: 0.2090 - accuracy: 0.9435 - val_loss: 0.1884 - val_accuracy: 0.9512\n",
      "Epoch 70/100\n",
      "1395/1395 [==============================] - 3s 2ms/step - loss: 0.2090 - accuracy: 0.9435 - val_loss: 0.1838 - val_accuracy: 0.9528\n",
      "Epoch 71/100\n",
      "1395/1395 [==============================] - 3s 2ms/step - loss: 0.2078 - accuracy: 0.9446 - val_loss: 0.1872 - val_accuracy: 0.9522\n",
      "Epoch 72/100\n",
      "1395/1395 [==============================] - 3s 2ms/step - loss: 0.2051 - accuracy: 0.9448 - val_loss: 0.1858 - val_accuracy: 0.9510\n",
      "Epoch 73/100\n",
      "1395/1395 [==============================] - 3s 2ms/step - loss: 0.2087 - accuracy: 0.9436 - val_loss: 0.1855 - val_accuracy: 0.9519\n",
      "Epoch 74/100\n",
      "1395/1395 [==============================] - 3s 2ms/step - loss: 0.2077 - accuracy: 0.9442 - val_loss: 0.1864 - val_accuracy: 0.9496\n",
      "Epoch 75/100\n",
      "1395/1395 [==============================] - 3s 2ms/step - loss: 0.2080 - accuracy: 0.9428 - val_loss: 0.1833 - val_accuracy: 0.9531\n",
      "Epoch 76/100\n",
      "1395/1395 [==============================] - 3s 2ms/step - loss: 0.2061 - accuracy: 0.9447 - val_loss: 0.1855 - val_accuracy: 0.9509\n",
      "Epoch 77/100\n",
      "1395/1395 [==============================] - 3s 2ms/step - loss: 0.2075 - accuracy: 0.9443 - val_loss: 0.1861 - val_accuracy: 0.9518\n",
      "Epoch 78/100\n",
      "1395/1395 [==============================] - 3s 2ms/step - loss: 0.2050 - accuracy: 0.9452 - val_loss: 0.1859 - val_accuracy: 0.9498\n",
      "Epoch 79/100\n",
      "1395/1395 [==============================] - 3s 2ms/step - loss: 0.2038 - accuracy: 0.9452 - val_loss: 0.1844 - val_accuracy: 0.9511\n",
      "Epoch 80/100\n",
      "1395/1395 [==============================] - 3s 2ms/step - loss: 0.2068 - accuracy: 0.9437 - val_loss: 0.1843 - val_accuracy: 0.9515\n",
      "Epoch 81/100\n",
      "1395/1395 [==============================] - 3s 2ms/step - loss: 0.2058 - accuracy: 0.9450 - val_loss: 0.1867 - val_accuracy: 0.9524\n",
      "Epoch 82/100\n",
      "1395/1395 [==============================] - 3s 2ms/step - loss: 0.2070 - accuracy: 0.9437 - val_loss: 0.1847 - val_accuracy: 0.9520\n",
      "Epoch 83/100\n",
      "1395/1395 [==============================] - 3s 2ms/step - loss: 0.2058 - accuracy: 0.9445 - val_loss: 0.1849 - val_accuracy: 0.9518\n",
      "Epoch 84/100\n",
      "1395/1395 [==============================] - 3s 2ms/step - loss: 0.2046 - accuracy: 0.9441 - val_loss: 0.1829 - val_accuracy: 0.9507\n",
      "Epoch 85/100\n",
      "1395/1395 [==============================] - 3s 2ms/step - loss: 0.2048 - accuracy: 0.9442 - val_loss: 0.1857 - val_accuracy: 0.9518\n",
      "Epoch 86/100\n",
      "1395/1395 [==============================] - 3s 2ms/step - loss: 0.2045 - accuracy: 0.9444 - val_loss: 0.1848 - val_accuracy: 0.9521\n",
      "Epoch 87/100\n",
      "1395/1395 [==============================] - 3s 2ms/step - loss: 0.2061 - accuracy: 0.9445 - val_loss: 0.1831 - val_accuracy: 0.9511\n",
      "Epoch 88/100\n",
      "1395/1395 [==============================] - 3s 2ms/step - loss: 0.2043 - accuracy: 0.9448 - val_loss: 0.1867 - val_accuracy: 0.9490\n",
      "Epoch 89/100\n",
      "1395/1395 [==============================] - 3s 2ms/step - loss: 0.2050 - accuracy: 0.9447 - val_loss: 0.1872 - val_accuracy: 0.9499\n",
      "Epoch 90/100\n",
      "1395/1395 [==============================] - 3s 2ms/step - loss: 0.2030 - accuracy: 0.9454 - val_loss: 0.1855 - val_accuracy: 0.9518\n",
      "Epoch 91/100\n",
      "1395/1395 [==============================] - 3s 2ms/step - loss: 0.2030 - accuracy: 0.9447 - val_loss: 0.1832 - val_accuracy: 0.9506\n",
      "Epoch 92/100\n",
      "1395/1395 [==============================] - 3s 2ms/step - loss: 0.2059 - accuracy: 0.9450 - val_loss: 0.1832 - val_accuracy: 0.9518\n",
      "Epoch 93/100\n",
      "1395/1395 [==============================] - 3s 2ms/step - loss: 0.2054 - accuracy: 0.9446 - val_loss: 0.1844 - val_accuracy: 0.9504\n",
      "Epoch 94/100\n",
      "1395/1395 [==============================] - 3s 2ms/step - loss: 0.2054 - accuracy: 0.9445 - val_loss: 0.1846 - val_accuracy: 0.9497\n",
      "Epoch 95/100\n",
      "1395/1395 [==============================] - 3s 2ms/step - loss: 0.2047 - accuracy: 0.9452 - val_loss: 0.1831 - val_accuracy: 0.9510\n",
      "Epoch 96/100\n",
      "1395/1395 [==============================] - 3s 2ms/step - loss: 0.2012 - accuracy: 0.9447 - val_loss: 0.1839 - val_accuracy: 0.9503\n",
      "Epoch 97/100\n",
      "1395/1395 [==============================] - 3s 2ms/step - loss: 0.2034 - accuracy: 0.9455 - val_loss: 0.1837 - val_accuracy: 0.9505\n",
      "Epoch 98/100\n",
      "1395/1395 [==============================] - 3s 2ms/step - loss: 0.2044 - accuracy: 0.9444 - val_loss: 0.1817 - val_accuracy: 0.9513\n",
      "Epoch 99/100\n",
      "1395/1395 [==============================] - 3s 2ms/step - loss: 0.2055 - accuracy: 0.9437 - val_loss: 0.1825 - val_accuracy: 0.9505\n",
      "Epoch 100/100\n",
      "1395/1395 [==============================] - 3s 2ms/step - loss: 0.2046 - accuracy: 0.9441 - val_loss: 0.1853 - val_accuracy: 0.9482\n"
     ]
    }
   ],
   "source": [
    "# Train the model with class_weight argument\n",
    "history = model.fit(X_train_scaled, y_train, epochs=100, validation_data=(X_val_scaled, y_val), batch_size=32, verbose=1)"
   ]
  },
  {
   "cell_type": "code",
   "execution_count": 35,
   "metadata": {},
   "outputs": [
    {
     "name": "stdout",
     "output_type": "stream",
     "text": [
      "Validation Accuracy: 0.9481893181800842\n"
     ]
    }
   ],
   "source": [
    "# Evaluate the model with the same validation set\n",
    "val_loss, val_accuracy = model.evaluate(X_val_scaled, y_val, verbose=0)\n",
    "print(f'Validation Accuracy: {val_accuracy}')"
   ]
  },
  {
   "cell_type": "code",
   "execution_count": 36,
   "metadata": {},
   "outputs": [],
   "source": [
    "def get_clf_eval(y_test, y_pred=None):\n",
    "    confusion = confusion_matrix(y_test, y_pred, labels=[True, False])\n",
    "    accuracy = accuracy_score(y_test, y_pred)\n",
    "    precision = precision_score(y_test, y_pred, labels=[True, False])\n",
    "    recall = recall_score(y_test, y_pred)\n",
    "    F1 = f1_score(y_test, y_pred, labels=[True, False])\n",
    "\n",
    "    print(\"오차행렬:\\n\", confusion)\n",
    "    print(\"\\n정확도: {:.4f}\".format(accuracy))\n",
    "    print(\"정밀도: {:.4f}\".format(precision))\n",
    "    print(\"재현율: {:.4f}\".format(recall))\n",
    "    print(\"F1: {:.4f}\".format(F1))"
   ]
  },
  {
   "cell_type": "code",
   "execution_count": 37,
   "metadata": {},
   "outputs": [
    {
     "name": "stdout",
     "output_type": "stream",
     "text": [
      "165/165 [==============================] - 0s 1ms/step\n",
      "오차행렬:\n",
      " [[  31 1150]\n",
      " [ 296 3794]]\n",
      "\n",
      "정확도: 0.7257\n",
      "정밀도: 0.0948\n",
      "재현율: 0.0262\n",
      "F1: 0.0411\n"
     ]
    }
   ],
   "source": [
    "# Making predictions on the validation set\n",
    "preds = model.predict(x_submission_scaled)\n",
    "# Convert probabilities to binary predictions\n",
    "binary_preds = (preds > 0.5).astype(int)\n",
    "\n",
    "# Evaluate the model using the defined function\n",
    "get_clf_eval(y_submission, binary_preds.flatten())\n",
    "# Assuming df_test is your test DataFrame and it's already preprocessed similarly to df_train\n",
    "# Remember to scale the test features as well\n",
    "# X_test_scaled = scaler.transform(df_test.drop(['is_converted', 'id'], axis=1).values)\n",
    "\n",
    "# # Making predictions on the test set\n",
    "# test_preds = model.predict(X_test_scaled)\n",
    "# # Convert probabilities to binary predictions for the test set\n",
    "# binary_test_preds = (test_preds > 0.5).astype(int)\n",
    "# # Summing up the True predictions to get the count\n",
    "# print(f\"Count of Predicted True conversions in Test set: {np.sum(binary_test_preds)}\")"
   ]
  },
  {
   "cell_type": "code",
   "execution_count": 38,
   "metadata": {},
   "outputs": [
    {
     "name": "stdout",
     "output_type": "stream",
     "text": [
      "165/165 [==============================] - 0s 762us/step\n"
     ]
    },
    {
     "data": {
      "text/plain": [
       "327"
      ]
     },
     "execution_count": 38,
     "metadata": {},
     "output_type": "execute_result"
    }
   ],
   "source": [
    "# Predict on the test set\n",
    "test_pred = model.predict(x_submission_scaled)\n",
    "test_pred = (test_pred > 0.5).astype(int).reshape(-1)  # Convert probabilities to binary predictions\n",
    "sum(test_pred) # True로 예측된 개수"
   ]
  },
  {
   "cell_type": "code",
   "execution_count": 39,
   "metadata": {},
   "outputs": [],
   "source": [
    "# 제출 데이터 읽어오기 (df_test는 전처리된 데이터가 저장됨)\n",
    "# df_sub = pd.read_csv(\"encoded_submission_two.csv\")\n",
    "# df_sub[\"is_converted\"] = test_pred\n",
    "\n",
    "# # 제출 파일 저장\n",
    "# df_sub.to_csv(\"submission.csv\", index=False)"
   ]
  }
 ],
 "metadata": {
  "kernelspec": {
   "display_name": "Python 3",
   "language": "python",
   "name": "python3"
  },
  "language_info": {
   "codemirror_mode": {
    "name": "ipython",
    "version": 3
   },
   "file_extension": ".py",
   "mimetype": "text/x-python",
   "name": "python",
   "nbconvert_exporter": "python",
   "pygments_lexer": "ipython3",
   "version": "3.11.1"
  }
 },
 "nbformat": 4,
 "nbformat_minor": 2
}
