{
 "cells": [
  {
   "cell_type": "markdown",
   "id": "017e9265",
   "metadata": {},
   "source": [
    "# 영업 성공 여부 분류 경진대회"
   ]
  },
  {
   "cell_type": "markdown",
   "id": "acdab431",
   "metadata": {},
   "source": [
    "## 1. 데이터 확인"
   ]
  },
  {
   "cell_type": "markdown",
   "id": "2b8341e8",
   "metadata": {},
   "source": [
    "### 필수 라이브러리"
   ]
  },
  {
   "cell_type": "code",
   "execution_count": 1,
   "id": "a315cc58",
   "metadata": {},
   "outputs": [],
   "source": [
    "import pandas as pd\n",
    "import numpy as np\n",
    "from sklearn.model_selection import train_test_split\n",
    "from sklearn.datasets import make_classification\n",
    "from sklearn.metrics import accuracy_score, confusion_matrix, recall_score, precision_score, f1_score, mean_squared_error, classification_report\n",
    "import xgboost as xgb"
   ]
  },
  {
   "cell_type": "markdown",
   "id": "412f98cc",
   "metadata": {},
   "source": [
    "### 데이터 셋 읽어오기"
   ]
  },
  {
   "cell_type": "code",
   "execution_count": 2,
   "id": "7ada941e",
   "metadata": {},
   "outputs": [],
   "source": [
    "# Load the encoded datasets\n",
    "train_data = pd.read_csv('encoded_train_two.csv')\n",
    "submission_data = pd.read_csv('encoded_submission_two.csv')\n",
    "\n",
    "submission_data.drop(columns='id', axis=1, inplace=True)\n",
    "\n",
    "# Prepare the training data\n",
    "X_train = train_data.drop(['is_converted'], axis=1)  # Features for training\n",
    "y_train = train_data['is_converted']  # Target variable for training\n",
    "\n",
    "# Prepare the submission/validation data\n",
    "X_submission = submission_data.drop(['is_converted'], axis=1)  # Features for validation\n",
    "y_submission = submission_data['is_converted']  # Target variable for validation\n",
    "\n",
    "# Now, X_train and y_train are ready to be used for training your model\n",
    "# And X_submission and y_submission can be used to validate the model's performance"
   ]
  },
  {
   "cell_type": "code",
   "execution_count": 3,
   "id": "be9af12a",
   "metadata": {},
   "outputs": [
    {
     "data": {
      "text/plain": [
       "Index(['bant_submit', 'business_unit', 'com_reg_ver_win_rate', 'customer_idx',\n",
       "       'customer_type', 'historical_existing_cnt', 'id_strategic_ver',\n",
       "       'it_strategic_ver', 'idit_strategic_ver', 'customer_job',\n",
       "       'lead_desc_length', 'product_category', 'product_subcategory',\n",
       "       'product_modelname', 'customer_country.1', 'customer_position',\n",
       "       'response_corporate', 'expected_timeline', 'ver_cus', 'ver_pro',\n",
       "       'ver_win_rate_x', 'ver_win_ratio_per_bu', 'business_area',\n",
       "       'business_subarea', 'lead_owner', 'enterprise_Enterprise',\n",
       "       'enterprise_SMB'],\n",
       "      dtype='object')"
      ]
     },
     "execution_count": 3,
     "metadata": {},
     "output_type": "execute_result"
    }
   ],
   "source": [
    "X_train.columns"
   ]
  },
  {
   "cell_type": "code",
   "execution_count": 4,
   "id": "b57d196a",
   "metadata": {},
   "outputs": [
    {
     "data": {
      "text/plain": [
       "Index(['bant_submit', 'business_unit', 'com_reg_ver_win_rate', 'customer_idx',\n",
       "       'customer_type', 'historical_existing_cnt', 'id_strategic_ver',\n",
       "       'it_strategic_ver', 'idit_strategic_ver', 'customer_job',\n",
       "       'lead_desc_length', 'product_category', 'product_subcategory',\n",
       "       'product_modelname', 'customer_country.1', 'customer_position',\n",
       "       'response_corporate', 'expected_timeline', 'ver_cus', 'ver_pro',\n",
       "       'ver_win_rate_x', 'ver_win_ratio_per_bu', 'business_area',\n",
       "       'business_subarea', 'lead_owner', 'enterprise_Enterprise',\n",
       "       'enterprise_SMB'],\n",
       "      dtype='object')"
      ]
     },
     "execution_count": 4,
     "metadata": {},
     "output_type": "execute_result"
    }
   ],
   "source": [
    "\n",
    "X_submission.columns"
   ]
  },
  {
   "cell_type": "code",
   "execution_count": 5,
   "id": "258285eb",
   "metadata": {},
   "outputs": [
    {
     "name": "stdout",
     "output_type": "stream",
     "text": [
      "27\n",
      "27\n",
      "set()\n"
     ]
    }
   ],
   "source": [
    "print(len(X_train.columns))\n",
    "print(len(X_submission.columns))\n",
    "\n",
    "columns_in_train_not_in_submission = set(X_train.columns) - set(X_submission.columns)\n",
    "\n",
    "print(columns_in_train_not_in_submission.difference())"
   ]
  },
  {
   "cell_type": "markdown",
   "id": "af526c13",
   "metadata": {},
   "source": [
    "## 2. 데이터 전처리"
   ]
  },
  {
   "cell_type": "markdown",
   "id": "d332358a",
   "metadata": {},
   "source": [
    "### 2-2. 학습, 검증 데이터 분리"
   ]
  },
  {
   "cell_type": "code",
   "execution_count": 6,
   "id": "0d6968d9",
   "metadata": {},
   "outputs": [
    {
     "name": "stdout",
     "output_type": "stream",
     "text": [
      "DataFrame does not contain any NaN or infinite values.\n"
     ]
    }
   ],
   "source": [
    "# Replace infinite values with NaN\n",
    "train_data.replace([np.inf, -np.inf], np.nan, inplace=True)\n",
    "\n",
    "# Check for any NaN values in the DataFrame (including those that were originally infinite values)\n",
    "if train_data.isna().any().any():\n",
    "    print(\"DataFrame contains NaN or infinite values.\")\n",
    "    # Optional: Handle NaN values, e.g., by filling with a default value or dropping them\n",
    "    # df.fillna(0, inplace=True) # Example of filling NaN values with 0\n",
    "else:\n",
    "    print(\"DataFrame does not contain any NaN or infinite values.\")"
   ]
  },
  {
   "cell_type": "code",
   "execution_count": 7,
   "id": "54bf0a57",
   "metadata": {},
   "outputs": [
    {
     "name": "stdout",
     "output_type": "stream",
     "text": [
      "DataFrame does not contain any NaN or infinite values.\n"
     ]
    }
   ],
   "source": [
    "# Replace infinite values with NaN\n",
    "submission_data.replace([np.inf, -np.inf], np.nan, inplace=True)\n",
    "\n",
    "# Check for any NaN values in the DataFrame (including those that were originally infinite values)\n",
    "if submission_data.isna().any().any():\n",
    "    print(\"DataFrame contains NaN or infinite values.\")\n",
    "    # Optional: Handle NaN values, e.g., by filling with a default value or dropping them\n",
    "    # df.fillna(0, inplace=True) # Example of filling NaN values with 0\n",
    "else:\n",
    "    print(\"DataFrame does not contain any NaN or infinite values.\")"
   ]
  },
  {
   "cell_type": "code",
   "execution_count": 8,
   "id": "27c9e205",
   "metadata": {},
   "outputs": [],
   "source": [
    "# x_train, x_val, y_train, y_val = train_test_split(\n",
    "#     df_train.drop(\"is_converted\", axis=1),\n",
    "#     df_train[\"is_converted\"],\n",
    "#     test_size=0.2,\n",
    "#     shuffle=True,\n",
    "#     random_state=400,\n",
    "# )\n",
    "\n",
    "# Split the training data into a smaller training set and a validation set\n",
    "X_train_split, X_val, y_train_split, y_val = train_test_split(X_train, y_train, test_size=0.2, random_state=42)\n",
    "\n"
   ]
  },
  {
   "cell_type": "markdown",
   "id": "79ecfa9b",
   "metadata": {},
   "source": [
    "## 3. 모델 학습"
   ]
  },
  {
   "cell_type": "code",
   "execution_count": 9,
   "id": "2ac2c94a",
   "metadata": {},
   "outputs": [],
   "source": [
    "# #LGBM Booster Parameters\n",
    "# param = {\n",
    "#     'num_leaves':31, \n",
    "#     'objective':'binary',\n",
    "#     'metric':'logloss',\n",
    "#     'learning_rate':0.05,\n",
    "#     'verbosity': 3\n",
    "#     }\n"
   ]
  },
  {
   "cell_type": "markdown",
   "id": "3caf257b",
   "metadata": {},
   "source": [
    "### 모델 정의 "
   ]
  },
  {
   "cell_type": "code",
   "execution_count": 10,
   "id": "e4509af0",
   "metadata": {},
   "outputs": [],
   "source": [
    "\n",
    "\n",
    "# Initialize LGBM Model\n",
    "model = xgb.XGBClassifier(use_label_encoder=False, eval_metric='logloss', random_state=42)"
   ]
  },
  {
   "cell_type": "markdown",
   "id": "cacd5ed8",
   "metadata": {},
   "source": [
    "### 모델 학습"
   ]
  },
  {
   "cell_type": "code",
   "execution_count": 11,
   "id": "c1a1f57d",
   "metadata": {},
   "outputs": [
    {
     "name": "stdout",
     "output_type": "stream",
     "text": [
      "[0]\tvalidation_0-logloss:0.22102\n",
      "[1]\tvalidation_0-logloss:0.18566\n",
      "[2]\tvalidation_0-logloss:0.16206\n",
      "[3]\tvalidation_0-logloss:0.14627\n"
     ]
    },
    {
     "name": "stderr",
     "output_type": "stream",
     "text": [
      "c:\\Users\\Jungha Cho\\AppData\\Local\\Programs\\Python\\Python311\\Lib\\site-packages\\xgboost\\sklearn.py:889: UserWarning: `eval_metric` in `fit` method is deprecated for better compatibility with scikit-learn, use `eval_metric` in constructor or`set_params` instead.\n",
      "  warnings.warn(\n"
     ]
    },
    {
     "name": "stdout",
     "output_type": "stream",
     "text": [
      "[4]\tvalidation_0-logloss:0.13325\n",
      "[5]\tvalidation_0-logloss:0.12255\n",
      "[6]\tvalidation_0-logloss:0.11603\n",
      "[7]\tvalidation_0-logloss:0.11095\n",
      "[8]\tvalidation_0-logloss:0.10611\n",
      "[9]\tvalidation_0-logloss:0.10336\n",
      "[10]\tvalidation_0-logloss:0.10100\n",
      "[11]\tvalidation_0-logloss:0.09837\n",
      "[12]\tvalidation_0-logloss:0.09695\n",
      "[13]\tvalidation_0-logloss:0.09619\n",
      "[14]\tvalidation_0-logloss:0.09591\n"
     ]
    },
    {
     "name": "stdout",
     "output_type": "stream",
     "text": [
      "[15]\tvalidation_0-logloss:0.09414\n",
      "[16]\tvalidation_0-logloss:0.09346\n",
      "[17]\tvalidation_0-logloss:0.09341\n",
      "[18]\tvalidation_0-logloss:0.09250\n",
      "[19]\tvalidation_0-logloss:0.09224\n",
      "[20]\tvalidation_0-logloss:0.09139\n",
      "[21]\tvalidation_0-logloss:0.09115\n",
      "[22]\tvalidation_0-logloss:0.09105\n",
      "[23]\tvalidation_0-logloss:0.09100\n",
      "[24]\tvalidation_0-logloss:0.09068\n",
      "[25]\tvalidation_0-logloss:0.08952\n",
      "[26]\tvalidation_0-logloss:0.08933\n",
      "[27]\tvalidation_0-logloss:0.08939\n",
      "[28]\tvalidation_0-logloss:0.08913\n",
      "[29]\tvalidation_0-logloss:0.08879\n",
      "[30]\tvalidation_0-logloss:0.08838\n",
      "[31]\tvalidation_0-logloss:0.08814\n",
      "[32]\tvalidation_0-logloss:0.08771\n",
      "[33]\tvalidation_0-logloss:0.08734\n",
      "[34]\tvalidation_0-logloss:0.08693\n",
      "[35]\tvalidation_0-logloss:0.08714\n",
      "[36]\tvalidation_0-logloss:0.08688\n",
      "[37]\tvalidation_0-logloss:0.08660\n",
      "[38]\tvalidation_0-logloss:0.08617\n",
      "[39]\tvalidation_0-logloss:0.08617\n",
      "[40]\tvalidation_0-logloss:0.08635\n",
      "[41]\tvalidation_0-logloss:0.08587\n",
      "[42]\tvalidation_0-logloss:0.08595\n",
      "[43]\tvalidation_0-logloss:0.08555\n",
      "[44]\tvalidation_0-logloss:0.08556\n",
      "[45]\tvalidation_0-logloss:0.08573\n",
      "[46]\tvalidation_0-logloss:0.08565\n",
      "[47]\tvalidation_0-logloss:0.08573\n",
      "[48]\tvalidation_0-logloss:0.08573\n",
      "[49]\tvalidation_0-logloss:0.08565\n",
      "[50]\tvalidation_0-logloss:0.08585\n",
      "[51]\tvalidation_0-logloss:0.08592\n",
      "[52]\tvalidation_0-logloss:0.08580\n",
      "[53]\tvalidation_0-logloss:0.08584\n",
      "[54]\tvalidation_0-logloss:0.08560\n",
      "[55]\tvalidation_0-logloss:0.08568\n",
      "[56]\tvalidation_0-logloss:0.08538\n",
      "[57]\tvalidation_0-logloss:0.08552\n",
      "[58]\tvalidation_0-logloss:0.08533\n",
      "[59]\tvalidation_0-logloss:0.08550\n",
      "[60]\tvalidation_0-logloss:0.08523\n",
      "[61]\tvalidation_0-logloss:0.08517\n",
      "[62]\tvalidation_0-logloss:0.08516\n",
      "[63]\tvalidation_0-logloss:0.08513\n",
      "[64]\tvalidation_0-logloss:0.08521\n",
      "[65]\tvalidation_0-logloss:0.08543\n",
      "[66]\tvalidation_0-logloss:0.08532\n",
      "[67]\tvalidation_0-logloss:0.08493\n",
      "[68]\tvalidation_0-logloss:0.08482\n",
      "[69]\tvalidation_0-logloss:0.08494\n",
      "[70]\tvalidation_0-logloss:0.08497\n",
      "[71]\tvalidation_0-logloss:0.08518\n",
      "[72]\tvalidation_0-logloss:0.08529\n",
      "[73]\tvalidation_0-logloss:0.08535\n",
      "[74]\tvalidation_0-logloss:0.08524\n",
      "[75]\tvalidation_0-logloss:0.08547\n",
      "[76]\tvalidation_0-logloss:0.08530\n",
      "[77]\tvalidation_0-logloss:0.08521\n",
      "[78]\tvalidation_0-logloss:0.08527\n",
      "[79]\tvalidation_0-logloss:0.08506\n",
      "[80]\tvalidation_0-logloss:0.08494\n",
      "[81]\tvalidation_0-logloss:0.08498\n",
      "[82]\tvalidation_0-logloss:0.08489\n",
      "[83]\tvalidation_0-logloss:0.08482\n",
      "[84]\tvalidation_0-logloss:0.08475\n",
      "[85]\tvalidation_0-logloss:0.08479\n",
      "[86]\tvalidation_0-logloss:0.08482\n",
      "[87]\tvalidation_0-logloss:0.08457\n",
      "[88]\tvalidation_0-logloss:0.08447\n",
      "[89]\tvalidation_0-logloss:0.08447\n",
      "[90]\tvalidation_0-logloss:0.08446\n",
      "[91]\tvalidation_0-logloss:0.08445\n",
      "[92]\tvalidation_0-logloss:0.08445\n",
      "[93]\tvalidation_0-logloss:0.08459\n",
      "[94]\tvalidation_0-logloss:0.08465\n",
      "[95]\tvalidation_0-logloss:0.08420\n",
      "[96]\tvalidation_0-logloss:0.08412\n",
      "[97]\tvalidation_0-logloss:0.08398\n",
      "[98]\tvalidation_0-logloss:0.08379\n",
      "[99]\tvalidation_0-logloss:0.08375\n"
     ]
    },
    {
     "data": {
      "text/html": [
       "<style>#sk-container-id-1 {color: black;}#sk-container-id-1 pre{padding: 0;}#sk-container-id-1 div.sk-toggleable {background-color: white;}#sk-container-id-1 label.sk-toggleable__label {cursor: pointer;display: block;width: 100%;margin-bottom: 0;padding: 0.3em;box-sizing: border-box;text-align: center;}#sk-container-id-1 label.sk-toggleable__label-arrow:before {content: \"▸\";float: left;margin-right: 0.25em;color: #696969;}#sk-container-id-1 label.sk-toggleable__label-arrow:hover:before {color: black;}#sk-container-id-1 div.sk-estimator:hover label.sk-toggleable__label-arrow:before {color: black;}#sk-container-id-1 div.sk-toggleable__content {max-height: 0;max-width: 0;overflow: hidden;text-align: left;background-color: #f0f8ff;}#sk-container-id-1 div.sk-toggleable__content pre {margin: 0.2em;color: black;border-radius: 0.25em;background-color: #f0f8ff;}#sk-container-id-1 input.sk-toggleable__control:checked~div.sk-toggleable__content {max-height: 200px;max-width: 100%;overflow: auto;}#sk-container-id-1 input.sk-toggleable__control:checked~label.sk-toggleable__label-arrow:before {content: \"▾\";}#sk-container-id-1 div.sk-estimator input.sk-toggleable__control:checked~label.sk-toggleable__label {background-color: #d4ebff;}#sk-container-id-1 div.sk-label input.sk-toggleable__control:checked~label.sk-toggleable__label {background-color: #d4ebff;}#sk-container-id-1 input.sk-hidden--visually {border: 0;clip: rect(1px 1px 1px 1px);clip: rect(1px, 1px, 1px, 1px);height: 1px;margin: -1px;overflow: hidden;padding: 0;position: absolute;width: 1px;}#sk-container-id-1 div.sk-estimator {font-family: monospace;background-color: #f0f8ff;border: 1px dotted black;border-radius: 0.25em;box-sizing: border-box;margin-bottom: 0.5em;}#sk-container-id-1 div.sk-estimator:hover {background-color: #d4ebff;}#sk-container-id-1 div.sk-parallel-item::after {content: \"\";width: 100%;border-bottom: 1px solid gray;flex-grow: 1;}#sk-container-id-1 div.sk-label:hover label.sk-toggleable__label {background-color: #d4ebff;}#sk-container-id-1 div.sk-serial::before {content: \"\";position: absolute;border-left: 1px solid gray;box-sizing: border-box;top: 0;bottom: 0;left: 50%;z-index: 0;}#sk-container-id-1 div.sk-serial {display: flex;flex-direction: column;align-items: center;background-color: white;padding-right: 0.2em;padding-left: 0.2em;position: relative;}#sk-container-id-1 div.sk-item {position: relative;z-index: 1;}#sk-container-id-1 div.sk-parallel {display: flex;align-items: stretch;justify-content: center;background-color: white;position: relative;}#sk-container-id-1 div.sk-item::before, #sk-container-id-1 div.sk-parallel-item::before {content: \"\";position: absolute;border-left: 1px solid gray;box-sizing: border-box;top: 0;bottom: 0;left: 50%;z-index: -1;}#sk-container-id-1 div.sk-parallel-item {display: flex;flex-direction: column;z-index: 1;position: relative;background-color: white;}#sk-container-id-1 div.sk-parallel-item:first-child::after {align-self: flex-end;width: 50%;}#sk-container-id-1 div.sk-parallel-item:last-child::after {align-self: flex-start;width: 50%;}#sk-container-id-1 div.sk-parallel-item:only-child::after {width: 0;}#sk-container-id-1 div.sk-dashed-wrapped {border: 1px dashed gray;margin: 0 0.4em 0.5em 0.4em;box-sizing: border-box;padding-bottom: 0.4em;background-color: white;}#sk-container-id-1 div.sk-label label {font-family: monospace;font-weight: bold;display: inline-block;line-height: 1.2em;}#sk-container-id-1 div.sk-label-container {text-align: center;}#sk-container-id-1 div.sk-container {/* jupyter's `normalize.less` sets `[hidden] { display: none; }` but bootstrap.min.css set `[hidden] { display: none !important; }` so we also need the `!important` here to be able to override the default hidden behavior on the sphinx rendered scikit-learn.org. See: https://github.com/scikit-learn/scikit-learn/issues/21755 */display: inline-block !important;position: relative;}#sk-container-id-1 div.sk-text-repr-fallback {display: none;}</style><div id=\"sk-container-id-1\" class=\"sk-top-container\"><div class=\"sk-text-repr-fallback\"><pre>XGBClassifier(base_score=None, booster=None, callbacks=None,\n",
       "              colsample_bylevel=None, colsample_bynode=None,\n",
       "              colsample_bytree=None, device=None, early_stopping_rounds=None,\n",
       "              enable_categorical=False, eval_metric=None, feature_types=None,\n",
       "              gamma=None, grow_policy=None, importance_type=None,\n",
       "              interaction_constraints=None, learning_rate=None, max_bin=None,\n",
       "              max_cat_threshold=None, max_cat_to_onehot=None,\n",
       "              max_delta_step=None, max_depth=None, max_leaves=None,\n",
       "              min_child_weight=None, missing=nan, monotone_constraints=None,\n",
       "              multi_strategy=None, n_estimators=None, n_jobs=None,\n",
       "              num_parallel_tree=None, random_state=None, ...)</pre><b>In a Jupyter environment, please rerun this cell to show the HTML representation or trust the notebook. <br />On GitHub, the HTML representation is unable to render, please try loading this page with nbviewer.org.</b></div><div class=\"sk-container\" hidden><div class=\"sk-item\"><div class=\"sk-estimator sk-toggleable\"><input class=\"sk-toggleable__control sk-hidden--visually\" id=\"sk-estimator-id-1\" type=\"checkbox\" checked><label for=\"sk-estimator-id-1\" class=\"sk-toggleable__label sk-toggleable__label-arrow\">XGBClassifier</label><div class=\"sk-toggleable__content\"><pre>XGBClassifier(base_score=None, booster=None, callbacks=None,\n",
       "              colsample_bylevel=None, colsample_bynode=None,\n",
       "              colsample_bytree=None, device=None, early_stopping_rounds=None,\n",
       "              enable_categorical=False, eval_metric=None, feature_types=None,\n",
       "              gamma=None, grow_policy=None, importance_type=None,\n",
       "              interaction_constraints=None, learning_rate=None, max_bin=None,\n",
       "              max_cat_threshold=None, max_cat_to_onehot=None,\n",
       "              max_delta_step=None, max_depth=None, max_leaves=None,\n",
       "              min_child_weight=None, missing=nan, monotone_constraints=None,\n",
       "              multi_strategy=None, n_estimators=None, n_jobs=None,\n",
       "              num_parallel_tree=None, random_state=None, ...)</pre></div></div></div></div></div>"
      ],
      "text/plain": [
       "XGBClassifier(base_score=None, booster=None, callbacks=None,\n",
       "              colsample_bylevel=None, colsample_bynode=None,\n",
       "              colsample_bytree=None, device=None, early_stopping_rounds=None,\n",
       "              enable_categorical=False, eval_metric=None, feature_types=None,\n",
       "              gamma=None, grow_policy=None, importance_type=None,\n",
       "              interaction_constraints=None, learning_rate=None, max_bin=None,\n",
       "              max_cat_threshold=None, max_cat_to_onehot=None,\n",
       "              max_delta_step=None, max_depth=None, max_leaves=None,\n",
       "              min_child_weight=None, missing=nan, monotone_constraints=None,\n",
       "              multi_strategy=None, n_estimators=None, n_jobs=None,\n",
       "              num_parallel_tree=None, random_state=None, ...)"
      ]
     },
     "execution_count": 11,
     "metadata": {},
     "output_type": "execute_result"
    }
   ],
   "source": [
    "#Train LGBM \n",
    "model.fit(X_train_split, y_train)"
   ]
  },
  {
   "cell_type": "markdown",
   "id": "6bf2de5f",
   "metadata": {},
   "source": [
    "### 모델 성능 보기"
   ]
  },
  {
   "cell_type": "code",
   "execution_count": 12,
   "id": "766d1980",
   "metadata": {},
   "outputs": [
    {
     "name": "stdout",
     "output_type": "stream",
     "text": [
      "              precision    recall  f1-score   support\n",
      "\n",
      "           0       0.84      0.70      0.76      4090\n",
      "           1       0.34      0.55      0.42      1181\n",
      "\n",
      "    accuracy                           0.66      5271\n",
      "   macro avg       0.59      0.62      0.59      5271\n",
      "weighted avg       0.73      0.66      0.69      5271\n",
      "\n"
     ]
    }
   ],
   "source": [
    "# Predict on the validation set\n",
    "y_pred = model.predict(X_submission)\n",
    "\n",
    "# rmse_test = mean_squared_error(y_submission, y_pred) ** 0.5\n",
    "# print(f'The RMSE of prediction is: {rmse_test}')\n",
    "\n",
    "# Evaluate the model\n",
    "print(classification_report(y_submission, y_pred))\n"
   ]
  },
  {
   "cell_type": "code",
   "execution_count": 13,
   "id": "c8871444",
   "metadata": {},
   "outputs": [],
   "source": [
    "def get_clf_eval(y_test, y_pred=None):\n",
    "    confusion = confusion_matrix(y_test, y_pred, labels=[True, False])\n",
    "    accuracy = accuracy_score(y_test, y_pred)\n",
    "    precision = precision_score(y_test, y_pred, labels=[True, False])\n",
    "    recall = recall_score(y_test, y_pred)\n",
    "    F1 = f1_score(y_test, y_pred, labels=[True, False])\n",
    "\n",
    "    print(\"오차행렬:\\n\", confusion)\n",
    "    print(\"\\n정확도: {:.4f}\".format(accuracy))\n",
    "    print(\"정밀도: {:.4f}\".format(precision))\n",
    "    print(\"재현율: {:.4f}\".format(recall))\n",
    "    print(\"F1: {:.4f}\".format(F1))"
   ]
  },
  {
   "cell_type": "code",
   "execution_count": 14,
   "id": "56a86373",
   "metadata": {},
   "outputs": [
    {
     "name": "stdout",
     "output_type": "stream",
     "text": [
      "오차행렬:\n",
      " [[ 649  532]\n",
      " [1234 2856]]\n",
      "\n",
      "정확도: 0.6650\n",
      "정밀도: 0.3447\n",
      "재현율: 0.5495\n",
      "F1: 0.4236\n"
     ]
    }
   ],
   "source": [
    "get_clf_eval(y_submission, y_pred)"
   ]
  },
  {
   "cell_type": "markdown",
   "id": "7adf8300",
   "metadata": {},
   "source": [
    "## 4. 제출하기"
   ]
  },
  {
   "cell_type": "markdown",
   "id": "9d0b6e17",
   "metadata": {},
   "source": [
    "### 테스트 데이터 예측"
   ]
  },
  {
   "cell_type": "code",
   "execution_count": 15,
   "id": "d13f7a6e",
   "metadata": {},
   "outputs": [],
   "source": [
    "# Correct prediction on the submission/validation dataset\n",
    "# submission_predictions = dt_classifier.predict(X_submission)  # Use X_submission instead of submission_data\n",
    "submission = pd.read_csv('data/encoded_submission.csv')\n",
    "# Optionally, if you want to add predictions to the submission dataframe to check performance:\n",
    "# Note: This is useful if you're examining the model's performance and not for final submission where you wouldn't have 'is_converted'\n",
    "submission['is_converted'] = y_pred  # Use a new column for predictions"
   ]
  },
  {
   "cell_type": "code",
   "execution_count": 16,
   "id": "efa61c8a",
   "metadata": {},
   "outputs": [
    {
     "data": {
      "text/html": [
       "<div>\n",
       "<style scoped>\n",
       "    .dataframe tbody tr th:only-of-type {\n",
       "        vertical-align: middle;\n",
       "    }\n",
       "\n",
       "    .dataframe tbody tr th {\n",
       "        vertical-align: top;\n",
       "    }\n",
       "\n",
       "    .dataframe thead th {\n",
       "        text-align: right;\n",
       "    }\n",
       "</style>\n",
       "<table border=\"1\" class=\"dataframe\">\n",
       "  <thead>\n",
       "    <tr style=\"text-align: right;\">\n",
       "      <th></th>\n",
       "      <th>id</th>\n",
       "      <th>bant_submit</th>\n",
       "      <th>business_unit</th>\n",
       "      <th>com_reg_ver_win_rate</th>\n",
       "      <th>customer_idx</th>\n",
       "      <th>customer_type</th>\n",
       "      <th>historical_existing_cnt</th>\n",
       "      <th>id_strategic_ver</th>\n",
       "      <th>it_strategic_ver</th>\n",
       "      <th>idit_strategic_ver</th>\n",
       "      <th>...</th>\n",
       "      <th>ver_cus</th>\n",
       "      <th>ver_pro</th>\n",
       "      <th>ver_win_rate_x</th>\n",
       "      <th>ver_win_ratio_per_bu</th>\n",
       "      <th>business_area</th>\n",
       "      <th>business_subarea</th>\n",
       "      <th>lead_owner</th>\n",
       "      <th>is_converted</th>\n",
       "      <th>enterprise_Enterprise</th>\n",
       "      <th>enterprise_SMB</th>\n",
       "    </tr>\n",
       "  </thead>\n",
       "  <tbody>\n",
       "    <tr>\n",
       "      <th>0</th>\n",
       "      <td>19844</td>\n",
       "      <td>0.00</td>\n",
       "      <td>0.224035</td>\n",
       "      <td>0.073248</td>\n",
       "      <td>47466</td>\n",
       "      <td>0.251652</td>\n",
       "      <td>53</td>\n",
       "      <td>0</td>\n",
       "      <td>0</td>\n",
       "      <td>0</td>\n",
       "      <td>...</td>\n",
       "      <td>1</td>\n",
       "      <td>0</td>\n",
       "      <td>0.001183</td>\n",
       "      <td>0.049840</td>\n",
       "      <td>0.244980</td>\n",
       "      <td>0.192308</td>\n",
       "      <td>278</td>\n",
       "      <td>1</td>\n",
       "      <td>True</td>\n",
       "      <td>False</td>\n",
       "    </tr>\n",
       "    <tr>\n",
       "      <th>1</th>\n",
       "      <td>9738</td>\n",
       "      <td>0.25</td>\n",
       "      <td>0.492788</td>\n",
       "      <td>0.102336</td>\n",
       "      <td>5405</td>\n",
       "      <td>0.253414</td>\n",
       "      <td>0</td>\n",
       "      <td>0</td>\n",
       "      <td>0</td>\n",
       "      <td>0</td>\n",
       "      <td>...</td>\n",
       "      <td>0</td>\n",
       "      <td>0</td>\n",
       "      <td>0.000013</td>\n",
       "      <td>0.058388</td>\n",
       "      <td>0.532544</td>\n",
       "      <td>0.439163</td>\n",
       "      <td>437</td>\n",
       "      <td>0</td>\n",
       "      <td>False</td>\n",
       "      <td>True</td>\n",
       "    </tr>\n",
       "    <tr>\n",
       "      <th>2</th>\n",
       "      <td>8491</td>\n",
       "      <td>1.00</td>\n",
       "      <td>0.226788</td>\n",
       "      <td>0.102336</td>\n",
       "      <td>13597</td>\n",
       "      <td>0.313694</td>\n",
       "      <td>0</td>\n",
       "      <td>0</td>\n",
       "      <td>0</td>\n",
       "      <td>0</td>\n",
       "      <td>...</td>\n",
       "      <td>0</td>\n",
       "      <td>0</td>\n",
       "      <td>0.000060</td>\n",
       "      <td>0.131148</td>\n",
       "      <td>0.311321</td>\n",
       "      <td>0.100000</td>\n",
       "      <td>874</td>\n",
       "      <td>0</td>\n",
       "      <td>False</td>\n",
       "      <td>True</td>\n",
       "    </tr>\n",
       "    <tr>\n",
       "      <th>3</th>\n",
       "      <td>19895</td>\n",
       "      <td>0.50</td>\n",
       "      <td>0.225875</td>\n",
       "      <td>0.118644</td>\n",
       "      <td>17204</td>\n",
       "      <td>0.054889</td>\n",
       "      <td>0</td>\n",
       "      <td>0</td>\n",
       "      <td>0</td>\n",
       "      <td>0</td>\n",
       "      <td>...</td>\n",
       "      <td>0</td>\n",
       "      <td>0</td>\n",
       "      <td>0.001183</td>\n",
       "      <td>0.049840</td>\n",
       "      <td>0.265306</td>\n",
       "      <td>0.224056</td>\n",
       "      <td>194</td>\n",
       "      <td>0</td>\n",
       "      <td>True</td>\n",
       "      <td>False</td>\n",
       "    </tr>\n",
       "    <tr>\n",
       "      <th>4</th>\n",
       "      <td>10465</td>\n",
       "      <td>1.00</td>\n",
       "      <td>0.225875</td>\n",
       "      <td>0.074949</td>\n",
       "      <td>2329</td>\n",
       "      <td>0.253823</td>\n",
       "      <td>2</td>\n",
       "      <td>1</td>\n",
       "      <td>0</td>\n",
       "      <td>1</td>\n",
       "      <td>...</td>\n",
       "      <td>1</td>\n",
       "      <td>1</td>\n",
       "      <td>0.003079</td>\n",
       "      <td>0.064566</td>\n",
       "      <td>0.318966</td>\n",
       "      <td>0.241379</td>\n",
       "      <td>167</td>\n",
       "      <td>1</td>\n",
       "      <td>True</td>\n",
       "      <td>False</td>\n",
       "    </tr>\n",
       "    <tr>\n",
       "      <th>...</th>\n",
       "      <td>...</td>\n",
       "      <td>...</td>\n",
       "      <td>...</td>\n",
       "      <td>...</td>\n",
       "      <td>...</td>\n",
       "      <td>...</td>\n",
       "      <td>...</td>\n",
       "      <td>...</td>\n",
       "      <td>...</td>\n",
       "      <td>...</td>\n",
       "      <td>...</td>\n",
       "      <td>...</td>\n",
       "      <td>...</td>\n",
       "      <td>...</td>\n",
       "      <td>...</td>\n",
       "      <td>...</td>\n",
       "      <td>...</td>\n",
       "      <td>...</td>\n",
       "      <td>...</td>\n",
       "      <td>...</td>\n",
       "      <td>...</td>\n",
       "    </tr>\n",
       "    <tr>\n",
       "      <th>5266</th>\n",
       "      <td>13855</td>\n",
       "      <td>0.50</td>\n",
       "      <td>0.163740</td>\n",
       "      <td>0.102336</td>\n",
       "      <td>40292</td>\n",
       "      <td>0.057216</td>\n",
       "      <td>10</td>\n",
       "      <td>0</td>\n",
       "      <td>0</td>\n",
       "      <td>0</td>\n",
       "      <td>...</td>\n",
       "      <td>0</td>\n",
       "      <td>0</td>\n",
       "      <td>0.001093</td>\n",
       "      <td>0.058388</td>\n",
       "      <td>0.224056</td>\n",
       "      <td>0.224056</td>\n",
       "      <td>97</td>\n",
       "      <td>0</td>\n",
       "      <td>True</td>\n",
       "      <td>False</td>\n",
       "    </tr>\n",
       "    <tr>\n",
       "      <th>5267</th>\n",
       "      <td>7979</td>\n",
       "      <td>0.25</td>\n",
       "      <td>0.495215</td>\n",
       "      <td>0.102336</td>\n",
       "      <td>47466</td>\n",
       "      <td>0.051390</td>\n",
       "      <td>0</td>\n",
       "      <td>0</td>\n",
       "      <td>0</td>\n",
       "      <td>0</td>\n",
       "      <td>...</td>\n",
       "      <td>0</td>\n",
       "      <td>0</td>\n",
       "      <td>0.001093</td>\n",
       "      <td>0.058388</td>\n",
       "      <td>0.224056</td>\n",
       "      <td>0.224056</td>\n",
       "      <td>438</td>\n",
       "      <td>0</td>\n",
       "      <td>True</td>\n",
       "      <td>False</td>\n",
       "    </tr>\n",
       "    <tr>\n",
       "      <th>5268</th>\n",
       "      <td>12887</td>\n",
       "      <td>0.75</td>\n",
       "      <td>0.163117</td>\n",
       "      <td>0.102336</td>\n",
       "      <td>46227</td>\n",
       "      <td>0.312000</td>\n",
       "      <td>0</td>\n",
       "      <td>0</td>\n",
       "      <td>0</td>\n",
       "      <td>0</td>\n",
       "      <td>...</td>\n",
       "      <td>0</td>\n",
       "      <td>0</td>\n",
       "      <td>0.001093</td>\n",
       "      <td>0.058388</td>\n",
       "      <td>0.224056</td>\n",
       "      <td>0.224056</td>\n",
       "      <td>97</td>\n",
       "      <td>0</td>\n",
       "      <td>True</td>\n",
       "      <td>False</td>\n",
       "    </tr>\n",
       "    <tr>\n",
       "      <th>5269</th>\n",
       "      <td>17530</td>\n",
       "      <td>0.00</td>\n",
       "      <td>0.493827</td>\n",
       "      <td>0.102336</td>\n",
       "      <td>45667</td>\n",
       "      <td>0.256660</td>\n",
       "      <td>0</td>\n",
       "      <td>0</td>\n",
       "      <td>0</td>\n",
       "      <td>0</td>\n",
       "      <td>...</td>\n",
       "      <td>0</td>\n",
       "      <td>0</td>\n",
       "      <td>0.001093</td>\n",
       "      <td>0.058388</td>\n",
       "      <td>0.224056</td>\n",
       "      <td>0.224056</td>\n",
       "      <td>429</td>\n",
       "      <td>0</td>\n",
       "      <td>False</td>\n",
       "      <td>True</td>\n",
       "    </tr>\n",
       "    <tr>\n",
       "      <th>5270</th>\n",
       "      <td>4330</td>\n",
       "      <td>0.25</td>\n",
       "      <td>0.163740</td>\n",
       "      <td>0.102336</td>\n",
       "      <td>23646</td>\n",
       "      <td>0.256660</td>\n",
       "      <td>0</td>\n",
       "      <td>0</td>\n",
       "      <td>0</td>\n",
       "      <td>0</td>\n",
       "      <td>...</td>\n",
       "      <td>0</td>\n",
       "      <td>0</td>\n",
       "      <td>0.001093</td>\n",
       "      <td>0.058388</td>\n",
       "      <td>0.224056</td>\n",
       "      <td>0.224056</td>\n",
       "      <td>4</td>\n",
       "      <td>0</td>\n",
       "      <td>True</td>\n",
       "      <td>False</td>\n",
       "    </tr>\n",
       "  </tbody>\n",
       "</table>\n",
       "<p>5271 rows × 29 columns</p>\n",
       "</div>"
      ],
      "text/plain": [
       "         id  bant_submit  business_unit  com_reg_ver_win_rate  customer_idx  \\\n",
       "0     19844         0.00       0.224035              0.073248         47466   \n",
       "1      9738         0.25       0.492788              0.102336          5405   \n",
       "2      8491         1.00       0.226788              0.102336         13597   \n",
       "3     19895         0.50       0.225875              0.118644         17204   \n",
       "4     10465         1.00       0.225875              0.074949          2329   \n",
       "...     ...          ...            ...                   ...           ...   \n",
       "5266  13855         0.50       0.163740              0.102336         40292   \n",
       "5267   7979         0.25       0.495215              0.102336         47466   \n",
       "5268  12887         0.75       0.163117              0.102336         46227   \n",
       "5269  17530         0.00       0.493827              0.102336         45667   \n",
       "5270   4330         0.25       0.163740              0.102336         23646   \n",
       "\n",
       "      customer_type  historical_existing_cnt  id_strategic_ver  \\\n",
       "0          0.251652                       53                 0   \n",
       "1          0.253414                        0                 0   \n",
       "2          0.313694                        0                 0   \n",
       "3          0.054889                        0                 0   \n",
       "4          0.253823                        2                 1   \n",
       "...             ...                      ...               ...   \n",
       "5266       0.057216                       10                 0   \n",
       "5267       0.051390                        0                 0   \n",
       "5268       0.312000                        0                 0   \n",
       "5269       0.256660                        0                 0   \n",
       "5270       0.256660                        0                 0   \n",
       "\n",
       "      it_strategic_ver  idit_strategic_ver  ...  ver_cus  ver_pro  \\\n",
       "0                    0                   0  ...        1        0   \n",
       "1                    0                   0  ...        0        0   \n",
       "2                    0                   0  ...        0        0   \n",
       "3                    0                   0  ...        0        0   \n",
       "4                    0                   1  ...        1        1   \n",
       "...                ...                 ...  ...      ...      ...   \n",
       "5266                 0                   0  ...        0        0   \n",
       "5267                 0                   0  ...        0        0   \n",
       "5268                 0                   0  ...        0        0   \n",
       "5269                 0                   0  ...        0        0   \n",
       "5270                 0                   0  ...        0        0   \n",
       "\n",
       "      ver_win_rate_x  ver_win_ratio_per_bu  business_area  business_subarea  \\\n",
       "0           0.001183              0.049840       0.244980          0.192308   \n",
       "1           0.000013              0.058388       0.532544          0.439163   \n",
       "2           0.000060              0.131148       0.311321          0.100000   \n",
       "3           0.001183              0.049840       0.265306          0.224056   \n",
       "4           0.003079              0.064566       0.318966          0.241379   \n",
       "...              ...                   ...            ...               ...   \n",
       "5266        0.001093              0.058388       0.224056          0.224056   \n",
       "5267        0.001093              0.058388       0.224056          0.224056   \n",
       "5268        0.001093              0.058388       0.224056          0.224056   \n",
       "5269        0.001093              0.058388       0.224056          0.224056   \n",
       "5270        0.001093              0.058388       0.224056          0.224056   \n",
       "\n",
       "      lead_owner  is_converted  enterprise_Enterprise  enterprise_SMB  \n",
       "0            278             1                   True           False  \n",
       "1            437             0                  False            True  \n",
       "2            874             0                  False            True  \n",
       "3            194             0                   True           False  \n",
       "4            167             1                   True           False  \n",
       "...          ...           ...                    ...             ...  \n",
       "5266          97             0                   True           False  \n",
       "5267         438             0                   True           False  \n",
       "5268          97             0                   True           False  \n",
       "5269         429             0                  False            True  \n",
       "5270           4             0                   True           False  \n",
       "\n",
       "[5271 rows x 29 columns]"
      ]
     },
     "execution_count": 16,
     "metadata": {},
     "output_type": "execute_result"
    }
   ],
   "source": [
    "submission"
   ]
  },
  {
   "cell_type": "markdown",
   "id": "47f18e6a",
   "metadata": {},
   "source": [
    "### 제출 파일 작성"
   ]
  },
  {
   "cell_type": "code",
   "execution_count": 17,
   "id": "3128a458",
   "metadata": {},
   "outputs": [],
   "source": [
    "# submission.to_csv('submission.csv', index=False)"
   ]
  }
 ],
 "metadata": {
  "kernelspec": {
   "display_name": "Python 3 (ipykernel)",
   "language": "python",
   "name": "python3"
  },
  "language_info": {
   "codemirror_mode": {
    "name": "ipython",
    "version": 3
   },
   "file_extension": ".py",
   "mimetype": "text/x-python",
   "name": "python",
   "nbconvert_exporter": "python",
   "pygments_lexer": "ipython3",
   "version": "3.11.1"
  }
 },
 "nbformat": 4,
 "nbformat_minor": 5
}
