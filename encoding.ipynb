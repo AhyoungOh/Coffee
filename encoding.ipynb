{
 "cells": [
  {
   "cell_type": "code",
   "execution_count": 204,
   "metadata": {},
   "outputs": [],
   "source": [
    "import numpy as np \n",
    "import matplotlib.pyplot as plt\n",
    "import seaborn as sns\n",
    "import pandas as pd"
   ]
  },
  {
   "cell_type": "code",
   "execution_count": 205,
   "metadata": {},
   "outputs": [
    {
     "data": {
      "text/html": [
       "<div>\n",
       "<style scoped>\n",
       "    .dataframe tbody tr th:only-of-type {\n",
       "        vertical-align: middle;\n",
       "    }\n",
       "\n",
       "    .dataframe tbody tr th {\n",
       "        vertical-align: top;\n",
       "    }\n",
       "\n",
       "    .dataframe thead th {\n",
       "        text-align: right;\n",
       "    }\n",
       "</style>\n",
       "<table border=\"1\" class=\"dataframe\">\n",
       "  <thead>\n",
       "    <tr style=\"text-align: right;\">\n",
       "      <th></th>\n",
       "      <th>bant_submit</th>\n",
       "      <th>business_unit</th>\n",
       "      <th>com_reg_ver_win_rate</th>\n",
       "      <th>customer_idx</th>\n",
       "      <th>customer_type</th>\n",
       "      <th>enterprise</th>\n",
       "      <th>historical_existing_cnt</th>\n",
       "      <th>id_strategic_ver</th>\n",
       "      <th>it_strategic_ver</th>\n",
       "      <th>idit_strategic_ver</th>\n",
       "      <th>...</th>\n",
       "      <th>response_corporate</th>\n",
       "      <th>expected_timeline</th>\n",
       "      <th>ver_cus</th>\n",
       "      <th>ver_pro</th>\n",
       "      <th>ver_win_rate_x</th>\n",
       "      <th>ver_win_ratio_per_bu</th>\n",
       "      <th>business_area</th>\n",
       "      <th>business_subarea</th>\n",
       "      <th>lead_owner</th>\n",
       "      <th>is_converted</th>\n",
       "    </tr>\n",
       "  </thead>\n",
       "  <tbody>\n",
       "    <tr>\n",
       "      <th>0</th>\n",
       "      <td>1.0</td>\n",
       "      <td>AS</td>\n",
       "      <td>0.066667</td>\n",
       "      <td>32160</td>\n",
       "      <td>End-Customer</td>\n",
       "      <td>Enterprise</td>\n",
       "      <td>0</td>\n",
       "      <td>0</td>\n",
       "      <td>0</td>\n",
       "      <td>0</td>\n",
       "      <td>...</td>\n",
       "      <td>LGEPH</td>\n",
       "      <td>less than 3 months</td>\n",
       "      <td>1</td>\n",
       "      <td>0</td>\n",
       "      <td>0.003079</td>\n",
       "      <td>0.026846</td>\n",
       "      <td>corporate / office</td>\n",
       "      <td>Engineering</td>\n",
       "      <td>0</td>\n",
       "      <td>True</td>\n",
       "    </tr>\n",
       "    <tr>\n",
       "      <th>1</th>\n",
       "      <td>1.0</td>\n",
       "      <td>AS</td>\n",
       "      <td>0.066667</td>\n",
       "      <td>23122</td>\n",
       "      <td>End-Customer</td>\n",
       "      <td>Enterprise</td>\n",
       "      <td>12</td>\n",
       "      <td>0</td>\n",
       "      <td>0</td>\n",
       "      <td>0</td>\n",
       "      <td>...</td>\n",
       "      <td>LGEPH</td>\n",
       "      <td>less than 3 months</td>\n",
       "      <td>1</td>\n",
       "      <td>0</td>\n",
       "      <td>0.003079</td>\n",
       "      <td>0.026846</td>\n",
       "      <td>corporate / office</td>\n",
       "      <td>Advertising</td>\n",
       "      <td>1</td>\n",
       "      <td>True</td>\n",
       "    </tr>\n",
       "    <tr>\n",
       "      <th>2</th>\n",
       "      <td>1.0</td>\n",
       "      <td>AS</td>\n",
       "      <td>0.088889</td>\n",
       "      <td>1755</td>\n",
       "      <td>End-Customer</td>\n",
       "      <td>Enterprise</td>\n",
       "      <td>144</td>\n",
       "      <td>0</td>\n",
       "      <td>0</td>\n",
       "      <td>0</td>\n",
       "      <td>...</td>\n",
       "      <td>LGEIL</td>\n",
       "      <td>less than 3 months</td>\n",
       "      <td>1</td>\n",
       "      <td>0</td>\n",
       "      <td>0.003079</td>\n",
       "      <td>0.026846</td>\n",
       "      <td>corporate / office</td>\n",
       "      <td>Construction</td>\n",
       "      <td>2</td>\n",
       "      <td>True</td>\n",
       "    </tr>\n",
       "    <tr>\n",
       "      <th>3</th>\n",
       "      <td>1.0</td>\n",
       "      <td>AS</td>\n",
       "      <td>0.088889</td>\n",
       "      <td>4919</td>\n",
       "      <td>End-Customer</td>\n",
       "      <td>Enterprise</td>\n",
       "      <td>0</td>\n",
       "      <td>0</td>\n",
       "      <td>0</td>\n",
       "      <td>0</td>\n",
       "      <td>...</td>\n",
       "      <td>LGEIL</td>\n",
       "      <td>less than 3 months</td>\n",
       "      <td>1</td>\n",
       "      <td>0</td>\n",
       "      <td>0.003079</td>\n",
       "      <td>0.026846</td>\n",
       "      <td>corporate / office</td>\n",
       "      <td>IT/Software</td>\n",
       "      <td>3</td>\n",
       "      <td>True</td>\n",
       "    </tr>\n",
       "    <tr>\n",
       "      <th>4</th>\n",
       "      <td>1.0</td>\n",
       "      <td>AS</td>\n",
       "      <td>0.088889</td>\n",
       "      <td>17126</td>\n",
       "      <td>Specifier/ Influencer</td>\n",
       "      <td>Enterprise</td>\n",
       "      <td>0</td>\n",
       "      <td>0</td>\n",
       "      <td>0</td>\n",
       "      <td>0</td>\n",
       "      <td>...</td>\n",
       "      <td>LGEIL</td>\n",
       "      <td>less than 3 months</td>\n",
       "      <td>0</td>\n",
       "      <td>0</td>\n",
       "      <td>0.003079</td>\n",
       "      <td>0.026846</td>\n",
       "      <td>corporate / office</td>\n",
       "      <td>NaN</td>\n",
       "      <td>4</td>\n",
       "      <td>True</td>\n",
       "    </tr>\n",
       "  </tbody>\n",
       "</table>\n",
       "<p>5 rows × 27 columns</p>\n",
       "</div>"
      ],
      "text/plain": [
       "   bant_submit business_unit  com_reg_ver_win_rate  customer_idx  \\\n",
       "0          1.0            AS              0.066667         32160   \n",
       "1          1.0            AS              0.066667         23122   \n",
       "2          1.0            AS              0.088889          1755   \n",
       "3          1.0            AS              0.088889          4919   \n",
       "4          1.0            AS              0.088889         17126   \n",
       "\n",
       "           customer_type  enterprise  historical_existing_cnt  \\\n",
       "0           End-Customer  Enterprise                        0   \n",
       "1           End-Customer  Enterprise                       12   \n",
       "2           End-Customer  Enterprise                      144   \n",
       "3           End-Customer  Enterprise                        0   \n",
       "4  Specifier/ Influencer  Enterprise                        0   \n",
       "\n",
       "   id_strategic_ver  it_strategic_ver  idit_strategic_ver  ...  \\\n",
       "0                 0                 0                   0  ...   \n",
       "1                 0                 0                   0  ...   \n",
       "2                 0                 0                   0  ...   \n",
       "3                 0                 0                   0  ...   \n",
       "4                 0                 0                   0  ...   \n",
       "\n",
       "  response_corporate   expected_timeline ver_cus ver_pro ver_win_rate_x  \\\n",
       "0              LGEPH  less than 3 months       1       0       0.003079   \n",
       "1              LGEPH  less than 3 months       1       0       0.003079   \n",
       "2              LGEIL  less than 3 months       1       0       0.003079   \n",
       "3              LGEIL  less than 3 months       1       0       0.003079   \n",
       "4              LGEIL  less than 3 months       0       0       0.003079   \n",
       "\n",
       "  ver_win_ratio_per_bu       business_area business_subarea lead_owner  \\\n",
       "0             0.026846  corporate / office      Engineering          0   \n",
       "1             0.026846  corporate / office      Advertising          1   \n",
       "2             0.026846  corporate / office     Construction          2   \n",
       "3             0.026846  corporate / office      IT/Software          3   \n",
       "4             0.026846  corporate / office              NaN          4   \n",
       "\n",
       "   is_converted  \n",
       "0          True  \n",
       "1          True  \n",
       "2          True  \n",
       "3          True  \n",
       "4          True  \n",
       "\n",
       "[5 rows x 27 columns]"
      ]
     },
     "execution_count": 205,
     "metadata": {},
     "output_type": "execute_result"
    }
   ],
   "source": [
    "df = pd.read_csv('./data/preprocessed_train_fin_two.csv')\n",
    "df.head()"
   ]
  },
  {
   "cell_type": "code",
   "execution_count": 206,
   "metadata": {},
   "outputs": [
    {
     "name": "stdout",
     "output_type": "stream",
     "text": [
      "27\n"
     ]
    },
    {
     "data": {
      "text/plain": [
       "Index(['bant_submit', 'business_unit', 'com_reg_ver_win_rate', 'customer_idx',\n",
       "       'customer_type', 'enterprise', 'historical_existing_cnt',\n",
       "       'id_strategic_ver', 'it_strategic_ver', 'idit_strategic_ver',\n",
       "       'customer_job', 'lead_desc_length', 'product_category',\n",
       "       'product_subcategory', 'product_modelname', 'customer_country.1',\n",
       "       'customer_position', 'response_corporate', 'expected_timeline',\n",
       "       'ver_cus', 'ver_pro', 'ver_win_rate_x', 'ver_win_ratio_per_bu',\n",
       "       'business_area', 'business_subarea', 'lead_owner', 'is_converted'],\n",
       "      dtype='object')"
      ]
     },
     "execution_count": 206,
     "metadata": {},
     "output_type": "execute_result"
    }
   ],
   "source": [
    "print(len(df.columns))\n",
    "df.columns"
   ]
  },
  {
   "cell_type": "code",
   "execution_count": 207,
   "metadata": {},
   "outputs": [
    {
     "name": "stdout",
     "output_type": "stream",
     "text": [
      "business_unit\n",
      "customer_type\n",
      "enterprise\n",
      "customer_job\n",
      "product_category\n",
      "product_subcategory\n",
      "product_modelname\n",
      "customer_country.1\n",
      "customer_position\n",
      "response_corporate\n",
      "expected_timeline\n",
      "business_area\n",
      "business_subarea\n",
      "is_converted\n"
     ]
    }
   ],
   "source": [
    "# categorical columns\n",
    "\n",
    "for col in df.columns:\n",
    "    if df[col].dtype != 'int64' and df[col].dtype != 'float64':\n",
    "        print(col)"
   ]
  },
  {
   "cell_type": "code",
   "execution_count": 208,
   "metadata": {},
   "outputs": [
    {
     "name": "stdout",
     "output_type": "stream",
     "text": [
      "bant_submit\n",
      "com_reg_ver_win_rate\n",
      "customer_idx\n",
      "historical_existing_cnt\n",
      "id_strategic_ver\n",
      "it_strategic_ver\n",
      "idit_strategic_ver\n",
      "lead_desc_length\n",
      "ver_cus\n",
      "ver_pro\n",
      "ver_win_rate_x\n",
      "ver_win_ratio_per_bu\n",
      "lead_owner\n"
     ]
    }
   ],
   "source": [
    "#numerical columns\n",
    "\n",
    "for col in df.columns:\n",
    "    if df[col].dtype == 'int64' or df[col].dtype == 'float64':\n",
    "        print(col)"
   ]
  },
  {
   "cell_type": "markdown",
   "metadata": {},
   "source": [
    "## customer_country.1"
   ]
  },
  {
   "cell_type": "markdown",
   "metadata": {},
   "source": [
    "### 5 fold Target Encoding"
   ]
  },
  {
   "cell_type": "code",
   "execution_count": 209,
   "metadata": {},
   "outputs": [
    {
     "data": {
      "text/plain": [
       "405"
      ]
     },
     "execution_count": 209,
     "metadata": {},
     "output_type": "execute_result"
    }
   ],
   "source": [
    "len(df['customer_country.1'].unique())"
   ]
  },
  {
   "cell_type": "code",
   "execution_count": 210,
   "metadata": {},
   "outputs": [
    {
     "name": "stdout",
     "output_type": "stream",
     "text": [
      "  customer_country.1  customer_country.1_te\n",
      "0        Philippines               0.093638\n",
      "1        Philippines               0.091194\n",
      "2              India               0.071457\n",
      "3              India               0.070357\n",
      "4              India               0.071825\n"
     ]
    }
   ],
   "source": [
    "from sklearn.model_selection import StratifiedKFold\n",
    "\n",
    "# Ensure 'is_converted' is binary for stratification, convert if necessary\n",
    "# Convert boolean True/False to 1/0 directly\n",
    "df['is_converted'] = df['is_converted'].astype(int)\n",
    "\n",
    "# Prepare the StratifiedKFold object\n",
    "skf = StratifiedKFold(n_splits=10, shuffle=True, random_state=42)\n",
    "\n",
    "# Placeholder for the target encoded feature\n",
    "df['customer_country.1_te'] = np.nan\n",
    "\n",
    "for train_index, test_index in skf.split(df, df['is_converted']):\n",
    "    # Split the data\n",
    "    X_train, X_test = df.iloc[train_index], df.iloc[test_index]\n",
    "    \n",
    "    # Compute target mean for each category in 'customer_country.1' excluding the current fold\n",
    "    means = X_train.groupby('customer_country.1')['is_converted'].mean()\n",
    "    \n",
    "    # Map the computed means to the test portion of the fold\n",
    "    df.loc[test_index, 'customer_country.1_te'] = X_test['customer_country.1'].map(means)\n",
    "\n",
    "# For any missing values in the target encoded feature (e.g., categories present only in test folds),\n",
    "# fill with the global mean of 'is_converted'\n",
    "global_mean = df['is_converted'].mean()\n",
    "df['customer_country.1_te'].fillna(global_mean, inplace=True)\n",
    "\n",
    "# Show the first few rows to verify\n",
    "print(df[['customer_country.1', 'customer_country.1_te']].head())"
   ]
  },
  {
   "cell_type": "code",
   "execution_count": 211,
   "metadata": {},
   "outputs": [
    {
     "name": "stdout",
     "output_type": "stream",
     "text": [
      "27\n"
     ]
    },
    {
     "data": {
      "text/plain": [
       "Index(['bant_submit', 'business_unit', 'com_reg_ver_win_rate', 'customer_idx',\n",
       "       'customer_type', 'enterprise', 'historical_existing_cnt',\n",
       "       'id_strategic_ver', 'it_strategic_ver', 'idit_strategic_ver',\n",
       "       'customer_job', 'lead_desc_length', 'product_category',\n",
       "       'product_subcategory', 'product_modelname', 'customer_country.1',\n",
       "       'customer_position', 'response_corporate', 'expected_timeline',\n",
       "       'ver_cus', 'ver_pro', 'ver_win_rate_x', 'ver_win_ratio_per_bu',\n",
       "       'business_area', 'business_subarea', 'lead_owner', 'is_converted'],\n",
       "      dtype='object')"
      ]
     },
     "execution_count": 211,
     "metadata": {},
     "output_type": "execute_result"
    }
   ],
   "source": [
    "# replace the original column with the target encoded column, but the order matters\n",
    "\n",
    "df['customer_country.1'] = df['customer_country.1_te']\n",
    "df.drop('customer_country.1_te', axis=1, inplace=True)\n",
    "print(len(df.columns))\n",
    "df.columns"
   ]
  },
  {
   "cell_type": "markdown",
   "metadata": {},
   "source": [
    "## business_unit"
   ]
  },
  {
   "cell_type": "markdown",
   "metadata": {},
   "source": [
    "### 5fold te"
   ]
  },
  {
   "cell_type": "code",
   "execution_count": 212,
   "metadata": {},
   "outputs": [
    {
     "data": {
      "text/plain": [
       "array(['AS', 'ID', 'IT', 'Solution', 'CM'], dtype=object)"
      ]
     },
     "execution_count": 212,
     "metadata": {},
     "output_type": "execute_result"
    }
   ],
   "source": [
    "df.business_unit.unique()"
   ]
  },
  {
   "cell_type": "code",
   "execution_count": 213,
   "metadata": {},
   "outputs": [
    {
     "name": "stdout",
     "output_type": "stream",
     "text": [
      "  business_unit  business_unit_te\n",
      "0            AS          0.060187\n",
      "1            AS          0.060187\n",
      "2            AS          0.060283\n",
      "3            AS          0.059962\n",
      "4            AS          0.060107\n"
     ]
    }
   ],
   "source": [
    "# Apply one-hot encoding to 'business_unit'\n",
    "kf = KFold(n_splits=5, shuffle=True, random_state=42)\n",
    "\n",
    "# Create a new column for the target-encoded 'business_area'\n",
    "df['business_unit_te'] = np.nan\n",
    "\n",
    "for train_idx, val_idx in kf.split(df):\n",
    "    # Split the data into training and validation sets\n",
    "    X_train, X_val = df.iloc[train_idx], df.iloc[val_idx]\n",
    "    \n",
    "    # Compute the target mean for each category in 'business_area' on the training data\n",
    "    means = X_train.groupby('business_unit')['is_converted'].mean()\n",
    "    \n",
    "    # Map the computed means to the validation set\n",
    "    df.loc[val_idx, 'business_unit_te'] = X_val['business_unit'].map(means)\n",
    "\n",
    "# Fill missing values for any 'business_area' not seen in the training folds with the global mean\n",
    "global_mean = df['is_converted'].mean()\n",
    "df['business_unit_te'].fillna(global_mean, inplace=True)\n",
    "\n",
    "# Verify the changes\n",
    "print(df[['business_unit', 'business_unit_te']].head())"
   ]
  },
  {
   "cell_type": "code",
   "execution_count": 214,
   "metadata": {},
   "outputs": [
    {
     "name": "stdout",
     "output_type": "stream",
     "text": [
      "27\n"
     ]
    },
    {
     "data": {
      "text/plain": [
       "Index(['bant_submit', 'business_unit', 'com_reg_ver_win_rate', 'customer_idx',\n",
       "       'customer_type', 'enterprise', 'historical_existing_cnt',\n",
       "       'id_strategic_ver', 'it_strategic_ver', 'idit_strategic_ver',\n",
       "       'customer_job', 'lead_desc_length', 'product_category',\n",
       "       'product_subcategory', 'product_modelname', 'customer_country.1',\n",
       "       'customer_position', 'response_corporate', 'expected_timeline',\n",
       "       'ver_cus', 'ver_pro', 'ver_win_rate_x', 'ver_win_ratio_per_bu',\n",
       "       'business_area', 'business_subarea', 'lead_owner', 'is_converted'],\n",
       "      dtype='object')"
      ]
     },
     "execution_count": 214,
     "metadata": {},
     "output_type": "execute_result"
    }
   ],
   "source": [
    "df['business_unit'] = df['business_unit_te']\n",
    "df.drop('business_unit_te', axis=1, inplace=True)\n",
    "print(len(df.columns))\n",
    "df.columns"
   ]
  },
  {
   "cell_type": "markdown",
   "metadata": {},
   "source": [
    "## Customer_Type"
   ]
  },
  {
   "cell_type": "markdown",
   "metadata": {},
   "source": [
    "### 5-fold Target Encoding"
   ]
  },
  {
   "cell_type": "code",
   "execution_count": 215,
   "metadata": {},
   "outputs": [
    {
     "name": "stdout",
     "output_type": "stream",
     "text": [
      "['End-Customer' 'Specifier/ Influencer' 'Service Partner'\n",
      " 'Channel Partner' 'Unknown' 'Corporate' 'End Customer'\n",
      " 'Specifier / Influencer' 'Solution Eco-Partner' 'Distributor' 'Other'\n",
      " 'System Integrator' 'Consultant' 'Installer' 'Homeowner' 'Others'\n",
      " 'Technician' 'Installer/Contractor' 'Engineer' 'Manager / Director'\n",
      " 'Developer' 'Etc.' 'Architect/Consultant' 'End-user' 'HVAC Engineer'\n",
      " 'Reseller' 'Software/Solution Provider' 'Software / Solution Provider'\n",
      " 'Dealer/Distributor' 'Technical Assistant' 'Commercial end-user'\n",
      " 'Interior Designer' 'Home Owner' 'Administrator']\n"
     ]
    },
    {
     "data": {
      "text/plain": [
       "34"
      ]
     },
     "execution_count": 215,
     "metadata": {},
     "output_type": "execute_result"
    }
   ],
   "source": [
    "print(df.customer_type.unique())\n",
    "len(df.customer_type.unique())"
   ]
  },
  {
   "cell_type": "code",
   "execution_count": 216,
   "metadata": {},
   "outputs": [],
   "source": [
    "from sklearn.model_selection import KFold\n",
    "import numpy as np\n",
    "\n",
    "# Initialize KFold\n",
    "kf = KFold(n_splits=5, shuffle=True, random_state=42)\n",
    "\n",
    "# Create a new column for the target-encoded 'customer_type'\n",
    "df['customer_type_te'] = np.nan\n",
    "\n",
    "# Apply K-fold target encoding\n",
    "for train_idx, val_idx in kf.split(df):\n",
    "    # Split the data\n",
    "    df_train, df_val = df.iloc[train_idx], df.iloc[val_idx]\n",
    "    # Compute the target mean for each category in 'customer_type' on the training data\n",
    "    means = df_train.groupby('customer_type')['is_converted'].mean()\n",
    "    # Map the computed means to the validation set\n",
    "    df.loc[val_idx, 'customer_type_te'] = df_val['customer_type'].map(means)\n",
    "\n",
    "# Fill missing values for any 'customer_type' not seen in the training folds\n",
    "global_mean = df['is_converted'].mean()\n",
    "df['customer_type_te'].fillna(global_mean, inplace=True)"
   ]
  },
  {
   "cell_type": "code",
   "execution_count": 217,
   "metadata": {},
   "outputs": [
    {
     "name": "stdout",
     "output_type": "stream",
     "text": [
      "27\n"
     ]
    },
    {
     "data": {
      "text/plain": [
       "Index(['bant_submit', 'business_unit', 'com_reg_ver_win_rate', 'customer_idx',\n",
       "       'customer_type', 'enterprise', 'historical_existing_cnt',\n",
       "       'id_strategic_ver', 'it_strategic_ver', 'idit_strategic_ver',\n",
       "       'customer_job', 'lead_desc_length', 'product_category',\n",
       "       'product_subcategory', 'product_modelname', 'customer_country.1',\n",
       "       'customer_position', 'response_corporate', 'expected_timeline',\n",
       "       'ver_cus', 'ver_pro', 'ver_win_rate_x', 'ver_win_ratio_per_bu',\n",
       "       'business_area', 'business_subarea', 'lead_owner', 'is_converted'],\n",
       "      dtype='object')"
      ]
     },
     "execution_count": 217,
     "metadata": {},
     "output_type": "execute_result"
    }
   ],
   "source": [
    "# replace the original column with the target encoded column, but the order matters\n",
    "\n",
    "df['customer_type'] = df['customer_type_te']\n",
    "df.drop('customer_type_te', axis=1, inplace=True)\n",
    "print(len(df.columns))\n",
    "df.columns"
   ]
  },
  {
   "cell_type": "markdown",
   "metadata": {},
   "source": [
    "## Enterprise"
   ]
  },
  {
   "cell_type": "markdown",
   "metadata": {},
   "source": [
    "### One-Hot Encoding"
   ]
  },
  {
   "cell_type": "code",
   "execution_count": 218,
   "metadata": {},
   "outputs": [
    {
     "name": "stdout",
     "output_type": "stream",
     "text": [
      "['Enterprise' 'SMB']\n"
     ]
    },
    {
     "data": {
      "text/plain": [
       "2"
      ]
     },
     "execution_count": 218,
     "metadata": {},
     "output_type": "execute_result"
    }
   ],
   "source": [
    "print(df.enterprise.unique())\n",
    "len(df.enterprise.unique())"
   ]
  },
  {
   "cell_type": "code",
   "execution_count": 219,
   "metadata": {},
   "outputs": [],
   "source": [
    "df_one_hot = pd.get_dummies(df, columns=['enterprise'], prefix='enterprise', drop_first=False)\n",
    "\n",
    "# The drop_first=True option drops the first category column, avoiding multicollinearity\n",
    "# 'prefix' is used to name the new column(s) based on the original column name for clarity\n",
    "\n",
    "# # Display the first few rows to verify the new one-hot encoded column\n",
    "# print(df_one_hot.head())"
   ]
  },
  {
   "cell_type": "code",
   "execution_count": 220,
   "metadata": {},
   "outputs": [
    {
     "name": "stdout",
     "output_type": "stream",
     "text": [
      "28\n"
     ]
    },
    {
     "data": {
      "text/plain": [
       "Index(['bant_submit', 'business_unit', 'com_reg_ver_win_rate', 'customer_idx',\n",
       "       'customer_type', 'historical_existing_cnt', 'id_strategic_ver',\n",
       "       'it_strategic_ver', 'idit_strategic_ver', 'customer_job',\n",
       "       'lead_desc_length', 'product_category', 'product_subcategory',\n",
       "       'product_modelname', 'customer_country.1', 'customer_position',\n",
       "       'response_corporate', 'expected_timeline', 'ver_cus', 'ver_pro',\n",
       "       'ver_win_rate_x', 'ver_win_ratio_per_bu', 'business_area',\n",
       "       'business_subarea', 'lead_owner', 'is_converted',\n",
       "       'enterprise_Enterprise', 'enterprise_SMB'],\n",
       "      dtype='object')"
      ]
     },
     "execution_count": 220,
     "metadata": {},
     "output_type": "execute_result"
    }
   ],
   "source": [
    "df = df_one_hot\n",
    "print(len(df.columns))\n",
    "df.columns"
   ]
  },
  {
   "cell_type": "markdown",
   "metadata": {},
   "source": [
    "## customer_job"
   ]
  },
  {
   "cell_type": "markdown",
   "metadata": {},
   "source": [
    "### 5fold Target Encoding"
   ]
  },
  {
   "cell_type": "code",
   "execution_count": 221,
   "metadata": {},
   "outputs": [
    {
     "name": "stdout",
     "output_type": "stream",
     "text": [
      "['purchasing' 'media and communication' 'engineering' 'entrepreneurship'\n",
      " 'consulting' 'program and project management' 'sales' 'other'\n",
      " 'operations' nan 'administrative' 'business development'\n",
      " 'information technology' 'accounting' 'education' 'healthcare services'\n",
      " 'human resources' 'support' 'finance' 'marketing' 'legal'\n",
      " 'quality assurance' 'arts and design' 'real estate'\n",
      " 'military and protective services' 'research' 'product management'\n",
      " 'bidder' 'community and social services' 'research/install'\n",
      " 'project manager' 'technical' 'details send' 'architect' 'curation'\n",
      " 'developer/property' 'radiology professional' 'graphic/color art'\n",
      " 'medical imaging specialist' 'medical solution provider' 'manager'\n",
      " 'owner' 'designer' 'recommend' 'consultant / purchaser'\n",
      " 'system installer' 'technical advisor, reseller' 'director it'\n",
      " 'execution' 'owning company' 'president for sennco'\n",
      " 'artist, lead on equipment selection' 'specifier / integrator'\n",
      " 'systems designer' 'public bidder' 'technology designer' 'buyer'\n",
      " 'project coordinator' 'research and instalaltion' 'vp/gm' 'project lead'\n",
      " 'manufacturer' 'av tech' 'decision maker' 'director' 'fashion'\n",
      " 'consultant' 'general manager' 'replacing tv' 'purchasing manager'\n",
      " 'design and installation company' 'purchaser' 'chief engineer' 'ceo' 'gm'\n",
      " 'general contractor' 'maintenance supervisor' 'integrator' 'lead'\n",
      " 'operations manager' 'it director' 'engineer' 'admin' 'purchase'\n",
      " 'it specialist' 'coordinator' 'it manager' 'administrative assistant'\n",
      " 'equipment custodian' 'comanager' 'tech service' 'requisition'\n",
      " 'engineering director' 'sales manager' 'project facilitator'\n",
      " 'office manager' 'testing and troubleshooting' 'art installation'\n",
      " 'distributor' 'supplier' 'design and provide equipment' 'director,it'\n",
      " 'director of it' 'team leader' 'purchaser, it and installer'\n",
      " 'need 1 tv 55\" edge led 4k uhd' 'tv studio manager' 'site manager'\n",
      " 'purchasing agent' \"i'm directing it\" 'support/facilitator, designer'\n",
      " 'strategy & operations specialist' 'change tv' 'influencer'\n",
      " 'wall mounted screen mirroring' 'organizer' 'using for window display'\n",
      " 'leader' 'requirements and buyer' 'it integrator'\n",
      " 'purchasing coordinator' 'admin assistant'\n",
      " 'obtain quotes, process purchase' 'planner/purchaser' 'gc' 'need one tv'\n",
      " 'projection manager' 'the person with the credit card'\n",
      " 'helpdesk specialist' 'product owner' 'maintenance' 'liason'\n",
      " 'global lead of production' 'architect/owner' 'lead designer'\n",
      " 'display our products' 'designer, producer' 'managing employee'\n",
      " 'project manager / estimator' 'gm/part owner'\n",
      " 'sliding pictures of beauty salon' 'head of technology' 'user' 'hotel tv'\n",
      " 'ownner-marketing director' 'managgere' 'ordering manager'\n",
      " 'display screen' 'business owner' 'overseer' 'av technician'\n",
      " '5% of hotel needs' 'marketing coordinator' 'pm' 'retailer/installer'\n",
      " 'primary' 'sub contractor' 'facilitator'\n",
      " 'development coordinator/procurement' 'engagement executive' 'video wall'\n",
      " 'reviewer' 'project architect' 'it dairector' 'procurement' 'end user'\n",
      " 'installer' 'head' 'reseller' 'director purchaser' 'vendor / reseller'\n",
      " 'it department' 'supervisor' 'producer' 'senior design engineer'\n",
      " 'investigator' 'solution advisor' 'purchasing director' 'facilities'\n",
      " 'federal government contractor' 'stakeholder' 'primary end-user'\n",
      " 'it project lead' 'designer, creative technologist'\n",
      " 'sourcing & quoting for end user' 'integration' 'design and install'\n",
      " 'sales executive' 'designer/ engineer' 'coo' 'designer/installer'\n",
      " 'contractor/owner' 'advertising and promotions team' 'sourcing'\n",
      " 'facility manager' 'project manager / principal' 'managing contractor'\n",
      " 'signage subcontractor p/m' 'solutions provider and specifier'\n",
      " 'project team member' 'solutions architect' 'drop, purchase maxhub'\n",
      " 'informatics, touch capability' 'digital signage' 'asset management'\n",
      " 'contractor' 'teacher' 'service coordinator' 'platform administrator'\n",
      " 'tester' 'studio manager' 'purchase and install'\n",
      " 'asking for quote for client' 'general manager- purchaser'\n",
      " 'purchasing authority' 'product research' 'creative director' 'salesman'\n",
      " 'hotel manager' 'post install support and service' 'quotation curator'\n",
      " 'hardware' 'repair uhd 120 hz units' 'recommendation' 'tech'\n",
      " 'equipment and app provider' 'design' 'president' 'accounts payable'\n",
      " 'main end user of the product' 'ranger 2' 'pricing' 'purchasers'\n",
      " 'av estimator' 'appliance specialist' 'consultant,cabinet fabricator'\n",
      " 'director of operations' 'construction manager'\n",
      " 'research and developement' 'imaging administrator'\n",
      " 'design/decision maker' 'parts coordinator' 'technical director'\n",
      " 'signage manager' 'network administrator' 'reseorot general manager'\n",
      " 'correspondence' 'general manager - project manager' 'intergrator'\n",
      " 'quote gathering/proposer to owner' 'owner representation'\n",
      " 'technical sales' 'hardware design engineer' 'producer/project manager'\n",
      " 'community_and_social_services' 'business_development'\n",
      " 'healthcare_services' 'arts_and_design' 'following up'\n",
      " 'submitting proposal' 'program directors' 'costar av team'\n",
      " 'conference table' 'interior designer' 'planning and installation'\n",
      " 'sourcing/procurement' 'solution provider' 'deputy cio'\n",
      " 'display screen from control' 'sale' 'fixing tv'\n",
      " 'director of engineering' 'mental health' 'part of video wall'\n",
      " 'we are in iceland' 'purchasing supervisor' 'maintenance technician'\n",
      " 'procurement specialist' 'installation and purchaser'\n",
      " 'technical / decision maker' 'facilities and operations'\n",
      " 'r&d project manager' 'department secretary' 'cctv monetoring'\n",
      " 'installer/sales rep' 'sales rep' 'supplier and installation'\n",
      " 'managing director' 'seller installer' 'f&b director for bicycle casino'\n",
      " 'procurment' 'general manager (decision maker)' 'component of video wall'\n",
      " 'hr posting' 'installer.' 'principal in charge' 'nothing' 'chief eng.'\n",
      " 'designer/pm/gc' 'electronics evaluator' 'restaurant display'\n",
      " 'systems administrator' 'chief of engineering' 'it hardware technician'\n",
      " 'electrical contractor' 'design/build' 'designers' 'conference room'\n",
      " 'project engineer' 'pacs administrator' 'design consultant' 'manger'\n",
      " 'a/v project manager' 'project director' 'design/purchaser'\n",
      " 'quoting project' 'systems design' 'furnish and install'\n",
      " 'distributor quotation' 'regional director of operations'\n",
      " 'elevator company' 'project head' 'project manager/designer'\n",
      " 'technology consultant' 'lead engineer' 'director of lodging'\n",
      " 'engineering & technical executive' 'consultent'\n",
      " 'inquiry-to-buy/contact-us test' 'design engineer'\n",
      " 'recommend (you recommend specific products or technologies for the solution)'\n",
      " 'final approval' 'information_technology' 'human_resources'\n",
      " 'associate/analyst' 'otro' 'revendedor' 'integrador' 'corporate / office'\n",
      " 'others' 'distribuidor' '3d/vfx art' 'film production'\n",
      " 'surgery professional' 'photographer' 'administration'\n",
      " 'clinical specialist' 'programm-_und_projektmanagement' 'vertrieb'\n",
      " 'otros' 'program_and_project_management' 'ceo/founder'\n",
      " 'it - information technology' 'engineering, design, and install'\n",
      " 'colorist' 'planner' 'software solution' 'no requirment'\n",
      " 'system designer, integrator' 'requirement close' 'av project manager'\n",
      " 'no respoxse on phone will try again' 'media and communications'\n",
      " 'display' 'facilitator installation services' 'reseller/integrator'\n",
      " 'solution engineer' 'product_management' 'program_and_project_manager'\n",
      " 'management' 'architect ass interiores' 'doctor' 'pathologist'\n",
      " 'manufacturing factory / plant' 'cliente final' 'arquitecto/consultor'\n",
      " 'art and design' 'test4' 'executive' 'engineering & technical'\n",
      " 'infrastructure' 'operations executive' 'sales operations'\n",
      " 'emerging technology / innovation' 'field / outside sales'\n",
      " 'event marketing' 'collaboration & web apps' 'account management'\n",
      " 'sales engineering' 'sourcing / procurement' 'customer experience'\n",
      " 'research & development' 'computing & it' 'general management' 'hr'\n",
      " 'field marketing' 'broadcasting & media' 'it/software' 'energy'\n",
      " 'advertising' 'it' 'designer/ project manager' 'implement'\n",
      " 'property owner' 'building owner' 'it admin' 'for confrence' 'it tech.'\n",
      " 'projectr mgmt' 'research products and prices' 'for presentations'\n",
      " 'managing partner' 'it support' 'menu' 'cintractor' 'community theater'\n",
      " 'educator' 'underboss' 'assist in serving food'\n",
      " 'design/install/training/support' 'sme' 'decider' 'instructor'\n",
      " 'serving food' 'purchase dept'\n",
      " 'authorize (you are responsible for making the final decision)'\n",
      " 'designer purchaser' 'chef' 'purchsing' 'contributor' 'chief' 'waiter'\n",
      " 'product researcher' 'cctv view' 'videowall' 'serving robot' 'team lead'\n",
      " 'home theater' 'principal' 'software developer' 'facility administrator'\n",
      " 'store promotions' 'owner / project manager' 'systems engineer'\n",
      " 'installer/ system integrater' 'office it' 'principal engineer'\n",
      " 'estimator' 'tradeshow event' 'serving' 'ops mgr' 'project manage'\n",
      " 'recommender' 'resource manager' 'project researcher'\n",
      " 'director of finance' 'sign company' 'content creation, eq consultant'\n",
      " 'buyer, coordinating' 'project designer' 'cloud / mobility' 'teaching'\n",
      " 'equipment planner' 'interior stylist' 'project sales/manage'\n",
      " 'digital display vs signage need' 'master mind' 'genera manager' 'var'\n",
      " 'sho lyrics' 'hardware selection' 'it administrator' 'replacement tv'\n",
      " 'guestroom tv' 'photos' 'developer' 'project administrator'\n",
      " 'signage for an attraction' 'equipment selection' 'system engineer'\n",
      " 'designere / budget' 'n.a' 'commander' 'marketing operations'\n",
      " 'marketing executive' 'enterprise resource planning'\n",
      " 'help desk / desktop services' 'finance executive'\n",
      " 'application development' 'healthcare professionals'\n",
      " 'directeur technique' 'c-level executive' 'vice president' 'pÃ©nzÃ¼gy'\n",
      " 'sonstiges' 'programm- und projektmanagement'\n",
      " 'projektmenedzsment\\tprogram and project management' 'altro'\n",
      " 'mÅ±vÃ©szet_Ã©s_design' 'Ã©rtÃ©kesÃ\\xadtÃ©s' 'Ã¼zemeltetÃ©s' 'egyÃ©b'\n",
      " 'arte_e_design' 'media_e_comunicazione' 'adminisztrÃ¡ciÃ³'\n",
      " 'mÃ©dia_Ã©s_kommunikÃ¡ciÃ³' 'vendite' 'program-_Ã©s_projektmenedzsment'\n",
      " 'amministrativo' 'kreation und design' 'kreation_und_design' 'finanzen'\n",
      " 'medien_und_kommunikation' 'medios_de_comunicaciÃ³n' 'operaciones'\n",
      " 'administraciÃ³n' 'gestiÃ³n_de_proyectos' 'finanzas' 'arte y diseÃ±o'\n",
      " 'radiology_professional' 'quality_assurance'\n",
      " 'military_and_protective_services' 'profesional de cirugÃ\\xada'\n",
      " 'information technologyâ?\\x8b' 'profesional de radiologÃ\\xada'\n",
      " 'spÃ©cialiste_en_imagerie_mÃ©dicale' 'radiology  professional'\n",
      " 'chirurgien' 'medical solution  provider' 'autres'\n",
      " 'medical imaging  specialist' 'surgery professionalâ?\\x8b'\n",
      " 'medical solution providerâ?\\x8b' 'cirugano' 'media_and_communication'\n",
      " 'tierarzt' 'account exec/manager' 'digital project manager' 'entry level'\n",
      " 'institute & academy' 'higher education (college & university)' 'clinic'\n",
      " 'technical marketing' 'si' 'director comercial' 'electronics & telco'\n",
      " 'other stores' 'car dealership' 'proprietÃ¡rio(a)' 'genel mÃ¼dÃ¼r'\n",
      " 'mindenes' 'fÅ\\x91orvos' 'intern' 'the big boss' 'graphic design'\n",
      " 'product marketing' 'strategic communications' 'renewable energy'\n",
      " 'railway & metro station' 'museum / gallery'\n",
      " 'exhibition / convention center']\n"
     ]
    },
    {
     "data": {
      "text/plain": [
       "561"
      ]
     },
     "execution_count": 221,
     "metadata": {},
     "output_type": "execute_result"
    }
   ],
   "source": [
    "print(df.customer_job.unique())\n",
    "len(df.customer_job.unique())"
   ]
  },
  {
   "cell_type": "code",
   "execution_count": 222,
   "metadata": {},
   "outputs": [],
   "source": [
    "# Initialize KFold\n",
    "kf = KFold(n_splits=10, shuffle=True, random_state=42)\n",
    "\n",
    "# Create a new column for the target-encoded 'customer_type'\n",
    "df['customer_job_te'] = np.nan\n",
    "\n",
    "# Apply K-fold target encoding\n",
    "for train_idx, val_idx in kf.split(df):\n",
    "    # Split the data\n",
    "    df_train, df_val = df.iloc[train_idx], df.iloc[val_idx]\n",
    "    # Compute the target mean for each category in 'customer_type' on the training data\n",
    "    means = df_train.groupby('customer_job')['is_converted'].mean()\n",
    "    # Map the computed means to the validation set\n",
    "    df.loc[val_idx, 'customer_job_te'] = df_val['customer_job'].map(means)\n",
    "\n",
    "# Fill missing values for any 'customer_type' not seen in the training folds\n",
    "global_mean = df['is_converted'].mean()\n",
    "df['customer_job_te'].fillna(global_mean, inplace=True)"
   ]
  },
  {
   "cell_type": "code",
   "execution_count": 223,
   "metadata": {},
   "outputs": [
    {
     "data": {
      "text/plain": [
       "0    0.143617\n",
       "1    0.076423\n",
       "2    0.093429\n",
       "3    0.088910\n",
       "4    0.098375\n",
       "Name: customer_job_te, dtype: float64"
      ]
     },
     "execution_count": 223,
     "metadata": {},
     "output_type": "execute_result"
    }
   ],
   "source": [
    "df['customer_job_te'].head()"
   ]
  },
  {
   "cell_type": "code",
   "execution_count": 224,
   "metadata": {},
   "outputs": [
    {
     "name": "stdout",
     "output_type": "stream",
     "text": [
      "28\n"
     ]
    },
    {
     "data": {
      "text/plain": [
       "Index(['bant_submit', 'business_unit', 'com_reg_ver_win_rate', 'customer_idx',\n",
       "       'customer_type', 'historical_existing_cnt', 'id_strategic_ver',\n",
       "       'it_strategic_ver', 'idit_strategic_ver', 'customer_job',\n",
       "       'lead_desc_length', 'product_category', 'product_subcategory',\n",
       "       'product_modelname', 'customer_country.1', 'customer_position',\n",
       "       'response_corporate', 'expected_timeline', 'ver_cus', 'ver_pro',\n",
       "       'ver_win_rate_x', 'ver_win_ratio_per_bu', 'business_area',\n",
       "       'business_subarea', 'lead_owner', 'is_converted',\n",
       "       'enterprise_Enterprise', 'enterprise_SMB'],\n",
       "      dtype='object')"
      ]
     },
     "execution_count": 224,
     "metadata": {},
     "output_type": "execute_result"
    }
   ],
   "source": [
    "df['customer_job'] = df['customer_job_te']\n",
    "df.drop('customer_job_te', axis=1, inplace=True)\n",
    "print(len(df.columns))\n",
    "df.columns"
   ]
  },
  {
   "cell_type": "markdown",
   "metadata": {},
   "source": [
    "## product_category"
   ]
  },
  {
   "cell_type": "markdown",
   "metadata": {},
   "source": [
    "### 5fold TE"
   ]
  },
  {
   "cell_type": "code",
   "execution_count": 225,
   "metadata": {},
   "outputs": [
    {
     "name": "stdout",
     "output_type": "stream",
     "text": [
      "['multi-split' 'single-split' 'vrf' 'chiller' 'etc.' 'rac'\n",
      " 'teto ou cassete inverter' nan 'software solution' 'all lg vrf systems'\n",
      " 'ventilation' 'a thermodynamic water heater'\n",
      " 'residential air conditioner' 'outros' 'heating' 'multi v5 vrf'\n",
      " 'split tunggal' 'multi inverter' '×\\x97×\\x99×\\x9e×\\x95×\\x9d'\n",
      " 'standard signage' 'high brightness signage' 'interactive signage'\n",
      " 'video wall signage' 'led signage' 'hotel tv' 'signage care solution'\n",
      " 'oled signage' 'idb' 'video wall' 'one:quick series' 'commercial tv'\n",
      " 'lg one:quick' 'special signage' 'other' 'accessories'\n",
      " 'commercial display' 'interactive digital board' 'standard' 'uhd signage'\n",
      " 'smart tv signage' 'lg one:quick series' 'pro:centric' 'ur640' 'ur640s'\n",
      " 'webos' 'signage care solutions' 'aio | one quick' 'high brightness'\n",
      " 'hospital tv' 'digital signage' 'monitor' 'pc' 'laptop' 'projector'\n",
      " 'cloud device' 'medical display' 'washing machine,dryer' 'solar,chiller'\n",
      " 'system ac,rac' 'monitor signage,commercial tv,monior/monitor tv'\n",
      " 'monitor signage,monior/monitor tv' 'aircare,built-in/cooking'\n",
      " 'monitor signage,commercial tv,monior/monitor tv,projector,tv'\n",
      " 'monitor signage,commercial tv,monior/monitor tv,tv' 'commercial tv,tv'\n",
      " 'monitor signage,commercial tv,solar,ess,monior/monitor tv,pc,projector,robot,system ac,ems,rac,chill'\n",
      " 'monior/monitor tv,tv' 'chiller,aircare' 'solar,aircare'\n",
      " 'commercial tv,audio/video' 'solar,ess' 'solar,system ac'\n",
      " 'ultra stretch series' 'äº\\x92å\\x8b\\x95å¼\\x8fé¡¯ç¤ºå±\\x8f'\n",
      " 'led é¡¯ç¤ºå±\\x8f' 'one quick works' 'fhd series' 'onequick series'\n",
      " 'æ¨\\x99æº\\x96é¡¯ç¤ºå±\\x8f' '43us660h0sd.awz' '50uq801c0sb.bwz'\n",
      " 'one quick:flex' 'led aio 136' '110 + video wall' 'aio' 'tv'\n",
      " 'videowall signage' 'é\\x85\\x92åº\\x97é\\x9b»è¦\\x96' 'robots'\n",
      " 'one:quick flex' 'tv signage' 'collaboration displays'\n",
      " 'oled é¡¯ç¤ºå±\\x8f' 'id'\n",
      " 'meeting & screen sharedirect view leddirect view led'\n",
      " 'window facing display' 'lg customer care program' 'led' 'lainnya'\n",
      " 'multi v' 'control'\n",
      " '×\\x9e×\\x96×\\x92×\\xa0×\\x99×\\x9d ×\\x9c×\\x9e×§×\\x95×\\x9d ×\\x9e×\\x92×\\x95×¨×\\x99×\\x9d'\n",
      " 'pendingin' 'multi v 5 air' 'ar condicionado residencial'\n",
      " 'Ù\\x85Ø¨Ø±Ø¯ (ØªØ´Ù\\x8aÙ\\x84Ø±)' 'multi v water 5' 'single split' 'ahu'\n",
      " 'multi split' 'lg home bliss air solution' 'lg paradise air solution'\n",
      " 'isÄ±tma' 'technical support' 'ØªÙ\\x83Ù\\x8aÙ\\x8aÙ\\x81Ø§Øª'\n",
      " 'sales inquiry' '×¤×\\x99×¦×\\x95×\\x9c ×\\x9e×¨×\\x95×\\x91×\\x94'\n",
      " 'ØªÙ\\x83Ù\\x8aÙ\\x8aÙ\\x81 Ù\\x88ØªØ¨Ø±Ù\\x8aØ¯' '×\\x90×\\x97×¨'\n",
      " 'vrf,multi-split' 'vrf,multi-split,chiller'\n",
      " 'vrf,multi-split,single-split,chiller,heating' 'error' 'medical displays'\n",
      " 'others' '28mq780' 'computer monitors' 'monitor & pc' 'medical monitors'\n",
      " 'system air conditioner' 'system ac,solar,washing machine'\n",
      " 'solar,ess,ems' 'tv,mobile' 'commercial tv,projector'\n",
      " 'aircare,water care' 'monior/monitor tv,chiller' 'system ac,chiller'\n",
      " 'system ac,aircare' 'monitor signage,commercial tv' 'system ac,tv'\n",
      " 'monitor signage,audio/video'\n",
      " 'monitor signage,commercial tv,solar,ess,monior/monitor tv,pc'\n",
      " 'monitor signage,pc' 'monitor signage,commercial tv,solar,ess' 'solar'\n",
      " 'energy storage system'\n",
      " 'monior/monitor tv,system ac,tv,refrigerator,washing machine,dryer,built-in/cooking'\n",
      " 'commercial tv,robot' 'monitor signage,solar' 'solar,projector'\n",
      " 'tv,audio/video' 'refrigerator' 'solar,dryer' 'solar,monior/monitor tv'\n",
      " 'chiller,dryer' 'monior/monitor tv,pc' 'solar,refrigerator'\n",
      " 'monitor signage,system ac' 'system air conditioner,solar' 'solar,tv'\n",
      " 'monitor signage,tv' 'dryer,chiller'\n",
      " 'monitor signage,monior/monitor tv,system ac,vacuum cleaner,tv,home beauty,commercial tv,mobile,audio'\n",
      " 'videwall' 'ultra stretch signage' 'solar,vacuum cleaner'\n",
      " 'solar,monior/monitor tv,pc,tv,refrigerator,washing machine,dryer,home beauty'\n",
      " 'monitor signage,solar,robot,water care' 'mobile,audio/video'\n",
      " 'system ac,refrigerator,washing machine,dryer' 'solar,system ac,aircare'\n",
      " 'projector,system ac,water care' 'chiller,water care'\n",
      " 'monior/monitor tv,tv,commercial tv,pc,refrigerator,solar,rac,washing machine,mobile,ess,audio/video'\n",
      " 'ess,chiller' 'monitor signage,monior/monitor tv,pc,tv'\n",
      " 'solar,water care' 'digital signage or commercial tvs'\n",
      " 'education createboard' 'virtual production' 'laec015'\n",
      " 'monitor signage,commercial tv,audio/video' 'solar,built-in/cooking'\n",
      " 'monitor signage,monior/monitor tv,commercial tv'\n",
      " 'commercial tv,monior/monitor tv' 'robot,system ac' '55us660h0sd.bwz'\n",
      " 'transparent oled' 'medical- surgical' 'radiology displays'\n",
      " 'high inch 86 / 98 or 110' 'leadallin' 'à¸¯à¸¥à¸¯'\n",
      " 'commercial tv,water care' 'pc,washing machine'\n",
      " 'monitor signage,solar,monior/monitor tv,pc,projector,robot,system ac,tv,refrigerator,washing machine'\n",
      " 'system ac,tv,refrigerator,washing machine,built-in/cooking,audio/video'\n",
      " 'system air conditioner,energy storage system' 'tv,commercial tv'\n",
      " 'system ac,home beauty' 'information display,monitor'\n",
      " 'taa lcd lfd displays' 'rac/cac'\n",
      " 'Ø\\xadÙ\\x84Ù\\x88Ù\\x84 Ø§Ù\\x84ØªØ¯Ù\\x81Ø¦Ø©' 'system ac,chiller,aircare'\n",
      " 'otros' 'tv,refrigerator,washing machine'\n",
      " 'monior/monitor tv,refrigerator'\n",
      " 'monior/monitor tv,system ac,tv,pc,refrigerator,water care,solar,washing machine,mobile,chiller,built'\n",
      " 'projector,audio/video' 'monior/monitor tv,audio/video'\n",
      " 'monitor signage,commercial tv,monior/monitor tv,pc,tv,home beauty,audio/video'\n",
      " 'pc,robot,system ac,chiller,tv,refrigerator,washing machine,vacuum cleaner,styler,dryer,mobile,audio/'\n",
      " 'refrigerator,washing machine,built-in/cooking'\n",
      " 'monitor signage,monior/monitor tv,tv,audio/video'\n",
      " 'tv,refrigerator,washing machine,vacuum cleaner,audio/video' 'pc,tv'\n",
      " 'system ac' 'sac' 'laec015-gn.awz' 'gscd046' '32lq621cbsb.awz'\n",
      " '43uh5f-h.awzm' '49vl5g-m.awzm' '55uq801c0sb.bwz' '43uq751c0sf.bwz'\n",
      " '32 / 43 pol' 'htv' '43uq751c0sb.bwz' '49uh / 49xf' '50us660h0sd.bwz'\n",
      " 'tv 60\"' 'medical monitor' 'aircare,mobile' 'solar,ess,system ac'\n",
      " 'system ac,refrigerator' 'tv,pc'\n",
      " 'monitor signage,commercial tv,solar,pc,projector,system ac,ems,rac,chiller,refrigerator,washing mach'\n",
      " 'chiller,refrigerator'\n",
      " 'monitor signage,commercial tv,solar,projector,robot,chiller,refrigerator,built-in/cooking,water care'\n",
      " 'commercial tv,solar' 'monior/monitor tv,projector,audio/video'\n",
      " 'unitario' 'refrigerator,chiller' 'chiller,tv' 'projector,ems' 'cac'\n",
      " 'vrf,chiller' 'single package' 'monitor signage,mobile'\n",
      " 'robot,vacuum cleaner'\n",
      " 'monitor signage,commercial tv,monior/monitor tv,audio/video'\n",
      " 'Ä\\x91iá»\\x81u hÃ²a trung tÃ¢m multi' 'ogrzewanie (pompy ciepÅ\\x82a)'\n",
      " 'soÄ\\x9futucu' 'Ä\\x91iá»\\x81u hÃ²a gia dá»¥ng'\n",
      " 'Ù\\x86Ø¸Ø§Ù\\x85 Ø§Ù\\x84ØªØ¯Ù\\x81Ù\\x82 Ø§Ù\\x84Ù\\x85ØªØºÙ\\x8aØ±vrf'\n",
      " 'chiller/enfriadoras' '49vl5g-m' 'lg led bloc' 'uh' '55vm5e-a' 'laec15'\n",
      " '55vm5j-h' '49vl5f' 'standalone' 'corpouh5f' 'ledallinone'\n",
      " 'monitorindustrial_rmk' 'lg magnit' 'ç\\x89¹å\\x88¥é¡¯ç¤ºå±\\x8f' 'signage'\n",
      " 'videowall_rmk' 'bu50nst' 'led 70m2' 'led cinema' '86uh5f' '55tc3d'\n",
      " '43us660h (na)' 'pro centric hotel' 'video wall + aio' 'hospitality'\n",
      " 'one:quick' 'é«\\x98äº®åº¦é¡¯ç¤ºå±\\x8f' 'comercial tv' 'corpuh5f-'\n",
      " 'allinone_rmk' 'hoteleria_us670h' 'retaildigital' 'è»\\x9fé«\\x94'\n",
      " 'é\\x86«é\\x99¢é\\x9b»è¦\\x96' 'ctv' 'calefacciÃ³n' 'autre' 'vb.' 'ac rumah'\n",
      " 'à¹?à¸\\x84à¸£à¸·à¹\\x88à¸\\xadà¸\\x87à¸\\x9bà¸£à¸±à¸\\x9aà¸\\xadà¸²à¸\\x81à¸²à¸¨à¹?à¸\\x9cà¸·à¹\\x88à¸\\xadà¸\\x97à¸µà¹\\x88à¸\\xadà¸¢à¸¹à¹\\x88à¸\\xadà¸²à¸¨à¸±à¸¢'\n",
      " 'aire acondicionado residencial' 'vrf - multi v s'\n",
      " 'systÃ¨mes de dÃ©bit Ã\\xa0 rÃ©frigÃ©rant variable (drv)'\n",
      " 'climatiseur rÃ©sidentiel' 'multi-split (plusieurs piÃ¨ces)'\n",
      " 'aquecimento' 'khÃ¡c' 'lg salang air solution for dream homes'\n",
      " 'rac single cac' 'services' 'Ø¢Ø®Ø±' 'vrf,single-split'\n",
      " 'vrf,multi-split,single-split,chiller,etc.' 'multi-split,single-split'\n",
      " 'vrf,multi-split,single-split' 'vrf,multi-split,etc.'\n",
      " 'vrf,multi-split,heating' 'on or several reversible ac'\n",
      " 'vrf,multi-split,single-split,chiller'\n",
      " 'vrf,multi-split,single-split,heating' 'vrf,single-split,chiller'\n",
      " 'commercial tv,solar,ess,projector,system ac,tv,washing machine,home beauty,audio/video'\n",
      " 'solar,robot' 'scroll compressor' 'pantalla led outdoor'\n",
      " 'klimatyzacja multi-split'\n",
      " 'monitor signage,commercial tv,monior/monitor tv,pc,projector,tv,audio/video'\n",
      " 'not specified' 'single cac' 'kimatyzacja vrf'\n",
      " 'solar,energy storage system' 'system ac,solar'\n",
      " 'solar,system ac,water care' '55svh7f-a' 'tr3' '98uh5e' 'inne'\n",
      " 'Ä\\x91iá»\\x81u hÃ²a trung tÃ¢m vrf' 'vrf,heating'\n",
      " 'monitor signage,monior/monitor tv,vacuum cleaner,tv,home beauty,commercial tv,pc,refrigerator,styler'\n",
      " 'refrigerator,built-in/cooking' 'ems,audio/video'\n",
      " 'projector,ems,mobile,audio/video' 'smart tv' 'tv 55\"' 'surgical monitor'\n",
      " 'gsca046' 'gscd100' 'procentric' '32 pol' 'tv 43 pol' '43 pol'\n",
      " 'commercial tv,solar,ess,monior/monitor tv,pc,projector,robot,system ac,ems,rac,chiller,refrigerator,'\n",
      " 'tv,refrigerator' 'a definir' 'Ä\\x91iá»\\x81u hÃ²a trung tÃ¢m chiller'\n",
      " 'Ä\\x91iá»\\x81u hÃ²a cá»¥c bá»\\x99' 'lsca039' 'essential series' 'parts'\n",
      " 'monior/monitor tv,refrigerator,audio/video']\n"
     ]
    },
    {
     "data": {
      "text/plain": [
       "358"
      ]
     },
     "execution_count": 225,
     "metadata": {},
     "output_type": "execute_result"
    }
   ],
   "source": [
    "print(df.product_category.unique())\n",
    "len(df.product_category.unique())"
   ]
  },
  {
   "cell_type": "code",
   "execution_count": 226,
   "metadata": {},
   "outputs": [
    {
     "data": {
      "text/plain": [
       "product_category\n",
       "interactive digital board    6090\n",
       "vrf                          5238\n",
       "multi-split                  3548\n",
       "video wall signage           2002\n",
       "etc.                         1954\n",
       "led signage                  1850\n",
       "interactive signage          1829\n",
       "single-split                 1524\n",
       "rac                          1427\n",
       "oled signage                 1279\n",
       "hotel tv                     1083\n",
       "chiller                      1002\n",
       "Name: count, dtype: int64"
      ]
     },
     "execution_count": 226,
     "metadata": {},
     "output_type": "execute_result"
    }
   ],
   "source": [
    "df.product_category.value_counts()\n",
    "# print unique values and their value counts when the value count is more than 1000\n",
    "df.product_category.value_counts()[df.product_category.value_counts() > 1000]"
   ]
  },
  {
   "cell_type": "code",
   "execution_count": 227,
   "metadata": {},
   "outputs": [],
   "source": [
    "kf = KFold(n_splits=5, shuffle=True, random_state=42)\n",
    "\n",
    "# Create a new column for the target-encoded 'product_category'\n",
    "df['product_category_te'] = np.nan\n",
    "\n",
    "# Apply K-fold target encoding\n",
    "for train_idx, val_idx in kf.split(df):\n",
    "    # Split the data\n",
    "    df_train, df_val = df.iloc[train_idx], df.iloc[val_idx]\n",
    "    # Compute the target mean for each category in 'product_category' on the training data\n",
    "    means = df_train.groupby('product_category')['is_converted'].mean()\n",
    "    # Map the computed means to the validation set\n",
    "    df.loc[val_idx, 'product_category_te'] = df_val['product_category'].map(means)\n",
    "\n",
    "# Fill missing values for any 'product_category' not seen in the training folds\n",
    "global_mean = df['is_converted'].mean()\n",
    "df['product_category_te'].fillna(global_mean, inplace=True)"
   ]
  },
  {
   "cell_type": "code",
   "execution_count": 228,
   "metadata": {},
   "outputs": [
    {
     "data": {
      "text/plain": [
       "0     multi-split\n",
       "1     multi-split\n",
       "2    single-split\n",
       "3             vrf\n",
       "4     multi-split\n",
       "Name: product_category, dtype: object"
      ]
     },
     "execution_count": 228,
     "metadata": {},
     "output_type": "execute_result"
    }
   ],
   "source": [
    "df.product_category.head()"
   ]
  },
  {
   "cell_type": "code",
   "execution_count": 229,
   "metadata": {},
   "outputs": [
    {
     "name": "stdout",
     "output_type": "stream",
     "text": [
      "28\n"
     ]
    },
    {
     "data": {
      "text/plain": [
       "Index(['bant_submit', 'business_unit', 'com_reg_ver_win_rate', 'customer_idx',\n",
       "       'customer_type', 'historical_existing_cnt', 'id_strategic_ver',\n",
       "       'it_strategic_ver', 'idit_strategic_ver', 'customer_job',\n",
       "       'lead_desc_length', 'product_category', 'product_subcategory',\n",
       "       'product_modelname', 'customer_country.1', 'customer_position',\n",
       "       'response_corporate', 'expected_timeline', 'ver_cus', 'ver_pro',\n",
       "       'ver_win_rate_x', 'ver_win_ratio_per_bu', 'business_area',\n",
       "       'business_subarea', 'lead_owner', 'is_converted',\n",
       "       'enterprise_Enterprise', 'enterprise_SMB'],\n",
       "      dtype='object')"
      ]
     },
     "execution_count": 229,
     "metadata": {},
     "output_type": "execute_result"
    }
   ],
   "source": [
    "df['product_category'] = df['product_category_te']\n",
    "df.drop('product_category_te', axis=1, inplace=True)\n",
    "print(len(df.columns))\n",
    "df.columns"
   ]
  },
  {
   "cell_type": "markdown",
   "metadata": {},
   "source": [
    "## product_subcategory"
   ]
  },
  {
   "cell_type": "markdown",
   "metadata": {},
   "source": [
    "### 5fold te encoding"
   ]
  },
  {
   "cell_type": "code",
   "execution_count": 230,
   "metadata": {},
   "outputs": [
    {
     "name": "stdout",
     "output_type": "stream",
     "text": [
      "[nan 'Others' 'TR3DJ Series' 'Interactive Digital Board' 'TR3BF Series'\n",
      " 'Transparent LED Film' 'One:Quick Flex' 'Transparent OLED Signage'\n",
      " '49\" 500 nits FHD Slim Bezel Video Wall' 'Diagnostic Monitors'\n",
      " 'All Medical Displays']\n"
     ]
    },
    {
     "data": {
      "text/plain": [
       "11"
      ]
     },
     "execution_count": 230,
     "metadata": {},
     "output_type": "execute_result"
    }
   ],
   "source": [
    "print(df.product_subcategory.unique())\n",
    "len(df.product_subcategory.unique())"
   ]
  },
  {
   "cell_type": "code",
   "execution_count": 231,
   "metadata": {},
   "outputs": [],
   "source": [
    "kf = KFold(n_splits=5, shuffle=True, random_state=42)\n",
    "\n",
    "# Create a new column for the target-encoded 'product_category'\n",
    "df['product_subcategory_te'] = np.nan\n",
    "\n",
    "# Apply K-fold target encoding\n",
    "for train_idx, val_idx in kf.split(df):\n",
    "    # Split the data\n",
    "    df_train, df_val = df.iloc[train_idx], df.iloc[val_idx]\n",
    "    # Compute the target mean for each category in 'product_category' on the training data\n",
    "    means = df_train.groupby('product_subcategory')['is_converted'].mean()\n",
    "    # Map the computed means to the validation set\n",
    "    df.loc[val_idx, 'product_subcategory_te'] = df_val['product_subcategory'].map(means)\n",
    "\n",
    "# Fill missing values for any 'product_category' not seen in the training folds\n",
    "global_mean = df['is_converted'].mean()\n",
    "df['product_subcategory_te'].fillna(global_mean, inplace=True)"
   ]
  },
  {
   "cell_type": "code",
   "execution_count": 232,
   "metadata": {},
   "outputs": [
    {
     "name": "stdout",
     "output_type": "stream",
     "text": [
      "28\n"
     ]
    },
    {
     "data": {
      "text/plain": [
       "Index(['bant_submit', 'business_unit', 'com_reg_ver_win_rate', 'customer_idx',\n",
       "       'customer_type', 'historical_existing_cnt', 'id_strategic_ver',\n",
       "       'it_strategic_ver', 'idit_strategic_ver', 'customer_job',\n",
       "       'lead_desc_length', 'product_category', 'product_subcategory',\n",
       "       'product_modelname', 'customer_country.1', 'customer_position',\n",
       "       'response_corporate', 'expected_timeline', 'ver_cus', 'ver_pro',\n",
       "       'ver_win_rate_x', 'ver_win_ratio_per_bu', 'business_area',\n",
       "       'business_subarea', 'lead_owner', 'is_converted',\n",
       "       'enterprise_Enterprise', 'enterprise_SMB'],\n",
       "      dtype='object')"
      ]
     },
     "execution_count": 232,
     "metadata": {},
     "output_type": "execute_result"
    }
   ],
   "source": [
    "df['product_subcategory'] = df['product_subcategory_te']\n",
    "df.drop('product_subcategory_te', axis=1, inplace=True)\n",
    "print(len(df.columns))\n",
    "df.columns"
   ]
  },
  {
   "cell_type": "markdown",
   "metadata": {},
   "source": [
    "## product_modelname"
   ]
  },
  {
   "cell_type": "markdown",
   "metadata": {},
   "source": [
    "### 5fold te encoding"
   ]
  },
  {
   "cell_type": "code",
   "execution_count": 233,
   "metadata": {},
   "outputs": [
    {
     "name": "stdout",
     "output_type": "stream",
     "text": [
      "[nan 'Others' '55VSM5J' '75TC3D' '43HT3WJ' '55CT5WJ'\n",
      " 'UltraFine Ergo(32UN880)' 'Ergo Dual(27QP88D)' '28MQ780'\n",
      " 'All Medical Displays' 'Diagnostic Monitors']\n"
     ]
    },
    {
     "data": {
      "text/plain": [
       "11"
      ]
     },
     "execution_count": 233,
     "metadata": {},
     "output_type": "execute_result"
    }
   ],
   "source": [
    "print(df.product_modelname.unique())\n",
    "len(df.product_modelname.unique())"
   ]
  },
  {
   "cell_type": "code",
   "execution_count": 234,
   "metadata": {},
   "outputs": [],
   "source": [
    "kf = KFold(n_splits=5, shuffle=True, random_state=42)\n",
    "\n",
    "# Create a new column for the target-encoded 'product_category'\n",
    "df['product_modelname_te'] = np.nan\n",
    "\n",
    "# Apply K-fold target encoding\n",
    "for train_idx, val_idx in kf.split(df):\n",
    "    # Split the data\n",
    "    df_train, df_val = df.iloc[train_idx], df.iloc[val_idx]\n",
    "    # Compute the target mean for each category in 'product_category' on the training data\n",
    "    means = df_train.groupby('product_modelname')['is_converted'].mean()\n",
    "    # Map the computed means to the validation set\n",
    "    df.loc[val_idx, 'product_modelname_te'] = df_val['product_modelname'].map(means)\n",
    "\n",
    "# Fill missing values for any 'product_category' not seen in the training folds\n",
    "global_mean = df['is_converted'].mean()\n",
    "df['product_modelname_te'].fillna(global_mean, inplace=True)"
   ]
  },
  {
   "cell_type": "code",
   "execution_count": 235,
   "metadata": {},
   "outputs": [
    {
     "name": "stdout",
     "output_type": "stream",
     "text": [
      "28\n"
     ]
    },
    {
     "data": {
      "text/plain": [
       "Index(['bant_submit', 'business_unit', 'com_reg_ver_win_rate', 'customer_idx',\n",
       "       'customer_type', 'historical_existing_cnt', 'id_strategic_ver',\n",
       "       'it_strategic_ver', 'idit_strategic_ver', 'customer_job',\n",
       "       'lead_desc_length', 'product_category', 'product_subcategory',\n",
       "       'product_modelname', 'customer_country.1', 'customer_position',\n",
       "       'response_corporate', 'expected_timeline', 'ver_cus', 'ver_pro',\n",
       "       'ver_win_rate_x', 'ver_win_ratio_per_bu', 'business_area',\n",
       "       'business_subarea', 'lead_owner', 'is_converted',\n",
       "       'enterprise_Enterprise', 'enterprise_SMB'],\n",
       "      dtype='object')"
      ]
     },
     "execution_count": 235,
     "metadata": {},
     "output_type": "execute_result"
    }
   ],
   "source": [
    "df['product_modelname'] = df['product_modelname_te']\n",
    "df.drop('product_modelname_te', axis=1, inplace=True)\n",
    "print(len(df.columns))\n",
    "df.columns"
   ]
  },
  {
   "cell_type": "markdown",
   "metadata": {},
   "source": [
    "## customer_position"
   ]
  },
  {
   "cell_type": "markdown",
   "metadata": {},
   "source": [
    "### 5fold te"
   ]
  },
  {
   "cell_type": "code",
   "execution_count": 236,
   "metadata": {},
   "outputs": [
    {
     "name": "stdout",
     "output_type": "stream",
     "text": [
      "['entry level' 'ceo/founder' 'partner' 'manager' 'vice president'\n",
      " 'associate/analyst' 'c-level executive' 'none' 'director' 'other'\n",
      " 'intern' 'trainee' 'others'\n",
      " 'this is a consume display requirement for home purpose.' 'vicepresident'\n",
      " 'consulting' 'entrylevel' 'c-levelexecutive' 'unpaid' 'physics teacher'\n",
      " 'assistant professor' 'av management' 'maths lecturer' 'founder'\n",
      " 'engineering' 'installer' 'homeowner' 'consultant' 'commercial end-user'\n",
      " 'employee' 'bulgaria' 'lider de desarrollo' 'administrative'\n",
      " 'entrepreneurship' 'decision-influencer' 'decision maker' 'customer'\n",
      " 'not applicable' 'decision-maker' 'no influence' 'commercial consultant'\n",
      " 'science teacher' 'decision influencer' 'technical'\n",
      " 'architecture/consult' 'architect/consultant' 'exhibition' 'hospital'\n",
      " 'end-user' 'government' 'manufacturer' 'software /solution provider'\n",
      " 'system integrator' 'medical device manufacturer' 'distributor'\n",
      " 'business unit director' 'business development' 'operations' 'vp' 'cargo'\n",
      " 'guest faculty' 'physics faculty' 'career coach'\n",
      " 'other - please specify - cedia association'\n",
      " 'leadership/executive office/owner' 'product management'\n",
      " 'market intelligence/research' 'teacher/middle school coordinator'\n",
      " 'prof.' 'academic specialist'\n",
      " 'principal at oxford integrated pu science college'\n",
      " 'math and physics teacher' 'professor of mathematics'\n",
      " 'physics and mathematics teacher' 'assistant professor of enlish'\n",
      " 'educator' 'professor' 'quantitative aptitude faculty'\n",
      " 'english trainer for ielts,toefl,pte,gre,sat exams.'\n",
      " 'associate professor' 'principal & director' 'business partner'\n",
      " 'hon dean' 'chairman' 'pgt physics' 'education professional'\n",
      " 'chemistry teacher'\n",
      " 'director cum faculty at gaining apex coaching centre'\n",
      " 'academic coordinator/ post graduate teacher (accountancy, business studies)/ tgt (ict)'\n",
      " 'teacher' 'senior lecturer' 'neet/ olympiad expert faculty' 'asst prof.'\n",
      " 'associate professor in electronics engg' 'professional trainer'\n",
      " 'co-founder' 'chief executive officer' 'subsidiary sales (ise)'\n",
      " 'ceo/fundador' 'gerente' 'medical imaging specialist' 'tierarzt'\n",
      " 'education' 'president' 'business development/sales' 'sales' 'tÃ©cnico'\n",
      " 'exhibitiontv' 'proprietÃ¡rio(a)' 'genel mÃ¼dÃ¼r' 'mindenes'\n",
      " 'fÅ\\x91orvos' 'surgery professional' 'pathologist' 'research'\n",
      " 'the big boss' 'radiology professional']\n"
     ]
    },
    {
     "data": {
      "text/plain": [
       "117"
      ]
     },
     "execution_count": 236,
     "metadata": {},
     "output_type": "execute_result"
    }
   ],
   "source": [
    "print(df.customer_position.unique())\n",
    "len(df.customer_position.unique())"
   ]
  },
  {
   "cell_type": "code",
   "execution_count": 237,
   "metadata": {},
   "outputs": [],
   "source": [
    "kf = KFold(n_splits=5, shuffle=True, random_state=42)\n",
    "\n",
    "df['customer_position_te'] = np.nan\n",
    "\n",
    "for train_idx, val_idx in kf.split(df):\n",
    "    X_train, X_val = df.iloc[train_idx], df.iloc[val_idx]\n",
    "    means = X_train.groupby('customer_position')['is_converted'].mean()\n",
    "    df.loc[val_idx, 'customer_position_te'] = X_val['customer_position'].map(means)\n",
    "\n",
    "global_mean = df['is_converted'].mean()\n",
    "df['customer_position_te'].fillna(global_mean, inplace=True)"
   ]
  },
  {
   "cell_type": "code",
   "execution_count": 238,
   "metadata": {},
   "outputs": [
    {
     "name": "stdout",
     "output_type": "stream",
     "text": [
      "28\n"
     ]
    },
    {
     "data": {
      "text/plain": [
       "Index(['bant_submit', 'business_unit', 'com_reg_ver_win_rate', 'customer_idx',\n",
       "       'customer_type', 'historical_existing_cnt', 'id_strategic_ver',\n",
       "       'it_strategic_ver', 'idit_strategic_ver', 'customer_job',\n",
       "       'lead_desc_length', 'product_category', 'product_subcategory',\n",
       "       'product_modelname', 'customer_country.1', 'customer_position',\n",
       "       'response_corporate', 'expected_timeline', 'ver_cus', 'ver_pro',\n",
       "       'ver_win_rate_x', 'ver_win_ratio_per_bu', 'business_area',\n",
       "       'business_subarea', 'lead_owner', 'is_converted',\n",
       "       'enterprise_Enterprise', 'enterprise_SMB'],\n",
       "      dtype='object')"
      ]
     },
     "execution_count": 238,
     "metadata": {},
     "output_type": "execute_result"
    }
   ],
   "source": [
    "df['customer_position'] = df['customer_position_te']\n",
    "df.drop('customer_position_te', axis=1, inplace=True)\n",
    "print(len(df.columns))\n",
    "df.columns"
   ]
  },
  {
   "cell_type": "markdown",
   "metadata": {},
   "source": [
    "## response_corporate"
   ]
  },
  {
   "cell_type": "markdown",
   "metadata": {},
   "source": [
    "## 10fold te"
   ]
  },
  {
   "cell_type": "code",
   "execution_count": 239,
   "metadata": {},
   "outputs": [
    {
     "name": "stdout",
     "output_type": "stream",
     "text": [
      "['LGEPH' 'LGEIL' 'LGEAF' 'LGESJ' 'LGESL' 'LGESP' 'LGEGF' 'LGESA' 'LGEUS'\n",
      " 'LGECB' 'LGEMS' 'LGEEG' 'LGEEF' 'LGEAP' 'LGEIN' 'LGEUK' 'LGEKR' 'LGEPS'\n",
      " 'LGECI' 'LGECL' 'LGETK' 'LGELF' 'LGEPT' 'LGEPR' 'LGEDG' 'LGERO' 'LGEMK'\n",
      " 'LGEPL' 'LGECZ' 'LGEES' 'LGEAR' 'LGEHK' 'LGEML' 'LGEJP' 'LGEHS' 'LGEAS'\n",
      " 'LGEYK' 'LGEIS' 'LGEBN' 'LGEFS' 'LGESW' 'LGEMC' 'LGEAG' 'LGEEB' 'LGETH'\n",
      " 'LGEVH' 'LGECH' 'LGELA' 'LGETT' 'LGERA' 'LGEUR' 'LGEIR' 'LGEBT']\n"
     ]
    },
    {
     "data": {
      "text/plain": [
       "53"
      ]
     },
     "execution_count": 239,
     "metadata": {},
     "output_type": "execute_result"
    }
   ],
   "source": [
    "print(df.response_corporate.unique())\n",
    "len(df.response_corporate.unique())"
   ]
  },
  {
   "cell_type": "code",
   "execution_count": 240,
   "metadata": {},
   "outputs": [
    {
     "name": "stdout",
     "output_type": "stream",
     "text": [
      "  response_corporate  response_corporate_te\n",
      "0              LGEPH               0.091503\n",
      "1              LGEPH               0.091503\n",
      "2              LGEIL               0.071439\n",
      "3              LGEIL               0.071289\n",
      "4              LGEIL               0.071841\n"
     ]
    }
   ],
   "source": [
    "kf = KFold(n_splits=5, shuffle=True, random_state=42)\n",
    "\n",
    "# Create a new column for the target-encoded 'response_corporate'\n",
    "df['response_corporate_te'] = np.nan\n",
    "\n",
    "for train_idx, val_idx in kf.split(df):\n",
    "    # Split the data into training and validation sets\n",
    "    X_train, X_val = df.iloc[train_idx], df.iloc[val_idx]\n",
    "    \n",
    "    # Compute the target mean for each category in 'response_corporate' on the training data\n",
    "    means = X_train.groupby('response_corporate')['is_converted'].mean()\n",
    "    \n",
    "    # Map the computed means to the validation set\n",
    "    df.loc[val_idx, 'response_corporate_te'] = X_val['response_corporate'].map(means)\n",
    "\n",
    "# Fill missing values for any 'response_corporate' not seen in the training folds with the global mean\n",
    "global_mean = df['is_converted'].mean()\n",
    "df['response_corporate_te'].fillna(global_mean, inplace=True)\n",
    "\n",
    "# Verify the changes\n",
    "print(df[['response_corporate', 'response_corporate_te']].head())"
   ]
  },
  {
   "cell_type": "code",
   "execution_count": 241,
   "metadata": {},
   "outputs": [
    {
     "name": "stdout",
     "output_type": "stream",
     "text": [
      "28\n"
     ]
    },
    {
     "data": {
      "text/plain": [
       "Index(['bant_submit', 'business_unit', 'com_reg_ver_win_rate', 'customer_idx',\n",
       "       'customer_type', 'historical_existing_cnt', 'id_strategic_ver',\n",
       "       'it_strategic_ver', 'idit_strategic_ver', 'customer_job',\n",
       "       'lead_desc_length', 'product_category', 'product_subcategory',\n",
       "       'product_modelname', 'customer_country.1', 'customer_position',\n",
       "       'response_corporate', 'expected_timeline', 'ver_cus', 'ver_pro',\n",
       "       'ver_win_rate_x', 'ver_win_ratio_per_bu', 'business_area',\n",
       "       'business_subarea', 'lead_owner', 'is_converted',\n",
       "       'enterprise_Enterprise', 'enterprise_SMB'],\n",
       "      dtype='object')"
      ]
     },
     "execution_count": 241,
     "metadata": {},
     "output_type": "execute_result"
    }
   ],
   "source": [
    "df['response_corporate'] = df['response_corporate_te']\n",
    "df.drop('response_corporate_te', axis=1, inplace=True)\n",
    "print(len(df.columns))\n",
    "df.columns"
   ]
  },
  {
   "cell_type": "markdown",
   "metadata": {},
   "source": [
    "## expected_timeline"
   ]
  },
  {
   "cell_type": "markdown",
   "metadata": {},
   "source": [
    "## 5fold te"
   ]
  },
  {
   "cell_type": "code",
   "execution_count": 242,
   "metadata": {},
   "outputs": [
    {
     "name": "stdout",
     "output_type": "stream",
     "text": [
      "['less than 3 months' 'Others' '3 months ~ 6 months' '9 months ~ 1 year'\n",
      " 'more than a year' '6 months ~ 9 months' 'etc.']\n"
     ]
    },
    {
     "data": {
      "text/plain": [
       "7"
      ]
     },
     "execution_count": 242,
     "metadata": {},
     "output_type": "execute_result"
    }
   ],
   "source": [
    "print(df.expected_timeline.unique())\n",
    "len(df.expected_timeline.unique())"
   ]
  },
  {
   "cell_type": "code",
   "execution_count": 243,
   "metadata": {},
   "outputs": [
    {
     "name": "stdout",
     "output_type": "stream",
     "text": [
      "    expected_timeline  expected_timeline_te\n",
      "0  less than 3 months              0.102528\n",
      "1  less than 3 months              0.102528\n",
      "2  less than 3 months              0.101502\n",
      "3  less than 3 months              0.101749\n",
      "4  less than 3 months              0.103633\n"
     ]
    }
   ],
   "source": [
    "# Assuming df is your DataFrame and 'is_converted' is the target variable\n",
    "kf = KFold(n_splits=5, shuffle=True, random_state=42)\n",
    "\n",
    "# Create a new column for the target-encoded 'expected_timeline'\n",
    "df['expected_timeline_te'] = np.nan\n",
    "\n",
    "for train_idx, val_idx in kf.split(df):\n",
    "    # Split the data\n",
    "    X_train, X_val = df.iloc[train_idx], df.iloc[val_idx]\n",
    "    \n",
    "    # Compute the target mean for 'expected_timeline' on the training data\n",
    "    means = X_train.groupby('expected_timeline')['is_converted'].mean()\n",
    "    \n",
    "    # Map the computed means to the validation set\n",
    "    df.loc[val_idx, 'expected_timeline_te'] = X_val['expected_timeline'].map(means)\n",
    "\n",
    "# Fill missing values for any 'expected_timeline' not seen in the training folds with the global mean\n",
    "global_mean = df['is_converted'].mean()\n",
    "df['expected_timeline_te'].fillna(global_mean, inplace=True)\n",
    "\n",
    "# Verify the changes\n",
    "print(df[['expected_timeline', 'expected_timeline_te']].head())"
   ]
  },
  {
   "cell_type": "code",
   "execution_count": 244,
   "metadata": {},
   "outputs": [
    {
     "name": "stdout",
     "output_type": "stream",
     "text": [
      "28\n"
     ]
    },
    {
     "data": {
      "text/plain": [
       "Index(['bant_submit', 'business_unit', 'com_reg_ver_win_rate', 'customer_idx',\n",
       "       'customer_type', 'historical_existing_cnt', 'id_strategic_ver',\n",
       "       'it_strategic_ver', 'idit_strategic_ver', 'customer_job',\n",
       "       'lead_desc_length', 'product_category', 'product_subcategory',\n",
       "       'product_modelname', 'customer_country.1', 'customer_position',\n",
       "       'response_corporate', 'expected_timeline', 'ver_cus', 'ver_pro',\n",
       "       'ver_win_rate_x', 'ver_win_ratio_per_bu', 'business_area',\n",
       "       'business_subarea', 'lead_owner', 'is_converted',\n",
       "       'enterprise_Enterprise', 'enterprise_SMB'],\n",
       "      dtype='object')"
      ]
     },
     "execution_count": 244,
     "metadata": {},
     "output_type": "execute_result"
    }
   ],
   "source": [
    "df['expected_timeline'] = df['expected_timeline_te']\n",
    "df.drop('expected_timeline_te', axis=1, inplace=True)\n",
    "print(len(df.columns))\n",
    "df.columns"
   ]
  },
  {
   "cell_type": "markdown",
   "metadata": {},
   "source": [
    "## business_area"
   ]
  },
  {
   "cell_type": "markdown",
   "metadata": {},
   "source": [
    "### 5fold te"
   ]
  },
  {
   "cell_type": "code",
   "execution_count": 245,
   "metadata": {},
   "outputs": [
    {
     "name": "stdout",
     "output_type": "stream",
     "text": [
      "['corporate / office' nan 'education' 'hotel & accommodation'\n",
      " 'hospital & health care' 'special purpose' 'residential (home)'\n",
      " 'government department' 'retail' 'factory'\n",
      " 'power plant / renewable energy' 'transportation' 'public facility']\n"
     ]
    },
    {
     "data": {
      "text/plain": [
       "13"
      ]
     },
     "execution_count": 245,
     "metadata": {},
     "output_type": "execute_result"
    }
   ],
   "source": [
    "print(df.business_area.unique())\n",
    "len(df.business_area.unique())"
   ]
  },
  {
   "cell_type": "code",
   "execution_count": 246,
   "metadata": {},
   "outputs": [
    {
     "name": "stdout",
     "output_type": "stream",
     "text": [
      "        business_area  business_area_te\n",
      "0  corporate / office          0.064119\n",
      "1  corporate / office          0.064119\n",
      "2  corporate / office          0.067235\n",
      "3  corporate / office          0.064915\n",
      "4  corporate / office          0.064232\n"
     ]
    }
   ],
   "source": [
    "kf = KFold(n_splits=5, shuffle=True, random_state=42)\n",
    "\n",
    "# Create a new column for the target-encoded 'business_area'\n",
    "df['business_area_te'] = np.nan\n",
    "\n",
    "for train_idx, val_idx in kf.split(df):\n",
    "    # Split the data into training and validation sets\n",
    "    X_train, X_val = df.iloc[train_idx], df.iloc[val_idx]\n",
    "    \n",
    "    # Compute the target mean for each category in 'business_area' on the training data\n",
    "    means = X_train.groupby('business_area')['is_converted'].mean()\n",
    "    \n",
    "    # Map the computed means to the validation set\n",
    "    df.loc[val_idx, 'business_area_te'] = X_val['business_area'].map(means)\n",
    "\n",
    "# Fill missing values for any 'business_area' not seen in the training folds with the global mean\n",
    "global_mean = df['is_converted'].mean()\n",
    "df['business_area_te'].fillna(global_mean, inplace=True)\n",
    "\n",
    "# Verify the changes\n",
    "print(df[['business_area', 'business_area_te']].head())"
   ]
  },
  {
   "cell_type": "code",
   "execution_count": 247,
   "metadata": {},
   "outputs": [
    {
     "name": "stdout",
     "output_type": "stream",
     "text": [
      "28\n"
     ]
    },
    {
     "data": {
      "text/plain": [
       "Index(['bant_submit', 'business_unit', 'com_reg_ver_win_rate', 'customer_idx',\n",
       "       'customer_type', 'historical_existing_cnt', 'id_strategic_ver',\n",
       "       'it_strategic_ver', 'idit_strategic_ver', 'customer_job',\n",
       "       'lead_desc_length', 'product_category', 'product_subcategory',\n",
       "       'product_modelname', 'customer_country.1', 'customer_position',\n",
       "       'response_corporate', 'expected_timeline', 'ver_cus', 'ver_pro',\n",
       "       'ver_win_rate_x', 'ver_win_ratio_per_bu', 'business_area',\n",
       "       'business_subarea', 'lead_owner', 'is_converted',\n",
       "       'enterprise_Enterprise', 'enterprise_SMB'],\n",
       "      dtype='object')"
      ]
     },
     "execution_count": 247,
     "metadata": {},
     "output_type": "execute_result"
    }
   ],
   "source": [
    "df['business_area'] = df['business_area_te']\n",
    "df.drop('business_area_te', axis=1, inplace=True)\n",
    "print(len(df.columns))\n",
    "df.columns"
   ]
  },
  {
   "cell_type": "markdown",
   "metadata": {},
   "source": [
    "## business_subarea"
   ]
  },
  {
   "cell_type": "code",
   "execution_count": 248,
   "metadata": {},
   "outputs": [
    {
     "name": "stdout",
     "output_type": "stream",
     "text": [
      "['Engineering' 'Advertising' 'Construction' 'IT/Software' nan\n",
      " 'Manufacturing' 'Energy' 'Developer/Property' 'Entertainment'\n",
      " 'Agriculture' 'Pharmaceutical' 'Others' 'Banking' 'Consulting'\n",
      " 'Healthcare' 'Finance' 'Broadcasting & Media' 'Distribution Center'\n",
      " 'Law Firm' 'Logistics' 'Telecommunication' 'Aerospace' 'Network/Cabling'\n",
      " 'Insurance' 'Institute & Academy' 'Hotel' 'K12 Kindergarten & Schools'\n",
      " 'Hospital' 'Mixed-use (Multi Complex)'\n",
      " 'Telecom Base Station / Data, Call' 'Botanical Garden / Green House'\n",
      " 'Higher Education (College & University)' 'Clinic' 'General Hospital'\n",
      " 'Fitness' 'LTC(Long-Term Care)' 'Villa / Single-Family Home' 'Apartment'\n",
      " 'Townhouse' 'Officetel' 'General Government Office' 'Military'\n",
      " 'Police / Fire station' 'Welfare Facilities' 'Other Stores'\n",
      " 'Luxury(Watch/Jewelry Shop)' 'Electronics & Telco' 'Sports Entertainment'\n",
      " 'CVS (Convenience Store)' 'Car Dealership' 'Fashion'\n",
      " 'QSR(Quick Service Restaurant)' 'Hyper Market & Grocery' 'Shopping Mall'\n",
      " 'Cosmetics' 'Gas Station' 'Bookstore' 'Pharmacy' 'Real-Estate Agency'\n",
      " 'Restaurant' 'F&B(Food and Beverage)' 'Resort' 'Casino Resort' 'Cruise'\n",
      " 'Dormitory' 'Manufacturing Factory / Plant' 'Chemical Factory / Plant'\n",
      " 'Pharmaceutical Factory' 'Renewable Energy' 'Power Plant'\n",
      " 'Energy Storage & Saving' 'Railway & Metro Station'\n",
      " 'Airport / Airfield / Helipad' 'Bus Terminal'\n",
      " 'Sea Passenger Terminal / Port' 'Exhibition / Convention Center'\n",
      " 'Museum / Gallery' 'Outdoor Advertisement' 'Cinema /Theater'\n",
      " 'Religious Facility' 'Sports' 'Mining' 'Holdings' 'Airline' 'Investment'\n",
      " 'Travel Agency' 'Duty Free Shop']\n"
     ]
    },
    {
     "data": {
      "text/plain": [
       "87"
      ]
     },
     "execution_count": 248,
     "metadata": {},
     "output_type": "execute_result"
    }
   ],
   "source": [
    "print(df.business_subarea.unique())\n",
    "len(df.business_subarea.unique())"
   ]
  },
  {
   "cell_type": "code",
   "execution_count": 249,
   "metadata": {},
   "outputs": [
    {
     "name": "stdout",
     "output_type": "stream",
     "text": [
      "  business_subarea  business_subarea_te\n",
      "0      Engineering             0.123188\n",
      "1      Advertising             0.084211\n",
      "2     Construction             0.118421\n",
      "3      IT/Software             0.132075\n",
      "4              NaN             0.082825\n"
     ]
    }
   ],
   "source": [
    "kf = KFold(n_splits=5, shuffle=True, random_state=42)\n",
    "\n",
    "# Create a new column for the target-encoded 'business_area'\n",
    "df['business_subarea_te'] = np.nan\n",
    "\n",
    "for train_idx, val_idx in kf.split(df):\n",
    "    # Split the data into training and validation sets\n",
    "    X_train, X_val = df.iloc[train_idx], df.iloc[val_idx]\n",
    "    \n",
    "    # Compute the target mean for each category in 'business_area' on the training data\n",
    "    means = X_train.groupby('business_subarea')['is_converted'].mean()\n",
    "    \n",
    "    # Map the computed means to the validation set\n",
    "    df.loc[val_idx, 'business_subarea_te'] = X_val['business_subarea'].map(means)\n",
    "\n",
    "# Fill missing values for any 'business_area' not seen in the training folds with the global mean\n",
    "global_mean = df['is_converted'].mean()\n",
    "df['business_subarea_te'].fillna(global_mean, inplace=True)\n",
    "\n",
    "# Verify the changes\n",
    "print(df[['business_subarea', 'business_subarea_te']].head())"
   ]
  },
  {
   "cell_type": "code",
   "execution_count": 250,
   "metadata": {},
   "outputs": [
    {
     "name": "stdout",
     "output_type": "stream",
     "text": [
      "28\n"
     ]
    },
    {
     "data": {
      "text/plain": [
       "Index(['bant_submit', 'business_unit', 'com_reg_ver_win_rate', 'customer_idx',\n",
       "       'customer_type', 'historical_existing_cnt', 'id_strategic_ver',\n",
       "       'it_strategic_ver', 'idit_strategic_ver', 'customer_job',\n",
       "       'lead_desc_length', 'product_category', 'product_subcategory',\n",
       "       'product_modelname', 'customer_country.1', 'customer_position',\n",
       "       'response_corporate', 'expected_timeline', 'ver_cus', 'ver_pro',\n",
       "       'ver_win_rate_x', 'ver_win_ratio_per_bu', 'business_area',\n",
       "       'business_subarea', 'lead_owner', 'is_converted',\n",
       "       'enterprise_Enterprise', 'enterprise_SMB'],\n",
       "      dtype='object')"
      ]
     },
     "execution_count": 250,
     "metadata": {},
     "output_type": "execute_result"
    }
   ],
   "source": [
    "df['business_subarea'] = df['business_subarea_te']\n",
    "df.drop('business_subarea_te', axis=1, inplace=True)\n",
    "print(len(df.columns))\n",
    "df.columns"
   ]
  },
  {
   "cell_type": "markdown",
   "metadata": {},
   "source": [
    "## checking"
   ]
  },
  {
   "cell_type": "code",
   "execution_count": 251,
   "metadata": {},
   "outputs": [
    {
     "name": "stdout",
     "output_type": "stream",
     "text": [
      "Non-numeric columns found: ['is_converted', 'enterprise_Enterprise', 'enterprise_SMB']\n"
     ]
    }
   ],
   "source": [
    "# Select columns that are not of numeric types (int or float)\n",
    "non_numeric_columns = df.select_dtypes(exclude=['int64', 'float64']).columns\n",
    "\n",
    "# Check if there are any non-numeric columns\n",
    "if len(non_numeric_columns) > 0:\n",
    "    print(f\"Non-numeric columns found: {list(non_numeric_columns)}\")\n",
    "else:\n",
    "    print(\"All columns are of int or float type.\")"
   ]
  },
  {
   "cell_type": "code",
   "execution_count": 252,
   "metadata": {},
   "outputs": [],
   "source": [
    "df.to_csv('encoded_train.csv', index=False)"
   ]
  }
 ],
 "metadata": {
  "kernelspec": {
   "display_name": "Python 3",
   "language": "python",
   "name": "python3"
  },
  "language_info": {
   "codemirror_mode": {
    "name": "ipython",
    "version": 3
   },
   "file_extension": ".py",
   "mimetype": "text/x-python",
   "name": "python",
   "nbconvert_exporter": "python",
   "pygments_lexer": "ipython3",
   "version": "3.11.1"
  }
 },
 "nbformat": 4,
 "nbformat_minor": 2
}
