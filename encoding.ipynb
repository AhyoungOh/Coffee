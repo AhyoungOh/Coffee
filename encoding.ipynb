{
 "cells": [
  {
   "cell_type": "code",
   "execution_count": 1,
   "metadata": {},
   "outputs": [],
   "source": [
    "import numpy as np \n",
    "import matplotlib.pyplot as plt\n",
    "import seaborn as sns\n",
    "import pandas as pd\n",
    "\n",
    "from sklearn.model_selection import KFold\n"
   ]
  },
  {
   "cell_type": "code",
   "execution_count": 2,
   "metadata": {},
   "outputs": [
    {
     "data": {
      "text/html": [
       "<div>\n",
       "<style scoped>\n",
       "    .dataframe tbody tr th:only-of-type {\n",
       "        vertical-align: middle;\n",
       "    }\n",
       "\n",
       "    .dataframe tbody tr th {\n",
       "        vertical-align: top;\n",
       "    }\n",
       "\n",
       "    .dataframe thead th {\n",
       "        text-align: right;\n",
       "    }\n",
       "</style>\n",
       "<table border=\"1\" class=\"dataframe\">\n",
       "  <thead>\n",
       "    <tr style=\"text-align: right;\">\n",
       "      <th></th>\n",
       "      <th>bant_submit</th>\n",
       "      <th>business_unit</th>\n",
       "      <th>com_reg_ver_win_rate</th>\n",
       "      <th>customer_idx</th>\n",
       "      <th>customer_type</th>\n",
       "      <th>enterprise</th>\n",
       "      <th>historical_existing_cnt</th>\n",
       "      <th>idit_strategic_ver</th>\n",
       "      <th>customer_job</th>\n",
       "      <th>lead_desc_length</th>\n",
       "      <th>...</th>\n",
       "      <th>product_modelname</th>\n",
       "      <th>customer_country.1</th>\n",
       "      <th>customer_position</th>\n",
       "      <th>response_corporate</th>\n",
       "      <th>ver_cus</th>\n",
       "      <th>ver_pro</th>\n",
       "      <th>ver_win_rate_x</th>\n",
       "      <th>business_area</th>\n",
       "      <th>lead_owner</th>\n",
       "      <th>is_converted</th>\n",
       "    </tr>\n",
       "  </thead>\n",
       "  <tbody>\n",
       "    <tr>\n",
       "      <th>0</th>\n",
       "      <td>1.0</td>\n",
       "      <td>AS</td>\n",
       "      <td>0.066667</td>\n",
       "      <td>32160</td>\n",
       "      <td>End Customer</td>\n",
       "      <td>Enterprise</td>\n",
       "      <td>0.0</td>\n",
       "      <td>0.0</td>\n",
       "      <td>purchasing</td>\n",
       "      <td>50.0</td>\n",
       "      <td>...</td>\n",
       "      <td>NaN</td>\n",
       "      <td>Philippines</td>\n",
       "      <td>entry_level</td>\n",
       "      <td>LGEPH</td>\n",
       "      <td>1</td>\n",
       "      <td>0</td>\n",
       "      <td>0.003079</td>\n",
       "      <td>corporate / office</td>\n",
       "      <td>0</td>\n",
       "      <td>True</td>\n",
       "    </tr>\n",
       "    <tr>\n",
       "      <th>1</th>\n",
       "      <td>1.0</td>\n",
       "      <td>AS</td>\n",
       "      <td>0.066667</td>\n",
       "      <td>23122</td>\n",
       "      <td>End Customer</td>\n",
       "      <td>Enterprise</td>\n",
       "      <td>12.0</td>\n",
       "      <td>0.0</td>\n",
       "      <td>media and communication</td>\n",
       "      <td>100.0</td>\n",
       "      <td>...</td>\n",
       "      <td>NaN</td>\n",
       "      <td>Philippines</td>\n",
       "      <td>c_level</td>\n",
       "      <td>LGEPH</td>\n",
       "      <td>1</td>\n",
       "      <td>0</td>\n",
       "      <td>0.003079</td>\n",
       "      <td>corporate / office</td>\n",
       "      <td>1</td>\n",
       "      <td>True</td>\n",
       "    </tr>\n",
       "    <tr>\n",
       "      <th>2</th>\n",
       "      <td>1.0</td>\n",
       "      <td>AS</td>\n",
       "      <td>0.088889</td>\n",
       "      <td>1755</td>\n",
       "      <td>End Customer</td>\n",
       "      <td>Enterprise</td>\n",
       "      <td>144.0</td>\n",
       "      <td>0.0</td>\n",
       "      <td>engineering</td>\n",
       "      <td>50.0</td>\n",
       "      <td>...</td>\n",
       "      <td>NaN</td>\n",
       "      <td>India</td>\n",
       "      <td>c_level</td>\n",
       "      <td>LGEIL</td>\n",
       "      <td>1</td>\n",
       "      <td>0</td>\n",
       "      <td>0.003079</td>\n",
       "      <td>corporate / office</td>\n",
       "      <td>2</td>\n",
       "      <td>True</td>\n",
       "    </tr>\n",
       "    <tr>\n",
       "      <th>3</th>\n",
       "      <td>1.0</td>\n",
       "      <td>AS</td>\n",
       "      <td>0.088889</td>\n",
       "      <td>4919</td>\n",
       "      <td>End Customer</td>\n",
       "      <td>Enterprise</td>\n",
       "      <td>0.0</td>\n",
       "      <td>0.0</td>\n",
       "      <td>entrepreneurship</td>\n",
       "      <td>50.0</td>\n",
       "      <td>...</td>\n",
       "      <td>NaN</td>\n",
       "      <td>India</td>\n",
       "      <td>c_level</td>\n",
       "      <td>LGEIL</td>\n",
       "      <td>1</td>\n",
       "      <td>0</td>\n",
       "      <td>0.003079</td>\n",
       "      <td>corporate / office</td>\n",
       "      <td>3</td>\n",
       "      <td>True</td>\n",
       "    </tr>\n",
       "    <tr>\n",
       "      <th>4</th>\n",
       "      <td>1.0</td>\n",
       "      <td>AS</td>\n",
       "      <td>0.088889</td>\n",
       "      <td>17126</td>\n",
       "      <td>Specifier / Influencer</td>\n",
       "      <td>Enterprise</td>\n",
       "      <td>0.0</td>\n",
       "      <td>0.0</td>\n",
       "      <td>consulting</td>\n",
       "      <td>100.0</td>\n",
       "      <td>...</td>\n",
       "      <td>NaN</td>\n",
       "      <td>India</td>\n",
       "      <td>c_level</td>\n",
       "      <td>LGEIL</td>\n",
       "      <td>0</td>\n",
       "      <td>0</td>\n",
       "      <td>0.003079</td>\n",
       "      <td>corporate / office</td>\n",
       "      <td>4</td>\n",
       "      <td>True</td>\n",
       "    </tr>\n",
       "  </tbody>\n",
       "</table>\n",
       "<p>5 rows × 23 columns</p>\n",
       "</div>"
      ],
      "text/plain": [
       "   bant_submit business_unit  com_reg_ver_win_rate  customer_idx  \\\n",
       "0          1.0            AS              0.066667         32160   \n",
       "1          1.0            AS              0.066667         23122   \n",
       "2          1.0            AS              0.088889          1755   \n",
       "3          1.0            AS              0.088889          4919   \n",
       "4          1.0            AS              0.088889         17126   \n",
       "\n",
       "            customer_type  enterprise  historical_existing_cnt  \\\n",
       "0            End Customer  Enterprise                      0.0   \n",
       "1            End Customer  Enterprise                     12.0   \n",
       "2            End Customer  Enterprise                    144.0   \n",
       "3            End Customer  Enterprise                      0.0   \n",
       "4  Specifier / Influencer  Enterprise                      0.0   \n",
       "\n",
       "   idit_strategic_ver             customer_job  lead_desc_length  ...  \\\n",
       "0                 0.0               purchasing              50.0  ...   \n",
       "1                 0.0  media and communication             100.0  ...   \n",
       "2                 0.0              engineering              50.0  ...   \n",
       "3                 0.0         entrepreneurship              50.0  ...   \n",
       "4                 0.0               consulting             100.0  ...   \n",
       "\n",
       "  product_modelname customer_country.1 customer_position response_corporate  \\\n",
       "0               NaN        Philippines       entry_level              LGEPH   \n",
       "1               NaN        Philippines           c_level              LGEPH   \n",
       "2               NaN              India           c_level              LGEIL   \n",
       "3               NaN              India           c_level              LGEIL   \n",
       "4               NaN              India           c_level              LGEIL   \n",
       "\n",
       "  ver_cus ver_pro ver_win_rate_x       business_area  lead_owner  is_converted  \n",
       "0       1       0       0.003079  corporate / office           0          True  \n",
       "1       1       0       0.003079  corporate / office           1          True  \n",
       "2       1       0       0.003079  corporate / office           2          True  \n",
       "3       1       0       0.003079  corporate / office           3          True  \n",
       "4       0       0       0.003079  corporate / office           4          True  \n",
       "\n",
       "[5 rows x 23 columns]"
      ]
     },
     "execution_count": 2,
     "metadata": {},
     "output_type": "execute_result"
    }
   ],
   "source": [
    "df = pd.read_csv('preprocessed_train_final.csv')\n",
    "df.head()"
   ]
  },
  {
   "cell_type": "code",
   "execution_count": 305,
   "metadata": {},
   "outputs": [
    {
     "name": "stdout",
     "output_type": "stream",
     "text": [
      "30\n"
     ]
    },
    {
     "data": {
      "text/plain": [
       "Index(['id', 'bant_submit', 'customer_country', 'business_unit',\n",
       "       'com_reg_ver_win_rate', 'customer_idx', 'customer_type', 'enterprise',\n",
       "       'historical_existing_cnt', 'id_strategic_ver', 'it_strategic_ver',\n",
       "       'idit_strategic_ver', 'customer_job', 'lead_desc_length',\n",
       "       'inquiry_type', 'product_category', 'product_subcategory',\n",
       "       'product_modelname', 'customer_country.1', 'customer_position',\n",
       "       'response_corporate', 'expected_timeline', 'ver_cus', 'ver_pro',\n",
       "       'ver_win_rate_x', 'ver_win_ratio_per_bu', 'business_area',\n",
       "       'business_subarea', 'lead_owner', 'is_converted'],\n",
       "      dtype='object')"
      ]
     },
     "execution_count": 305,
     "metadata": {},
     "output_type": "execute_result"
    }
   ],
   "source": [
    "print(len(df.columns))\n",
    "df.columns"
   ]
  },
  {
   "cell_type": "code",
   "execution_count": 306,
   "metadata": {},
   "outputs": [
    {
     "name": "stdout",
     "output_type": "stream",
     "text": [
      "customer_country\n",
      "business_unit\n",
      "customer_type\n",
      "enterprise\n",
      "customer_job\n",
      "inquiry_type\n",
      "product_category\n",
      "product_subcategory\n",
      "product_modelname\n",
      "customer_country.1\n",
      "customer_position\n",
      "response_corporate\n",
      "expected_timeline\n",
      "business_area\n",
      "business_subarea\n",
      "is_converted\n"
     ]
    }
   ],
   "source": [
    "# categorical columns\n",
    "\n",
    "for col in df.columns:\n",
    "    if df[col].dtype != 'int64' and df[col].dtype != 'float64':\n",
    "        print(col)"
   ]
  },
  {
   "cell_type": "code",
   "execution_count": 307,
   "metadata": {},
   "outputs": [
    {
     "name": "stdout",
     "output_type": "stream",
     "text": [
      "id\n",
      "bant_submit\n",
      "com_reg_ver_win_rate\n",
      "customer_idx\n",
      "historical_existing_cnt\n",
      "id_strategic_ver\n",
      "it_strategic_ver\n",
      "idit_strategic_ver\n",
      "lead_desc_length\n",
      "ver_cus\n",
      "ver_pro\n",
      "ver_win_rate_x\n",
      "ver_win_ratio_per_bu\n",
      "lead_owner\n"
     ]
    }
   ],
   "source": [
    "#numerical columns\n",
    "\n",
    "for col in df.columns:\n",
    "    if df[col].dtype == 'int64' or df[col].dtype == 'float64':\n",
    "        print(col)"
   ]
  },
  {
   "cell_type": "markdown",
   "metadata": {},
   "source": [
    "## customer_country.1"
   ]
  },
  {
   "cell_type": "markdown",
   "metadata": {},
   "source": [
    "### 5 fold Target Encoding"
   ]
  },
  {
   "cell_type": "code",
   "execution_count": 308,
   "metadata": {},
   "outputs": [
    {
     "data": {
      "text/plain": [
       "48"
      ]
     },
     "execution_count": 308,
     "metadata": {},
     "output_type": "execute_result"
    }
   ],
   "source": [
    "len(df['customer_country.1'].unique())"
   ]
  },
  {
   "cell_type": "code",
   "execution_count": 309,
   "metadata": {},
   "outputs": [
    {
     "name": "stdout",
     "output_type": "stream",
     "text": [
      "  customer_country.1  customer_country.1_te\n",
      "0             Brazil               0.256163\n",
      "1      United States               0.382659\n",
      "2                NaN               0.221969\n",
      "3      United States               0.387571\n",
      "4             Brazil               0.256959\n"
     ]
    }
   ],
   "source": [
    "# Ensure 'is_converted' is binary for stratification, convert if necessary\n",
    "# Convert boolean True/False to 1/0 directly\n",
    "df['is_converted'] = df['is_converted'].astype('int64')\n",
    "\n",
    "# Prepare the KFold object\n",
    "kf = KFold(n_splits=10, shuffle=True, random_state=42)\n",
    "\n",
    "# Placeholder for the target encoded feature\n",
    "df['customer_country.1_te'] = np.nan\n",
    "\n",
    "for train_index, test_index in kf.split(df, df['is_converted']):\n",
    "    # Split the data\n",
    "    X_train, X_test = df.iloc[train_index], df.iloc[test_index]\n",
    "    \n",
    "    # Compute target mean for each category in 'customer_country.1' excluding the current fold\n",
    "    means = X_train.groupby('customer_country.1')['is_converted'].mean()\n",
    "    \n",
    "    # Map the computed means to the test portion of the fold\n",
    "    df.loc[test_index, 'customer_country.1_te'] = X_test['customer_country.1'].map(means)\n",
    "\n",
    "# For any missing values in the target encoded feature (e.g., categories present only in test folds),\n",
    "# fill with the global mean of 'is_converted'\n",
    "global_mean = df['is_converted'].mean()\n",
    "df['customer_country.1_te'].fillna(global_mean, inplace=True)\n",
    "\n",
    "# Show the first few rows to verify\n",
    "print(df[['customer_country.1', 'customer_country.1_te']].head())"
   ]
  },
  {
   "cell_type": "code",
   "execution_count": 310,
   "metadata": {},
   "outputs": [
    {
     "name": "stdout",
     "output_type": "stream",
     "text": [
      "30\n"
     ]
    },
    {
     "data": {
      "text/plain": [
       "Index(['id', 'bant_submit', 'customer_country', 'business_unit',\n",
       "       'com_reg_ver_win_rate', 'customer_idx', 'customer_type', 'enterprise',\n",
       "       'historical_existing_cnt', 'id_strategic_ver', 'it_strategic_ver',\n",
       "       'idit_strategic_ver', 'customer_job', 'lead_desc_length',\n",
       "       'inquiry_type', 'product_category', 'product_subcategory',\n",
       "       'product_modelname', 'customer_country.1', 'customer_position',\n",
       "       'response_corporate', 'expected_timeline', 'ver_cus', 'ver_pro',\n",
       "       'ver_win_rate_x', 'ver_win_ratio_per_bu', 'business_area',\n",
       "       'business_subarea', 'lead_owner', 'is_converted'],\n",
       "      dtype='object')"
      ]
     },
     "execution_count": 310,
     "metadata": {},
     "output_type": "execute_result"
    }
   ],
   "source": [
    "# replace the original column with the target encoded column, but the order matters\n",
    "\n",
    "df['customer_country.1'] = df['customer_country.1_te']\n",
    "df.drop('customer_country.1_te', axis=1, inplace=True)\n",
    "print(len(df.columns))\n",
    "df.columns"
   ]
  },
  {
   "cell_type": "markdown",
   "metadata": {},
   "source": [
    "## customer_country"
   ]
  },
  {
   "cell_type": "code",
   "execution_count": 311,
   "metadata": {},
   "outputs": [
    {
     "data": {
      "text/plain": [
       "48"
      ]
     },
     "execution_count": 311,
     "metadata": {},
     "output_type": "execute_result"
    }
   ],
   "source": [
    "len(df['customer_country'].unique())"
   ]
  },
  {
   "cell_type": "code",
   "execution_count": 312,
   "metadata": {},
   "outputs": [
    {
     "name": "stdout",
     "output_type": "stream",
     "text": [
      "  customer_country  customer_country_te\n",
      "0           Brazil             0.256163\n",
      "1    United States             0.382659\n",
      "2              NaN             0.221969\n",
      "3    United States             0.387571\n",
      "4           Brazil             0.256959\n"
     ]
    }
   ],
   "source": [
    "# Ensure 'is_converted' is binary for stratification, convert if necessary\n",
    "\n",
    "# Prepare the KFold object\n",
    "kf = KFold(n_splits=10, shuffle=True, random_state=42)\n",
    "\n",
    "# Placeholder for the target encoded feature\n",
    "df['customer_country_te'] = np.nan\n",
    "\n",
    "for train_index, test_index in kf.split(df, df['is_converted']):\n",
    "    # Split the data\n",
    "    X_train, X_test = df.iloc[train_index], df.iloc[test_index]\n",
    "    \n",
    "    # Compute target mean for each category in 'customer_country.1' excluding the current fold\n",
    "    means = X_train.groupby('customer_country')['is_converted'].mean()\n",
    "    \n",
    "    # Map the computed means to the test portion of the fold\n",
    "    df.loc[test_index, 'customer_country_te'] = X_test['customer_country'].map(means)\n",
    "\n",
    "# For any missing values in the target encoded feature (e.g., categories present only in test folds),\n",
    "# fill with the global mean of 'is_converted'\n",
    "global_mean = df['is_converted'].mean()\n",
    "df['customer_country_te'].fillna(global_mean, inplace=True)\n",
    "\n",
    "# Show the first few rows to verify\n",
    "print(df[['customer_country', 'customer_country_te']].head())"
   ]
  },
  {
   "cell_type": "code",
   "execution_count": 313,
   "metadata": {},
   "outputs": [
    {
     "name": "stdout",
     "output_type": "stream",
     "text": [
      "30\n"
     ]
    },
    {
     "data": {
      "text/plain": [
       "Index(['id', 'bant_submit', 'customer_country', 'business_unit',\n",
       "       'com_reg_ver_win_rate', 'customer_idx', 'customer_type', 'enterprise',\n",
       "       'historical_existing_cnt', 'id_strategic_ver', 'it_strategic_ver',\n",
       "       'idit_strategic_ver', 'customer_job', 'lead_desc_length',\n",
       "       'inquiry_type', 'product_category', 'product_subcategory',\n",
       "       'product_modelname', 'customer_country.1', 'customer_position',\n",
       "       'response_corporate', 'expected_timeline', 'ver_cus', 'ver_pro',\n",
       "       'ver_win_rate_x', 'ver_win_ratio_per_bu', 'business_area',\n",
       "       'business_subarea', 'lead_owner', 'is_converted'],\n",
       "      dtype='object')"
      ]
     },
     "execution_count": 313,
     "metadata": {},
     "output_type": "execute_result"
    }
   ],
   "source": [
    "df['customer_country'] = df['customer_country_te']\n",
    "df.drop('customer_country_te', axis=1, inplace=True)\n",
    "print(len(df.columns))\n",
    "df.columns"
   ]
  },
  {
   "cell_type": "markdown",
   "metadata": {},
   "source": [
    "## inquiry_type"
   ]
  },
  {
   "cell_type": "code",
   "execution_count": 314,
   "metadata": {},
   "outputs": [
    {
     "data": {
      "text/plain": [
       "array([nan, 'Quotation or Purchase Consultation', 'Product Information',\n",
       "       'Technical Consultation', 'Others', 'Request for Partnership',\n",
       "       'Usage or Technical Consultation', 'Services',\n",
       "       'Customer Suggestions', 'Request a Demo', 'Trainings', 'Other',\n",
       "       'OEM/ODM Request', 'Media Inquiry', 'other_',\n",
       "       'Request for Distributorship'], dtype=object)"
      ]
     },
     "execution_count": 314,
     "metadata": {},
     "output_type": "execute_result"
    }
   ],
   "source": [
    "df['inquiry_type'].unique()"
   ]
  },
  {
   "cell_type": "code",
   "execution_count": 315,
   "metadata": {},
   "outputs": [
    {
     "name": "stdout",
     "output_type": "stream",
     "text": [
      "                         inquiry_type  inquiry_type_te\n",
      "0                                 NaN         0.221969\n",
      "1  Quotation or Purchase Consultation         0.257106\n",
      "2  Quotation or Purchase Consultation         0.260160\n",
      "3  Quotation or Purchase Consultation         0.259188\n",
      "4  Quotation or Purchase Consultation         0.253841\n"
     ]
    }
   ],
   "source": [
    "# Ensure 'is_converted' is binary for stratification, convert if necessary\n",
    "\n",
    "# Prepare the KFold object\n",
    "kf = KFold(n_splits=10, shuffle=True, random_state=42)\n",
    "\n",
    "# Placeholder for the target encoded feature\n",
    "df['inquiry_type_te'] = np.nan\n",
    "\n",
    "for train_index, test_index in kf.split(df, df['is_converted']):\n",
    "    # Split the data\n",
    "    X_train, X_test = df.iloc[train_index], df.iloc[test_index]\n",
    "    \n",
    "    # Compute target mean for each category in 'customer_country.1' excluding the current fold\n",
    "    means = X_train.groupby('inquiry_type')['is_converted'].mean()\n",
    "    \n",
    "    # Map the computed means to the test portion of the fold\n",
    "    df.loc[test_index, 'inquiry_type_te'] = X_test['inquiry_type'].map(means)\n",
    "\n",
    "# For any missing values in the target encoded feature (e.g., categories present only in test folds),\n",
    "# fill with the global mean of 'is_converted'\n",
    "global_mean = df['is_converted'].mean()\n",
    "df['inquiry_type_te'].fillna(global_mean, inplace=True)\n",
    "\n",
    "# Show the first few rows to verify\n",
    "print(df[['inquiry_type', 'inquiry_type_te']].head())"
   ]
  },
  {
   "cell_type": "code",
   "execution_count": 316,
   "metadata": {},
   "outputs": [
    {
     "name": "stdout",
     "output_type": "stream",
     "text": [
      "30\n"
     ]
    },
    {
     "data": {
      "text/plain": [
       "Index(['id', 'bant_submit', 'customer_country', 'business_unit',\n",
       "       'com_reg_ver_win_rate', 'customer_idx', 'customer_type', 'enterprise',\n",
       "       'historical_existing_cnt', 'id_strategic_ver', 'it_strategic_ver',\n",
       "       'idit_strategic_ver', 'customer_job', 'lead_desc_length',\n",
       "       'inquiry_type', 'product_category', 'product_subcategory',\n",
       "       'product_modelname', 'customer_country.1', 'customer_position',\n",
       "       'response_corporate', 'expected_timeline', 'ver_cus', 'ver_pro',\n",
       "       'ver_win_rate_x', 'ver_win_ratio_per_bu', 'business_area',\n",
       "       'business_subarea', 'lead_owner', 'is_converted'],\n",
       "      dtype='object')"
      ]
     },
     "execution_count": 316,
     "metadata": {},
     "output_type": "execute_result"
    }
   ],
   "source": [
    "df['inquiry_type'] = df['inquiry_type_te']\n",
    "df.drop('inquiry_type_te', axis=1, inplace=True)\n",
    "print(len(df.columns))\n",
    "df.columns"
   ]
  },
  {
   "cell_type": "markdown",
   "metadata": {},
   "source": [
    "## business_unit"
   ]
  },
  {
   "cell_type": "markdown",
   "metadata": {},
   "source": [
    "### 5fold te"
   ]
  },
  {
   "cell_type": "code",
   "execution_count": 317,
   "metadata": {},
   "outputs": [
    {
     "data": {
      "text/plain": [
       "array(['ID', 'IT', 'AS'], dtype=object)"
      ]
     },
     "execution_count": 317,
     "metadata": {},
     "output_type": "execute_result"
    }
   ],
   "source": [
    "df.business_unit.unique()"
   ]
  },
  {
   "cell_type": "code",
   "execution_count": 318,
   "metadata": {},
   "outputs": [
    {
     "name": "stdout",
     "output_type": "stream",
     "text": [
      "  business_unit  business_unit_te\n",
      "0            ID          0.231104\n",
      "1            IT          0.487981\n",
      "2            ID          0.240128\n",
      "3            ID          0.234889\n",
      "4            ID          0.234889\n"
     ]
    }
   ],
   "source": [
    "\n",
    "\n",
    "# Initialize KFold\n",
    "kf = KFold(n_splits=5, shuffle=True, random_state=42)\n",
    "\n",
    "# Create a new column for the target-encoded 'business_area'\n",
    "df['business_unit_te'] = np.nan\n",
    "\n",
    "for train_idx, val_idx in kf.split(df):\n",
    "    # Split the data into training and validation sets\n",
    "    X_train, X_val = df.iloc[train_idx], df.iloc[val_idx]\n",
    "    \n",
    "    # Compute the target mean for each category in 'business_area' on the training data\n",
    "    means = X_train.groupby('business_unit')['is_converted'].mean()\n",
    "    \n",
    "    # Map the computed means to the validation set\n",
    "    df.loc[val_idx, 'business_unit_te'] = X_val['business_unit'].map(means)\n",
    "\n",
    "# Fill missing values for any 'business_area' not seen in the training folds with the global mean\n",
    "global_mean = df['is_converted'].mean()\n",
    "df['business_unit_te'].fillna(global_mean, inplace=True)\n",
    "\n",
    "# Verify the changes\n",
    "print(df[['business_unit', 'business_unit_te']].head())"
   ]
  },
  {
   "cell_type": "code",
   "execution_count": 319,
   "metadata": {},
   "outputs": [
    {
     "name": "stdout",
     "output_type": "stream",
     "text": [
      "30\n"
     ]
    },
    {
     "data": {
      "text/plain": [
       "Index(['id', 'bant_submit', 'customer_country', 'business_unit',\n",
       "       'com_reg_ver_win_rate', 'customer_idx', 'customer_type', 'enterprise',\n",
       "       'historical_existing_cnt', 'id_strategic_ver', 'it_strategic_ver',\n",
       "       'idit_strategic_ver', 'customer_job', 'lead_desc_length',\n",
       "       'inquiry_type', 'product_category', 'product_subcategory',\n",
       "       'product_modelname', 'customer_country.1', 'customer_position',\n",
       "       'response_corporate', 'expected_timeline', 'ver_cus', 'ver_pro',\n",
       "       'ver_win_rate_x', 'ver_win_ratio_per_bu', 'business_area',\n",
       "       'business_subarea', 'lead_owner', 'is_converted'],\n",
       "      dtype='object')"
      ]
     },
     "execution_count": 319,
     "metadata": {},
     "output_type": "execute_result"
    }
   ],
   "source": [
    "df['business_unit'] = df['business_unit_te']\n",
    "df.drop('business_unit_te', axis=1, inplace=True)\n",
    "print(len(df.columns))\n",
    "df.columns"
   ]
  },
  {
   "cell_type": "markdown",
   "metadata": {},
   "source": [
    "## Customer_Type"
   ]
  },
  {
   "cell_type": "markdown",
   "metadata": {},
   "source": [
    "### 5-fold Target Encoding"
   ]
  },
  {
   "cell_type": "code",
   "execution_count": 320,
   "metadata": {},
   "outputs": [
    {
     "name": "stdout",
     "output_type": "stream",
     "text": [
      "['End Customer' 'Specifier/ Influencer' 'Unknown' 'Service Partner'\n",
      " 'Channel Partner' 'Solution Eco-Partner' 'Developer' 'End-Customer']\n"
     ]
    },
    {
     "data": {
      "text/plain": [
       "8"
      ]
     },
     "execution_count": 320,
     "metadata": {},
     "output_type": "execute_result"
    }
   ],
   "source": [
    "print(df.customer_type.unique())\n",
    "len(df.customer_type.unique())"
   ]
  },
  {
   "cell_type": "code",
   "execution_count": 321,
   "metadata": {},
   "outputs": [],
   "source": [
    "# Initialize KFold\n",
    "kf = KFold(n_splits=5, shuffle=True, random_state=42)\n",
    "\n",
    "# Create a new column for the target-encoded 'customer_type'\n",
    "df['customer_type_te'] = np.nan\n",
    "\n",
    "# Apply K-fold target encoding\n",
    "for train_idx, val_idx in kf.split(df):\n",
    "    # Split the data\n",
    "    df_train, df_val = df.iloc[train_idx], df.iloc[val_idx]\n",
    "    # Compute the target mean for each category in 'customer_type' on the training data\n",
    "    means = df_train.groupby('customer_type')['is_converted'].mean()\n",
    "    # Map the computed means to the validation set\n",
    "    df.loc[val_idx, 'customer_type_te'] = df_val['customer_type'].map(means)\n",
    "\n",
    "# Fill missing values for any 'customer_type' not seen in the training folds\n",
    "global_mean = df['is_converted'].mean()\n",
    "df['customer_type_te'].fillna(global_mean, inplace=True)"
   ]
  },
  {
   "cell_type": "code",
   "execution_count": 322,
   "metadata": {},
   "outputs": [
    {
     "name": "stdout",
     "output_type": "stream",
     "text": [
      "30\n"
     ]
    },
    {
     "data": {
      "text/plain": [
       "Index(['id', 'bant_submit', 'customer_country', 'business_unit',\n",
       "       'com_reg_ver_win_rate', 'customer_idx', 'customer_type', 'enterprise',\n",
       "       'historical_existing_cnt', 'id_strategic_ver', 'it_strategic_ver',\n",
       "       'idit_strategic_ver', 'customer_job', 'lead_desc_length',\n",
       "       'inquiry_type', 'product_category', 'product_subcategory',\n",
       "       'product_modelname', 'customer_country.1', 'customer_position',\n",
       "       'response_corporate', 'expected_timeline', 'ver_cus', 'ver_pro',\n",
       "       'ver_win_rate_x', 'ver_win_ratio_per_bu', 'business_area',\n",
       "       'business_subarea', 'lead_owner', 'is_converted'],\n",
       "      dtype='object')"
      ]
     },
     "execution_count": 322,
     "metadata": {},
     "output_type": "execute_result"
    }
   ],
   "source": [
    "# replace the original column with the target encoded column, but the order matters\n",
    "\n",
    "df['customer_type'] = df['customer_type_te']\n",
    "df.drop('customer_type_te', axis=1, inplace=True)\n",
    "print(len(df.columns))\n",
    "df.columns"
   ]
  },
  {
   "cell_type": "markdown",
   "metadata": {},
   "source": [
    "## Enterprise"
   ]
  },
  {
   "cell_type": "markdown",
   "metadata": {},
   "source": [
    "### One-Hot Encoding"
   ]
  },
  {
   "cell_type": "code",
   "execution_count": 323,
   "metadata": {},
   "outputs": [
    {
     "name": "stdout",
     "output_type": "stream",
     "text": [
      "['Enterprise' 'SMB']\n"
     ]
    },
    {
     "data": {
      "text/plain": [
       "0    Enterprise\n",
       "1           SMB\n",
       "2           SMB\n",
       "3    Enterprise\n",
       "4    Enterprise\n",
       "Name: enterprise, dtype: object"
      ]
     },
     "execution_count": 323,
     "metadata": {},
     "output_type": "execute_result"
    }
   ],
   "source": [
    "print(df.enterprise.unique())\n",
    "len(df.enterprise.unique())\n",
    "\n",
    "df.enterprise.head()"
   ]
  },
  {
   "cell_type": "code",
   "execution_count": 324,
   "metadata": {},
   "outputs": [
    {
     "name": "stdout",
     "output_type": "stream",
     "text": [
      "0     True\n",
      "1    False\n",
      "2    False\n",
      "3     True\n",
      "4     True\n",
      "Name: enterprise_Enterprise, dtype: bool\n",
      "0    False\n",
      "1     True\n",
      "2     True\n",
      "3    False\n",
      "4    False\n",
      "Name: enterprise_SMB, dtype: bool\n"
     ]
    }
   ],
   "source": [
    "df_one_hot = pd.get_dummies(df, columns=['enterprise'], prefix='enterprise', drop_first=False)\n",
    "\n",
    "# The drop_first=True option drops the first category column, avoiding multicollinearity\n",
    "# 'prefix' is used to name the new column(s) based on the original column name for clarity\n",
    "\n",
    "# # Display the first few rows to verify the new one-hot encoded column\n",
    "print(df_one_hot['enterprise_Enterprise'].head())\n",
    "print(df_one_hot['enterprise_SMB'].head())"
   ]
  },
  {
   "cell_type": "code",
   "execution_count": 325,
   "metadata": {},
   "outputs": [
    {
     "name": "stdout",
     "output_type": "stream",
     "text": [
      "31\n"
     ]
    },
    {
     "data": {
      "text/plain": [
       "Index(['id', 'bant_submit', 'customer_country', 'business_unit',\n",
       "       'com_reg_ver_win_rate', 'customer_idx', 'customer_type',\n",
       "       'historical_existing_cnt', 'id_strategic_ver', 'it_strategic_ver',\n",
       "       'idit_strategic_ver', 'customer_job', 'lead_desc_length',\n",
       "       'inquiry_type', 'product_category', 'product_subcategory',\n",
       "       'product_modelname', 'customer_country.1', 'customer_position',\n",
       "       'response_corporate', 'expected_timeline', 'ver_cus', 'ver_pro',\n",
       "       'ver_win_rate_x', 'ver_win_ratio_per_bu', 'business_area',\n",
       "       'business_subarea', 'lead_owner', 'is_converted',\n",
       "       'enterprise_Enterprise', 'enterprise_SMB'],\n",
       "      dtype='object')"
      ]
     },
     "execution_count": 325,
     "metadata": {},
     "output_type": "execute_result"
    }
   ],
   "source": [
    "df = df_one_hot\n",
    "print(len(df.columns))\n",
    "df.columns"
   ]
  },
  {
   "cell_type": "markdown",
   "metadata": {},
   "source": [
    "## customer_job"
   ]
  },
  {
   "cell_type": "markdown",
   "metadata": {},
   "source": [
    "### 5fold Target Encoding"
   ]
  },
  {
   "cell_type": "code",
   "execution_count": 326,
   "metadata": {},
   "outputs": [
    {
     "name": "stdout",
     "output_type": "stream",
     "text": [
      "['consulting' nan 'information technology' 'sales' 'engineering'\n",
      " 'marketing' 'purchasing' 'others' 'operations' 'support' 'finance'\n",
      " 'business development' 'administrative' 'education' 'product management'\n",
      " 'program and project management' 'entrepreneurship'\n",
      " 'community and social services' 'media and communication'\n",
      " 'arts and design' 'healthcare services' 'accounting'\n",
      " 'medical imaging specialist' 'clinical specialist' 'curation' 'other'\n",
      " '3d/vfx art' 'legal' 'radiology professional'\n",
      " 'military and protective services' 'real estate' 'human resources'\n",
      " 'healthcare' 'electronics & telco' 'quality assurance' 'pathologist'\n",
      " 'research' 'surgery professional' 'film production' 'k12 school'\n",
      " 'media and communications' 'medical solution provider']\n"
     ]
    },
    {
     "data": {
      "text/plain": [
       "42"
      ]
     },
     "execution_count": 326,
     "metadata": {},
     "output_type": "execute_result"
    }
   ],
   "source": [
    "print(df.customer_job.unique())\n",
    "len(df.customer_job.unique())"
   ]
  },
  {
   "cell_type": "code",
   "execution_count": 327,
   "metadata": {},
   "outputs": [],
   "source": [
    "# Initialize KFold\n",
    "kf = KFold(n_splits=10, shuffle=True, random_state=42)\n",
    "\n",
    "# Create a new column for the target-encoded 'customer_type'\n",
    "df['customer_job_te'] = np.nan\n",
    "\n",
    "# Apply K-fold target encoding\n",
    "for train_idx, val_idx in kf.split(df):\n",
    "    # Split the data\n",
    "    df_train, df_val = df.iloc[train_idx], df.iloc[val_idx]\n",
    "    # Compute the target mean for each category in 'customer_type' on the training data\n",
    "    means = df_train.groupby('customer_job')['is_converted'].mean()\n",
    "    # Map the computed means to the validation set\n",
    "    df.loc[val_idx, 'customer_job_te'] = df_val['customer_job'].map(means)\n",
    "\n",
    "# Fill missing values for any 'customer_type' not seen in the training folds\n",
    "global_mean = df['is_converted'].mean()\n",
    "df['customer_job_te'].fillna(global_mean, inplace=True)"
   ]
  },
  {
   "cell_type": "code",
   "execution_count": 328,
   "metadata": {},
   "outputs": [
    {
     "data": {
      "text/plain": [
       "0    0.255034\n",
       "1    0.221969\n",
       "2    0.271429\n",
       "3    0.297297\n",
       "4    0.183486\n",
       "Name: customer_job_te, dtype: float64"
      ]
     },
     "execution_count": 328,
     "metadata": {},
     "output_type": "execute_result"
    }
   ],
   "source": [
    "df['customer_job_te'].head()"
   ]
  },
  {
   "cell_type": "code",
   "execution_count": 329,
   "metadata": {},
   "outputs": [
    {
     "name": "stdout",
     "output_type": "stream",
     "text": [
      "31\n"
     ]
    },
    {
     "data": {
      "text/plain": [
       "Index(['id', 'bant_submit', 'customer_country', 'business_unit',\n",
       "       'com_reg_ver_win_rate', 'customer_idx', 'customer_type',\n",
       "       'historical_existing_cnt', 'id_strategic_ver', 'it_strategic_ver',\n",
       "       'idit_strategic_ver', 'customer_job', 'lead_desc_length',\n",
       "       'inquiry_type', 'product_category', 'product_subcategory',\n",
       "       'product_modelname', 'customer_country.1', 'customer_position',\n",
       "       'response_corporate', 'expected_timeline', 'ver_cus', 'ver_pro',\n",
       "       'ver_win_rate_x', 'ver_win_ratio_per_bu', 'business_area',\n",
       "       'business_subarea', 'lead_owner', 'is_converted',\n",
       "       'enterprise_Enterprise', 'enterprise_SMB'],\n",
       "      dtype='object')"
      ]
     },
     "execution_count": 329,
     "metadata": {},
     "output_type": "execute_result"
    }
   ],
   "source": [
    "df['customer_job'] = df['customer_job_te']\n",
    "df.drop('customer_job_te', axis=1, inplace=True)\n",
    "print(len(df.columns))\n",
    "df.columns"
   ]
  },
  {
   "cell_type": "markdown",
   "metadata": {},
   "source": [
    "## product_category"
   ]
  },
  {
   "cell_type": "markdown",
   "metadata": {},
   "source": [
    "### 5fold TE"
   ]
  },
  {
   "cell_type": "code",
   "execution_count": 330,
   "metadata": {},
   "outputs": [
    {
     "name": "stdout",
     "output_type": "stream",
     "text": [
      "[nan 'hospital tv' 'led signage' 'cloud device' 'standard signage'\n",
      " 'interactive signage' 'multi-split' 'video wall signage' 'vrf' 'monitor'\n",
      " 'etc.' 'heating' 'ventilation' 'control' 'single-split'\n",
      " 'high brightness signage' 'chiller' 'oled signage' 'special signage'\n",
      " 'hotel tv' 'projector' 'medical display' 'signage care solution' 'ess'\n",
      " 'laptop' 'interactive digital board' 'pro:centric' 'software solution'\n",
      " 'others' 'one:quick series' 'webos' 'notebook' 'accessories' 'other']\n"
     ]
    },
    {
     "data": {
      "text/plain": [
       "34"
      ]
     },
     "execution_count": 330,
     "metadata": {},
     "output_type": "execute_result"
    }
   ],
   "source": [
    "print(df.product_category.unique())\n",
    "len(df.product_category.unique())"
   ]
  },
  {
   "cell_type": "code",
   "execution_count": 331,
   "metadata": {},
   "outputs": [
    {
     "data": {
      "text/plain": [
       "Series([], Name: count, dtype: int64)"
      ]
     },
     "execution_count": 331,
     "metadata": {},
     "output_type": "execute_result"
    }
   ],
   "source": [
    "df.product_category.value_counts()\n",
    "# print unique values and their value counts when the value count is more than 1000\n",
    "df.product_category.value_counts()[df.product_category.value_counts() > 1000]"
   ]
  },
  {
   "cell_type": "code",
   "execution_count": 332,
   "metadata": {},
   "outputs": [],
   "source": [
    "kf = KFold(n_splits=5, shuffle=True, random_state=42)\n",
    "\n",
    "# Create a new column for the target-encoded 'product_category'\n",
    "df['product_category_te'] = np.nan\n",
    "\n",
    "# Apply K-fold target encoding\n",
    "for train_idx, val_idx in kf.split(df):\n",
    "    # Split the data\n",
    "    df_train, df_val = df.iloc[train_idx], df.iloc[val_idx]\n",
    "    # Compute the target mean for each category in 'product_category' on the training data\n",
    "    means = df_train.groupby('product_category')['is_converted'].mean()\n",
    "    # Map the computed means to the validation set\n",
    "    df.loc[val_idx, 'product_category_te'] = df_val['product_category'].map(means)\n",
    "\n",
    "# Fill missing values for any 'product_category' not seen in the training folds\n",
    "global_mean = df['is_converted'].mean()\n",
    "df['product_category_te'].fillna(global_mean, inplace=True)"
   ]
  },
  {
   "cell_type": "code",
   "execution_count": 333,
   "metadata": {},
   "outputs": [
    {
     "name": "stdout",
     "output_type": "stream",
     "text": [
      "31\n",
      "Index(['id', 'bant_submit', 'customer_country', 'business_unit',\n",
      "       'com_reg_ver_win_rate', 'customer_idx', 'customer_type',\n",
      "       'historical_existing_cnt', 'id_strategic_ver', 'it_strategic_ver',\n",
      "       'idit_strategic_ver', 'customer_job', 'lead_desc_length',\n",
      "       'inquiry_type', 'product_category', 'product_subcategory',\n",
      "       'product_modelname', 'customer_country.1', 'customer_position',\n",
      "       'response_corporate', 'expected_timeline', 'ver_cus', 'ver_pro',\n",
      "       'ver_win_rate_x', 'ver_win_ratio_per_bu', 'business_area',\n",
      "       'business_subarea', 'lead_owner', 'is_converted',\n",
      "       'enterprise_Enterprise', 'enterprise_SMB'],\n",
      "      dtype='object')\n"
     ]
    },
    {
     "data": {
      "text/plain": [
       "0    0.221969\n",
       "1    0.221969\n",
       "2    0.750000\n",
       "3    0.221969\n",
       "4    0.309091\n",
       "Name: product_category, dtype: float64"
      ]
     },
     "execution_count": 333,
     "metadata": {},
     "output_type": "execute_result"
    }
   ],
   "source": [
    "df['product_category'] = df['product_category_te']\n",
    "df.drop('product_category_te', axis=1, inplace=True)\n",
    "print(len(df.columns))\n",
    "print(df.columns)\n",
    "df['product_category'].head()"
   ]
  },
  {
   "cell_type": "markdown",
   "metadata": {},
   "source": [
    "## product_subcategory"
   ]
  },
  {
   "cell_type": "markdown",
   "metadata": {},
   "source": [
    "### 5fold te encoding"
   ]
  },
  {
   "cell_type": "code",
   "execution_count": 334,
   "metadata": {},
   "outputs": [
    {
     "name": "stdout",
     "output_type": "stream",
     "text": [
      "[nan 'Others' 'Digital Signage or Commercial TVs' 'TR3DJ Series'\n",
      " 'Transparent OLED Signage' 'Interactive Digital Board'\n",
      " 'Curvable OLED Signage' 'Transparent LED Film' 'High Brightness Series'\n",
      " '55\" 700 nits FHD 0.44mm Even Bezel Video Wall'\n",
      " '55\" 500 nits FHD 0.44mm Even Bezel Video Wall']\n"
     ]
    },
    {
     "data": {
      "text/plain": [
       "11"
      ]
     },
     "execution_count": 334,
     "metadata": {},
     "output_type": "execute_result"
    }
   ],
   "source": [
    "print(df.product_subcategory.unique())\n",
    "len(df.product_subcategory.unique())"
   ]
  },
  {
   "cell_type": "code",
   "execution_count": 335,
   "metadata": {},
   "outputs": [],
   "source": [
    "kf = KFold(n_splits=5, shuffle=True, random_state=42)\n",
    "\n",
    "# Create a new column for the target-encoded 'product_category'\n",
    "df['product_subcategory_te'] = np.nan\n",
    "\n",
    "# Apply K-fold target encoding\n",
    "for train_idx, val_idx in kf.split(df):\n",
    "    # Split the data\n",
    "    df_train, df_val = df.iloc[train_idx], df.iloc[val_idx]\n",
    "    # Compute the target mean for each category in 'product_category' on the training data\n",
    "    means = df_train.groupby('product_subcategory')['is_converted'].mean()\n",
    "    # Map the computed means to the validation set\n",
    "    df.loc[val_idx, 'product_subcategory_te'] = df_val['product_subcategory'].map(means)\n",
    "\n",
    "# Fill missing values for any 'product_category' not seen in the training folds\n",
    "global_mean = df['is_converted'].mean()\n",
    "df['product_subcategory_te'].fillna(global_mean, inplace=True)"
   ]
  },
  {
   "cell_type": "code",
   "execution_count": 336,
   "metadata": {},
   "outputs": [
    {
     "name": "stdout",
     "output_type": "stream",
     "text": [
      "31\n"
     ]
    },
    {
     "data": {
      "text/plain": [
       "Index(['id', 'bant_submit', 'customer_country', 'business_unit',\n",
       "       'com_reg_ver_win_rate', 'customer_idx', 'customer_type',\n",
       "       'historical_existing_cnt', 'id_strategic_ver', 'it_strategic_ver',\n",
       "       'idit_strategic_ver', 'customer_job', 'lead_desc_length',\n",
       "       'inquiry_type', 'product_category', 'product_subcategory',\n",
       "       'product_modelname', 'customer_country.1', 'customer_position',\n",
       "       'response_corporate', 'expected_timeline', 'ver_cus', 'ver_pro',\n",
       "       'ver_win_rate_x', 'ver_win_ratio_per_bu', 'business_area',\n",
       "       'business_subarea', 'lead_owner', 'is_converted',\n",
       "       'enterprise_Enterprise', 'enterprise_SMB'],\n",
       "      dtype='object')"
      ]
     },
     "execution_count": 336,
     "metadata": {},
     "output_type": "execute_result"
    }
   ],
   "source": [
    "df['product_subcategory'] = df['product_subcategory_te']\n",
    "df.drop('product_subcategory_te', axis=1, inplace=True)\n",
    "print(len(df.columns))\n",
    "df.columns"
   ]
  },
  {
   "cell_type": "markdown",
   "metadata": {},
   "source": [
    "## product_modelname"
   ]
  },
  {
   "cell_type": "markdown",
   "metadata": {},
   "source": [
    "### 5fold te encoding"
   ]
  },
  {
   "cell_type": "code",
   "execution_count": 337,
   "metadata": {},
   "outputs": [
    {
     "name": "stdout",
     "output_type": "stream",
     "text": [
      "[nan 'Others' '55VH7J-H' '65TR3DJ' '55EW5TK-A' '55EF5F-L' 'LAT140'\n",
      " 'LWBC039' '55VSH7J' '75TR3DJ' '55VSM5J']\n"
     ]
    },
    {
     "data": {
      "text/plain": [
       "11"
      ]
     },
     "execution_count": 337,
     "metadata": {},
     "output_type": "execute_result"
    }
   ],
   "source": [
    "print(df.product_modelname.unique())\n",
    "len(df.product_modelname.unique())"
   ]
  },
  {
   "cell_type": "code",
   "execution_count": 338,
   "metadata": {},
   "outputs": [],
   "source": [
    "kf = KFold(n_splits=5, shuffle=True, random_state=42)\n",
    "\n",
    "# Create a new column for the target-encoded 'product_category'\n",
    "df['product_modelname_te'] = np.nan\n",
    "\n",
    "# Apply K-fold target encoding\n",
    "for train_idx, val_idx in kf.split(df):\n",
    "    # Split the data\n",
    "    df_train, df_val = df.iloc[train_idx], df.iloc[val_idx]\n",
    "    # Compute the target mean for each category in 'product_category' on the training data\n",
    "    means = df_train.groupby('product_modelname')['is_converted'].mean()\n",
    "    # Map the computed means to the validation set\n",
    "    df.loc[val_idx, 'product_modelname_te'] = df_val['product_modelname'].map(means)\n",
    "\n",
    "# Fill missing values for any 'product_category' not seen in the training folds\n",
    "global_mean = df['is_converted'].mean()\n",
    "df['product_modelname_te'].fillna(global_mean, inplace=True)"
   ]
  },
  {
   "cell_type": "code",
   "execution_count": 339,
   "metadata": {},
   "outputs": [
    {
     "name": "stdout",
     "output_type": "stream",
     "text": [
      "31\n"
     ]
    },
    {
     "data": {
      "text/plain": [
       "Index(['id', 'bant_submit', 'customer_country', 'business_unit',\n",
       "       'com_reg_ver_win_rate', 'customer_idx', 'customer_type',\n",
       "       'historical_existing_cnt', 'id_strategic_ver', 'it_strategic_ver',\n",
       "       'idit_strategic_ver', 'customer_job', 'lead_desc_length',\n",
       "       'inquiry_type', 'product_category', 'product_subcategory',\n",
       "       'product_modelname', 'customer_country.1', 'customer_position',\n",
       "       'response_corporate', 'expected_timeline', 'ver_cus', 'ver_pro',\n",
       "       'ver_win_rate_x', 'ver_win_ratio_per_bu', 'business_area',\n",
       "       'business_subarea', 'lead_owner', 'is_converted',\n",
       "       'enterprise_Enterprise', 'enterprise_SMB'],\n",
       "      dtype='object')"
      ]
     },
     "execution_count": 339,
     "metadata": {},
     "output_type": "execute_result"
    }
   ],
   "source": [
    "df['product_modelname'] = df['product_modelname_te']\n",
    "df.drop('product_modelname_te', axis=1, inplace=True)\n",
    "print(len(df.columns))\n",
    "df.columns"
   ]
  },
  {
   "cell_type": "markdown",
   "metadata": {},
   "source": [
    "## customer_position"
   ]
  },
  {
   "cell_type": "markdown",
   "metadata": {},
   "source": [
    "### 5fold te"
   ]
  },
  {
   "cell_type": "code",
   "execution_count": 340,
   "metadata": {},
   "outputs": [
    {
     "name": "stdout",
     "output_type": "stream",
     "text": [
      "['none' 'manager' 'others' 'associate/analyst' 'director' 'entry level'\n",
      " 'ceo/founder' 'partner' 'c-level executive' 'trainee' 'vice president'\n",
      " 'intern' 'educator' 'other' 'customer'\n",
      " 'academic coordinator/ post graduate teacher (accountancy, business studies)/ tgt (ict)'\n",
      " 'assistant professor' 'math and physics teacher' 'pgt chemistry'\n",
      " 'director cum faculty at gaining apex coaching centre' 'professor'\n",
      " 'co-founder' 'asst prof.']\n"
     ]
    },
    {
     "data": {
      "text/plain": [
       "23"
      ]
     },
     "execution_count": 340,
     "metadata": {},
     "output_type": "execute_result"
    }
   ],
   "source": [
    "print(df.customer_position.unique())\n",
    "len(df.customer_position.unique())"
   ]
  },
  {
   "cell_type": "code",
   "execution_count": 341,
   "metadata": {},
   "outputs": [],
   "source": [
    "kf = KFold(n_splits=5, shuffle=True, random_state=42)\n",
    "\n",
    "df['customer_position_te'] = np.nan\n",
    "\n",
    "for train_idx, val_idx in kf.split(df):\n",
    "    X_train, X_val = df.iloc[train_idx], df.iloc[val_idx]\n",
    "    means = X_train.groupby('customer_position')['is_converted'].mean()\n",
    "    df.loc[val_idx, 'customer_position_te'] = X_val['customer_position'].map(means)\n",
    "\n",
    "global_mean = df['is_converted'].mean()\n",
    "df['customer_position_te'].fillna(global_mean, inplace=True)"
   ]
  },
  {
   "cell_type": "code",
   "execution_count": 342,
   "metadata": {},
   "outputs": [
    {
     "name": "stdout",
     "output_type": "stream",
     "text": [
      "31\n"
     ]
    },
    {
     "data": {
      "text/plain": [
       "Index(['id', 'bant_submit', 'customer_country', 'business_unit',\n",
       "       'com_reg_ver_win_rate', 'customer_idx', 'customer_type',\n",
       "       'historical_existing_cnt', 'id_strategic_ver', 'it_strategic_ver',\n",
       "       'idit_strategic_ver', 'customer_job', 'lead_desc_length',\n",
       "       'inquiry_type', 'product_category', 'product_subcategory',\n",
       "       'product_modelname', 'customer_country.1', 'customer_position',\n",
       "       'response_corporate', 'expected_timeline', 'ver_cus', 'ver_pro',\n",
       "       'ver_win_rate_x', 'ver_win_ratio_per_bu', 'business_area',\n",
       "       'business_subarea', 'lead_owner', 'is_converted',\n",
       "       'enterprise_Enterprise', 'enterprise_SMB'],\n",
       "      dtype='object')"
      ]
     },
     "execution_count": 342,
     "metadata": {},
     "output_type": "execute_result"
    }
   ],
   "source": [
    "df['customer_position'] = df['customer_position_te']\n",
    "df.drop('customer_position_te', axis=1, inplace=True)\n",
    "print(len(df.columns))\n",
    "df.columns"
   ]
  },
  {
   "cell_type": "markdown",
   "metadata": {},
   "source": [
    "## response_corporate"
   ]
  },
  {
   "cell_type": "markdown",
   "metadata": {},
   "source": [
    "## 10fold te"
   ]
  },
  {
   "cell_type": "code",
   "execution_count": 343,
   "metadata": {},
   "outputs": [
    {
     "name": "stdout",
     "output_type": "stream",
     "text": [
      "['LGESP' 'LGEUS' 'LGEGF' 'LGEDG' 'LGEEG' 'LGEFS' 'LGEIN' 'LGEIL' 'LGEIS'\n",
      " 'LGEAR' 'LGETK' 'LGESJ' 'LGEPH' 'LGEPR' 'LGEVH' 'LGEAP' 'LGECL' 'LGECB'\n",
      " 'LGEHK' 'LGEMS' 'LGETH' 'LGEMK' 'LGEBN' 'LGEPS' 'LGEUK' 'LGESA' 'LGESL'\n",
      " 'LGEYK' 'LGEAG' 'LGEEF' 'LGECH' 'LGECI' 'LGEAF' 'LGEPL' 'LGEES' 'LGEHS'\n",
      " 'LGEAS' 'LGELF' 'LGERO' 'LGEPT' 'LGEML']\n"
     ]
    },
    {
     "data": {
      "text/plain": [
       "41"
      ]
     },
     "execution_count": 343,
     "metadata": {},
     "output_type": "execute_result"
    }
   ],
   "source": [
    "print(df.response_corporate.unique())\n",
    "len(df.response_corporate.unique())"
   ]
  },
  {
   "cell_type": "code",
   "execution_count": 344,
   "metadata": {},
   "outputs": [
    {
     "name": "stdout",
     "output_type": "stream",
     "text": [
      "  response_corporate  response_corporate_te\n",
      "0              LGESP               0.251225\n",
      "1              LGEUS               0.388191\n",
      "2              LGEGF               0.139344\n",
      "3              LGEUS               0.388265\n",
      "4              LGESP               0.257282\n"
     ]
    }
   ],
   "source": [
    "kf = KFold(n_splits=5, shuffle=True, random_state=42)\n",
    "\n",
    "# Create a new column for the target-encoded 'response_corporate'\n",
    "df['response_corporate_te'] = np.nan\n",
    "\n",
    "for train_idx, val_idx in kf.split(df):\n",
    "    # Split the data into training and validation sets\n",
    "    X_train, X_val = df.iloc[train_idx], df.iloc[val_idx]\n",
    "    \n",
    "    # Compute the target mean for each category in 'response_corporate' on the training data\n",
    "    means = X_train.groupby('response_corporate')['is_converted'].mean()\n",
    "    \n",
    "    # Map the computed means to the validation set\n",
    "    df.loc[val_idx, 'response_corporate_te'] = X_val['response_corporate'].map(means)\n",
    "\n",
    "# Fill missing values for any 'response_corporate' not seen in the training folds with the global mean\n",
    "global_mean = df['is_converted'].mean()\n",
    "df['response_corporate_te'].fillna(global_mean, inplace=True)\n",
    "\n",
    "# Verify the changes\n",
    "print(df[['response_corporate', 'response_corporate_te']].head())"
   ]
  },
  {
   "cell_type": "code",
   "execution_count": 345,
   "metadata": {},
   "outputs": [
    {
     "name": "stdout",
     "output_type": "stream",
     "text": [
      "31\n"
     ]
    },
    {
     "data": {
      "text/plain": [
       "Index(['id', 'bant_submit', 'customer_country', 'business_unit',\n",
       "       'com_reg_ver_win_rate', 'customer_idx', 'customer_type',\n",
       "       'historical_existing_cnt', 'id_strategic_ver', 'it_strategic_ver',\n",
       "       'idit_strategic_ver', 'customer_job', 'lead_desc_length',\n",
       "       'inquiry_type', 'product_category', 'product_subcategory',\n",
       "       'product_modelname', 'customer_country.1', 'customer_position',\n",
       "       'response_corporate', 'expected_timeline', 'ver_cus', 'ver_pro',\n",
       "       'ver_win_rate_x', 'ver_win_ratio_per_bu', 'business_area',\n",
       "       'business_subarea', 'lead_owner', 'is_converted',\n",
       "       'enterprise_Enterprise', 'enterprise_SMB'],\n",
       "      dtype='object')"
      ]
     },
     "execution_count": 345,
     "metadata": {},
     "output_type": "execute_result"
    }
   ],
   "source": [
    "df['response_corporate'] = df['response_corporate_te']\n",
    "df.drop('response_corporate_te', axis=1, inplace=True)\n",
    "print(len(df.columns))\n",
    "df.columns"
   ]
  },
  {
   "cell_type": "markdown",
   "metadata": {},
   "source": [
    "## expected_timeline"
   ]
  },
  {
   "cell_type": "markdown",
   "metadata": {},
   "source": [
    "## 5fold te"
   ]
  },
  {
   "cell_type": "code",
   "execution_count": 346,
   "metadata": {},
   "outputs": [
    {
     "name": "stdout",
     "output_type": "stream",
     "text": [
      "['etc' 'less than 3 months' 'more than a year' '6 months ~ 9 months'\n",
      " '3 months ~ 6 months' '9 months ~ 1 year']\n"
     ]
    },
    {
     "data": {
      "text/plain": [
       "6"
      ]
     },
     "execution_count": 346,
     "metadata": {},
     "output_type": "execute_result"
    }
   ],
   "source": [
    "print(df.expected_timeline.unique())\n",
    "len(df.expected_timeline.unique())"
   ]
  },
  {
   "cell_type": "code",
   "execution_count": 347,
   "metadata": {},
   "outputs": [
    {
     "name": "stdout",
     "output_type": "stream",
     "text": [
      "    expected_timeline  expected_timeline_te\n",
      "0                 etc              0.221014\n",
      "1                 etc              0.217617\n",
      "2  less than 3 months              0.228758\n",
      "3    more than a year              0.210280\n",
      "4  less than 3 months              0.228096\n"
     ]
    }
   ],
   "source": [
    "# Assuming df is your DataFrame and 'is_converted' is the target variable\n",
    "kf = KFold(n_splits=5, shuffle=True, random_state=42)\n",
    "\n",
    "# Create a new column for the target-encoded 'expected_timeline'\n",
    "df['expected_timeline_te'] = np.nan\n",
    "\n",
    "for train_idx, val_idx in kf.split(df):\n",
    "    # Split the data\n",
    "    X_train, X_val = df.iloc[train_idx], df.iloc[val_idx]\n",
    "    \n",
    "    # Compute the target mean for 'expected_timeline' on the training data\n",
    "    means = X_train.groupby('expected_timeline')['is_converted'].mean()\n",
    "    \n",
    "    # Map the computed means to the validation set\n",
    "    df.loc[val_idx, 'expected_timeline_te'] = X_val['expected_timeline'].map(means)\n",
    "\n",
    "# Fill missing values for any 'expected_timeline' not seen in the training folds with the global mean\n",
    "global_mean = df['is_converted'].mean()\n",
    "df['expected_timeline_te'].fillna(global_mean, inplace=True)\n",
    "\n",
    "# Verify the changes\n",
    "print(df[['expected_timeline', 'expected_timeline_te']].head())"
   ]
  },
  {
   "cell_type": "code",
   "execution_count": 348,
   "metadata": {},
   "outputs": [
    {
     "name": "stdout",
     "output_type": "stream",
     "text": [
      "31\n"
     ]
    },
    {
     "data": {
      "text/plain": [
       "Index(['id', 'bant_submit', 'customer_country', 'business_unit',\n",
       "       'com_reg_ver_win_rate', 'customer_idx', 'customer_type',\n",
       "       'historical_existing_cnt', 'id_strategic_ver', 'it_strategic_ver',\n",
       "       'idit_strategic_ver', 'customer_job', 'lead_desc_length',\n",
       "       'inquiry_type', 'product_category', 'product_subcategory',\n",
       "       'product_modelname', 'customer_country.1', 'customer_position',\n",
       "       'response_corporate', 'expected_timeline', 'ver_cus', 'ver_pro',\n",
       "       'ver_win_rate_x', 'ver_win_ratio_per_bu', 'business_area',\n",
       "       'business_subarea', 'lead_owner', 'is_converted',\n",
       "       'enterprise_Enterprise', 'enterprise_SMB'],\n",
       "      dtype='object')"
      ]
     },
     "execution_count": 348,
     "metadata": {},
     "output_type": "execute_result"
    }
   ],
   "source": [
    "df['expected_timeline'] = df['expected_timeline_te']\n",
    "df.drop('expected_timeline_te', axis=1, inplace=True)\n",
    "print(len(df.columns))\n",
    "df.columns"
   ]
  },
  {
   "cell_type": "markdown",
   "metadata": {},
   "source": [
    "## business_area"
   ]
  },
  {
   "cell_type": "markdown",
   "metadata": {},
   "source": [
    "### 5fold te"
   ]
  },
  {
   "cell_type": "code",
   "execution_count": 349,
   "metadata": {},
   "outputs": [
    {
     "name": "stdout",
     "output_type": "stream",
     "text": [
      "['retail' 'transportation' 'hospital & health care' 'corporate / office'\n",
      " nan 'residential (home)' 'education' 'factory' 'special purpose'\n",
      " 'hotel & accommodation' 'public facility' 'government department'\n",
      " 'power plant / renewable energy']\n"
     ]
    },
    {
     "data": {
      "text/plain": [
       "13"
      ]
     },
     "execution_count": 349,
     "metadata": {},
     "output_type": "execute_result"
    }
   ],
   "source": [
    "print(df.business_area.unique())\n",
    "len(df.business_area.unique())"
   ]
  },
  {
   "cell_type": "code",
   "execution_count": 350,
   "metadata": {},
   "outputs": [
    {
     "name": "stdout",
     "output_type": "stream",
     "text": [
      "            business_area  business_area_te\n",
      "0                  retail          0.248996\n",
      "1          transportation          0.532544\n",
      "2  hospital & health care          0.339623\n",
      "3                  retail          0.261224\n",
      "4      corporate / office          0.331897\n"
     ]
    }
   ],
   "source": [
    "kf = KFold(n_splits=5, shuffle=True, random_state=42)\n",
    "\n",
    "# Create a new column for the target-encoded 'business_area'\n",
    "df['business_area_te'] = np.nan\n",
    "\n",
    "for train_idx, val_idx in kf.split(df):\n",
    "    # Split the data into training and validation sets\n",
    "    X_train, X_val = df.iloc[train_idx], df.iloc[val_idx]\n",
    "    \n",
    "    # Compute the target mean for each category in 'business_area' on the training data\n",
    "    means = X_train.groupby('business_area')['is_converted'].mean()\n",
    "    \n",
    "    # Map the computed means to the validation set\n",
    "    df.loc[val_idx, 'business_area_te'] = X_val['business_area'].map(means)\n",
    "\n",
    "# Fill missing values for any 'business_area' not seen in the training folds with the global mean\n",
    "global_mean = df['is_converted'].mean()\n",
    "df['business_area_te'].fillna(global_mean, inplace=True)\n",
    "\n",
    "# Verify the changes\n",
    "print(df[['business_area', 'business_area_te']].head())"
   ]
  },
  {
   "cell_type": "code",
   "execution_count": 351,
   "metadata": {},
   "outputs": [
    {
     "name": "stdout",
     "output_type": "stream",
     "text": [
      "31\n"
     ]
    },
    {
     "data": {
      "text/plain": [
       "Index(['id', 'bant_submit', 'customer_country', 'business_unit',\n",
       "       'com_reg_ver_win_rate', 'customer_idx', 'customer_type',\n",
       "       'historical_existing_cnt', 'id_strategic_ver', 'it_strategic_ver',\n",
       "       'idit_strategic_ver', 'customer_job', 'lead_desc_length',\n",
       "       'inquiry_type', 'product_category', 'product_subcategory',\n",
       "       'product_modelname', 'customer_country.1', 'customer_position',\n",
       "       'response_corporate', 'expected_timeline', 'ver_cus', 'ver_pro',\n",
       "       'ver_win_rate_x', 'ver_win_ratio_per_bu', 'business_area',\n",
       "       'business_subarea', 'lead_owner', 'is_converted',\n",
       "       'enterprise_Enterprise', 'enterprise_SMB'],\n",
       "      dtype='object')"
      ]
     },
     "execution_count": 351,
     "metadata": {},
     "output_type": "execute_result"
    }
   ],
   "source": [
    "df['business_area'] = df['business_area_te']\n",
    "df.drop('business_area_te', axis=1, inplace=True)\n",
    "print(len(df.columns))\n",
    "df.columns"
   ]
  },
  {
   "cell_type": "markdown",
   "metadata": {},
   "source": [
    "## business_subarea"
   ]
  },
  {
   "cell_type": "code",
   "execution_count": 352,
   "metadata": {},
   "outputs": [
    {
     "name": "stdout",
     "output_type": "stream",
     "text": [
      "['Electronics & Telco' 'Others' 'General Hospital' nan 'Engineering'\n",
      " 'Banking' 'Hospital' 'K12 Kindergarten & Schools' 'Construction'\n",
      " 'Advertising' 'Higher Education (College & University)'\n",
      " 'Manufacturing Factory / Plant' 'Other Stores' 'Fashion'\n",
      " 'Telecommunication' 'Mixed-use (Multi Complex)' 'Institute & Academy'\n",
      " 'Fitness' 'IT/Software' 'Restaurant' 'Cosmetics' 'Healthcare' 'Hotel'\n",
      " 'Military' 'Clinic' 'Manufacturing' 'Apartment' 'Townhouse' 'Resort'\n",
      " 'Finance' 'Religious Facility' 'Broadcasting & Media' 'Holdings'\n",
      " 'Villa / Single-Family Home' 'Power Plant' 'Developer/Property'\n",
      " 'Renewable Energy' 'Entertainment' 'Sports Entertainment'\n",
      " 'Telecom Base Station / Data, Call' 'Hyper Market & Grocery'\n",
      " 'Bus Terminal' 'Luxury(Watch/Jewelry Shop)' 'Logistics' 'Gas Station'\n",
      " 'Energy' 'General Government Office' 'Outdoor Advertisement' 'Investment'\n",
      " 'Shopping Mall' 'Energy Storage & Saving' 'F&B(Food and Beverage)'\n",
      " 'Exhibition / Convention Center' 'Consulting' 'Insurance'\n",
      " 'QSR(Quick Service Restaurant)' 'Pharmaceutical Factory'\n",
      " 'Real-Estate Agency' 'Airline' 'Cruise' 'Law Firm' 'Car Dealership'\n",
      " 'Chemical Factory / Plant' 'Pharmacy' 'Distribution Center'\n",
      " 'Network/Cabling' 'Mining' 'Officetel' 'Duty Free Shop'\n",
      " 'Museum / Gallery' 'Travel Agency' 'Aerospace' 'LTC(Long-Term Care)'\n",
      " 'Welfare Facilities' 'Botanical Garden / Green House' 'Pharmaceutical'\n",
      " 'Agriculture' 'Cinema /Theater' 'Sea Passenger Terminal / Port'\n",
      " 'Bookstore' 'Dormitory']\n"
     ]
    },
    {
     "data": {
      "text/plain": [
       "81"
      ]
     },
     "execution_count": 352,
     "metadata": {},
     "output_type": "execute_result"
    }
   ],
   "source": [
    "print(df.business_subarea.unique())\n",
    "len(df.business_subarea.unique())"
   ]
  },
  {
   "cell_type": "code",
   "execution_count": 353,
   "metadata": {},
   "outputs": [
    {
     "name": "stdout",
     "output_type": "stream",
     "text": [
      "      business_subarea  business_subarea_te\n",
      "0  Electronics & Telco             0.192308\n",
      "1               Others             0.441065\n",
      "2     General Hospital             0.200000\n",
      "3                  NaN             0.221969\n",
      "4          Engineering             0.275862\n"
     ]
    }
   ],
   "source": [
    "kf = KFold(n_splits=5, shuffle=True, random_state=42)\n",
    "\n",
    "# Create a new column for the target-encoded 'business_area'\n",
    "df['business_subarea_te'] = np.nan\n",
    "\n",
    "for train_idx, val_idx in kf.split(df):\n",
    "    # Split the data into training and validation sets\n",
    "    X_train, X_val = df.iloc[train_idx], df.iloc[val_idx]\n",
    "    \n",
    "    # Compute the target mean for each category in 'business_area' on the training data\n",
    "    means = X_train.groupby('business_subarea')['is_converted'].mean()\n",
    "    \n",
    "    # Map the computed means to the validation set\n",
    "    df.loc[val_idx, 'business_subarea_te'] = X_val['business_subarea'].map(means)\n",
    "\n",
    "# Fill missing values for any 'business_area' not seen in the training folds with the global mean\n",
    "global_mean = df['is_converted'].mean()\n",
    "df['business_subarea_te'].fillna(global_mean, inplace=True)\n",
    "\n",
    "# Verify the changes\n",
    "print(df[['business_subarea', 'business_subarea_te']].head())"
   ]
  },
  {
   "cell_type": "code",
   "execution_count": 354,
   "metadata": {},
   "outputs": [
    {
     "name": "stdout",
     "output_type": "stream",
     "text": [
      "31\n"
     ]
    },
    {
     "data": {
      "text/plain": [
       "Index(['id', 'bant_submit', 'customer_country', 'business_unit',\n",
       "       'com_reg_ver_win_rate', 'customer_idx', 'customer_type',\n",
       "       'historical_existing_cnt', 'id_strategic_ver', 'it_strategic_ver',\n",
       "       'idit_strategic_ver', 'customer_job', 'lead_desc_length',\n",
       "       'inquiry_type', 'product_category', 'product_subcategory',\n",
       "       'product_modelname', 'customer_country.1', 'customer_position',\n",
       "       'response_corporate', 'expected_timeline', 'ver_cus', 'ver_pro',\n",
       "       'ver_win_rate_x', 'ver_win_ratio_per_bu', 'business_area',\n",
       "       'business_subarea', 'lead_owner', 'is_converted',\n",
       "       'enterprise_Enterprise', 'enterprise_SMB'],\n",
       "      dtype='object')"
      ]
     },
     "execution_count": 354,
     "metadata": {},
     "output_type": "execute_result"
    }
   ],
   "source": [
    "df['business_subarea'] = df['business_subarea_te']\n",
    "df.drop('business_subarea_te', axis=1, inplace=True)\n",
    "print(len(df.columns))\n",
    "df.columns"
   ]
  },
  {
   "cell_type": "markdown",
   "metadata": {},
   "source": [
    "## checking"
   ]
  },
  {
   "cell_type": "code",
   "execution_count": 355,
   "metadata": {},
   "outputs": [
    {
     "name": "stdout",
     "output_type": "stream",
     "text": [
      "Non-numeric columns found: ['enterprise_Enterprise', 'enterprise_SMB']\n"
     ]
    }
   ],
   "source": [
    "# Select columns that are not of numeric types (int or float)\n",
    "non_numeric_columns = df.select_dtypes(exclude=['int64', 'int32', 'float64']).columns\n",
    "\n",
    "# Check if there are any non-numeric columns\n",
    "if len(non_numeric_columns) > 0:\n",
    "    print(f\"Non-numeric columns found: {list(non_numeric_columns)}\")\n",
    "else:\n",
    "    print(\"All columns are of int or float type.\")"
   ]
  },
  {
   "cell_type": "code",
   "execution_count": 356,
   "metadata": {},
   "outputs": [
    {
     "data": {
      "text/plain": [
       "0    0\n",
       "1    1\n",
       "2    1\n",
       "3    0\n",
       "4    0\n",
       "Name: enterprise_SMB, dtype: int64"
      ]
     },
     "execution_count": 356,
     "metadata": {},
     "output_type": "execute_result"
    }
   ],
   "source": [
    "df.enterprise_Enterprise.head()\n",
    "\n",
    "#convert df.enterprise_Enterprise to int\n",
    "df['enterprise_Enterprise'] = df['enterprise_Enterprise'].astype('int64')\n",
    "df['enterprise_SMB'] = df['enterprise_SMB'].astype('int64')\n",
    "\n",
    "df['enterprise_Enterprise'].head()\n",
    "df['enterprise_SMB'].head()"
   ]
  },
  {
   "cell_type": "code",
   "execution_count": 357,
   "metadata": {},
   "outputs": [
    {
     "name": "stdout",
     "output_type": "stream",
     "text": [
      "All columns are of int or float type.\n"
     ]
    }
   ],
   "source": [
    "non_numeric_columns = df.select_dtypes(exclude=['int64', 'int32', 'float64']).columns\n",
    "\n",
    "# Check if there are any non-numeric columns\n",
    "if len(non_numeric_columns) > 0:\n",
    "    print(f\"Non-numeric columns found: {list(non_numeric_columns)}\")\n",
    "else:\n",
    "    print(\"All columns are of int or float type.\")"
   ]
  },
  {
   "cell_type": "code",
   "execution_count": 358,
   "metadata": {},
   "outputs": [],
   "source": [
    "df.to_csv('encoded_submission_raw.csv', index=False)"
   ]
  }
 ],
 "metadata": {
  "kernelspec": {
   "display_name": "Python 3",
   "language": "python",
   "name": "python3"
  },
  "language_info": {
   "codemirror_mode": {
    "name": "ipython",
    "version": 3
   },
   "file_extension": ".py",
   "mimetype": "text/x-python",
   "name": "python",
   "nbconvert_exporter": "python",
   "pygments_lexer": "ipython3",
   "version": "3.11.1"
  }
 },
 "nbformat": 4,
 "nbformat_minor": 2
}
