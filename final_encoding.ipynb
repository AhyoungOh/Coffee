{
 "cells": [
  {
   "cell_type": "code",
   "execution_count": 343,
   "metadata": {},
   "outputs": [],
   "source": [
    "import numpy as np \n",
    "import matplotlib.pyplot as plt\n",
    "import seaborn as sns\n",
    "import pandas as pd\n",
    "\n",
    "from sklearn.model_selection import KFold\n",
    "from sklearn.experimental import enable_iterative_imputer  # noqa\n",
    "from sklearn.impute import IterativeImputer"
   ]
  },
  {
   "cell_type": "code",
   "execution_count": 344,
   "metadata": {},
   "outputs": [
    {
     "data": {
      "text/html": [
       "<div>\n",
       "<style scoped>\n",
       "    .dataframe tbody tr th:only-of-type {\n",
       "        vertical-align: middle;\n",
       "    }\n",
       "\n",
       "    .dataframe tbody tr th {\n",
       "        vertical-align: top;\n",
       "    }\n",
       "\n",
       "    .dataframe thead th {\n",
       "        text-align: right;\n",
       "    }\n",
       "</style>\n",
       "<table border=\"1\" class=\"dataframe\">\n",
       "  <thead>\n",
       "    <tr style=\"text-align: right;\">\n",
       "      <th></th>\n",
       "      <th>id</th>\n",
       "      <th>bant_submit</th>\n",
       "      <th>business_unit</th>\n",
       "      <th>com_reg_ver_win_rate</th>\n",
       "      <th>customer_idx</th>\n",
       "      <th>customer_type</th>\n",
       "      <th>enterprise</th>\n",
       "      <th>historical_existing_cnt</th>\n",
       "      <th>idit_strategic_ver</th>\n",
       "      <th>customer_job</th>\n",
       "      <th>...</th>\n",
       "      <th>product_modelname</th>\n",
       "      <th>customer_country.1</th>\n",
       "      <th>customer_position</th>\n",
       "      <th>response_corporate</th>\n",
       "      <th>ver_cus</th>\n",
       "      <th>ver_pro</th>\n",
       "      <th>ver_win_rate_x</th>\n",
       "      <th>business_area</th>\n",
       "      <th>lead_owner</th>\n",
       "      <th>is_converted</th>\n",
       "    </tr>\n",
       "  </thead>\n",
       "  <tbody>\n",
       "    <tr>\n",
       "      <th>0</th>\n",
       "      <td>19844</td>\n",
       "      <td>0.00</td>\n",
       "      <td>ID</td>\n",
       "      <td>0.073248</td>\n",
       "      <td>47466</td>\n",
       "      <td>End Customer</td>\n",
       "      <td>Enterprise</td>\n",
       "      <td>53.0</td>\n",
       "      <td>0.0</td>\n",
       "      <td>consulting</td>\n",
       "      <td>...</td>\n",
       "      <td>NaN</td>\n",
       "      <td>Brazil</td>\n",
       "      <td>none</td>\n",
       "      <td>LGESP</td>\n",
       "      <td>1</td>\n",
       "      <td>0</td>\n",
       "      <td>0.001183</td>\n",
       "      <td>retail</td>\n",
       "      <td>278</td>\n",
       "      <td>True</td>\n",
       "    </tr>\n",
       "    <tr>\n",
       "      <th>1</th>\n",
       "      <td>9738</td>\n",
       "      <td>0.25</td>\n",
       "      <td>IT</td>\n",
       "      <td>NaN</td>\n",
       "      <td>5405</td>\n",
       "      <td>End Customer</td>\n",
       "      <td>SMB</td>\n",
       "      <td>0.0</td>\n",
       "      <td>0.0</td>\n",
       "      <td>NaN</td>\n",
       "      <td>...</td>\n",
       "      <td>NaN</td>\n",
       "      <td>United States</td>\n",
       "      <td>none</td>\n",
       "      <td>LGEUS</td>\n",
       "      <td>0</td>\n",
       "      <td>0</td>\n",
       "      <td>0.000013</td>\n",
       "      <td>transportation</td>\n",
       "      <td>437</td>\n",
       "      <td>True</td>\n",
       "    </tr>\n",
       "    <tr>\n",
       "      <th>2</th>\n",
       "      <td>8491</td>\n",
       "      <td>1.00</td>\n",
       "      <td>ID</td>\n",
       "      <td>NaN</td>\n",
       "      <td>13597</td>\n",
       "      <td>Specifier / Influencer</td>\n",
       "      <td>SMB</td>\n",
       "      <td>0.0</td>\n",
       "      <td>0.0</td>\n",
       "      <td>information technology</td>\n",
       "      <td>...</td>\n",
       "      <td>Filled</td>\n",
       "      <td>NaN</td>\n",
       "      <td>first_management_level</td>\n",
       "      <td>LGEGF</td>\n",
       "      <td>0</td>\n",
       "      <td>0</td>\n",
       "      <td>0.000060</td>\n",
       "      <td>hospital &amp; health care</td>\n",
       "      <td>874</td>\n",
       "      <td>True</td>\n",
       "    </tr>\n",
       "    <tr>\n",
       "      <th>3</th>\n",
       "      <td>19895</td>\n",
       "      <td>0.50</td>\n",
       "      <td>ID</td>\n",
       "      <td>0.118644</td>\n",
       "      <td>17204</td>\n",
       "      <td>Unknown</td>\n",
       "      <td>Enterprise</td>\n",
       "      <td>0.0</td>\n",
       "      <td>0.0</td>\n",
       "      <td>sales</td>\n",
       "      <td>...</td>\n",
       "      <td>NaN</td>\n",
       "      <td>United States</td>\n",
       "      <td>none</td>\n",
       "      <td>LGEUS</td>\n",
       "      <td>0</td>\n",
       "      <td>0</td>\n",
       "      <td>0.001183</td>\n",
       "      <td>retail</td>\n",
       "      <td>194</td>\n",
       "      <td>False</td>\n",
       "    </tr>\n",
       "    <tr>\n",
       "      <th>4</th>\n",
       "      <td>10465</td>\n",
       "      <td>1.00</td>\n",
       "      <td>ID</td>\n",
       "      <td>0.074949</td>\n",
       "      <td>2329</td>\n",
       "      <td>End Customer</td>\n",
       "      <td>Enterprise</td>\n",
       "      <td>2.0</td>\n",
       "      <td>1.0</td>\n",
       "      <td>engineering</td>\n",
       "      <td>...</td>\n",
       "      <td>Filled</td>\n",
       "      <td>Brazil</td>\n",
       "      <td>other</td>\n",
       "      <td>LGESP</td>\n",
       "      <td>1</td>\n",
       "      <td>1</td>\n",
       "      <td>0.003079</td>\n",
       "      <td>corporate / office</td>\n",
       "      <td>167</td>\n",
       "      <td>False</td>\n",
       "    </tr>\n",
       "  </tbody>\n",
       "</table>\n",
       "<p>5 rows × 24 columns</p>\n",
       "</div>"
      ],
      "text/plain": [
       "      id  bant_submit business_unit  com_reg_ver_win_rate  customer_idx  \\\n",
       "0  19844         0.00            ID              0.073248         47466   \n",
       "1   9738         0.25            IT                   NaN          5405   \n",
       "2   8491         1.00            ID                   NaN         13597   \n",
       "3  19895         0.50            ID              0.118644         17204   \n",
       "4  10465         1.00            ID              0.074949          2329   \n",
       "\n",
       "            customer_type  enterprise  historical_existing_cnt  \\\n",
       "0            End Customer  Enterprise                     53.0   \n",
       "1            End Customer         SMB                      0.0   \n",
       "2  Specifier / Influencer         SMB                      0.0   \n",
       "3                 Unknown  Enterprise                      0.0   \n",
       "4            End Customer  Enterprise                      2.0   \n",
       "\n",
       "   idit_strategic_ver            customer_job  ...  product_modelname  \\\n",
       "0                 0.0              consulting  ...                NaN   \n",
       "1                 0.0                     NaN  ...                NaN   \n",
       "2                 0.0  information technology  ...             Filled   \n",
       "3                 0.0                   sales  ...                NaN   \n",
       "4                 1.0             engineering  ...             Filled   \n",
       "\n",
       "  customer_country.1       customer_position response_corporate ver_cus  \\\n",
       "0             Brazil                    none              LGESP       1   \n",
       "1      United States                    none              LGEUS       0   \n",
       "2                NaN  first_management_level              LGEGF       0   \n",
       "3      United States                    none              LGEUS       0   \n",
       "4             Brazil                   other              LGESP       1   \n",
       "\n",
       "  ver_pro ver_win_rate_x           business_area  lead_owner  is_converted  \n",
       "0       0       0.001183                  retail         278          True  \n",
       "1       0       0.000013          transportation         437          True  \n",
       "2       0       0.000060  hospital & health care         874          True  \n",
       "3       0       0.001183                  retail         194         False  \n",
       "4       1       0.003079      corporate / office         167         False  \n",
       "\n",
       "[5 rows x 24 columns]"
      ]
     },
     "execution_count": 344,
     "metadata": {},
     "output_type": "execute_result"
    }
   ],
   "source": [
    "df = pd.read_csv('preprocessed_train_final.csv')\n",
    "df.head()"
   ]
  },
  {
   "cell_type": "code",
   "execution_count": 345,
   "metadata": {},
   "outputs": [
    {
     "name": "stdout",
     "output_type": "stream",
     "text": [
      "24\n",
      "1 id\n",
      "2 bant_submit\n",
      "3 business_unit\n",
      "4 com_reg_ver_win_rate\n",
      "5 customer_idx\n",
      "6 customer_type\n",
      "7 enterprise\n",
      "8 historical_existing_cnt\n",
      "9 idit_strategic_ver\n",
      "10 customer_job\n",
      "11 lead_desc_length\n",
      "12 inquiry_type\n",
      "13 product_category\n",
      "14 product_subcategory\n",
      "15 product_modelname\n",
      "16 customer_country.1\n",
      "17 customer_position\n",
      "18 response_corporate\n",
      "19 ver_cus\n",
      "20 ver_pro\n",
      "21 ver_win_rate_x\n",
      "22 business_area\n",
      "23 lead_owner\n",
      "24 is_converted\n"
     ]
    }
   ],
   "source": [
    "original_len = len(df.columns)\n",
    "print(original_len)\n",
    "# print columns giving numbers as index\n",
    "for i in range(len(df.columns)):\n",
    "    print(i+1, df.columns[i])"
   ]
  },
  {
   "cell_type": "markdown",
   "metadata": {},
   "source": [
    "## 1. bant_submit -> no encoding"
   ]
  },
  {
   "cell_type": "markdown",
   "metadata": {},
   "source": [
    "## 2. business_unit -> target encoding"
   ]
  },
  {
   "cell_type": "code",
   "execution_count": 346,
   "metadata": {},
   "outputs": [
    {
     "data": {
      "text/plain": [
       "array(['ID', 'IT', 'AS'], dtype=object)"
      ]
     },
     "execution_count": 346,
     "metadata": {},
     "output_type": "execute_result"
    }
   ],
   "source": [
    "df.business_unit.unique()"
   ]
  },
  {
   "cell_type": "code",
   "execution_count": 347,
   "metadata": {},
   "outputs": [
    {
     "name": "stdout",
     "output_type": "stream",
     "text": [
      "  business_unit  business_unit_te\n",
      "0            ID          0.233859\n",
      "1            IT          0.486022\n",
      "2            ID          0.239336\n",
      "3            ID          0.236767\n",
      "4            ID          0.233902\n"
     ]
    }
   ],
   "source": [
    "# Convert boolean True/False to 1/0 directly\n",
    "df['is_converted'] = df['is_converted'].astype('int64')\n",
    "\n",
    "# Prepare the KFold object\n",
    "kf = KFold(n_splits=10, shuffle=True, random_state=42)\n",
    "\n",
    "# Placeholder for the target encoded feature\n",
    "df['business_unit_te'] = np.nan\n",
    "\n",
    "for train_index, test_index in kf.split(df, df['business_unit']):\n",
    "    # Split the data\n",
    "    X_train, X_test = df.iloc[train_index], df.iloc[test_index]\n",
    "    \n",
    "    # Compute target mean for each category in 'customer_country.1' excluding the current fold\n",
    "    means = X_train.groupby('business_unit')['is_converted'].mean()\n",
    "    \n",
    "    # Map the computed means to the test portion of the fold\n",
    "    df.loc[test_index, 'business_unit_te'] = X_test['business_unit'].map(means)\n",
    "\n",
    "# For any missing values in the target encoded feature (e.g., categories present only in test folds),\n",
    "# fill with the global mean of 'is_converted'\n",
    "global_mean = df['is_converted'].mean()\n",
    "df['business_unit_te'].fillna(global_mean, inplace=True)\n",
    "\n",
    "# Show the first few rows to verify\n",
    "print(df[['business_unit', 'business_unit_te']].head())"
   ]
  },
  {
   "cell_type": "code",
   "execution_count": 348,
   "metadata": {},
   "outputs": [
    {
     "name": "stdout",
     "output_type": "stream",
     "text": [
      "24\n"
     ]
    },
    {
     "data": {
      "text/plain": [
       "Index(['id', 'bant_submit', 'business_unit', 'com_reg_ver_win_rate',\n",
       "       'customer_idx', 'customer_type', 'enterprise',\n",
       "       'historical_existing_cnt', 'idit_strategic_ver', 'customer_job',\n",
       "       'lead_desc_length', 'inquiry_type', 'product_category',\n",
       "       'product_subcategory', 'product_modelname', 'customer_country.1',\n",
       "       'customer_position', 'response_corporate', 'ver_cus', 'ver_pro',\n",
       "       'ver_win_rate_x', 'business_area', 'lead_owner', 'is_converted'],\n",
       "      dtype='object')"
      ]
     },
     "execution_count": 348,
     "metadata": {},
     "output_type": "execute_result"
    }
   ],
   "source": [
    "df['business_unit'] = df['business_unit_te']\n",
    "df.drop('business_unit_te', axis=1, inplace=True)\n",
    "print(len(df.columns))\n",
    "df.columns"
   ]
  },
  {
   "cell_type": "markdown",
   "metadata": {},
   "source": [
    "## 3. com_reg_ver_win_rate -> no encoding (imputation later)"
   ]
  },
  {
   "cell_type": "markdown",
   "metadata": {},
   "source": [
    "## 4. customer_idx -> changed to category -> target encoded"
   ]
  },
  {
   "cell_type": "code",
   "execution_count": 349,
   "metadata": {},
   "outputs": [],
   "source": [
    "df['customer_idx'] = df['customer_idx'].astype('category')"
   ]
  },
  {
   "cell_type": "code",
   "execution_count": 350,
   "metadata": {},
   "outputs": [
    {
     "name": "stdout",
     "output_type": "stream",
     "text": [
      "  customer_idx  customer_idx_te\n",
      "0        47466         0.059190\n",
      "1         5405         0.000000\n",
      "2        13597         1.000000\n",
      "3        17204         0.221969\n",
      "4         2329         0.000000\n"
     ]
    }
   ],
   "source": [
    "# Convert boolean True/False to 1/0 directly\n",
    "df['is_converted'] = df['is_converted'].astype('int64')\n",
    "\n",
    "# Prepare the KFold object\n",
    "kf = KFold(n_splits=10, shuffle=True, random_state=42)\n",
    "\n",
    "# Placeholder for the target encoded feature\n",
    "df['customer_idx_te'] = np.nan\n",
    "\n",
    "for train_index, test_index in kf.split(df, df['is_converted']):\n",
    "    # Split the data\n",
    "    X_train, X_test = df.iloc[train_index], df.iloc[test_index]\n",
    "    \n",
    "    # Compute target mean for each category in 'customer_country.1' excluding the current fold\n",
    "    means = X_train.groupby('customer_idx')['is_converted'].mean()\n",
    "    \n",
    "    # Map the computed means to the test portion of the fold\n",
    "    df.loc[test_index, 'customer_idx_te'] = X_test['customer_idx'].map(means)\n",
    "\n",
    "# For any missing values in the target encoded feature (e.g., categories present only in test folds),\n",
    "# fill with the global mean of 'is_converted'\n",
    "global_mean = df['is_converted'].mean()\n",
    "df['customer_idx_te'].fillna(global_mean, inplace=True)\n",
    "\n",
    "# Show the first few rows to verify\n",
    "print(df[['customer_idx', 'customer_idx_te']].head())"
   ]
  },
  {
   "cell_type": "code",
   "execution_count": 351,
   "metadata": {},
   "outputs": [
    {
     "name": "stdout",
     "output_type": "stream",
     "text": [
      "24\n"
     ]
    },
    {
     "data": {
      "text/plain": [
       "Index(['id', 'bant_submit', 'business_unit', 'com_reg_ver_win_rate',\n",
       "       'customer_idx', 'customer_type', 'enterprise',\n",
       "       'historical_existing_cnt', 'idit_strategic_ver', 'customer_job',\n",
       "       'lead_desc_length', 'inquiry_type', 'product_category',\n",
       "       'product_subcategory', 'product_modelname', 'customer_country.1',\n",
       "       'customer_position', 'response_corporate', 'ver_cus', 'ver_pro',\n",
       "       'ver_win_rate_x', 'business_area', 'lead_owner', 'is_converted'],\n",
       "      dtype='object')"
      ]
     },
     "execution_count": 351,
     "metadata": {},
     "output_type": "execute_result"
    }
   ],
   "source": [
    "df['customer_idx'] = df['customer_idx_te']\n",
    "df.drop('customer_idx_te', axis=1, inplace=True)\n",
    "print(len(df.columns))\n",
    "df.columns"
   ]
  },
  {
   "cell_type": "markdown",
   "metadata": {},
   "source": [
    "## 5 customer_type -> target encoding"
   ]
  },
  {
   "cell_type": "code",
   "execution_count": 352,
   "metadata": {},
   "outputs": [
    {
     "data": {
      "text/plain": [
       "7"
      ]
     },
     "execution_count": 352,
     "metadata": {},
     "output_type": "execute_result"
    }
   ],
   "source": [
    "len(df.customer_type.unique())"
   ]
  },
  {
   "cell_type": "code",
   "execution_count": 353,
   "metadata": {},
   "outputs": [
    {
     "name": "stdout",
     "output_type": "stream",
     "text": [
      "            customer_type  customer_type_te\n",
      "0            End Customer          0.256537\n",
      "1            End Customer          0.256329\n",
      "2  Specifier / Influencer          0.290960\n",
      "3                 Unknown          0.053476\n",
      "4            End Customer          0.255088\n"
     ]
    }
   ],
   "source": [
    "# Convert boolean True/False to 1/0 directly\n",
    "df['is_converted'] = df['is_converted'].astype('int64')\n",
    "\n",
    "# Prepare the KFold object\n",
    "kf = KFold(n_splits=10, shuffle=True, random_state=42)\n",
    "\n",
    "# Placeholder for the target encoded feature\n",
    "df['customer_type_te'] = np.nan\n",
    "\n",
    "for train_index, test_index in kf.split(df, df['is_converted']):\n",
    "    # Split the data\n",
    "    X_train, X_test = df.iloc[train_index], df.iloc[test_index]\n",
    "    \n",
    "    # Compute target mean for each category in 'customer_country.1' excluding the current fold\n",
    "    means = X_train.groupby('customer_type')['is_converted'].mean()\n",
    "    \n",
    "    # Map the computed means to the test portion of the fold\n",
    "    df.loc[test_index, 'customer_type_te'] = X_test['customer_type'].map(means)\n",
    "\n",
    "# For any missing values in the target encoded feature (e.g., categories present only in test folds),\n",
    "# fill with the global mean of 'is_converted'\n",
    "global_mean = df['is_converted'].mean()\n",
    "df['customer_type_te'].fillna(global_mean, inplace=True)\n",
    "\n",
    "# Show the first few rows to verify\n",
    "print(df[['customer_type', 'customer_type_te']].head())"
   ]
  },
  {
   "cell_type": "code",
   "execution_count": 354,
   "metadata": {},
   "outputs": [
    {
     "name": "stdout",
     "output_type": "stream",
     "text": [
      "24\n"
     ]
    },
    {
     "data": {
      "text/plain": [
       "Index(['id', 'bant_submit', 'business_unit', 'com_reg_ver_win_rate',\n",
       "       'customer_idx', 'customer_type', 'enterprise',\n",
       "       'historical_existing_cnt', 'idit_strategic_ver', 'customer_job',\n",
       "       'lead_desc_length', 'inquiry_type', 'product_category',\n",
       "       'product_subcategory', 'product_modelname', 'customer_country.1',\n",
       "       'customer_position', 'response_corporate', 'ver_cus', 'ver_pro',\n",
       "       'ver_win_rate_x', 'business_area', 'lead_owner', 'is_converted'],\n",
       "      dtype='object')"
      ]
     },
     "execution_count": 354,
     "metadata": {},
     "output_type": "execute_result"
    }
   ],
   "source": [
    "df['customer_type'] = df['customer_type_te']\n",
    "df.drop('customer_type_te', axis=1, inplace=True)\n",
    "print(len(df.columns))\n",
    "df.columns"
   ]
  },
  {
   "cell_type": "markdown",
   "metadata": {},
   "source": [
    "## 6 enterprise -> OH"
   ]
  },
  {
   "cell_type": "code",
   "execution_count": 355,
   "metadata": {},
   "outputs": [
    {
     "name": "stdout",
     "output_type": "stream",
     "text": [
      "2\n",
      "Index(['id', 'bant_submit', 'business_unit', 'com_reg_ver_win_rate',\n",
      "       'customer_idx', 'customer_type', 'historical_existing_cnt',\n",
      "       'idit_strategic_ver', 'customer_job', 'lead_desc_length',\n",
      "       'inquiry_type', 'product_category', 'product_subcategory',\n",
      "       'product_modelname', 'customer_country.1', 'customer_position',\n",
      "       'response_corporate', 'ver_cus', 'ver_pro', 'ver_win_rate_x',\n",
      "       'business_area', 'lead_owner', 'is_converted', 'enterprise_Enterprise',\n",
      "       'enterprise_SMB'],\n",
      "      dtype='object')\n"
     ]
    }
   ],
   "source": [
    "df_one_hot = pd.get_dummies(df, columns=['enterprise'], prefix='enterprise', drop_first=False)\n",
    "df = df_one_hot\n",
    "added_cols = len(df.columns)-original_len+1\n",
    "print(added_cols)\n",
    "print(df.columns)"
   ]
  },
  {
   "cell_type": "markdown",
   "metadata": {},
   "source": [
    "## 7 historical_existing_cnt -> no encoding"
   ]
  },
  {
   "cell_type": "markdown",
   "metadata": {},
   "source": [
    "## 8 idit_strategic_ver -> no encoding"
   ]
  },
  {
   "cell_type": "markdown",
   "metadata": {},
   "source": [
    "## 9 customer_job -> target encoding"
   ]
  },
  {
   "cell_type": "code",
   "execution_count": 356,
   "metadata": {},
   "outputs": [
    {
     "data": {
      "text/plain": [
       "30"
      ]
     },
     "execution_count": 356,
     "metadata": {},
     "output_type": "execute_result"
    }
   ],
   "source": [
    "len(df.customer_job.unique())"
   ]
  },
  {
   "cell_type": "code",
   "execution_count": 357,
   "metadata": {},
   "outputs": [
    {
     "name": "stdout",
     "output_type": "stream",
     "text": [
      "             customer_job  customer_job_te\n",
      "0              consulting         0.255034\n",
      "1                     NaN         0.221969\n",
      "2  information technology         0.271429\n",
      "3                   sales         0.297297\n",
      "4             engineering         0.183486\n"
     ]
    }
   ],
   "source": [
    "# Convert boolean True/False to 1/0 directly\n",
    "df['is_converted'] = df['is_converted'].astype('int64')\n",
    "\n",
    "# Prepare the KFold object\n",
    "kf = KFold(n_splits=10, shuffle=True, random_state=42)\n",
    "\n",
    "# Placeholder for the target encoded feature\n",
    "df['customer_job_te'] = np.nan\n",
    "\n",
    "for train_index, test_index in kf.split(df, df['is_converted']):\n",
    "    # Split the data\n",
    "    X_train, X_test = df.iloc[train_index], df.iloc[test_index]\n",
    "    \n",
    "    # Compute target mean for each category in 'customer_country.1' excluding the current fold\n",
    "    means = X_train.groupby('customer_job')['is_converted'].mean()\n",
    "    \n",
    "    # Map the computed means to the test portion of the fold\n",
    "    df.loc[test_index, 'customer_job_te'] = X_test['customer_job'].map(means)\n",
    "\n",
    "# For any missing values in the target encoded feature (e.g., categories present only in test folds),\n",
    "# fill with the global mean of 'is_converted'\n",
    "global_mean = df['is_converted'].mean()\n",
    "df['customer_job_te'].fillna(global_mean, inplace=True)\n",
    "\n",
    "# Show the first few rows to verify\n",
    "print(df[['customer_job', 'customer_job_te']].head())"
   ]
  },
  {
   "cell_type": "code",
   "execution_count": 358,
   "metadata": {},
   "outputs": [
    {
     "name": "stdout",
     "output_type": "stream",
     "text": [
      "25\n"
     ]
    },
    {
     "data": {
      "text/plain": [
       "Index(['id', 'bant_submit', 'business_unit', 'com_reg_ver_win_rate',\n",
       "       'customer_idx', 'customer_type', 'historical_existing_cnt',\n",
       "       'idit_strategic_ver', 'customer_job', 'lead_desc_length',\n",
       "       'inquiry_type', 'product_category', 'product_subcategory',\n",
       "       'product_modelname', 'customer_country.1', 'customer_position',\n",
       "       'response_corporate', 'ver_cus', 'ver_pro', 'ver_win_rate_x',\n",
       "       'business_area', 'lead_owner', 'is_converted', 'enterprise_Enterprise',\n",
       "       'enterprise_SMB'],\n",
       "      dtype='object')"
      ]
     },
     "execution_count": 358,
     "metadata": {},
     "output_type": "execute_result"
    }
   ],
   "source": [
    "df['customer_job'] = df['customer_job_te']\n",
    "df.drop('customer_job_te', axis=1, inplace=True)\n",
    "print(len(df.columns))\n",
    "df.columns"
   ]
  },
  {
   "cell_type": "markdown",
   "metadata": {},
   "source": [
    "## 10 lead_desc_length -> no encoding"
   ]
  },
  {
   "cell_type": "markdown",
   "metadata": {},
   "source": [
    "## 11 inquiry_type -> target encoding"
   ]
  },
  {
   "cell_type": "code",
   "execution_count": 359,
   "metadata": {},
   "outputs": [
    {
     "data": {
      "text/plain": [
       "9"
      ]
     },
     "execution_count": 359,
     "metadata": {},
     "output_type": "execute_result"
    }
   ],
   "source": [
    "len(df.inquiry_type.unique())"
   ]
  },
  {
   "cell_type": "code",
   "execution_count": 360,
   "metadata": {},
   "outputs": [
    {
     "name": "stdout",
     "output_type": "stream",
     "text": [
      "                         inquiry_type  inquiry_type_te\n",
      "0                                 NaN         0.221969\n",
      "1  Quotation or purchase consultation         0.257106\n",
      "2  Quotation or purchase consultation         0.260160\n",
      "3  Quotation or purchase consultation         0.259188\n",
      "4  Quotation or purchase consultation         0.253841\n"
     ]
    }
   ],
   "source": [
    "# Convert boolean True/False to 1/0 directly\n",
    "df['is_converted'] = df['is_converted'].astype('int64')\n",
    "\n",
    "# Prepare the KFold object\n",
    "kf = KFold(n_splits=10, shuffle=True, random_state=42)\n",
    "\n",
    "# Placeholder for the target encoded feature\n",
    "df['inquiry_type_te'] = np.nan\n",
    "\n",
    "for train_index, test_index in kf.split(df, df['is_converted']):\n",
    "    # Split the data\n",
    "    X_train, X_test = df.iloc[train_index], df.iloc[test_index]\n",
    "    \n",
    "    # Compute target mean for each category in 'customer_country.1' excluding the current fold\n",
    "    means = X_train.groupby('inquiry_type')['is_converted'].mean()\n",
    "    \n",
    "    # Map the computed means to the test portion of the fold\n",
    "    df.loc[test_index, 'inquiry_type_te'] = X_test['inquiry_type'].map(means)\n",
    "\n",
    "# For any missing values in the target encoded feature (e.g., categories present only in test folds),\n",
    "# fill with the global mean of 'is_converted'\n",
    "global_mean = df['is_converted'].mean()\n",
    "df['inquiry_type_te'].fillna(global_mean, inplace=True)\n",
    "\n",
    "# Show the first few rows to verify\n",
    "print(df[['inquiry_type', 'inquiry_type_te']].head())"
   ]
  },
  {
   "cell_type": "code",
   "execution_count": 361,
   "metadata": {},
   "outputs": [
    {
     "name": "stdout",
     "output_type": "stream",
     "text": [
      "25\n"
     ]
    },
    {
     "data": {
      "text/plain": [
       "Index(['id', 'bant_submit', 'business_unit', 'com_reg_ver_win_rate',\n",
       "       'customer_idx', 'customer_type', 'historical_existing_cnt',\n",
       "       'idit_strategic_ver', 'customer_job', 'lead_desc_length',\n",
       "       'inquiry_type', 'product_category', 'product_subcategory',\n",
       "       'product_modelname', 'customer_country.1', 'customer_position',\n",
       "       'response_corporate', 'ver_cus', 'ver_pro', 'ver_win_rate_x',\n",
       "       'business_area', 'lead_owner', 'is_converted', 'enterprise_Enterprise',\n",
       "       'enterprise_SMB'],\n",
       "      dtype='object')"
      ]
     },
     "execution_count": 361,
     "metadata": {},
     "output_type": "execute_result"
    }
   ],
   "source": [
    "df['inquiry_type'] = df['inquiry_type_te']\n",
    "df.drop('inquiry_type_te', axis=1, inplace=True)\n",
    "print(len(df.columns))\n",
    "df.columns"
   ]
  },
  {
   "cell_type": "markdown",
   "metadata": {},
   "source": [
    "## 12 product_category ->"
   ]
  },
  {
   "cell_type": "code",
   "execution_count": 362,
   "metadata": {},
   "outputs": [
    {
     "data": {
      "text/plain": [
       "17"
      ]
     },
     "execution_count": 362,
     "metadata": {},
     "output_type": "execute_result"
    }
   ],
   "source": [
    "len(df.product_category.unique())"
   ]
  },
  {
   "cell_type": "code",
   "execution_count": 363,
   "metadata": {},
   "outputs": [
    {
     "name": "stdout",
     "output_type": "stream",
     "text": [
      "  product_category  product_category_te\n",
      "0              NaN             0.221969\n",
      "1              NaN             0.221969\n",
      "2               tv             0.467742\n",
      "3              NaN             0.221969\n",
      "4          signage             0.239645\n"
     ]
    }
   ],
   "source": [
    "# Convert boolean True/False to 1/0 directly\n",
    "df['is_converted'] = df['is_converted'].astype('int64')\n",
    "\n",
    "# Prepare the KFold object\n",
    "kf = KFold(n_splits=10, shuffle=True, random_state=42)\n",
    "\n",
    "# Placeholder for the target encoded feature\n",
    "df['product_category_te'] = np.nan\n",
    "\n",
    "for train_index, test_index in kf.split(df, df['is_converted']):\n",
    "    # Split the data\n",
    "    X_train, X_test = df.iloc[train_index], df.iloc[test_index]\n",
    "    \n",
    "    # Compute target mean for each category in 'customer_country.1' excluding the current fold\n",
    "    means = X_train.groupby('product_category')['is_converted'].mean()\n",
    "    \n",
    "    # Map the computed means to the test portion of the fold\n",
    "    df.loc[test_index, 'product_category_te'] = X_test['product_category'].map(means)\n",
    "\n",
    "# For any missing values in the target encoded feature (e.g., categories present only in test folds),\n",
    "# fill with the global mean of 'is_converted'\n",
    "global_mean = df['is_converted'].mean()\n",
    "df['product_category_te'].fillna(global_mean, inplace=True)\n",
    "\n",
    "# Show the first few rows to verify\n",
    "print(df[['product_category', 'product_category_te']].head())"
   ]
  },
  {
   "cell_type": "code",
   "execution_count": 364,
   "metadata": {},
   "outputs": [
    {
     "name": "stdout",
     "output_type": "stream",
     "text": [
      "25\n"
     ]
    },
    {
     "data": {
      "text/plain": [
       "Index(['id', 'bant_submit', 'business_unit', 'com_reg_ver_win_rate',\n",
       "       'customer_idx', 'customer_type', 'historical_existing_cnt',\n",
       "       'idit_strategic_ver', 'customer_job', 'lead_desc_length',\n",
       "       'inquiry_type', 'product_category', 'product_subcategory',\n",
       "       'product_modelname', 'customer_country.1', 'customer_position',\n",
       "       'response_corporate', 'ver_cus', 'ver_pro', 'ver_win_rate_x',\n",
       "       'business_area', 'lead_owner', 'is_converted', 'enterprise_Enterprise',\n",
       "       'enterprise_SMB'],\n",
       "      dtype='object')"
      ]
     },
     "execution_count": 364,
     "metadata": {},
     "output_type": "execute_result"
    }
   ],
   "source": [
    "df['product_category'] = df['product_category_te']\n",
    "df.drop('product_category_te', axis=1, inplace=True)\n",
    "print(len(df.columns))\n",
    "df.columns"
   ]
  },
  {
   "cell_type": "markdown",
   "metadata": {},
   "source": [
    "## 13 product_subcategory -> OH"
   ]
  },
  {
   "cell_type": "code",
   "execution_count": 365,
   "metadata": {},
   "outputs": [
    {
     "data": {
      "text/plain": [
       "2"
      ]
     },
     "execution_count": 365,
     "metadata": {},
     "output_type": "execute_result"
    }
   ],
   "source": [
    "len(df.product_subcategory.unique())"
   ]
  },
  {
   "cell_type": "code",
   "execution_count": 366,
   "metadata": {},
   "outputs": [
    {
     "name": "stdout",
     "output_type": "stream",
     "text": [
      "2\n",
      "Index(['id', 'bant_submit', 'business_unit', 'com_reg_ver_win_rate',\n",
      "       'customer_idx', 'customer_type', 'historical_existing_cnt',\n",
      "       'idit_strategic_ver', 'customer_job', 'lead_desc_length',\n",
      "       'inquiry_type', 'product_category', 'product_modelname',\n",
      "       'customer_country.1', 'customer_position', 'response_corporate',\n",
      "       'ver_cus', 'ver_pro', 'ver_win_rate_x', 'business_area', 'lead_owner',\n",
      "       'is_converted', 'enterprise_Enterprise', 'enterprise_SMB',\n",
      "       'product_subcategory_Filled'],\n",
      "      dtype='object')\n"
     ]
    }
   ],
   "source": [
    "df_one_hot = pd.get_dummies(df, columns=['product_subcategory'], prefix='product_subcategory', drop_first=False)\n",
    "df = df_one_hot\n",
    "added_cols = len(df.columns)-original_len+1\n",
    "print(added_cols)\n",
    "print(df.columns)"
   ]
  },
  {
   "cell_type": "markdown",
   "metadata": {},
   "source": [
    "## 14 product_modelname -> OH"
   ]
  },
  {
   "cell_type": "code",
   "execution_count": 367,
   "metadata": {},
   "outputs": [
    {
     "data": {
      "text/plain": [
       "2"
      ]
     },
     "execution_count": 367,
     "metadata": {},
     "output_type": "execute_result"
    }
   ],
   "source": [
    "len(df.product_modelname.unique())"
   ]
  },
  {
   "cell_type": "code",
   "execution_count": 368,
   "metadata": {},
   "outputs": [
    {
     "name": "stdout",
     "output_type": "stream",
     "text": [
      "2\n",
      "Index(['id', 'bant_submit', 'business_unit', 'com_reg_ver_win_rate',\n",
      "       'customer_idx', 'customer_type', 'historical_existing_cnt',\n",
      "       'idit_strategic_ver', 'customer_job', 'lead_desc_length',\n",
      "       'inquiry_type', 'product_category', 'customer_country.1',\n",
      "       'customer_position', 'response_corporate', 'ver_cus', 'ver_pro',\n",
      "       'ver_win_rate_x', 'business_area', 'lead_owner', 'is_converted',\n",
      "       'enterprise_Enterprise', 'enterprise_SMB', 'product_subcategory_Filled',\n",
      "       'product_modelname_Filled'],\n",
      "      dtype='object')\n"
     ]
    }
   ],
   "source": [
    "df_one_hot = pd.get_dummies(df, columns=['product_modelname'], prefix='product_modelname', drop_first=False)\n",
    "df = df_one_hot\n",
    "added_cols = len(df.columns)-original_len+1\n",
    "print(added_cols)\n",
    "print(df.columns)"
   ]
  },
  {
   "cell_type": "markdown",
   "metadata": {},
   "source": [
    "## 15 customer_country.1 -> target encoding"
   ]
  },
  {
   "cell_type": "code",
   "execution_count": 369,
   "metadata": {},
   "outputs": [
    {
     "name": "stdout",
     "output_type": "stream",
     "text": [
      "  customer_country.1  customer_country.1_te\n",
      "0             Brazil               0.256163\n",
      "1      United States               0.382659\n",
      "2                NaN               0.221969\n",
      "3      United States               0.387571\n",
      "4             Brazil               0.256959\n"
     ]
    }
   ],
   "source": [
    "# Convert boolean True/False to 1/0 directly\n",
    "df['is_converted'] = df['is_converted'].astype('int64')\n",
    "\n",
    "# Prepare the KFold object\n",
    "kf = KFold(n_splits=10, shuffle=True, random_state=42)\n",
    "\n",
    "# Placeholder for the target encoded feature\n",
    "df['customer_country.1_te'] = np.nan\n",
    "\n",
    "for train_index, test_index in kf.split(df, df['is_converted']):\n",
    "    # Split the data\n",
    "    X_train, X_test = df.iloc[train_index], df.iloc[test_index]\n",
    "    \n",
    "    # Compute target mean for each category in 'customer_country.1' excluding the current fold\n",
    "    means = X_train.groupby('customer_country.1')['is_converted'].mean()\n",
    "    \n",
    "    # Map the computed means to the test portion of the fold\n",
    "    df.loc[test_index, 'customer_country.1_te'] = X_test['customer_country.1'].map(means)\n",
    "\n",
    "# For any missing values in the target encoded feature (e.g., categories present only in test folds),\n",
    "# fill with the global mean of 'is_converted'\n",
    "global_mean = df['is_converted'].mean()\n",
    "df['customer_country.1_te'].fillna(global_mean, inplace=True)\n",
    "\n",
    "# Show the first few rows to verify\n",
    "print(df[['customer_country.1', 'customer_country.1_te']].head())"
   ]
  },
  {
   "cell_type": "code",
   "execution_count": 370,
   "metadata": {},
   "outputs": [
    {
     "name": "stdout",
     "output_type": "stream",
     "text": [
      "25\n"
     ]
    },
    {
     "data": {
      "text/plain": [
       "Index(['id', 'bant_submit', 'business_unit', 'com_reg_ver_win_rate',\n",
       "       'customer_idx', 'customer_type', 'historical_existing_cnt',\n",
       "       'idit_strategic_ver', 'customer_job', 'lead_desc_length',\n",
       "       'inquiry_type', 'product_category', 'customer_country.1',\n",
       "       'customer_position', 'response_corporate', 'ver_cus', 'ver_pro',\n",
       "       'ver_win_rate_x', 'business_area', 'lead_owner', 'is_converted',\n",
       "       'enterprise_Enterprise', 'enterprise_SMB', 'product_subcategory_Filled',\n",
       "       'product_modelname_Filled'],\n",
       "      dtype='object')"
      ]
     },
     "execution_count": 370,
     "metadata": {},
     "output_type": "execute_result"
    }
   ],
   "source": [
    "df['customer_country.1'] = df['customer_country.1_te']\n",
    "df.drop('customer_country.1_te', axis=1, inplace=True)\n",
    "print(len(df.columns))\n",
    "df.columns"
   ]
  },
  {
   "cell_type": "markdown",
   "metadata": {},
   "source": [
    "## 16 customer_position -> ordinal encoding"
   ]
  },
  {
   "cell_type": "code",
   "execution_count": 371,
   "metadata": {},
   "outputs": [
    {
     "name": "stdout",
     "output_type": "stream",
     "text": [
      "9\n"
     ]
    },
    {
     "data": {
      "text/plain": [
       "array(['none', 'first_management_level', 'other', 'intermediate_level',\n",
       "       'middle_management_level', 'entry_level', 'c_level', 'end_user',\n",
       "       'pgt chemistry'], dtype=object)"
      ]
     },
     "execution_count": 371,
     "metadata": {},
     "output_type": "execute_result"
    }
   ],
   "source": [
    "print(len(df.customer_position.unique()))\n",
    "df.customer_position.unique()"
   ]
  },
  {
   "cell_type": "code",
   "execution_count": 372,
   "metadata": {},
   "outputs": [
    {
     "name": "stdout",
     "output_type": "stream",
     "text": [
      "        customer_position  customer_position_encoded\n",
      "0                    none                        0.0\n",
      "1                    none                        0.0\n",
      "2  first_management_level                        4.0\n",
      "3                    none                        0.0\n",
      "4                   other                        1.0\n"
     ]
    }
   ],
   "source": [
    "ordinal_mapping = {\n",
    "    'none': 0,\n",
    "    'other': 1,\n",
    "    'entry_level': 2,\n",
    "    'intermediate_level': 3,\n",
    "    'first_management_level': 4,\n",
    "    'middle_management_level': 5,\n",
    "    'end_user': 6,\n",
    "    'c_level': 7\n",
    "}\n",
    "\n",
    "# Apply the mapping to the column\n",
    "df['customer_position_encoded'] = df['customer_position'].map(ordinal_mapping)\n",
    "\n",
    "# Verify the changes by displaying the first few rows\n",
    "print(df[['customer_position', 'customer_position_encoded']].head())"
   ]
  },
  {
   "cell_type": "code",
   "execution_count": 373,
   "metadata": {},
   "outputs": [
    {
     "name": "stdout",
     "output_type": "stream",
     "text": [
      "25\n"
     ]
    },
    {
     "data": {
      "text/plain": [
       "Index(['id', 'bant_submit', 'business_unit', 'com_reg_ver_win_rate',\n",
       "       'customer_idx', 'customer_type', 'historical_existing_cnt',\n",
       "       'idit_strategic_ver', 'customer_job', 'lead_desc_length',\n",
       "       'inquiry_type', 'product_category', 'customer_country.1',\n",
       "       'customer_position', 'response_corporate', 'ver_cus', 'ver_pro',\n",
       "       'ver_win_rate_x', 'business_area', 'lead_owner', 'is_converted',\n",
       "       'enterprise_Enterprise', 'enterprise_SMB', 'product_subcategory_Filled',\n",
       "       'product_modelname_Filled'],\n",
       "      dtype='object')"
      ]
     },
     "execution_count": 373,
     "metadata": {},
     "output_type": "execute_result"
    }
   ],
   "source": [
    "df['customer_position'] = df['customer_position_encoded']\n",
    "df.drop('customer_position_encoded', axis=1, inplace=True)\n",
    "print(len(df.columns))\n",
    "df.columns"
   ]
  },
  {
   "cell_type": "markdown",
   "metadata": {},
   "source": [
    "## 17 response_corporate -> target encoding"
   ]
  },
  {
   "cell_type": "code",
   "execution_count": 374,
   "metadata": {},
   "outputs": [
    {
     "name": "stdout",
     "output_type": "stream",
     "text": [
      "41\n"
     ]
    }
   ],
   "source": [
    "print(len(df.response_corporate.unique()))"
   ]
  },
  {
   "cell_type": "code",
   "execution_count": 375,
   "metadata": {},
   "outputs": [
    {
     "name": "stdout",
     "output_type": "stream",
     "text": [
      "  response_corporate  response_corporate_te\n",
      "0              LGESP               0.256163\n",
      "1              LGEUS               0.381594\n",
      "2              LGEGF               0.135338\n",
      "3              LGEUS               0.387486\n",
      "4              LGESP               0.256959\n"
     ]
    }
   ],
   "source": [
    "# Convert boolean True/False to 1/0 directly\n",
    "df['is_converted'] = df['is_converted'].astype('int64')\n",
    "\n",
    "# Prepare the KFold object\n",
    "kf = KFold(n_splits=10, shuffle=True, random_state=42)\n",
    "\n",
    "# Placeholder for the target encoded feature\n",
    "df['response_corporate_te'] = np.nan\n",
    "\n",
    "for train_index, test_index in kf.split(df, df['is_converted']):\n",
    "    # Split the data\n",
    "    X_train, X_test = df.iloc[train_index], df.iloc[test_index]\n",
    "    \n",
    "    # Compute target mean for each category in 'customer_country.1' excluding the current fold\n",
    "    means = X_train.groupby('response_corporate')['is_converted'].mean()\n",
    "    \n",
    "    # Map the computed means to the test portion of the fold\n",
    "    df.loc[test_index, 'response_corporate_te'] = X_test['response_corporate'].map(means)\n",
    "\n",
    "# For any missing values in the target encoded feature (e.g., categories present only in test folds),\n",
    "# fill with the global mean of 'is_converted'\n",
    "global_mean = df['is_converted'].mean()\n",
    "df['response_corporate_te'].fillna(global_mean, inplace=True)\n",
    "\n",
    "# Show the first few rows to verify\n",
    "print(df[['response_corporate', 'response_corporate_te']].head())"
   ]
  },
  {
   "cell_type": "code",
   "execution_count": 376,
   "metadata": {},
   "outputs": [
    {
     "name": "stdout",
     "output_type": "stream",
     "text": [
      "25\n"
     ]
    },
    {
     "data": {
      "text/plain": [
       "Index(['id', 'bant_submit', 'business_unit', 'com_reg_ver_win_rate',\n",
       "       'customer_idx', 'customer_type', 'historical_existing_cnt',\n",
       "       'idit_strategic_ver', 'customer_job', 'lead_desc_length',\n",
       "       'inquiry_type', 'product_category', 'customer_country.1',\n",
       "       'customer_position', 'response_corporate', 'ver_cus', 'ver_pro',\n",
       "       'ver_win_rate_x', 'business_area', 'lead_owner', 'is_converted',\n",
       "       'enterprise_Enterprise', 'enterprise_SMB', 'product_subcategory_Filled',\n",
       "       'product_modelname_Filled'],\n",
       "      dtype='object')"
      ]
     },
     "execution_count": 376,
     "metadata": {},
     "output_type": "execute_result"
    }
   ],
   "source": [
    "df['response_corporate'] = df['response_corporate_te']\n",
    "df.drop('response_corporate_te', axis=1, inplace=True)\n",
    "print(len(df.columns))\n",
    "df.columns"
   ]
  },
  {
   "cell_type": "markdown",
   "metadata": {},
   "source": [
    "## 18 ver_cus -> no encoding"
   ]
  },
  {
   "cell_type": "markdown",
   "metadata": {},
   "source": [
    "## 19 ver_pro -> no encoding"
   ]
  },
  {
   "cell_type": "markdown",
   "metadata": {},
   "source": [
    "## 20 ver_win_rate_x -> Imputation needed"
   ]
  },
  {
   "cell_type": "markdown",
   "metadata": {},
   "source": [
    "## 21 business_area -> target encoding"
   ]
  },
  {
   "cell_type": "code",
   "execution_count": 377,
   "metadata": {},
   "outputs": [
    {
     "name": "stdout",
     "output_type": "stream",
     "text": [
      "13\n"
     ]
    }
   ],
   "source": [
    "print(len(df.business_area.unique()))"
   ]
  },
  {
   "cell_type": "code",
   "execution_count": 378,
   "metadata": {},
   "outputs": [
    {
     "name": "stdout",
     "output_type": "stream",
     "text": [
      "            business_area  business_area_te\n",
      "0                  retail          0.265018\n",
      "1          transportation          0.535620\n",
      "2  hospital & health care          0.355372\n",
      "3                  retail          0.276364\n",
      "4      corporate / office          0.324952\n"
     ]
    }
   ],
   "source": [
    "# Convert boolean True/False to 1/0 directly\n",
    "df['is_converted'] = df['is_converted'].astype('int64')\n",
    "\n",
    "# Prepare the KFold object\n",
    "kf = KFold(n_splits=10, shuffle=True, random_state=42)\n",
    "\n",
    "# Placeholder for the target encoded feature\n",
    "df['business_area_te'] = np.nan\n",
    "\n",
    "for train_index, test_index in kf.split(df, df['is_converted']):\n",
    "    # Split the data\n",
    "    X_train, X_test = df.iloc[train_index], df.iloc[test_index]\n",
    "    \n",
    "    # Compute target mean for each category in 'customer_country.1' excluding the current fold\n",
    "    means = X_train.groupby('business_area')['is_converted'].mean()\n",
    "    \n",
    "    # Map the computed means to the test portion of the fold\n",
    "    df.loc[test_index, 'business_area_te'] = X_test['business_area'].map(means)\n",
    "\n",
    "# For any missing values in the target encoded feature (e.g., categories present only in test folds),\n",
    "# fill with the global mean of 'is_converted'\n",
    "global_mean = df['is_converted'].mean()\n",
    "df['business_area_te'].fillna(global_mean, inplace=True)\n",
    "\n",
    "# Show the first few rows to verify\n",
    "print(df[['business_area', 'business_area_te']].head())"
   ]
  },
  {
   "cell_type": "code",
   "execution_count": 379,
   "metadata": {},
   "outputs": [
    {
     "name": "stdout",
     "output_type": "stream",
     "text": [
      "25\n"
     ]
    },
    {
     "data": {
      "text/plain": [
       "Index(['id', 'bant_submit', 'business_unit', 'com_reg_ver_win_rate',\n",
       "       'customer_idx', 'customer_type', 'historical_existing_cnt',\n",
       "       'idit_strategic_ver', 'customer_job', 'lead_desc_length',\n",
       "       'inquiry_type', 'product_category', 'customer_country.1',\n",
       "       'customer_position', 'response_corporate', 'ver_cus', 'ver_pro',\n",
       "       'ver_win_rate_x', 'business_area', 'lead_owner', 'is_converted',\n",
       "       'enterprise_Enterprise', 'enterprise_SMB', 'product_subcategory_Filled',\n",
       "       'product_modelname_Filled'],\n",
       "      dtype='object')"
      ]
     },
     "execution_count": 379,
     "metadata": {},
     "output_type": "execute_result"
    }
   ],
   "source": [
    "df['business_area'] = df['business_area_te']\n",
    "df.drop('business_area_te', axis=1, inplace=True)\n",
    "print(len(df.columns))\n",
    "df.columns"
   ]
  },
  {
   "cell_type": "markdown",
   "metadata": {},
   "source": [
    "## 22 lead_owner -> category -> target encoding"
   ]
  },
  {
   "cell_type": "code",
   "execution_count": 380,
   "metadata": {},
   "outputs": [
    {
     "data": {
      "text/plain": [
       "0    278\n",
       "1    437\n",
       "2    874\n",
       "3    194\n",
       "4    167\n",
       "Name: lead_owner, dtype: category\n",
       "Categories (440, int64): [0, 1, 2, 3, ..., 1062, 1063, 1084, 1108]"
      ]
     },
     "execution_count": 380,
     "metadata": {},
     "output_type": "execute_result"
    }
   ],
   "source": [
    "df['lead_owner'] = df['lead_owner'].astype('category')\n",
    "df['lead_owner'].head()"
   ]
  },
  {
   "cell_type": "code",
   "execution_count": 381,
   "metadata": {},
   "outputs": [
    {
     "name": "stdout",
     "output_type": "stream",
     "text": [
      "  lead_owner  lead_owner_te\n",
      "0        278       0.555556\n",
      "1        437       0.720588\n",
      "2        874       0.200000\n",
      "3        194       0.041322\n",
      "4        167       0.428571\n"
     ]
    }
   ],
   "source": [
    "# Convert boolean True/False to 1/0 directly\n",
    "df['is_converted'] = df['is_converted'].astype('int64')\n",
    "\n",
    "# Prepare the KFold object\n",
    "kf = KFold(n_splits=10, shuffle=True, random_state=42)\n",
    "\n",
    "# Placeholder for the target encoded feature\n",
    "df['lead_owner_te'] = np.nan\n",
    "\n",
    "for train_index, test_index in kf.split(df, df['is_converted']):\n",
    "    # Split the data\n",
    "    X_train, X_test = df.iloc[train_index], df.iloc[test_index]\n",
    "    \n",
    "    # Compute target mean for each category in 'customer_country.1' excluding the current fold\n",
    "    means = X_train.groupby('lead_owner')['is_converted'].mean()\n",
    "    \n",
    "    # Map the computed means to the test portion of the fold\n",
    "    df.loc[test_index, 'lead_owner_te'] = X_test['lead_owner'].map(means)\n",
    "\n",
    "# For any missing values in the target encoded feature (e.g., categories present only in test folds),\n",
    "# fill with the global mean of 'is_converted'\n",
    "global_mean = df['is_converted'].mean()\n",
    "df['lead_owner_te'].fillna(global_mean, inplace=True)\n",
    "\n",
    "# Show the first few rows to verify\n",
    "print(df[['lead_owner', 'lead_owner_te']].head())"
   ]
  },
  {
   "cell_type": "code",
   "execution_count": 382,
   "metadata": {},
   "outputs": [
    {
     "name": "stdout",
     "output_type": "stream",
     "text": [
      "25\n"
     ]
    },
    {
     "data": {
      "text/plain": [
       "Index(['id', 'bant_submit', 'business_unit', 'com_reg_ver_win_rate',\n",
       "       'customer_idx', 'customer_type', 'historical_existing_cnt',\n",
       "       'idit_strategic_ver', 'customer_job', 'lead_desc_length',\n",
       "       'inquiry_type', 'product_category', 'customer_country.1',\n",
       "       'customer_position', 'response_corporate', 'ver_cus', 'ver_pro',\n",
       "       'ver_win_rate_x', 'business_area', 'lead_owner', 'is_converted',\n",
       "       'enterprise_Enterprise', 'enterprise_SMB', 'product_subcategory_Filled',\n",
       "       'product_modelname_Filled'],\n",
       "      dtype='object')"
      ]
     },
     "execution_count": 382,
     "metadata": {},
     "output_type": "execute_result"
    }
   ],
   "source": [
    "df['lead_owner'] = df['lead_owner_te']\n",
    "df.drop('lead_owner_te', axis=1, inplace=True)\n",
    "print(len(df.columns))\n",
    "df.columns"
   ]
  },
  {
   "cell_type": "markdown",
   "metadata": {},
   "source": [
    "## Iterative Imputation"
   ]
  },
  {
   "cell_type": "code",
   "execution_count": 383,
   "metadata": {},
   "outputs": [
    {
     "name": "stdout",
     "output_type": "stream",
     "text": [
      "        id  bant_submit  business_unit  com_reg_ver_win_rate  customer_idx  \\\n",
      "0  19844.0         0.00       0.233859              0.073248      0.059190   \n",
      "1   9738.0         0.25       0.486022              0.436869      0.000000   \n",
      "2   8491.0         1.00       0.239336              0.233180      1.000000   \n",
      "3  19895.0         0.50       0.236767              0.118644      0.221969   \n",
      "4  10465.0         1.00       0.233902              0.074949      0.000000   \n",
      "\n",
      "   customer_type  historical_existing_cnt  idit_strategic_ver  customer_job  \\\n",
      "0       0.256537                     53.0                 0.0      0.255034   \n",
      "1       0.256329                      0.0                 0.0      0.221969   \n",
      "2       0.290960                      0.0                 0.0      0.271429   \n",
      "3       0.053476                      0.0                 0.0      0.297297   \n",
      "4       0.255088                      2.0                 1.0      0.183486   \n",
      "\n",
      "   lead_desc_length  ...  ver_cus  ver_pro  ver_win_rate_x  business_area  \\\n",
      "0               0.0  ...      1.0      0.0        0.001183       0.265018   \n",
      "1               0.0  ...      0.0      0.0        0.000013       0.535620   \n",
      "2             150.0  ...      0.0      0.0        0.000060       0.355372   \n",
      "3               0.0  ...      0.0      0.0        0.001183       0.276364   \n",
      "4             100.0  ...      1.0      1.0        0.003079       0.324952   \n",
      "\n",
      "   lead_owner  is_converted  enterprise_Enterprise  enterprise_SMB  \\\n",
      "0    0.555556           1.0                    1.0             0.0   \n",
      "1    0.720588           1.0                    0.0             1.0   \n",
      "2    0.200000           1.0                    0.0             1.0   \n",
      "3    0.041322           0.0                    1.0             0.0   \n",
      "4    0.428571           0.0                    1.0             0.0   \n",
      "\n",
      "   product_subcategory_Filled  product_modelname_Filled  \n",
      "0                         0.0                       0.0  \n",
      "1                         0.0                       0.0  \n",
      "2                         1.0                       1.0  \n",
      "3                         1.0                       0.0  \n",
      "4                         1.0                       1.0  \n",
      "\n",
      "[5 rows x 25 columns]\n"
     ]
    }
   ],
   "source": [
    "# Initialize the IterativeImputer\n",
    "iterative_imputer = IterativeImputer(max_iter=100, random_state=0)\n",
    "\n",
    "# Apply the imputer to the entire DataFrame\n",
    "# Note: Ensure 'df' contains only numerical data at this point\n",
    "imputed_data = iterative_imputer.fit_transform(df)\n",
    "\n",
    "# Convert the imputed data back into a DataFrame\n",
    "# This step is necessary to retain your column names and DataFrame structure\n",
    "df_imputed = pd.DataFrame(imputed_data, columns=df.columns)\n",
    "\n",
    "# Display the first few rows of the imputed DataFrame\n",
    "print(df_imputed.head())"
   ]
  },
  {
   "cell_type": "markdown",
   "metadata": {},
   "source": [
    "## checking"
   ]
  },
  {
   "cell_type": "code",
   "execution_count": 384,
   "metadata": {},
   "outputs": [
    {
     "name": "stdout",
     "output_type": "stream",
     "text": [
      "Non-numeric columns found: ['enterprise_Enterprise', 'enterprise_SMB', 'product_subcategory_Filled', 'product_modelname_Filled']\n"
     ]
    }
   ],
   "source": [
    "# Select columns that are not of numeric types (int or float)\n",
    "non_numeric_columns = df.select_dtypes(exclude=['int64', 'int32', 'float64']).columns\n",
    "\n",
    "# Check if there are any non-numeric columns\n",
    "if len(non_numeric_columns) > 0:\n",
    "    print(f\"Non-numeric columns found: {list(non_numeric_columns)}\")\n",
    "    \n",
    "else:\n",
    "    print(\"All columns are of int or float type.\")"
   ]
  },
  {
   "cell_type": "code",
   "execution_count": 385,
   "metadata": {},
   "outputs": [
    {
     "data": {
      "text/plain": [
       "0    0\n",
       "1    1\n",
       "2    1\n",
       "3    0\n",
       "4    0\n",
       "Name: enterprise_SMB, dtype: int64"
      ]
     },
     "execution_count": 385,
     "metadata": {},
     "output_type": "execute_result"
    }
   ],
   "source": [
    "df.enterprise_Enterprise.head()\n",
    "\n",
    "#convert df.enterprise_Enterprise to int\n",
    "df['enterprise_Enterprise'] = df['enterprise_Enterprise'].astype('int64')\n",
    "df['enterprise_SMB'] = df['enterprise_SMB'].astype('int64')\n",
    "df['product_subcategory_Filled'] = df['product_subcategory_Filled'].astype('int64')\n",
    "df['product_modelname_Filled'] = df['product_modelname_Filled'].astype('int64')\n",
    "\n",
    "df['enterprise_Enterprise'].head()\n",
    "df['enterprise_SMB'].head()"
   ]
  },
  {
   "cell_type": "code",
   "execution_count": 386,
   "metadata": {},
   "outputs": [
    {
     "name": "stdout",
     "output_type": "stream",
     "text": [
      "All columns are of int or float type.\n"
     ]
    }
   ],
   "source": [
    "non_numeric_columns = df.select_dtypes(exclude=['int64', 'int32', 'float64']).columns\n",
    "\n",
    "# Check if there are any non-numeric columns\n",
    "if len(non_numeric_columns) > 0:\n",
    "    print(f\"Non-numeric columns found: {list(non_numeric_columns)}\")\n",
    "else:\n",
    "    print(\"All columns are of int or float type.\")"
   ]
  },
  {
   "cell_type": "code",
   "execution_count": 387,
   "metadata": {},
   "outputs": [],
   "source": [
    "df.to_csv('encoded_train_final_target.csv', index=False)"
   ]
  }
 ],
 "metadata": {
  "kernelspec": {
   "display_name": "Python 3",
   "language": "python",
   "name": "python3"
  },
  "language_info": {
   "codemirror_mode": {
    "name": "ipython",
    "version": 3
   },
   "file_extension": ".py",
   "mimetype": "text/x-python",
   "name": "python",
   "nbconvert_exporter": "python",
   "pygments_lexer": "ipython3",
   "version": "3.11.1"
  }
 },
 "nbformat": 4,
 "nbformat_minor": 2
}
