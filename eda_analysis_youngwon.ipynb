{
 "cells": [
  {
   "cell_type": "code",
   "execution_count": 56,
   "metadata": {},
   "outputs": [],
   "source": [
    "import numpy as np \n",
    "import matplotlib.pyplot as plt\n",
    "import seaborn as sns\n",
    "import pandas as pd"
   ]
  },
  {
   "cell_type": "code",
   "execution_count": 57,
   "metadata": {},
   "outputs": [
    {
     "data": {
      "text/html": [
       "<div>\n",
       "<style scoped>\n",
       "    .dataframe tbody tr th:only-of-type {\n",
       "        vertical-align: middle;\n",
       "    }\n",
       "\n",
       "    .dataframe tbody tr th {\n",
       "        vertical-align: top;\n",
       "    }\n",
       "\n",
       "    .dataframe thead th {\n",
       "        text-align: right;\n",
       "    }\n",
       "</style>\n",
       "<table border=\"1\" class=\"dataframe\">\n",
       "  <thead>\n",
       "    <tr style=\"text-align: right;\">\n",
       "      <th></th>\n",
       "      <th>bant_submit</th>\n",
       "      <th>business_unit</th>\n",
       "      <th>com_reg_ver_win_rate</th>\n",
       "      <th>customer_idx</th>\n",
       "      <th>customer_type</th>\n",
       "      <th>enterprise</th>\n",
       "      <th>historical_existing_cnt</th>\n",
       "      <th>id_strategic_ver</th>\n",
       "      <th>it_strategic_ver</th>\n",
       "      <th>idit_strategic_ver</th>\n",
       "      <th>...</th>\n",
       "      <th>response_corporate</th>\n",
       "      <th>expected_timeline</th>\n",
       "      <th>ver_cus</th>\n",
       "      <th>ver_pro</th>\n",
       "      <th>ver_win_rate_x</th>\n",
       "      <th>ver_win_ratio_per_bu</th>\n",
       "      <th>business_area</th>\n",
       "      <th>business_subarea</th>\n",
       "      <th>lead_owner</th>\n",
       "      <th>is_converted</th>\n",
       "    </tr>\n",
       "  </thead>\n",
       "  <tbody>\n",
       "    <tr>\n",
       "      <th>0</th>\n",
       "      <td>1.0</td>\n",
       "      <td>AS</td>\n",
       "      <td>0.066667</td>\n",
       "      <td>32160</td>\n",
       "      <td>End-Customer</td>\n",
       "      <td>Enterprise</td>\n",
       "      <td>0</td>\n",
       "      <td>0</td>\n",
       "      <td>0</td>\n",
       "      <td>0</td>\n",
       "      <td>...</td>\n",
       "      <td>LGEPH</td>\n",
       "      <td>less than 3 months</td>\n",
       "      <td>1</td>\n",
       "      <td>0</td>\n",
       "      <td>0.003079</td>\n",
       "      <td>0.026846</td>\n",
       "      <td>corporate / office</td>\n",
       "      <td>Engineering</td>\n",
       "      <td>0</td>\n",
       "      <td>True</td>\n",
       "    </tr>\n",
       "    <tr>\n",
       "      <th>1</th>\n",
       "      <td>1.0</td>\n",
       "      <td>AS</td>\n",
       "      <td>0.066667</td>\n",
       "      <td>23122</td>\n",
       "      <td>End-Customer</td>\n",
       "      <td>Enterprise</td>\n",
       "      <td>12</td>\n",
       "      <td>0</td>\n",
       "      <td>0</td>\n",
       "      <td>0</td>\n",
       "      <td>...</td>\n",
       "      <td>LGEPH</td>\n",
       "      <td>less than 3 months</td>\n",
       "      <td>1</td>\n",
       "      <td>0</td>\n",
       "      <td>0.003079</td>\n",
       "      <td>0.026846</td>\n",
       "      <td>corporate / office</td>\n",
       "      <td>Advertising</td>\n",
       "      <td>1</td>\n",
       "      <td>True</td>\n",
       "    </tr>\n",
       "    <tr>\n",
       "      <th>2</th>\n",
       "      <td>1.0</td>\n",
       "      <td>AS</td>\n",
       "      <td>0.088889</td>\n",
       "      <td>1755</td>\n",
       "      <td>End-Customer</td>\n",
       "      <td>Enterprise</td>\n",
       "      <td>144</td>\n",
       "      <td>0</td>\n",
       "      <td>0</td>\n",
       "      <td>0</td>\n",
       "      <td>...</td>\n",
       "      <td>LGEIL</td>\n",
       "      <td>less than 3 months</td>\n",
       "      <td>1</td>\n",
       "      <td>0</td>\n",
       "      <td>0.003079</td>\n",
       "      <td>0.026846</td>\n",
       "      <td>corporate / office</td>\n",
       "      <td>Construction</td>\n",
       "      <td>2</td>\n",
       "      <td>True</td>\n",
       "    </tr>\n",
       "    <tr>\n",
       "      <th>3</th>\n",
       "      <td>1.0</td>\n",
       "      <td>AS</td>\n",
       "      <td>0.088889</td>\n",
       "      <td>4919</td>\n",
       "      <td>End-Customer</td>\n",
       "      <td>Enterprise</td>\n",
       "      <td>0</td>\n",
       "      <td>0</td>\n",
       "      <td>0</td>\n",
       "      <td>0</td>\n",
       "      <td>...</td>\n",
       "      <td>LGEIL</td>\n",
       "      <td>less than 3 months</td>\n",
       "      <td>1</td>\n",
       "      <td>0</td>\n",
       "      <td>0.003079</td>\n",
       "      <td>0.026846</td>\n",
       "      <td>corporate / office</td>\n",
       "      <td>IT/Software</td>\n",
       "      <td>3</td>\n",
       "      <td>True</td>\n",
       "    </tr>\n",
       "    <tr>\n",
       "      <th>4</th>\n",
       "      <td>1.0</td>\n",
       "      <td>AS</td>\n",
       "      <td>0.088889</td>\n",
       "      <td>17126</td>\n",
       "      <td>Specifier/ Influencer</td>\n",
       "      <td>Enterprise</td>\n",
       "      <td>0</td>\n",
       "      <td>0</td>\n",
       "      <td>0</td>\n",
       "      <td>0</td>\n",
       "      <td>...</td>\n",
       "      <td>LGEIL</td>\n",
       "      <td>less than 3 months</td>\n",
       "      <td>0</td>\n",
       "      <td>0</td>\n",
       "      <td>0.003079</td>\n",
       "      <td>0.026846</td>\n",
       "      <td>corporate / office</td>\n",
       "      <td>NaN</td>\n",
       "      <td>4</td>\n",
       "      <td>True</td>\n",
       "    </tr>\n",
       "  </tbody>\n",
       "</table>\n",
       "<p>5 rows × 27 columns</p>\n",
       "</div>"
      ],
      "text/plain": [
       "   bant_submit business_unit  com_reg_ver_win_rate  customer_idx  \\\n",
       "0          1.0            AS              0.066667         32160   \n",
       "1          1.0            AS              0.066667         23122   \n",
       "2          1.0            AS              0.088889          1755   \n",
       "3          1.0            AS              0.088889          4919   \n",
       "4          1.0            AS              0.088889         17126   \n",
       "\n",
       "           customer_type  enterprise  historical_existing_cnt  \\\n",
       "0           End-Customer  Enterprise                        0   \n",
       "1           End-Customer  Enterprise                       12   \n",
       "2           End-Customer  Enterprise                      144   \n",
       "3           End-Customer  Enterprise                        0   \n",
       "4  Specifier/ Influencer  Enterprise                        0   \n",
       "\n",
       "   id_strategic_ver  it_strategic_ver  idit_strategic_ver  ...  \\\n",
       "0                 0                 0                   0  ...   \n",
       "1                 0                 0                   0  ...   \n",
       "2                 0                 0                   0  ...   \n",
       "3                 0                 0                   0  ...   \n",
       "4                 0                 0                   0  ...   \n",
       "\n",
       "  response_corporate   expected_timeline ver_cus ver_pro ver_win_rate_x  \\\n",
       "0              LGEPH  less than 3 months       1       0       0.003079   \n",
       "1              LGEPH  less than 3 months       1       0       0.003079   \n",
       "2              LGEIL  less than 3 months       1       0       0.003079   \n",
       "3              LGEIL  less than 3 months       1       0       0.003079   \n",
       "4              LGEIL  less than 3 months       0       0       0.003079   \n",
       "\n",
       "  ver_win_ratio_per_bu       business_area business_subarea lead_owner  \\\n",
       "0             0.026846  corporate / office      Engineering          0   \n",
       "1             0.026846  corporate / office      Advertising          1   \n",
       "2             0.026846  corporate / office     Construction          2   \n",
       "3             0.026846  corporate / office      IT/Software          3   \n",
       "4             0.026846  corporate / office              NaN          4   \n",
       "\n",
       "   is_converted  \n",
       "0          True  \n",
       "1          True  \n",
       "2          True  \n",
       "3          True  \n",
       "4          True  \n",
       "\n",
       "[5 rows x 27 columns]"
      ]
     },
     "execution_count": 57,
     "metadata": {},
     "output_type": "execute_result"
    }
   ],
   "source": [
    "df = pd.read_csv(\"./data/preprocessed_train_fin_two.csv\") # 학습용 데이터\n",
    "df.head()"
   ]
  },
  {
   "cell_type": "code",
   "execution_count": 58,
   "metadata": {},
   "outputs": [
    {
     "name": "stdout",
     "output_type": "stream",
     "text": [
      "27\n"
     ]
    },
    {
     "data": {
      "text/plain": [
       "Index(['bant_submit', 'business_unit', 'com_reg_ver_win_rate', 'customer_idx',\n",
       "       'customer_type', 'enterprise', 'historical_existing_cnt',\n",
       "       'id_strategic_ver', 'it_strategic_ver', 'idit_strategic_ver',\n",
       "       'customer_job', 'lead_desc_length', 'product_category',\n",
       "       'product_subcategory', 'product_modelname', 'customer_country.1',\n",
       "       'customer_position', 'response_corporate', 'expected_timeline',\n",
       "       'ver_cus', 'ver_pro', 'ver_win_rate_x', 'ver_win_ratio_per_bu',\n",
       "       'business_area', 'business_subarea', 'lead_owner', 'is_converted'],\n",
       "      dtype='object')"
      ]
     },
     "execution_count": 58,
     "metadata": {},
     "output_type": "execute_result"
    }
   ],
   "source": [
    "print(len(df.columns))\n",
    "df.columns"
   ]
  },
  {
   "cell_type": "code",
   "execution_count": 59,
   "metadata": {},
   "outputs": [
    {
     "name": "stdout",
     "output_type": "stream",
     "text": [
      "business_unit\n",
      "customer_type\n",
      "enterprise\n",
      "customer_job\n",
      "product_category\n",
      "product_subcategory\n",
      "product_modelname\n",
      "customer_country.1\n",
      "customer_position\n",
      "response_corporate\n",
      "expected_timeline\n",
      "business_area\n",
      "business_subarea\n",
      "is_converted\n"
     ]
    }
   ],
   "source": [
    "# categorical columns\n",
    "\n",
    "for col in df.columns:\n",
    "    if df[col].dtype != 'int64' and df[col].dtype != 'float64':\n",
    "        print(col)"
   ]
  },
  {
   "cell_type": "markdown",
   "metadata": {},
   "source": [
    "## business_unit"
   ]
  },
  {
   "cell_type": "code",
   "execution_count": 60,
   "metadata": {},
   "outputs": [
    {
     "name": "stdout",
     "output_type": "stream",
     "text": [
      "number of unique values in business_unit: 5\n",
      "\n",
      "business_unit\n",
      "ID          24863\n",
      "AS          22650\n",
      "IT           7979\n",
      "Solution      287\n",
      "CM              1\n",
      "Name: count, dtype: int64\n"
     ]
    }
   ],
   "source": [
    "print('number of unique values in business_unit: '+str(len(df.business_unit.unique()))+'\\r\\n')\n",
    "print(df.business_unit.value_counts())\n",
    "# print('\\r\\nnumber of rows with NA value: '+str(len(df.business_unit.isna())))"
   ]
  },
  {
   "cell_type": "markdown",
   "metadata": {},
   "source": [
    "## customer_type"
   ]
  },
  {
   "cell_type": "code",
   "execution_count": 61,
   "metadata": {},
   "outputs": [
    {
     "name": "stdout",
     "output_type": "stream",
     "text": [
      "number of unique values in business_unit: 34\n",
      "\n",
      "customer_type\n",
      "Unknown                         41358\n",
      "End-Customer                     6552\n",
      "End Customer                     3546\n",
      "Specifier/ Influencer            2328\n",
      "Channel Partner                  1282\n",
      "Service Partner                   316\n",
      "Solution Eco-Partner              128\n",
      "Installer/Contractor               42\n",
      "Specifier / Influencer             38\n",
      "Corporate                          28\n",
      "Engineer                           18\n",
      "HVAC Engineer                      17\n",
      "Technician                         16\n",
      "Consultant                         15\n",
      "Developer                          14\n",
      "Other                              10\n",
      "Software/Solution Provider          7\n",
      "End-user                            7\n",
      "Manager / Director                  7\n",
      "Home Owner                          6\n",
      "Etc.                                6\n",
      "Architect/Consultant                5\n",
      "Homeowner                           5\n",
      "Installer                           5\n",
      "Interior Designer                   5\n",
      "Distributor                         4\n",
      "Others                              4\n",
      "Reseller                            4\n",
      "Dealer/Distributor                  2\n",
      "Software / Solution Provider        1\n",
      "Technical Assistant                 1\n",
      "Commercial end-user                 1\n",
      "System Integrator                   1\n",
      "Administrator                       1\n",
      "Name: count, dtype: int64\n"
     ]
    }
   ],
   "source": [
    "print('number of unique values in business_unit: '+str(len(df.customer_type.unique()))+'\\r\\n')\n",
    "print(df.customer_type.value_counts())"
   ]
  },
  {
   "cell_type": "markdown",
   "metadata": {},
   "source": [
    "## enterprise"
   ]
  },
  {
   "cell_type": "code",
   "execution_count": 62,
   "metadata": {},
   "outputs": [
    {
     "name": "stdout",
     "output_type": "stream",
     "text": [
      "number of unique values in business_unit: 2\n",
      "\n",
      "enterprise\n",
      "Enterprise    35638\n",
      "SMB           20142\n",
      "Name: count, dtype: int64\n"
     ]
    }
   ],
   "source": [
    "print('number of unique values in business_unit: '+str(len(df.enterprise.unique()))+'\\r\\n')\n",
    "print(df.enterprise.value_counts())"
   ]
  },
  {
   "cell_type": "markdown",
   "metadata": {},
   "source": [
    "## customer_job"
   ]
  },
  {
   "cell_type": "code",
   "execution_count": 63,
   "metadata": {},
   "outputs": [
    {
     "name": "stdout",
     "output_type": "stream",
     "text": [
      "number of unique values in business_unit: 561\n",
      "\n",
      "customer_job\n",
      "engineering                       6025\n",
      "other                             4502\n",
      "administrative                    3282\n",
      "education                         2260\n",
      "sales                             2138\n",
      "                                  ... \n",
      "consultant,cabinet fabricator        1\n",
      "appliance specialist                 1\n",
      "av estimator                         1\n",
      "purchasers                           1\n",
      "exhibition / convention center       1\n",
      "Name: count, Length: 560, dtype: int64\n"
     ]
    }
   ],
   "source": [
    "print('number of unique values in business_unit: '+str(len(df.customer_job.unique()))+'\\r\\n')\n",
    "print(df.customer_job.value_counts())"
   ]
  },
  {
   "cell_type": "markdown",
   "metadata": {},
   "source": [
    "## product_category"
   ]
  },
  {
   "cell_type": "code",
   "execution_count": 64,
   "metadata": {},
   "outputs": [
    {
     "name": "stdout",
     "output_type": "stream",
     "text": [
      "number of unique values in business_unit: 358\n",
      "\n",
      "product_category\n",
      "interactive digital board                     6090\n",
      "vrf                                           5238\n",
      "multi-split                                   3548\n",
      "video wall signage                            2002\n",
      "etc.                                          1954\n",
      "                                              ... \n",
      "pc,tv                                            1\n",
      "system ac                                        1\n",
      "sac                                              1\n",
      "gscd046                                          1\n",
      "monior/monitor tv,refrigerator,audio/video       1\n",
      "Name: count, Length: 357, dtype: int64\n"
     ]
    }
   ],
   "source": [
    "\n",
    "print('number of unique values in business_unit: '+str(len(df.product_category.unique()))+'\\r\\n')\n",
    "print(df.product_category.value_counts())"
   ]
  },
  {
   "cell_type": "markdown",
   "metadata": {},
   "source": [
    "## product_subcategory"
   ]
  },
  {
   "cell_type": "code",
   "execution_count": 65,
   "metadata": {},
   "outputs": [
    {
     "name": "stdout",
     "output_type": "stream",
     "text": [
      "number of unique values in business_unit: 11\n",
      "\n",
      "product_subcategory\n",
      "Others                                    6235\n",
      "All Medical Displays                       440\n",
      "Interactive Digital Board                  413\n",
      "TR3BF Series                               370\n",
      "Diagnostic Monitors                        276\n",
      "Transparent OLED Signage                   270\n",
      "49\" 500 nits FHD Slim Bezel Video Wall     265\n",
      "Transparent LED Film                       264\n",
      "TR3DJ Series                               242\n",
      "One:Quick Flex                             231\n",
      "Name: count, dtype: int64\n"
     ]
    }
   ],
   "source": [
    "\n",
    "print('number of unique values in business_unit: '+str(len(df.product_subcategory.unique()))+'\\r\\n')\n",
    "print(df.product_subcategory.value_counts())"
   ]
  },
  {
   "cell_type": "markdown",
   "metadata": {},
   "source": [
    "## product_modelname"
   ]
  },
  {
   "cell_type": "code",
   "execution_count": 66,
   "metadata": {},
   "outputs": [
    {
     "name": "stdout",
     "output_type": "stream",
     "text": [
      "number of unique values in business_unit: 11\n",
      "\n",
      "product_modelname\n",
      "Others                     6469\n",
      "UltraFine Ergo(32UN880)     519\n",
      "28MQ780                     471\n",
      "All Medical Displays        348\n",
      "43HT3WJ                     278\n",
      "55CT5WJ                     258\n",
      "55VSM5J                     198\n",
      "Ergo Dual(27QP88D)          167\n",
      "Diagnostic Monitors         165\n",
      "75TC3D                      158\n",
      "Name: count, dtype: int64\n"
     ]
    }
   ],
   "source": [
    "\n",
    "print('number of unique values in business_unit: '+str(len(df.product_modelname.unique()))+'\\r\\n')\n",
    "print(df.product_modelname.value_counts())"
   ]
  },
  {
   "cell_type": "markdown",
   "metadata": {},
   "source": [
    "## customer_country.1\n"
   ]
  },
  {
   "cell_type": "code",
   "execution_count": 67,
   "metadata": {},
   "outputs": [
    {
     "name": "stdout",
     "output_type": "stream",
     "text": [
      "number of unique values in business_unit: 405\n",
      "\n",
      "customer_country.1\n",
      "India                                                 16625\n",
      "Brazil                                                 8393\n",
      "United States                                          4953\n",
      "Mexico                                                 2511\n",
      "Philippines                                            2467\n",
      "                                                      ...  \n",
      "India//mumbai                                             1\n",
      "2100 Engineer Rd, Oakland, CA 94607, United States        1\n",
      "Swaziland                                                 1\n",
      "India/lucknow                                             1\n",
      "Manaus                                                    1\n",
      "Name: count, Length: 404, dtype: int64\n"
     ]
    }
   ],
   "source": [
    "\n",
    "print('number of unique values in business_unit: '+str(len(df['customer_country.1'].unique()))+'\\r\\n')\n",
    "print(df['customer_country.1'].value_counts())"
   ]
  },
  {
   "cell_type": "markdown",
   "metadata": {},
   "source": [
    "## customer_position"
   ]
  },
  {
   "cell_type": "code",
   "execution_count": 68,
   "metadata": {},
   "outputs": [
    {
     "name": "stdout",
     "output_type": "stream",
     "text": [
      "number of unique values in business_unit: 117\n",
      "\n",
      "customer_position\n",
      "none                      17667\n",
      "manager                    7905\n",
      "ceo/founder                7745\n",
      "other                      6115\n",
      "director                   4735\n",
      "                          ...  \n",
      "principal & director          1\n",
      "business partner              1\n",
      "hon dean                      1\n",
      "chairman                      1\n",
      "radiology professional        1\n",
      "Name: count, Length: 117, dtype: int64\n"
     ]
    }
   ],
   "source": [
    "\n",
    "print('number of unique values in business_unit: '+str(len(df.customer_position.unique()))+'\\r\\n')\n",
    "print(df.customer_position.value_counts())"
   ]
  },
  {
   "cell_type": "markdown",
   "metadata": {},
   "source": [
    "## response_corporate"
   ]
  },
  {
   "cell_type": "code",
   "execution_count": 69,
   "metadata": {},
   "outputs": [
    {
     "name": "stdout",
     "output_type": "stream",
     "text": [
      "number of unique values in business_unit: 53\n",
      "\n",
      "response_corporate\n",
      "LGEIL    16684\n",
      "LGESP     8808\n",
      "LGEUS     5136\n",
      "LGEPH     2542\n",
      "LGEMS     2531\n",
      "LGEGF     2020\n",
      "LGECB     2011\n",
      "LGEUK     1634\n",
      "LGECL     1255\n",
      "LGEPS     1222\n",
      "LGESJ     1139\n",
      "LGEPR     1002\n",
      "LGEDG      938\n",
      "LGEIS      846\n",
      "LGEPL      777\n",
      "LGEEG      627\n",
      "LGEES      578\n",
      "LGETK      535\n",
      "LGEVH      524\n",
      "LGEAR      489\n",
      "LGEKR      426\n",
      "LGEHK      369\n",
      "LGESL      343\n",
      "LGEAP      340\n",
      "LGEMK      319\n",
      "LGEFS      293\n",
      "LGEAF      283\n",
      "LGEIN      279\n",
      "LGESA      259\n",
      "LGELF      256\n",
      "LGECI      254\n",
      "LGETH      181\n",
      "LGEEF      157\n",
      "LGEPT      109\n",
      "LGEML      108\n",
      "LGEBN       95\n",
      "LGEYK       75\n",
      "LGEHS       51\n",
      "LGETT       46\n",
      "LGECH       43\n",
      "LGEJP       39\n",
      "LGEAS       32\n",
      "LGESW       30\n",
      "LGEMC       28\n",
      "LGERO       26\n",
      "LGEEB       13\n",
      "LGEAG        8\n",
      "LGERA        8\n",
      "LGECZ        7\n",
      "LGELA        2\n",
      "LGEUR        1\n",
      "LGEIR        1\n",
      "LGEBT        1\n",
      "Name: count, dtype: int64\n"
     ]
    }
   ],
   "source": [
    "print('number of unique values in business_unit: '+str(len(df.response_corporate.unique()))+'\\r\\n')\n",
    "print(df.response_corporate.value_counts())"
   ]
  },
  {
   "cell_type": "markdown",
   "metadata": {},
   "source": [
    "## expected_timeline"
   ]
  },
  {
   "cell_type": "code",
   "execution_count": 70,
   "metadata": {},
   "outputs": [
    {
     "name": "stdout",
     "output_type": "stream",
     "text": [
      "number of unique values in business_unit: 7\n",
      "\n",
      "expected_timeline\n",
      "Others                 28940\n",
      "less than 3 months     16843\n",
      "3 months ~ 6 months     4915\n",
      "more than a year        2874\n",
      "9 months ~ 1 year       1070\n",
      "6 months ~ 9 months     1043\n",
      "etc.                      95\n",
      "Name: count, dtype: int64\n"
     ]
    }
   ],
   "source": [
    "\n",
    "print('number of unique values in business_unit: '+str(len(df.expected_timeline.unique()))+'\\r\\n')\n",
    "print(df.expected_timeline.value_counts())"
   ]
  },
  {
   "cell_type": "markdown",
   "metadata": {},
   "source": [
    "## business_area"
   ]
  },
  {
   "cell_type": "code",
   "execution_count": 71,
   "metadata": {},
   "outputs": [
    {
     "name": "stdout",
     "output_type": "stream",
     "text": [
      "number of unique values in business_unit: 13\n",
      "\n",
      "business_area\n",
      "corporate / office                3989\n",
      "retail                            2924\n",
      "hotel & accommodation             1960\n",
      "special purpose                   1873\n",
      "residential (home)                1786\n",
      "education                         1682\n",
      "hospital & health care            1023\n",
      "factory                           1013\n",
      "government department              635\n",
      "public facility                    502\n",
      "transportation                     292\n",
      "power plant / renewable energy     108\n",
      "Name: count, dtype: int64\n"
     ]
    }
   ],
   "source": [
    "\n",
    "print('number of unique values in business_unit: '+str(len(df.business_area.unique()))+'\\r\\n')\n",
    "print(df.business_area.value_counts())"
   ]
  },
  {
   "cell_type": "markdown",
   "metadata": {},
   "source": [
    "## business_subarea"
   ]
  },
  {
   "cell_type": "code",
   "execution_count": 72,
   "metadata": {},
   "outputs": [
    {
     "name": "stdout",
     "output_type": "stream",
     "text": [
      "number of unique values in business_unit: 87\n",
      "\n",
      "business_subarea\n",
      "Others                           1585\n",
      "Other Stores                      270\n",
      "Hospital                          245\n",
      "Manufacturing Factory / Plant     190\n",
      "Construction                      182\n",
      "                                 ... \n",
      "Duty Free Shop                      2\n",
      "Dormitory                           1\n",
      "Casino Resort                       1\n",
      "Holdings                            1\n",
      "Travel Agency                       1\n",
      "Name: count, Length: 86, dtype: int64\n"
     ]
    }
   ],
   "source": [
    "\n",
    "print('number of unique values in business_unit: '+str(len(df.business_subarea.unique()))+'\\r\\n')\n",
    "print(df.business_subarea.value_counts())"
   ]
  }
 ],
 "metadata": {
  "kernelspec": {
   "display_name": "Python 3",
   "language": "python",
   "name": "python3"
  },
  "language_info": {
   "codemirror_mode": {
    "name": "ipython",
    "version": 3
   },
   "file_extension": ".py",
   "mimetype": "text/x-python",
   "name": "python",
   "nbconvert_exporter": "python",
   "pygments_lexer": "ipython3",
   "version": "3.11.1"
  }
 },
 "nbformat": 4,
 "nbformat_minor": 2
}
